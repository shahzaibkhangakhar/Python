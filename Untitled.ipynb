{
 "cells": [
  {
   "cell_type": "code",
   "execution_count": 15,
   "metadata": {},
   "outputs": [],
   "source": [
    "import pandas as pd\n",
    "import numpy as np\n",
    "\n",
    "from plotly import __version__\n",
    "%matplotlib inline"
   ]
  },
  {
   "cell_type": "code",
   "execution_count": 7,
   "metadata": {},
   "outputs": [],
   "source": [
    "import cufflinks as cf\n"
   ]
  },
  {
   "cell_type": "code",
   "execution_count": 3,
   "metadata": {},
   "outputs": [],
   "source": [
    "from plotly.offline import download_plotlyjs,init_notebook_mode,plot,iplot"
   ]
  },
  {
   "cell_type": "code",
   "execution_count": 8,
   "metadata": {},
   "outputs": [
    {
     "data": {
      "text/html": [
       "        <script type=\"text/javascript\">\n",
       "        window.PlotlyConfig = {MathJaxConfig: 'local'};\n",
       "        if (window.MathJax && window.MathJax.Hub && window.MathJax.Hub.Config) {window.MathJax.Hub.Config({SVG: {font: \"STIX-Web\"}});}\n",
       "        if (typeof require !== 'undefined') {\n",
       "        require.undef(\"plotly\");\n",
       "        requirejs.config({\n",
       "            paths: {\n",
       "                'plotly': ['https://cdn.plot.ly/plotly-2.14.0.min']\n",
       "            }\n",
       "        });\n",
       "        require(['plotly'], function(Plotly) {\n",
       "            window._Plotly = Plotly;\n",
       "        });\n",
       "        }\n",
       "        </script>\n",
       "        "
      ]
     },
     "metadata": {},
     "output_type": "display_data"
    }
   ],
   "source": [
    "cf.go_offline()"
   ]
  },
  {
   "cell_type": "code",
   "execution_count": 11,
   "metadata": {},
   "outputs": [],
   "source": [
    "df= pd.DataFrame(np.random.randn(100,4),columns='A B C D' .split())"
   ]
  },
  {
   "cell_type": "code",
   "execution_count": 12,
   "metadata": {},
   "outputs": [
    {
     "data": {
      "text/html": [
       "<div>\n",
       "<style scoped>\n",
       "    .dataframe tbody tr th:only-of-type {\n",
       "        vertical-align: middle;\n",
       "    }\n",
       "\n",
       "    .dataframe tbody tr th {\n",
       "        vertical-align: top;\n",
       "    }\n",
       "\n",
       "    .dataframe thead th {\n",
       "        text-align: right;\n",
       "    }\n",
       "</style>\n",
       "<table border=\"1\" class=\"dataframe\">\n",
       "  <thead>\n",
       "    <tr style=\"text-align: right;\">\n",
       "      <th></th>\n",
       "      <th>A</th>\n",
       "      <th>B</th>\n",
       "      <th>C</th>\n",
       "      <th>D</th>\n",
       "    </tr>\n",
       "  </thead>\n",
       "  <tbody>\n",
       "    <tr>\n",
       "      <th>0</th>\n",
       "      <td>-1.755105</td>\n",
       "      <td>0.438259</td>\n",
       "      <td>1.204129</td>\n",
       "      <td>0.533562</td>\n",
       "    </tr>\n",
       "    <tr>\n",
       "      <th>1</th>\n",
       "      <td>0.384471</td>\n",
       "      <td>-0.630996</td>\n",
       "      <td>-0.734161</td>\n",
       "      <td>1.115118</td>\n",
       "    </tr>\n",
       "    <tr>\n",
       "      <th>2</th>\n",
       "      <td>-2.036236</td>\n",
       "      <td>-0.039531</td>\n",
       "      <td>-0.545806</td>\n",
       "      <td>-0.080102</td>\n",
       "    </tr>\n",
       "    <tr>\n",
       "      <th>3</th>\n",
       "      <td>-0.477719</td>\n",
       "      <td>-0.314284</td>\n",
       "      <td>-0.060177</td>\n",
       "      <td>-2.259131</td>\n",
       "    </tr>\n",
       "    <tr>\n",
       "      <th>4</th>\n",
       "      <td>1.454358</td>\n",
       "      <td>-1.010016</td>\n",
       "      <td>-1.461210</td>\n",
       "      <td>0.130690</td>\n",
       "    </tr>\n",
       "  </tbody>\n",
       "</table>\n",
       "</div>"
      ],
      "text/plain": [
       "          A         B         C         D\n",
       "0 -1.755105  0.438259  1.204129  0.533562\n",
       "1  0.384471 -0.630996 -0.734161  1.115118\n",
       "2 -2.036236 -0.039531 -0.545806 -0.080102\n",
       "3 -0.477719 -0.314284 -0.060177 -2.259131\n",
       "4  1.454358 -1.010016 -1.461210  0.130690"
      ]
     },
     "execution_count": 12,
     "metadata": {},
     "output_type": "execute_result"
    }
   ],
   "source": [
    "df.head()"
   ]
  },
  {
   "cell_type": "code",
   "execution_count": 13,
   "metadata": {},
   "outputs": [],
   "source": [
    "df2= pd.DataFrame({'Category':['A','B','C'],'Values':[32,43,50]})"
   ]
  },
  {
   "cell_type": "code",
   "execution_count": 14,
   "metadata": {},
   "outputs": [
    {
     "data": {
      "text/html": [
       "<div>\n",
       "<style scoped>\n",
       "    .dataframe tbody tr th:only-of-type {\n",
       "        vertical-align: middle;\n",
       "    }\n",
       "\n",
       "    .dataframe tbody tr th {\n",
       "        vertical-align: top;\n",
       "    }\n",
       "\n",
       "    .dataframe thead th {\n",
       "        text-align: right;\n",
       "    }\n",
       "</style>\n",
       "<table border=\"1\" class=\"dataframe\">\n",
       "  <thead>\n",
       "    <tr style=\"text-align: right;\">\n",
       "      <th></th>\n",
       "      <th>Category</th>\n",
       "      <th>Values</th>\n",
       "    </tr>\n",
       "  </thead>\n",
       "  <tbody>\n",
       "    <tr>\n",
       "      <th>0</th>\n",
       "      <td>A</td>\n",
       "      <td>32</td>\n",
       "    </tr>\n",
       "    <tr>\n",
       "      <th>1</th>\n",
       "      <td>B</td>\n",
       "      <td>43</td>\n",
       "    </tr>\n",
       "    <tr>\n",
       "      <th>2</th>\n",
       "      <td>C</td>\n",
       "      <td>50</td>\n",
       "    </tr>\n",
       "  </tbody>\n",
       "</table>\n",
       "</div>"
      ],
      "text/plain": [
       "  Category  Values\n",
       "0        A      32\n",
       "1        B      43\n",
       "2        C      50"
      ]
     },
     "execution_count": 14,
     "metadata": {},
     "output_type": "execute_result"
    }
   ],
   "source": [
    "df2.head()"
   ]
  },
  {
   "cell_type": "code",
   "execution_count": 16,
   "metadata": {},
   "outputs": [
    {
     "data": {
      "text/plain": [
       "<matplotlib.axes._subplots.AxesSubplot at 0x2071dcb6d08>"
      ]
     },
     "execution_count": 16,
     "metadata": {},
     "output_type": "execute_result"
    },
    {
     "data": {
      "image/png": "[encoded data removed]",
      "text/plain": [
       "<Figure size 432x288 with 1 Axes>"
      ]
     },
     "metadata": {
      "needs_background": "light"
     },
     "output_type": "display_data"
    }
   ],
   "source": [
    "df.plot()"
   ]
  },
  {
   "cell_type": "code",
   "execution_count": 17,
   "metadata": {},
   "outputs": [
    {
     "data": {
      "application/vnd.plotly.v1+json": {
       "config": {
        "linkText": "Export to plot.ly",
        "plotlyServerURL": "https://plot.ly",
        "showLink": true
       },
       "data": [
        {
         "line": {
          "color": "rgba(255, 153, 51, 1.0)",
          "dash": "solid",
          "shape": "linear",
          "width": 1.3
         },
         "mode": "lines",
         "name": "A",
         "text": "",
         "type": "scatter",
         "x": [
          0,
          1,
          2,
          3,
          4,
          5,
          6,
          7,
          8,
          9,
          10,
          11,
          12,
          13,
          14,
          15,
          16,
          17,
          18,
          19,
          20,
          21,
          22,
          23,
          24,
          25,
          26,
          27,
          28,
          29,
          30,
          31,
          32,
          33,
          34,
          35,
          36,
          37,
          38,
          39,
          40,
          41,
          42,
          43,
          44,
          45,
          46,
          47,
          48,
          49,
          50,
          51,
          52,
          53,
          54,
          55,
          56,
          57,
          58,
          59,
          60,
          61,
          62,
          63,
          64,
          65,
          66,
          67,
          68,
          69,
          70,
          71,
          72,
          73,
          74,
          75,
          76,
          77,
          78,
          79,
          80,
          81,
          82,
          83,
          84,
          85,
          86,
          87,
          88,
          89,
          90,
          91,
          92,
          93,
          94,
          95,
          96,
          97,
          98,
          99
         ],
         "y": [
          -1.7551052678663162,
          0.3844705852588308,
          -2.036235857734799,
          -0.4777192690016541,
          1.4543579926789922,
          -0.09237757661484672,
          0.6119764070206649,
          1.2237887733721426,
          -1.7337095285419843,
          -0.09984401561568264,
          -0.4649631618162517,
          0.9998649026069217,
          -0.6943268284110494,
          -0.72841097667062,
          -0.4417144240902041,
          -0.004464788666717921,
          0.07531256094745666,
          0.819040457639244,
          -0.4567053715819427,
          -0.5963208419744218,
          0.20953116501771618,
          -0.6853725302321193,
          -0.4001354564558299,
          0.6480780792891775,
          0.21240416189485206,
          0.14312795229648412,
          1.4393143026131452,
          0.7837815407286436,
          0.7467555023995134,
          0.29599035733768936,
          -0.7218712504422361,
          -1.25193389495634,
          0.03611354174396783,
          -0.03200300201512434,
          -1.1826084205945602,
          -1.4446328395682333,
          -0.04401236980398926,
          1.148871152117295,
          -0.14011474199688925,
          0.06115179255331545,
          0.868403061018585,
          0.5428333970190617,
          2.023958447325256,
          1.298799841292337,
          0.3078105580800464,
          0.6071874163245976,
          0.8972500697072223,
          -0.9315584354567149,
          0.17846500752828248,
          0.4284783757579867,
          -1.2333721181585848,
          -0.5601363807245684,
          0.09472304319338498,
          1.778688134912088,
          -1.8021319258488775,
          -0.7791449714553991,
          -0.5839473586620774,
          -0.7253804597334422,
          -0.9232769368882936,
          -0.6139384413256993,
          -0.06283253701103511,
          -0.9172264457972898,
          1.274365195722724,
          -0.23411960543441399,
          -0.8057448573292509,
          0.7054532319615852,
          -1.1036282271372015,
          0.6513618183801033,
          1.6919479921315315,
          2.0298722949294987,
          -0.7413914397119926,
          1.6472076306959016,
          0.6975377328009644,
          -2.5744066196418682,
          -1.1618031599466374,
          1.191995297707877,
          0.3357604375348084,
          0.528360105058137,
          -2.426809770915547,
          -1.4970050996342303,
          0.5012670828793494,
          -0.4144372147571527,
          -1.5032345584573734,
          -0.5645262794150616,
          0.9074324916191596,
          0.5291147311047883,
          1.27378422165143,
          0.8144032756088596,
          0.22763909553884226,
          0.04666463041197144,
          -0.2909034169358753,
          1.2439472755893324,
          -0.5030014312921158,
          -2.04618571072768,
          -1.9776242737576282,
          -0.7784135744681734,
          -0.43542356262032955,
          0.3511218761609181,
          0.6690302299966587,
          -2.937691978255148
         ]
        },
        {
         "line": {
          "color": "rgba(55, 128, 191, 1.0)",
          "dash": "solid",
          "shape": "linear",
          "width": 1.3
         },
         "mode": "lines",
         "name": "B",
         "text": "",
         "type": "scatter",
         "x": [
          0,
          1,
          2,
          3,
          4,
          5,
          6,
          7,
          8,
          9,
          10,
          11,
          12,
          13,
          14,
          15,
          16,
          17,
          18,
          19,
          20,
          21,
          22,
          23,
          24,
          25,
          26,
          27,
          28,
          29,
          30,
          31,
          32,
          33,
          34,
          35,
          36,
          37,
          38,
          39,
          40,
          41,
          42,
          43,
          44,
          45,
          46,
          47,
          48,
          49,
          50,
          51,
          52,
          53,
          54,
          55,
          56,
          57,
          58,
          59,
          60,
          61,
          62,
          63,
          64,
          65,
          66,
          67,
          68,
          69,
          70,
          71,
          72,
          73,
          74,
          75,
          76,
          77,
          78,
          79,
          80,
          81,
          82,
          83,
          84,
          85,
          86,
          87,
          88,
          89,
          90,
          91,
          92,
          93,
          94,
          95,
          96,
          97,
          98,
          99
         ],
         "y": [
          0.4382592167411095,
          -0.6309961348420734,
          -0.0395311262178848,
          -0.31428373652841174,
          -1.0100162848027445,
          0.3935453506068354,
          -1.1208413794066048,
          -0.48057193451665925,
          0.07553530507313684,
          -1.732193450923254,
          -0.18194479104436243,
          -1.2768988483331727,
          -0.9010984722462253,
          -0.04831591513783132,
          1.017334361674233,
          2.0659548342501,
          -1.3257645889148622,
          1.1439743874680193,
          -0.5955125539431376,
          1.5396128052705145,
          -0.3056876386133438,
          -0.3877195935848514,
          -0.26289468030335533,
          0.8933171597993632,
          0.28295230371184565,
          -2.0381890153955404,
          -0.8598396093738542,
          -1.6518707199339169,
          1.315608649571582,
          -1.1411519377453063,
          -1.1360395440453932,
          -1.7772226648265301,
          0.9650122260771038,
          1.1487983813941074,
          0.6236448087340094,
          0.23376375669016658,
          0.6124046327547832,
          1.438466886570016,
          -1.2648382819818582,
          -0.18510973962669178,
          -0.6786077887679473,
          -0.664905423820725,
          -0.46612759720887575,
          -0.750935532586305,
          0.7553429312716934,
          -0.974797806662005,
          1.0791958284105596,
          -1.4647682070265706,
          -1.131758714727324,
          0.3584005296774685,
          -2.618621262491332,
          0.22598540427059874,
          -0.11981462527459533,
          1.4990841490508868,
          -0.20774363409278152,
          0.6976938911487156,
          -0.6330586023195791,
          1.6187904142539622,
          1.282338045791857,
          0.0802792937980838,
          -0.5108597070798586,
          0.12905133080909542,
          0.3449053470374282,
          0.0766504080888916,
          -1.515901853753896,
          1.553054792584085,
          0.08897000243510644,
          -1.0459050859726782,
          -0.39902139781521845,
          1.2555188182347081,
          -2.0145418672522446,
          -0.27008247237976113,
          0.4903043952555374,
          2.214217040668718,
          -0.36536702022485823,
          -0.9829776507777322,
          -0.1469357916605228,
          0.5679188818392001,
          1.529413014699103,
          -0.3276547721051137,
          -1.0423677573212309,
          0.811616799365819,
          -1.3316013120176349,
          -1.8682578918247865,
          0.9497852481964191,
          -0.48074134536630314,
          -0.4481668902136482,
          -0.4874510603514809,
          0.8886789746157747,
          -0.8885847644458682,
          -0.6885045336406496,
          1.589358536547224,
          -0.6758365158912941,
          -0.40969212660536275,
          0.6746415974540376,
          1.1271460223680927,
          -1.6450552325643122,
          0.12158090294215941,
          1.0007876253334738,
          -1.256378892090455
         ]
        },
        {
         "line": {
          "color": "rgba(50, 171, 96, 1.0)",
          "dash": "solid",
          "shape": "linear",
          "width": 1.3
         },
         "mode": "lines",
         "name": "C",
         "text": "",
         "type": "scatter",
         "x": [
          0,
          1,
          2,
          3,
          4,
          5,
          6,
          7,
          8,
          9,
          10,
          11,
          12,
          13,
          14,
          15,
          16,
          17,
          18,
          19,
          20,
          21,
          22,
          23,
          24,
          25,
          26,
          27,
          28,
          29,
          30,
          31,
          32,
          33,
          34,
          35,
          36,
          37,
          38,
          39,
          40,
          41,
          42,
          43,
          44,
          45,
          46,
          47,
          48,
          49,
          50,
          51,
          52,
          53,
          54,
          55,
          56,
          57,
          58,
          59,
          60,
          61,
          62,
          63,
          64,
          65,
          66,
          67,
          68,
          69,
          70,
          71,
          72,
          73,
          74,
          75,
          76,
          77,
          78,
          79,
          80,
          81,
          82,
          83,
          84,
          85,
          86,
          87,
          88,
          89,
          90,
          91,
          92,
          93,
          94,
          95,
          96,
          97,
          98,
          99
         ],
         "y": [
          1.2041286763052448,
          -0.7341612192305633,
          -0.5458056090180362,
          -0.060176807033348434,
          -1.461210307868879,
          -0.042962820390264604,
          -1.1112680953319287,
          0.4425994344947499,
          0.1581364727067789,
          1.0523143699302913,
          -0.6852756634925544,
          -2.138283291452284,
          0.26267208157579036,
          0.37372183885347143,
          0.8213211099006584,
          -0.8154119669655834,
          0.38096982250192774,
          0.3370927626585573,
          0.8661579662151041,
          0.5922180910315239,
          -0.246750931009974,
          -0.9512094621196407,
          -1.279912153943022,
          -1.0318148862660201,
          -1.2832182702457628,
          0.24335563499257745,
          -0.49710382848007084,
          -2.9933342420800924,
          -0.6978903685053779,
          2.3069038297787072,
          1.1972196152142145,
          0.5005035356788747,
          0.7297790581122335,
          -0.15941717349860096,
          -0.5181303473438783,
          -0.5934618471232722,
          0.8995817172937732,
          1.4236306634076306,
          0.13458851966672683,
          -1.9244973003383656,
          -0.4396687465651273,
          0.43148518125632296,
          -0.1045871680622103,
          -1.5154907586013207,
          0.9195989783041805,
          -0.5680229856548504,
          -1.0279969155715944,
          -0.7050486050975706,
          1.657409308353311,
          0.43853218340055466,
          0.4453702568775285,
          -0.8589282128077184,
          0.6917317701189633,
          0.4874349454596271,
          -0.05415017783183345,
          0.6786386411680831,
          0.49941202879755286,
          -0.09355296913250151,
          -0.39456615110421206,
          0.945327187041317,
          -0.1592104734693847,
          2.3917432164498007,
          -0.506147738239636,
          -0.26501055918580796,
          0.256761716941572,
          -2.0970130189996263,
          2.080817157003123,
          -1.969713916536074,
          1.2186284182395668,
          -0.6754697490087247,
          0.0864288898960222,
          -1.2623278342411035,
          -1.5782667637365249,
          -0.03995829079015229,
          0.4184420663801775,
          -0.5544865869156967,
          0.4917122214543861,
          -0.06530864944150375,
          -0.11841439565633523,
          0.6511421435271256,
          1.027365203598178,
          -1.0793832565983752,
          0.19273703232535136,
          0.21278608830470566,
          0.6698430690156365,
          -1.1447128329756069,
          -0.1406796689064955,
          0.23141660493699273,
          0.9064832898559017,
          -1.4194927711734235,
          1.7863130491938028,
          1.4143890894685258,
          -1.1686375404626603,
          -1.2767884937582192,
          0.908973163702017,
          0.4903546831594897,
          1.458215782292664,
          -0.1739490839601721,
          -0.08603191853491715,
          -0.30139862355672215
         ]
        },
        {
         "line": {
          "color": "rgba(128, 0, 128, 1.0)",
          "dash": "solid",
          "shape": "linear",
          "width": 1.3
         },
         "mode": "lines",
         "name": "D",
         "text": "",
         "type": "scatter",
         "x": [
          0,
          1,
          2,
          3,
          4,
          5,
          6,
          7,
          8,
          9,
          10,
          11,
          12,
          13,
          14,
          15,
          16,
          17,
          18,
          19,
          20,
          21,
          22,
          23,
          24,
          25,
          26,
          27,
          28,
          29,
          30,
          31,
          32,
          33,
          34,
          35,
          36,
          37,
          38,
          39,
          40,
          41,
          42,
          43,
          44,
          45,
          46,
          47,
          48,
          49,
          50,
          51,
          52,
          53,
          54,
          55,
          56,
          57,
          58,
          59,
          60,
          61,
          62,
          63,
          64,
          65,
          66,
          67,
          68,
          69,
          70,
          71,
          72,
          73,
          74,
          75,
          76,
          77,
          78,
          79,
          80,
          81,
          82,
          83,
          84,
          85,
          86,
          87,
          88,
          89,
          90,
          91,
          92,
          93,
          94,
          95,
          96,
          97,
          98,
          99
         ],
         "y": [
          0.5335617547626704,
          1.11511778820712,
          -0.08010239879881892,
          -2.259130632450229,
          0.1306904956755313,
          -0.10868636704330263,
          -1.2119879393566173,
          0.058401962784051895,
          -1.28475547880816,
          -0.23874716438584068,
          -0.05486944254343988,
          -0.7903758731068092,
          0.5511763376605952,
          0.6598876147808562,
          -1.393544253357598,
          -0.22141033511022082,
          1.3723354165859456,
          -2.295330139910439,
          0.7048578956406352,
          -1.3456434351515638,
          1.1330308424283735,
          -1.6303682417443779,
          1.1458167157730648,
          0.3412691509585753,
          -1.4814410312878,
          0.7056244817874007,
          -0.35631268737456484,
          -1.4973624280243167,
          -2.384006313434215,
          -0.4603706240551062,
          -0.3396935582570401,
          -1.7531152695661887,
          1.3317539945057488,
          0.03028900886027697,
          0.003446055668178733,
          0.6235875867000816,
          2.2119702214189525,
          0.09084069260464103,
          0.2455822204067303,
          -0.6571322155562199,
          -0.16271374185554327,
          -0.643073675919325,
          -1.9137010323432584,
          -0.7764981602357823,
          -0.44312146885367115,
          -1.7356585778027214,
          0.24444323790835046,
          0.7104679959661663,
          -1.3390136550043847,
          0.16366534129867924,
          -0.6047531524042749,
          1.2553527366235804,
          -0.6701759062038355,
          0.9363081857722896,
          0.8211474912961345,
          -1.8240721473503028,
          0.45230942549634595,
          2.1574505417899834,
          -0.062096453693924164,
          2.369880887091539,
          -1.0804781096479488,
          -1.3240023935686234,
          0.1891364017721843,
          1.4454723116515689,
          0.2670018973992693,
          0.3843716971280922,
          -0.9649721651660574,
          -1.0909805836656126,
          0.27081041390492183,
          1.153388859206965,
          0.38281022895155126,
          -0.8713849540757779,
          2.0528631419834227,
          1.5097740524964776,
          -0.5438358420554982,
          -0.07034753062399098,
          -0.8942657348846185,
          0.9487048514799492,
          1.3008219239253918,
          -0.5290864305394178,
          -1.7064792654511123,
          -0.19315259821983888,
          0.16849549170129602,
          0.3616001588411008,
          0.026682942900016677,
          1.2430267142940021,
          1.8288506123013686,
          -0.6461015794148398,
          -0.03903876462222602,
          -0.7345934981355124,
          -1.267407423342911,
          0.020312121797485937,
          -0.6162696698678704,
          -0.8700178732099789,
          0.48554238667112404,
          0.26801570273470005,
          0.103588232775617,
          0.12065839577974721,
          1.3510822698238307,
          0.3829175412191313
         ]
        }
       ],
       "layout": {
        "legend": {
         "bgcolor": "#F5F6F9",
         "font": {
          "color": "#4D5663"
         }
        },
        "paper_bgcolor": "#F5F6F9",
        "plot_bgcolor": "#F5F6F9",
        "template": {
         "data": {
          "bar": [
           {
            "error_x": {
             "color": "#2a3f5f"
            },
            "error_y": {
             "color": "#2a3f5f"
            },
            "marker": {
             "line": {
              "color": "#E5ECF6",
              "width": 0.5
             },
             "pattern": {
              "fillmode": "overlay",
              "size": 10,
              "solidity": 0.2
             }
            },
            "type": "bar"
           }
          ],
          "barpolar": [
           {
            "marker": {
             "line": {
              "color": "#E5ECF6",
              "width": 0.5
             },
             "pattern": {
              "fillmode": "overlay",
              "size": 10,
              "solidity": 0.2
             }
            },
            "type": "barpolar"
           }
          ],
          "carpet": [
           {
            "aaxis": {
             "endlinecolor": "#2a3f5f",
             "gridcolor": "white",
             "linecolor": "white",
             "minorgridcolor": "white",
             "startlinecolor": "#2a3f5f"
            },
            "baxis": {
             "endlinecolor": "#2a3f5f",
             "gridcolor": "white",
             "linecolor": "white",
             "minorgridcolor": "white",
             "startlinecolor": "#2a3f5f"
            },
            "type": "carpet"
           }
          ],
          "choropleth": [
           {
            "colorbar": {
             "outlinewidth": 0,
             "ticks": ""
            },
            "type": "choropleth"
           }
          ],
          "contour": [
           {
            "colorbar": {
             "outlinewidth": 0,
             "ticks": ""
            },
            "colorscale": [
             [
              0,
              "#0d0887"
             ],
             [
              0.1111111111111111,
              "#46039f"
             ],
             [
              0.2222222222222222,
              "#7201a8"
             ],
             [
              0.3333333333333333,
              "#9c179e"
             ],
             [
              0.4444444444444444,
              "#bd3786"
             ],
             [
              0.5555555555555556,
              "#d8576b"
             ],
             [
              0.6666666666666666,
              "#ed7953"
             ],
             [
              0.7777777777777778,
              "#fb9f3a"
             ],
             [
              0.8888888888888888,
              "#fdca26"
             ],
             [
              1,
              "#f0f921"
             ]
            ],
            "type": "contour"
           }
          ],
          "contourcarpet": [
           {
            "colorbar": {
             "outlinewidth": 0,
             "ticks": ""
            },
            "type": "contourcarpet"
           }
          ],
          "heatmap": [
           {
            "colorbar": {
             "outlinewidth": 0,
             "ticks": ""
            },
            "colorscale": [
             [
              0,
              "#0d0887"
             ],
             [
              0.1111111111111111,
              "#46039f"
             ],
             [
              0.2222222222222222,
              "#7201a8"
             ],
             [
              0.3333333333333333,
              "#9c179e"
             ],
             [
              0.4444444444444444,
              "#bd3786"
             ],
             [
              0.5555555555555556,
              "#d8576b"
             ],
             [
              0.6666666666666666,
              "#ed7953"
             ],
             [
              0.7777777777777778,
              "#fb9f3a"
             ],
             [
              0.8888888888888888,
              "#fdca26"
             ],
             [
              1,
              "#f0f921"
             ]
            ],
            "type": "heatmap"
           }
          ],
          "heatmapgl": [
           {
            "colorbar": {
             "outlinewidth": 0,
             "ticks": ""
            },
            "colorscale": [
             [
              0,
              "#0d0887"
             ],
             [
              0.1111111111111111,
              "#46039f"
             ],
             [
              0.2222222222222222,
              "#7201a8"
             ],
             [
              0.3333333333333333,
              "#9c179e"
             ],
             [
              0.4444444444444444,
              "#bd3786"
             ],
             [
              0.5555555555555556,
              "#d8576b"
             ],
             [
              0.6666666666666666,
              "#ed7953"
             ],
             [
              0.7777777777777778,
              "#fb9f3a"
             ],
             [
              0.8888888888888888,
              "#fdca26"
             ],
             [
              1,
              "#f0f921"
             ]
            ],
            "type": "heatmapgl"
           }
          ],
          "histogram": [
           {
            "marker": {
             "pattern": {
              "fillmode": "overlay",
              "size": 10,
              "solidity": 0.2
             }
            },
            "type": "histogram"
           }
          ],
          "histogram2d": [
           {
            "colorbar": {
             "outlinewidth": 0,
             "ticks": ""
            },
            "colorscale": [
             [
              0,
              "#0d0887"
             ],
             [
              0.1111111111111111,
              "#46039f"
             ],
             [
              0.2222222222222222,
              "#7201a8"
             ],
             [
              0.3333333333333333,
              "#9c179e"
             ],
             [
              0.4444444444444444,
              "#bd3786"
             ],
             [
              0.5555555555555556,
              "#d8576b"
             ],
             [
              0.6666666666666666,
              "#ed7953"
             ],
             [
              0.7777777777777778,
              "#fb9f3a"
             ],
             [
              0.8888888888888888,
              "#fdca26"
             ],
             [
              1,
              "#f0f921"
             ]
            ],
            "type": "histogram2d"
           }
          ],
          "histogram2dcontour": [
           {
            "colorbar": {
             "outlinewidth": 0,
             "ticks": ""
            },
            "colorscale": [
             [
              0,
              "#0d0887"
             ],
             [
              0.1111111111111111,
              "#46039f"
             ],
             [
              0.2222222222222222,
              "#7201a8"
             ],
             [
              0.3333333333333333,
              "#9c179e"
             ],
             [
              0.4444444444444444,
              "#bd3786"
             ],
             [
              0.5555555555555556,
              "#d8576b"
             ],
             [
              0.6666666666666666,
              "#ed7953"
             ],
             [
              0.7777777777777778,
              "#fb9f3a"
             ],
             [
              0.8888888888888888,
              "#fdca26"
             ],
             [
              1,
              "#f0f921"
             ]
            ],
            "type": "histogram2dcontour"
           }
          ],
          "mesh3d": [
           {
            "colorbar": {
             "outlinewidth": 0,
             "ticks": ""
            },
            "type": "mesh3d"
           }
          ],
          "parcoords": [
           {
            "line": {
             "colorbar": {
              "outlinewidth": 0,
              "ticks": ""
             }
            },
            "type": "parcoords"
           }
          ],
          "pie": [
           {
            "automargin": true,
            "type": "pie"
           }
          ],
          "scatter": [
           {
            "fillpattern": {
             "fillmode": "overlay",
             "size": 10,
             "solidity": 0.2
            },
            "type": "scatter"
           }
          ],
          "scatter3d": [
           {
            "line": {
             "colorbar": {
              "outlinewidth": 0,
              "ticks": ""
             }
            },
            "marker": {
             "colorbar": {
              "outlinewidth": 0,
              "ticks": ""
             }
            },
            "type": "scatter3d"
           }
          ],
          "scattercarpet": [
           {
            "marker": {
             "colorbar": {
              "outlinewidth": 0,
              "ticks": ""
             }
            },
            "type": "scattercarpet"
           }
          ],
          "scattergeo": [
           {
            "marker": {
             "colorbar": {
              "outlinewidth": 0,
              "ticks": ""
             }
            },
            "type": "scattergeo"
           }
          ],
          "scattergl": [
           {
            "marker": {
             "colorbar": {
              "outlinewidth": 0,
              "ticks": ""
             }
            },
            "type": "scattergl"
           }
          ],
          "scattermapbox": [
           {
            "marker": {
             "colorbar": {
              "outlinewidth": 0,
              "ticks": ""
             }
            },
            "type": "scattermapbox"
           }
          ],
          "scatterpolar": [
           {
            "marker": {
             "colorbar": {
              "outlinewidth": 0,
              "ticks": ""
             }
            },
            "type": "scatterpolar"
           }
          ],
          "scatterpolargl": [
           {
            "marker": {
             "colorbar": {
              "outlinewidth": 0,
              "ticks": ""
             }
            },
            "type": "scatterpolargl"
           }
          ],
          "scatterternary": [
           {
            "marker": {
             "colorbar": {
              "outlinewidth": 0,
              "ticks": ""
             }
            },
            "type": "scatterternary"
           }
          ],
          "surface": [
           {
            "colorbar": {
             "outlinewidth": 0,
             "ticks": ""
            },
            "colorscale": [
             [
              0,
              "#0d0887"
             ],
             [
              0.1111111111111111,
              "#46039f"
             ],
             [
              0.2222222222222222,
              "#7201a8"
             ],
             [
              0.3333333333333333,
              "#9c179e"
             ],
             [
              0.4444444444444444,
              "#bd3786"
             ],
             [
              0.5555555555555556,
              "#d8576b"
             ],
             [
              0.6666666666666666,
              "#ed7953"
             ],
             [
              0.7777777777777778,
              "#fb9f3a"
             ],
             [
              0.8888888888888888,
              "#fdca26"
             ],
             [
              1,
              "#f0f921"
             ]
            ],
            "type": "surface"
           }
          ],
          "table": [
           {
            "cells": {
             "fill": {
              "color": "#EBF0F8"
             },
             "line": {
              "color": "white"
             }
            },
            "header": {
             "fill": {
              "color": "#C8D4E3"
             },
             "line": {
              "color": "white"
             }
            },
            "type": "table"
           }
          ]
         },
         "layout": {
          "annotationdefaults": {
           "arrowcolor": "#2a3f5f",
           "arrowhead": 0,
           "arrowwidth": 1
          },
          "autotypenumbers": "strict",
          "coloraxis": {
           "colorbar": {
            "outlinewidth": 0,
            "ticks": ""
           }
          },
          "colorscale": {
           "diverging": [
            [
             0,
             "#8e0152"
            ],
            [
             0.1,
             "#c51b7d"
            ],
            [
             0.2,
             "#de77ae"
            ],
            [
             0.3,
             "#f1b6da"
            ],
            [
             0.4,
             "#fde0ef"
            ],
            [
             0.5,
             "#f7f7f7"
            ],
            [
             0.6,
             "#e6f5d0"
            ],
            [
             0.7,
             "#b8e186"
            ],
            [
             0.8,
             "#7fbc41"
            ],
            [
             0.9,
             "#4d9221"
            ],
            [
             1,
             "#276419"
            ]
           ],
           "sequential": [
            [
             0,
             "#0d0887"
            ],
            [
             0.1111111111111111,
             "#46039f"
            ],
            [
             0.2222222222222222,
             "#7201a8"
            ],
            [
             0.3333333333333333,
             "#9c179e"
            ],
            [
             0.4444444444444444,
             "#bd3786"
            ],
            [
             0.5555555555555556,
             "#d8576b"
            ],
            [
             0.6666666666666666,
             "#ed7953"
            ],
            [
             0.7777777777777778,
             "#fb9f3a"
            ],
            [
             0.8888888888888888,
             "#fdca26"
            ],
            [
             1,
             "#f0f921"
            ]
           ],
           "sequentialminus": [
            [
             0,
             "#0d0887"
            ],
            [
             0.1111111111111111,
             "#46039f"
            ],
            [
             0.2222222222222222,
             "#7201a8"
            ],
            [
             0.3333333333333333,
             "#9c179e"
            ],
            [
             0.4444444444444444,
             "#bd3786"
            ],
            [
             0.5555555555555556,
             "#d8576b"
            ],
            [
             0.6666666666666666,
             "#ed7953"
            ],
            [
             0.7777777777777778,
             "#fb9f3a"
            ],
            [
             0.8888888888888888,
             "#fdca26"
            ],
            [
             1,
             "#f0f921"
            ]
           ]
          },
          "colorway": [
           "#636efa",
           "#EF553B",
           "#00cc96",
           "#ab63fa",
           "#FFA15A",
           "#19d3f3",
           "#FF6692",
           "#B6E880",
           "#FF97FF",
           "#FECB52"
          ],
          "font": {
           "color": "#2a3f5f"
          },
          "geo": {
           "bgcolor": "white",
           "lakecolor": "white",
           "landcolor": "#E5ECF6",
           "showlakes": true,
           "showland": true,
           "subunitcolor": "white"
          },
          "hoverlabel": {
           "align": "left"
          },
          "hovermode": "closest",
          "mapbox": {
           "style": "light"
          },
          "paper_bgcolor": "white",
          "plot_bgcolor": "#E5ECF6",
          "polar": {
           "angularaxis": {
            "gridcolor": "white",
            "linecolor": "white",
            "ticks": ""
           },
           "bgcolor": "#E5ECF6",
           "radialaxis": {
            "gridcolor": "white",
            "linecolor": "white",
            "ticks": ""
           }
          },
          "scene": {
           "xaxis": {
            "backgroundcolor": "#E5ECF6",
            "gridcolor": "white",
            "gridwidth": 2,
            "linecolor": "white",
            "showbackground": true,
            "ticks": "",
            "zerolinecolor": "white"
           },
           "yaxis": {
            "backgroundcolor": "#E5ECF6",
            "gridcolor": "white",
            "gridwidth": 2,
            "linecolor": "white",
            "showbackground": true,
            "ticks": "",
            "zerolinecolor": "white"
           },
           "zaxis": {
            "backgroundcolor": "#E5ECF6",
            "gridcolor": "white",
            "gridwidth": 2,
            "linecolor": "white",
            "showbackground": true,
            "ticks": "",
            "zerolinecolor": "white"
           }
          },
          "shapedefaults": {
           "line": {
            "color": "#2a3f5f"
           }
          },
          "ternary": {
           "aaxis": {
            "gridcolor": "white",
            "linecolor": "white",
            "ticks": ""
           },
           "baxis": {
            "gridcolor": "white",
            "linecolor": "white",
            "ticks": ""
           },
           "bgcolor": "#E5ECF6",
           "caxis": {
            "gridcolor": "white",
            "linecolor": "white",
            "ticks": ""
           }
          },
          "title": {
           "x": 0.05
          },
          "xaxis": {
           "automargin": true,
           "gridcolor": "white",
           "linecolor": "white",
           "ticks": "",
           "title": {
            "standoff": 15
           },
           "zerolinecolor": "white",
           "zerolinewidth": 2
          },
          "yaxis": {
           "automargin": true,
           "gridcolor": "white",
           "linecolor": "white",
           "ticks": "",
           "title": {
            "standoff": 15
           },
           "zerolinecolor": "white",
           "zerolinewidth": 2
          }
         }
        },
        "title": {
         "font": {
          "color": "#4D5663"
         }
        },
        "xaxis": {
         "gridcolor": "#E1E5ED",
         "showgrid": true,
         "tickfont": {
          "color": "#4D5663"
         },
         "title": {
          "font": {
           "color": "#4D5663"
          },
          "text": ""
         },
         "zerolinecolor": "#E1E5ED"
        },
        "yaxis": {
         "gridcolor": "#E1E5ED",
         "showgrid": true,
         "tickfont": {
          "color": "#4D5663"
         },
         "title": {
          "font": {
           "color": "#4D5663"
          },
          "text": ""
         },
         "zerolinecolor": "#E1E5ED"
        }
       }
      },
      "text/html": [
       "<div>                            <div id=\"4a8581db-e0f8-4c2f-8769-88de66a3cfde\" class=\"plotly-graph-div\" style=\"height:525px; width:100%;\"></div>            <script type=\"text/javascript\">                require([\"plotly\"], function(Plotly) {                    window.PLOTLYENV=window.PLOTLYENV || {};\n",
       "                    window.PLOTLYENV.BASE_URL='https://plot.ly';                                    if (document.getElementById(\"4a8581db-e0f8-4c2f-8769-88de66a3cfde\")) {                    Plotly.newPlot(                        \"4a8581db-e0f8-4c2f-8769-88de66a3cfde\",                        [{\"line\":{\"color\":\"rgba(255, 153, 51, 1.0)\",\"dash\":\"solid\",\"shape\":\"linear\",\"width\":1.3},\"mode\":\"lines\",\"name\":\"A\",\"text\":\"\",\"x\":[0,1,2,3,4,5,6,7,8,9,10,11,12,13,14,15,16,17,18,19,20,21,22,23,24,25,26,27,28,29,30,31,32,33,34,35,36,37,38,39,40,41,42,43,44,45,46,47,48,49,50,51,52,53,54,55,56,57,58,59,60,61,62,63,64,65,66,67,68,69,70,71,72,73,74,75,76,77,78,79,80,81,82,83,84,85,86,87,88,89,90,91,92,93,94,95,96,97,98,99],\"y\":[-1.7551052678663162,0.3844705852588308,-2.036235857734799,-0.4777192690016541,1.4543579926789922,-0.09237757661484672,0.6119764070206649,1.2237887733721426,-1.7337095285419843,-0.09984401561568264,-0.4649631618162517,0.9998649026069217,-0.6943268284110494,-0.72841097667062,-0.4417144240902041,-0.004464788666717921,0.07531256094745666,0.819040457639244,-0.4567053715819427,-0.5963208419744218,0.20953116501771618,-0.6853725302321193,-0.4001354564558299,0.6480780792891775,0.21240416189485206,0.14312795229648412,1.4393143026131452,0.7837815407286436,0.7467555023995134,0.29599035733768936,-0.7218712504422361,-1.25193389495634,0.03611354174396783,-0.03200300201512434,-1.1826084205945602,-1.4446328395682333,-0.04401236980398926,1.148871152117295,-0.14011474199688925,0.06115179255331545,0.868403061018585,0.5428333970190617,2.023958447325256,1.298799841292337,0.3078105580800464,0.6071874163245976,0.8972500697072223,-0.9315584354567149,0.17846500752828248,0.4284783757579867,-1.2333721181585848,-0.5601363807245684,0.09472304319338498,1.778688134912088,-1.8021319258488775,-0.7791449714553991,-0.5839473586620774,-0.7253804597334422,-0.9232769368882936,-0.6139384413256993,-0.06283253701103511,-0.9172264457972898,1.274365195722724,-0.23411960543441399,-0.8057448573292509,0.7054532319615852,-1.1036282271372015,0.6513618183801033,1.6919479921315315,2.0298722949294987,-0.7413914397119926,1.6472076306959016,0.6975377328009644,-2.5744066196418682,-1.1618031599466374,1.191995297707877,0.3357604375348084,0.528360105058137,-2.426809770915547,-1.4970050996342303,0.5012670828793494,-0.4144372147571527,-1.5032345584573734,-0.5645262794150616,0.9074324916191596,0.5291147311047883,1.27378422165143,0.8144032756088596,0.22763909553884226,0.04666463041197144,-0.2909034169358753,1.2439472755893324,-0.5030014312921158,-2.04618571072768,-1.9776242737576282,-0.7784135744681734,-0.43542356262032955,0.3511218761609181,0.6690302299966587,-2.937691978255148],\"type\":\"scatter\"},{\"line\":{\"color\":\"rgba(55, 128, 191, 1.0)\",\"dash\":\"solid\",\"shape\":\"linear\",\"width\":1.3},\"mode\":\"lines\",\"name\":\"B\",\"text\":\"\",\"x\":[0,1,2,3,4,5,6,7,8,9,10,11,12,13,14,15,16,17,18,19,20,21,22,23,24,25,26,27,28,29,30,31,32,33,34,35,36,37,38,39,40,41,42,43,44,45,46,47,48,49,50,51,52,53,54,55,56,57,58,59,60,61,62,63,64,65,66,67,68,69,70,71,72,73,74,75,76,77,78,79,80,81,82,83,84,85,86,87,88,89,90,91,92,93,94,95,96,97,98,99],\"y\":[0.4382592167411095,-0.6309961348420734,-0.0395311262178848,-0.31428373652841174,-1.0100162848027445,0.3935453506068354,-1.1208413794066048,-0.48057193451665925,0.07553530507313684,-1.732193450923254,-0.18194479104436243,-1.2768988483331727,-0.9010984722462253,-0.04831591513783132,1.017334361674233,2.0659548342501,-1.3257645889148622,1.1439743874680193,-0.5955125539431376,1.5396128052705145,-0.3056876386133438,-0.3877195935848514,-0.26289468030335533,0.8933171597993632,0.28295230371184565,-2.0381890153955404,-0.8598396093738542,-1.6518707199339169,1.315608649571582,-1.1411519377453063,-1.1360395440453932,-1.7772226648265301,0.9650122260771038,1.1487983813941074,0.6236448087340094,0.23376375669016658,0.6124046327547832,1.438466886570016,-1.2648382819818582,-0.18510973962669178,-0.6786077887679473,-0.664905423820725,-0.46612759720887575,-0.750935532586305,0.7553429312716934,-0.974797806662005,1.0791958284105596,-1.4647682070265706,-1.131758714727324,0.3584005296774685,-2.618621262491332,0.22598540427059874,-0.11981462527459533,1.4990841490508868,-0.20774363409278152,0.6976938911487156,-0.6330586023195791,1.6187904142539622,1.282338045791857,0.0802792937980838,-0.5108597070798586,0.12905133080909542,0.3449053470374282,0.0766504080888916,-1.515901853753896,1.553054792584085,0.08897000243510644,-1.0459050859726782,-0.39902139781521845,1.2555188182347081,-2.0145418672522446,-0.27008247237976113,0.4903043952555374,2.214217040668718,-0.36536702022485823,-0.9829776507777322,-0.1469357916605228,0.5679188818392001,1.529413014699103,-0.3276547721051137,-1.0423677573212309,0.811616799365819,-1.3316013120176349,-1.8682578918247865,0.9497852481964191,-0.48074134536630314,-0.4481668902136482,-0.4874510603514809,0.8886789746157747,-0.8885847644458682,-0.6885045336406496,1.589358536547224,-0.6758365158912941,-0.40969212660536275,0.6746415974540376,1.1271460223680927,-1.6450552325643122,0.12158090294215941,1.0007876253334738,-1.256378892090455],\"type\":\"scatter\"},{\"line\":{\"color\":\"rgba(50, 171, 96, 1.0)\",\"dash\":\"solid\",\"shape\":\"linear\",\"width\":1.3},\"mode\":\"lines\",\"name\":\"C\",\"text\":\"\",\"x\":[0,1,2,3,4,5,6,7,8,9,10,11,12,13,14,15,16,17,18,19,20,21,22,23,24,25,26,27,28,29,30,31,32,33,34,35,36,37,38,39,40,41,42,43,44,45,46,47,48,49,50,51,52,53,54,55,56,57,58,59,60,61,62,63,64,65,66,67,68,69,70,71,72,73,74,75,76,77,78,79,80,81,82,83,84,85,86,87,88,89,90,91,92,93,94,95,96,97,98,99],\"y\":[1.2041286763052448,-0.7341612192305633,-0.5458056090180362,-0.060176807033348434,-1.461210307868879,-0.042962820390264604,-1.1112680953319287,0.4425994344947499,0.1581364727067789,1.0523143699302913,-0.6852756634925544,-2.138283291452284,0.26267208157579036,0.37372183885347143,0.8213211099006584,-0.8154119669655834,0.38096982250192774,0.3370927626585573,0.8661579662151041,0.5922180910315239,-0.246750931009974,-0.9512094621196407,-1.279912153943022,-1.0318148862660201,-1.2832182702457628,0.24335563499257745,-0.49710382848007084,-2.9933342420800924,-0.6978903685053779,2.3069038297787072,1.1972196152142145,0.5005035356788747,0.7297790581122335,-0.15941717349860096,-0.5181303473438783,-0.5934618471232722,0.8995817172937732,1.4236306634076306,0.13458851966672683,-1.9244973003383656,-0.4396687465651273,0.43148518125632296,-0.1045871680622103,-1.5154907586013207,0.9195989783041805,-0.5680229856548504,-1.0279969155715944,-0.7050486050975706,1.657409308353311,0.43853218340055466,0.4453702568775285,-0.8589282128077184,0.6917317701189633,0.4874349454596271,-0.05415017783183345,0.6786386411680831,0.49941202879755286,-0.09355296913250151,-0.39456615110421206,0.945327187041317,-0.1592104734693847,2.3917432164498007,-0.506147738239636,-0.26501055918580796,0.256761716941572,-2.0970130189996263,2.080817157003123,-1.969713916536074,1.2186284182395668,-0.6754697490087247,0.0864288898960222,-1.2623278342411035,-1.5782667637365249,-0.03995829079015229,0.4184420663801775,-0.5544865869156967,0.4917122214543861,-0.06530864944150375,-0.11841439565633523,0.6511421435271256,1.027365203598178,-1.0793832565983752,0.19273703232535136,0.21278608830470566,0.6698430690156365,-1.1447128329756069,-0.1406796689064955,0.23141660493699273,0.9064832898559017,-1.4194927711734235,1.7863130491938028,1.4143890894685258,-1.1686375404626603,-1.2767884937582192,0.908973163702017,0.4903546831594897,1.458215782292664,-0.1739490839601721,-0.08603191853491715,-0.30139862355672215],\"type\":\"scatter\"},{\"line\":{\"color\":\"rgba(128, 0, 128, 1.0)\",\"dash\":\"solid\",\"shape\":\"linear\",\"width\":1.3},\"mode\":\"lines\",\"name\":\"D\",\"text\":\"\",\"x\":[0,1,2,3,4,5,6,7,8,9,10,11,12,13,14,15,16,17,18,19,20,21,22,23,24,25,26,27,28,29,30,31,32,33,34,35,36,37,38,39,40,41,42,43,44,45,46,47,48,49,50,51,52,53,54,55,56,57,58,59,60,61,62,63,64,65,66,67,68,69,70,71,72,73,74,75,76,77,78,79,80,81,82,83,84,85,86,87,88,89,90,91,92,93,94,95,96,97,98,99],\"y\":[0.5335617547626704,1.11511778820712,-0.08010239879881892,-2.259130632450229,0.1306904956755313,-0.10868636704330263,-1.2119879393566173,0.058401962784051895,-1.28475547880816,-0.23874716438584068,-0.05486944254343988,-0.7903758731068092,0.5511763376605952,0.6598876147808562,-1.393544253357598,-0.22141033511022082,1.3723354165859456,-2.295330139910439,0.7048578956406352,-1.3456434351515638,1.1330308424283735,-1.6303682417443779,1.1458167157730648,0.3412691509585753,-1.4814410312878,0.7056244817874007,-0.35631268737456484,-1.4973624280243167,-2.384006313434215,-0.4603706240551062,-0.3396935582570401,-1.7531152695661887,1.3317539945057488,0.03028900886027697,0.003446055668178733,0.6235875867000816,2.2119702214189525,0.09084069260464103,0.2455822204067303,-0.6571322155562199,-0.16271374185554327,-0.643073675919325,-1.9137010323432584,-0.7764981602357823,-0.44312146885367115,-1.7356585778027214,0.24444323790835046,0.7104679959661663,-1.3390136550043847,0.16366534129867924,-0.6047531524042749,1.2553527366235804,-0.6701759062038355,0.9363081857722896,0.8211474912961345,-1.8240721473503028,0.45230942549634595,2.1574505417899834,-0.062096453693924164,2.369880887091539,-1.0804781096479488,-1.3240023935686234,0.1891364017721843,1.4454723116515689,0.2670018973992693,0.3843716971280922,-0.9649721651660574,-1.0909805836656126,0.27081041390492183,1.153388859206965,0.38281022895155126,-0.8713849540757779,2.0528631419834227,1.5097740524964776,-0.5438358420554982,-0.07034753062399098,-0.8942657348846185,0.9487048514799492,1.3008219239253918,-0.5290864305394178,-1.7064792654511123,-0.19315259821983888,0.16849549170129602,0.3616001588411008,0.026682942900016677,1.2430267142940021,1.8288506123013686,-0.6461015794148398,-0.03903876462222602,-0.7345934981355124,-1.267407423342911,0.020312121797485937,-0.6162696698678704,-0.8700178732099789,0.48554238667112404,0.26801570273470005,0.103588232775617,0.12065839577974721,1.3510822698238307,0.3829175412191313],\"type\":\"scatter\"}],                        {\"legend\":{\"bgcolor\":\"#F5F6F9\",\"font\":{\"color\":\"#4D5663\"}},\"paper_bgcolor\":\"#F5F6F9\",\"plot_bgcolor\":\"#F5F6F9\",\"template\":{\"data\":{\"barpolar\":[{\"marker\":{\"line\":{\"color\":\"#E5ECF6\",\"width\":0.5},\"pattern\":{\"fillmode\":\"overlay\",\"size\":10,\"solidity\":0.2}},\"type\":\"barpolar\"}],\"bar\":[{\"error_x\":{\"color\":\"#2a3f5f\"},\"error_y\":{\"color\":\"#2a3f5f\"},\"marker\":{\"line\":{\"color\":\"#E5ECF6\",\"width\":0.5},\"pattern\":{\"fillmode\":\"overlay\",\"size\":10,\"solidity\":0.2}},\"type\":\"bar\"}],\"carpet\":[{\"aaxis\":{\"endlinecolor\":\"#2a3f5f\",\"gridcolor\":\"white\",\"linecolor\":\"white\",\"minorgridcolor\":\"white\",\"startlinecolor\":\"#2a3f5f\"},\"baxis\":{\"endlinecolor\":\"#2a3f5f\",\"gridcolor\":\"white\",\"linecolor\":\"white\",\"minorgridcolor\":\"white\",\"startlinecolor\":\"#2a3f5f\"},\"type\":\"carpet\"}],\"choropleth\":[{\"colorbar\":{\"outlinewidth\":0,\"ticks\":\"\"},\"type\":\"choropleth\"}],\"contourcarpet\":[{\"colorbar\":{\"outlinewidth\":0,\"ticks\":\"\"},\"type\":\"contourcarpet\"}],\"contour\":[{\"colorbar\":{\"outlinewidth\":0,\"ticks\":\"\"},\"colorscale\":[[0.0,\"#0d0887\"],[0.1111111111111111,\"#46039f\"],[0.2222222222222222,\"#7201a8\"],[0.3333333333333333,\"#9c179e\"],[0.4444444444444444,\"#bd3786\"],[0.5555555555555556,\"#d8576b\"],[0.6666666666666666,\"#ed7953\"],[0.7777777777777778,\"#fb9f3a\"],[0.8888888888888888,\"#fdca26\"],[1.0,\"#f0f921\"]],\"type\":\"contour\"}],\"heatmapgl\":[{\"colorbar\":{\"outlinewidth\":0,\"ticks\":\"\"},\"colorscale\":[[0.0,\"#0d0887\"],[0.1111111111111111,\"#46039f\"],[0.2222222222222222,\"#7201a8\"],[0.3333333333333333,\"#9c179e\"],[0.4444444444444444,\"#bd3786\"],[0.5555555555555556,\"#d8576b\"],[0.6666666666666666,\"#ed7953\"],[0.7777777777777778,\"#fb9f3a\"],[0.8888888888888888,\"#fdca26\"],[1.0,\"#f0f921\"]],\"type\":\"heatmapgl\"}],\"heatmap\":[{\"colorbar\":{\"outlinewidth\":0,\"ticks\":\"\"},\"colorscale\":[[0.0,\"#0d0887\"],[0.1111111111111111,\"#46039f\"],[0.2222222222222222,\"#7201a8\"],[0.3333333333333333,\"#9c179e\"],[0.4444444444444444,\"#bd3786\"],[0.5555555555555556,\"#d8576b\"],[0.6666666666666666,\"#ed7953\"],[0.7777777777777778,\"#fb9f3a\"],[0.8888888888888888,\"#fdca26\"],[1.0,\"#f0f921\"]],\"type\":\"heatmap\"}],\"histogram2dcontour\":[{\"colorbar\":{\"outlinewidth\":0,\"ticks\":\"\"},\"colorscale\":[[0.0,\"#0d0887\"],[0.1111111111111111,\"#46039f\"],[0.2222222222222222,\"#7201a8\"],[0.3333333333333333,\"#9c179e\"],[0.4444444444444444,\"#bd3786\"],[0.5555555555555556,\"#d8576b\"],[0.6666666666666666,\"#ed7953\"],[0.7777777777777778,\"#fb9f3a\"],[0.8888888888888888,\"#fdca26\"],[1.0,\"#f0f921\"]],\"type\":\"histogram2dcontour\"}],\"histogram2d\":[{\"colorbar\":{\"outlinewidth\":0,\"ticks\":\"\"},\"colorscale\":[[0.0,\"#0d0887\"],[0.1111111111111111,\"#46039f\"],[0.2222222222222222,\"#7201a8\"],[0.3333333333333333,\"#9c179e\"],[0.4444444444444444,\"#bd3786\"],[0.5555555555555556,\"#d8576b\"],[0.6666666666666666,\"#ed7953\"],[0.7777777777777778,\"#fb9f3a\"],[0.8888888888888888,\"#fdca26\"],[1.0,\"#f0f921\"]],\"type\":\"histogram2d\"}],\"histogram\":[{\"marker\":{\"pattern\":{\"fillmode\":\"overlay\",\"size\":10,\"solidity\":0.2}},\"type\":\"histogram\"}],\"mesh3d\":[{\"colorbar\":{\"outlinewidth\":0,\"ticks\":\"\"},\"type\":\"mesh3d\"}],\"parcoords\":[{\"line\":{\"colorbar\":{\"outlinewidth\":0,\"ticks\":\"\"}},\"type\":\"parcoords\"}],\"pie\":[{\"automargin\":true,\"type\":\"pie\"}],\"scatter3d\":[{\"line\":{\"colorbar\":{\"outlinewidth\":0,\"ticks\":\"\"}},\"marker\":{\"colorbar\":{\"outlinewidth\":0,\"ticks\":\"\"}},\"type\":\"scatter3d\"}],\"scattercarpet\":[{\"marker\":{\"colorbar\":{\"outlinewidth\":0,\"ticks\":\"\"}},\"type\":\"scattercarpet\"}],\"scattergeo\":[{\"marker\":{\"colorbar\":{\"outlinewidth\":0,\"ticks\":\"\"}},\"type\":\"scattergeo\"}],\"scattergl\":[{\"marker\":{\"colorbar\":{\"outlinewidth\":0,\"ticks\":\"\"}},\"type\":\"scattergl\"}],\"scattermapbox\":[{\"marker\":{\"colorbar\":{\"outlinewidth\":0,\"ticks\":\"\"}},\"type\":\"scattermapbox\"}],\"scatterpolargl\":[{\"marker\":{\"colorbar\":{\"outlinewidth\":0,\"ticks\":\"\"}},\"type\":\"scatterpolargl\"}],\"scatterpolar\":[{\"marker\":{\"colorbar\":{\"outlinewidth\":0,\"ticks\":\"\"}},\"type\":\"scatterpolar\"}],\"scatter\":[{\"fillpattern\":{\"fillmode\":\"overlay\",\"size\":10,\"solidity\":0.2},\"type\":\"scatter\"}],\"scatterternary\":[{\"marker\":{\"colorbar\":{\"outlinewidth\":0,\"ticks\":\"\"}},\"type\":\"scatterternary\"}],\"surface\":[{\"colorbar\":{\"outlinewidth\":0,\"ticks\":\"\"},\"colorscale\":[[0.0,\"#0d0887\"],[0.1111111111111111,\"#46039f\"],[0.2222222222222222,\"#7201a8\"],[0.3333333333333333,\"#9c179e\"],[0.4444444444444444,\"#bd3786\"],[0.5555555555555556,\"#d8576b\"],[0.6666666666666666,\"#ed7953\"],[0.7777777777777778,\"#fb9f3a\"],[0.8888888888888888,\"#fdca26\"],[1.0,\"#f0f921\"]],\"type\":\"surface\"}],\"table\":[{\"cells\":{\"fill\":{\"color\":\"#EBF0F8\"},\"line\":{\"color\":\"white\"}},\"header\":{\"fill\":{\"color\":\"#C8D4E3\"},\"line\":{\"color\":\"white\"}},\"type\":\"table\"}]},\"layout\":{\"annotationdefaults\":{\"arrowcolor\":\"#2a3f5f\",\"arrowhead\":0,\"arrowwidth\":1},\"autotypenumbers\":\"strict\",\"coloraxis\":{\"colorbar\":{\"outlinewidth\":0,\"ticks\":\"\"}},\"colorscale\":{\"diverging\":[[0,\"#8e0152\"],[0.1,\"#c51b7d\"],[0.2,\"#de77ae\"],[0.3,\"#f1b6da\"],[0.4,\"#fde0ef\"],[0.5,\"#f7f7f7\"],[0.6,\"#e6f5d0\"],[0.7,\"#b8e186\"],[0.8,\"#7fbc41\"],[0.9,\"#4d9221\"],[1,\"#276419\"]],\"sequential\":[[0.0,\"#0d0887\"],[0.1111111111111111,\"#46039f\"],[0.2222222222222222,\"#7201a8\"],[0.3333333333333333,\"#9c179e\"],[0.4444444444444444,\"#bd3786\"],[0.5555555555555556,\"#d8576b\"],[0.6666666666666666,\"#ed7953\"],[0.7777777777777778,\"#fb9f3a\"],[0.8888888888888888,\"#fdca26\"],[1.0,\"#f0f921\"]],\"sequentialminus\":[[0.0,\"#0d0887\"],[0.1111111111111111,\"#46039f\"],[0.2222222222222222,\"#7201a8\"],[0.3333333333333333,\"#9c179e\"],[0.4444444444444444,\"#bd3786\"],[0.5555555555555556,\"#d8576b\"],[0.6666666666666666,\"#ed7953\"],[0.7777777777777778,\"#fb9f3a\"],[0.8888888888888888,\"#fdca26\"],[1.0,\"#f0f921\"]]},\"colorway\":[\"#636efa\",\"#EF553B\",\"#00cc96\",\"#ab63fa\",\"#FFA15A\",\"#19d3f3\",\"#FF6692\",\"#B6E880\",\"#FF97FF\",\"#FECB52\"],\"font\":{\"color\":\"#2a3f5f\"},\"geo\":{\"bgcolor\":\"white\",\"lakecolor\":\"white\",\"landcolor\":\"#E5ECF6\",\"showlakes\":true,\"showland\":true,\"subunitcolor\":\"white\"},\"hoverlabel\":{\"align\":\"left\"},\"hovermode\":\"closest\",\"mapbox\":{\"style\":\"light\"},\"paper_bgcolor\":\"white\",\"plot_bgcolor\":\"#E5ECF6\",\"polar\":{\"angularaxis\":{\"gridcolor\":\"white\",\"linecolor\":\"white\",\"ticks\":\"\"},\"bgcolor\":\"#E5ECF6\",\"radialaxis\":{\"gridcolor\":\"white\",\"linecolor\":\"white\",\"ticks\":\"\"}},\"scene\":{\"xaxis\":{\"backgroundcolor\":\"#E5ECF6\",\"gridcolor\":\"white\",\"gridwidth\":2,\"linecolor\":\"white\",\"showbackground\":true,\"ticks\":\"\",\"zerolinecolor\":\"white\"},\"yaxis\":{\"backgroundcolor\":\"#E5ECF6\",\"gridcolor\":\"white\",\"gridwidth\":2,\"linecolor\":\"white\",\"showbackground\":true,\"ticks\":\"\",\"zerolinecolor\":\"white\"},\"zaxis\":{\"backgroundcolor\":\"#E5ECF6\",\"gridcolor\":\"white\",\"gridwidth\":2,\"linecolor\":\"white\",\"showbackground\":true,\"ticks\":\"\",\"zerolinecolor\":\"white\"}},\"shapedefaults\":{\"line\":{\"color\":\"#2a3f5f\"}},\"ternary\":{\"aaxis\":{\"gridcolor\":\"white\",\"linecolor\":\"white\",\"ticks\":\"\"},\"baxis\":{\"gridcolor\":\"white\",\"linecolor\":\"white\",\"ticks\":\"\"},\"bgcolor\":\"#E5ECF6\",\"caxis\":{\"gridcolor\":\"white\",\"linecolor\":\"white\",\"ticks\":\"\"}},\"title\":{\"x\":0.05},\"xaxis\":{\"automargin\":true,\"gridcolor\":\"white\",\"linecolor\":\"white\",\"ticks\":\"\",\"title\":{\"standoff\":15},\"zerolinecolor\":\"white\",\"zerolinewidth\":2},\"yaxis\":{\"automargin\":true,\"gridcolor\":\"white\",\"linecolor\":\"white\",\"ticks\":\"\",\"title\":{\"standoff\":15},\"zerolinecolor\":\"white\",\"zerolinewidth\":2}}},\"title\":{\"font\":{\"color\":\"#4D5663\"}},\"xaxis\":{\"gridcolor\":\"#E1E5ED\",\"showgrid\":true,\"tickfont\":{\"color\":\"#4D5663\"},\"title\":{\"font\":{\"color\":\"#4D5663\"},\"text\":\"\"},\"zerolinecolor\":\"#E1E5ED\"},\"yaxis\":{\"gridcolor\":\"#E1E5ED\",\"showgrid\":true,\"tickfont\":{\"color\":\"#4D5663\"},\"title\":{\"font\":{\"color\":\"#4D5663\"},\"text\":\"\"},\"zerolinecolor\":\"#E1E5ED\"}},                        {\"showLink\": true, \"linkText\": \"Export to plot.ly\", \"plotlyServerURL\": \"https://plot.ly\", \"responsive\": true}                    ).then(function(){\n",
       "                            \n",
       "var gd = document.getElementById('4a8581db-e0f8-4c2f-8769-88de66a3cfde');\n",
       "var x = new MutationObserver(function (mutations, observer) {{\n",
       "        var display = window.getComputedStyle(gd).display;\n",
       "        if (!display || display === 'none') {{\n",
       "            console.log([gd, 'removed!']);\n",
       "            Plotly.purge(gd);\n",
       "            observer.disconnect();\n",
       "        }}\n",
       "}});\n",
       "\n",
       "// Listen for the removal of the full notebook cells\n",
       "var notebookContainer = gd.closest('#notebook-container');\n",
       "if (notebookContainer) {{\n",
       "    x.observe(notebookContainer, {childList: true});\n",
       "}}\n",
       "\n",
       "// Listen for the clearing of the current output cell\n",
       "var outputEl = gd.closest('.output');\n",
       "if (outputEl) {{\n",
       "    x.observe(outputEl, {childList: true});\n",
       "}}\n",
       "\n",
       "                        })                };                });            </script>        </div>"
      ]
     },
     "metadata": {},
     "output_type": "display_data"
    }
   ],
   "source": [
    "df.iplot() #iplot using cufflinks and plotly\n",
    "#now have different features like zoom in zoom out chech values on every point\n",
    "#save as png, move and many more features\n",
    "# i can view specific coloumn by click on column name"
   ]
  },
  {
   "cell_type": "code",
   "execution_count": 19,
   "metadata": {},
   "outputs": [
    {
     "data": {
      "application/vnd.plotly.v1+json": {
       "config": {
        "linkText": "Export to plot.ly",
        "plotlyServerURL": "https://plot.ly",
        "showLink": true
       },
       "data": [
        {
         "line": {
          "color": "rgba(255, 153, 51, 1.0)",
          "dash": "solid",
          "shape": "linear",
          "width": 1.3
         },
         "marker": {
          "size": 12,
          "symbol": "circle"
         },
         "mode": "markers",
         "name": "B",
         "text": "",
         "type": "scatter",
         "x": [
          -1.7551052678663162,
          0.3844705852588308,
          -2.036235857734799,
          -0.4777192690016541,
          1.4543579926789922,
          -0.09237757661484672,
          0.6119764070206649,
          1.2237887733721426,
          -1.7337095285419843,
          -0.09984401561568264,
          -0.4649631618162517,
          0.9998649026069217,
          -0.6943268284110494,
          -0.72841097667062,
          -0.4417144240902041,
          -0.004464788666717921,
          0.07531256094745666,
          0.819040457639244,
          -0.4567053715819427,
          -0.5963208419744218,
          0.20953116501771618,
          -0.6853725302321193,
          -0.4001354564558299,
          0.6480780792891775,
          0.21240416189485206,
          0.14312795229648412,
          1.4393143026131452,
          0.7837815407286436,
          0.7467555023995134,
          0.29599035733768936,
          -0.7218712504422361,
          -1.25193389495634,
          0.03611354174396783,
          -0.03200300201512434,
          -1.1826084205945602,
          -1.4446328395682333,
          -0.04401236980398926,
          1.148871152117295,
          -0.14011474199688925,
          0.06115179255331545,
          0.868403061018585,
          0.5428333970190617,
          2.023958447325256,
          1.298799841292337,
          0.3078105580800464,
          0.6071874163245976,
          0.8972500697072223,
          -0.9315584354567149,
          0.17846500752828248,
          0.4284783757579867,
          -1.2333721181585848,
          -0.5601363807245684,
          0.09472304319338498,
          1.778688134912088,
          -1.8021319258488775,
          -0.7791449714553991,
          -0.5839473586620774,
          -0.7253804597334422,
          -0.9232769368882936,
          -0.6139384413256993,
          -0.06283253701103511,
          -0.9172264457972898,
          1.274365195722724,
          -0.23411960543441399,
          -0.8057448573292509,
          0.7054532319615852,
          -1.1036282271372015,
          0.6513618183801033,
          1.6919479921315315,
          2.0298722949294987,
          -0.7413914397119926,
          1.6472076306959016,
          0.6975377328009644,
          -2.5744066196418682,
          -1.1618031599466374,
          1.191995297707877,
          0.3357604375348084,
          0.528360105058137,
          -2.426809770915547,
          -1.4970050996342303,
          0.5012670828793494,
          -0.4144372147571527,
          -1.5032345584573734,
          -0.5645262794150616,
          0.9074324916191596,
          0.5291147311047883,
          1.27378422165143,
          0.8144032756088596,
          0.22763909553884226,
          0.04666463041197144,
          -0.2909034169358753,
          1.2439472755893324,
          -0.5030014312921158,
          -2.04618571072768,
          -1.9776242737576282,
          -0.7784135744681734,
          -0.43542356262032955,
          0.3511218761609181,
          0.6690302299966587,
          -2.937691978255148
         ],
         "y": [
          0.4382592167411095,
          -0.6309961348420734,
          -0.0395311262178848,
          -0.31428373652841174,
          -1.0100162848027445,
          0.3935453506068354,
          -1.1208413794066048,
          -0.48057193451665925,
          0.07553530507313684,
          -1.732193450923254,
          -0.18194479104436243,
          -1.2768988483331727,
          -0.9010984722462253,
          -0.04831591513783132,
          1.017334361674233,
          2.0659548342501,
          -1.3257645889148622,
          1.1439743874680193,
          -0.5955125539431376,
          1.5396128052705145,
          -0.3056876386133438,
          -0.3877195935848514,
          -0.26289468030335533,
          0.8933171597993632,
          0.28295230371184565,
          -2.0381890153955404,
          -0.8598396093738542,
          -1.6518707199339169,
          1.315608649571582,
          -1.1411519377453063,
          -1.1360395440453932,
          -1.7772226648265301,
          0.9650122260771038,
          1.1487983813941074,
          0.6236448087340094,
          0.23376375669016658,
          0.6124046327547832,
          1.438466886570016,
          -1.2648382819818582,
          -0.18510973962669178,
          -0.6786077887679473,
          -0.664905423820725,
          -0.46612759720887575,
          -0.750935532586305,
          0.7553429312716934,
          -0.974797806662005,
          1.0791958284105596,
          -1.4647682070265706,
          -1.131758714727324,
          0.3584005296774685,
          -2.618621262491332,
          0.22598540427059874,
          -0.11981462527459533,
          1.4990841490508868,
          -0.20774363409278152,
          0.6976938911487156,
          -0.6330586023195791,
          1.6187904142539622,
          1.282338045791857,
          0.0802792937980838,
          -0.5108597070798586,
          0.12905133080909542,
          0.3449053470374282,
          0.0766504080888916,
          -1.515901853753896,
          1.553054792584085,
          0.08897000243510644,
          -1.0459050859726782,
          -0.39902139781521845,
          1.2555188182347081,
          -2.0145418672522446,
          -0.27008247237976113,
          0.4903043952555374,
          2.214217040668718,
          -0.36536702022485823,
          -0.9829776507777322,
          -0.1469357916605228,
          0.5679188818392001,
          1.529413014699103,
          -0.3276547721051137,
          -1.0423677573212309,
          0.811616799365819,
          -1.3316013120176349,
          -1.8682578918247865,
          0.9497852481964191,
          -0.48074134536630314,
          -0.4481668902136482,
          -0.4874510603514809,
          0.8886789746157747,
          -0.8885847644458682,
          -0.6885045336406496,
          1.589358536547224,
          -0.6758365158912941,
          -0.40969212660536275,
          0.6746415974540376,
          1.1271460223680927,
          -1.6450552325643122,
          0.12158090294215941,
          1.0007876253334738,
          -1.256378892090455
         ]
        }
       ],
       "layout": {
        "legend": {
         "bgcolor": "#F5F6F9",
         "font": {
          "color": "#4D5663"
         }
        },
        "paper_bgcolor": "#F5F6F9",
        "plot_bgcolor": "#F5F6F9",
        "template": {
         "data": {
          "bar": [
           {
            "error_x": {
             "color": "#2a3f5f"
            },
            "error_y": {
             "color": "#2a3f5f"
            },
            "marker": {
             "line": {
              "color": "#E5ECF6",
              "width": 0.5
             },
             "pattern": {
              "fillmode": "overlay",
              "size": 10,
              "solidity": 0.2
             }
            },
            "type": "bar"
           }
          ],
          "barpolar": [
           {
            "marker": {
             "line": {
              "color": "#E5ECF6",
              "width": 0.5
             },
             "pattern": {
              "fillmode": "overlay",
              "size": 10,
              "solidity": 0.2
             }
            },
            "type": "barpolar"
           }
          ],
          "carpet": [
           {
            "aaxis": {
             "endlinecolor": "#2a3f5f",
             "gridcolor": "white",
             "linecolor": "white",
             "minorgridcolor": "white",
             "startlinecolor": "#2a3f5f"
            },
            "baxis": {
             "endlinecolor": "#2a3f5f",
             "gridcolor": "white",
             "linecolor": "white",
             "minorgridcolor": "white",
             "startlinecolor": "#2a3f5f"
            },
            "type": "carpet"
           }
          ],
          "choropleth": [
           {
            "colorbar": {
             "outlinewidth": 0,
             "ticks": ""
            },
            "type": "choropleth"
           }
          ],
          "contour": [
           {
            "colorbar": {
             "outlinewidth": 0,
             "ticks": ""
            },
            "colorscale": [
             [
              0,
              "#0d0887"
             ],
             [
              0.1111111111111111,
              "#46039f"
             ],
             [
              0.2222222222222222,
              "#7201a8"
             ],
             [
              0.3333333333333333,
              "#9c179e"
             ],
             [
              0.4444444444444444,
              "#bd3786"
             ],
             [
              0.5555555555555556,
              "#d8576b"
             ],
             [
              0.6666666666666666,
              "#ed7953"
             ],
             [
              0.7777777777777778,
              "#fb9f3a"
             ],
             [
              0.8888888888888888,
              "#fdca26"
             ],
             [
              1,
              "#f0f921"
             ]
            ],
            "type": "contour"
           }
          ],
          "contourcarpet": [
           {
            "colorbar": {
             "outlinewidth": 0,
             "ticks": ""
            },
            "type": "contourcarpet"
           }
          ],
          "heatmap": [
           {
            "colorbar": {
             "outlinewidth": 0,
             "ticks": ""
            },
            "colorscale": [
             [
              0,
              "#0d0887"
             ],
             [
              0.1111111111111111,
              "#46039f"
             ],
             [
              0.2222222222222222,
              "#7201a8"
             ],
             [
              0.3333333333333333,
              "#9c179e"
             ],
             [
              0.4444444444444444,
              "#bd3786"
             ],
             [
              0.5555555555555556,
              "#d8576b"
             ],
             [
              0.6666666666666666,
              "#ed7953"
             ],
             [
              0.7777777777777778,
              "#fb9f3a"
             ],
             [
              0.8888888888888888,
              "#fdca26"
             ],
             [
              1,
              "#f0f921"
             ]
            ],
            "type": "heatmap"
           }
          ],
          "heatmapgl": [
           {
            "colorbar": {
             "outlinewidth": 0,
             "ticks": ""
            },
            "colorscale": [
             [
              0,
              "#0d0887"
             ],
             [
              0.1111111111111111,
              "#46039f"
             ],
             [
              0.2222222222222222,
              "#7201a8"
             ],
             [
              0.3333333333333333,
              "#9c179e"
             ],
             [
              0.4444444444444444,
              "#bd3786"
             ],
             [
              0.5555555555555556,
              "#d8576b"
             ],
             [
              0.6666666666666666,
              "#ed7953"
             ],
             [
              0.7777777777777778,
              "#fb9f3a"
             ],
             [
              0.8888888888888888,
              "#fdca26"
             ],
             [
              1,
              "#f0f921"
             ]
            ],
            "type": "heatmapgl"
           }
          ],
          "histogram": [
           {
            "marker": {
             "pattern": {
              "fillmode": "overlay",
              "size": 10,
              "solidity": 0.2
             }
            },
            "type": "histogram"
           }
          ],
          "histogram2d": [
           {
            "colorbar": {
             "outlinewidth": 0,
             "ticks": ""
            },
            "colorscale": [
             [
              0,
              "#0d0887"
             ],
             [
              0.1111111111111111,
              "#46039f"
             ],
             [
              0.2222222222222222,
              "#7201a8"
             ],
             [
              0.3333333333333333,
              "#9c179e"
             ],
             [
              0.4444444444444444,
              "#bd3786"
             ],
             [
              0.5555555555555556,
              "#d8576b"
             ],
             [
              0.6666666666666666,
              "#ed7953"
             ],
             [
              0.7777777777777778,
              "#fb9f3a"
             ],
             [
              0.8888888888888888,
              "#fdca26"
             ],
             [
              1,
              "#f0f921"
             ]
            ],
            "type": "histogram2d"
           }
          ],
          "histogram2dcontour": [
           {
            "colorbar": {
             "outlinewidth": 0,
             "ticks": ""
            },
            "colorscale": [
             [
              0,
              "#0d0887"
             ],
             [
              0.1111111111111111,
              "#46039f"
             ],
             [
              0.2222222222222222,
              "#7201a8"
             ],
             [
              0.3333333333333333,
              "#9c179e"
             ],
             [
              0.4444444444444444,
              "#bd3786"
             ],
             [
              0.5555555555555556,
              "#d8576b"
             ],
             [
              0.6666666666666666,
              "#ed7953"
             ],
             [
              0.7777777777777778,
              "#fb9f3a"
             ],
             [
              0.8888888888888888,
              "#fdca26"
             ],
             [
              1,
              "#f0f921"
             ]
            ],
            "type": "histogram2dcontour"
           }
          ],
          "mesh3d": [
           {
            "colorbar": {
             "outlinewidth": 0,
             "ticks": ""
            },
            "type": "mesh3d"
           }
          ],
          "parcoords": [
           {
            "line": {
             "colorbar": {
              "outlinewidth": 0,
              "ticks": ""
             }
            },
            "type": "parcoords"
           }
          ],
          "pie": [
           {
            "automargin": true,
            "type": "pie"
           }
          ],
          "scatter": [
           {
            "fillpattern": {
             "fillmode": "overlay",
             "size": 10,
             "solidity": 0.2
            },
            "type": "scatter"
           }
          ],
          "scatter3d": [
           {
            "line": {
             "colorbar": {
              "outlinewidth": 0,
              "ticks": ""
             }
            },
            "marker": {
             "colorbar": {
              "outlinewidth": 0,
              "ticks": ""
             }
            },
            "type": "scatter3d"
           }
          ],
          "scattercarpet": [
           {
            "marker": {
             "colorbar": {
              "outlinewidth": 0,
              "ticks": ""
             }
            },
            "type": "scattercarpet"
           }
          ],
          "scattergeo": [
           {
            "marker": {
             "colorbar": {
              "outlinewidth": 0,
              "ticks": ""
             }
            },
            "type": "scattergeo"
           }
          ],
          "scattergl": [
           {
            "marker": {
             "colorbar": {
              "outlinewidth": 0,
              "ticks": ""
             }
            },
            "type": "scattergl"
           }
          ],
          "scattermapbox": [
           {
            "marker": {
             "colorbar": {
              "outlinewidth": 0,
              "ticks": ""
             }
            },
            "type": "scattermapbox"
           }
          ],
          "scatterpolar": [
           {
            "marker": {
             "colorbar": {
              "outlinewidth": 0,
              "ticks": ""
             }
            },
            "type": "scatterpolar"
           }
          ],
          "scatterpolargl": [
           {
            "marker": {
             "colorbar": {
              "outlinewidth": 0,
              "ticks": ""
             }
            },
            "type": "scatterpolargl"
           }
          ],
          "scatterternary": [
           {
            "marker": {
             "colorbar": {
              "outlinewidth": 0,
              "ticks": ""
             }
            },
            "type": "scatterternary"
           }
          ],
          "surface": [
           {
            "colorbar": {
             "outlinewidth": 0,
             "ticks": ""
            },
            "colorscale": [
             [
              0,
              "#0d0887"
             ],
             [
              0.1111111111111111,
              "#46039f"
             ],
             [
              0.2222222222222222,
              "#7201a8"
             ],
             [
              0.3333333333333333,
              "#9c179e"
             ],
             [
              0.4444444444444444,
              "#bd3786"
             ],
             [
              0.5555555555555556,
              "#d8576b"
             ],
             [
              0.6666666666666666,
              "#ed7953"
             ],
             [
              0.7777777777777778,
              "#fb9f3a"
             ],
             [
              0.8888888888888888,
              "#fdca26"
             ],
             [
              1,
              "#f0f921"
             ]
            ],
            "type": "surface"
           }
          ],
          "table": [
           {
            "cells": {
             "fill": {
              "color": "#EBF0F8"
             },
             "line": {
              "color": "white"
             }
            },
            "header": {
             "fill": {
              "color": "#C8D4E3"
             },
             "line": {
              "color": "white"
             }
            },
            "type": "table"
           }
          ]
         },
         "layout": {
          "annotationdefaults": {
           "arrowcolor": "#2a3f5f",
           "arrowhead": 0,
           "arrowwidth": 1
          },
          "autotypenumbers": "strict",
          "coloraxis": {
           "colorbar": {
            "outlinewidth": 0,
            "ticks": ""
           }
          },
          "colorscale": {
           "diverging": [
            [
             0,
             "#8e0152"
            ],
            [
             0.1,
             "#c51b7d"
            ],
            [
             0.2,
             "#de77ae"
            ],
            [
             0.3,
             "#f1b6da"
            ],
            [
             0.4,
             "#fde0ef"
            ],
            [
             0.5,
             "#f7f7f7"
            ],
            [
             0.6,
             "#e6f5d0"
            ],
            [
             0.7,
             "#b8e186"
            ],
            [
             0.8,
             "#7fbc41"
            ],
            [
             0.9,
             "#4d9221"
            ],
            [
             1,
             "#276419"
            ]
           ],
           "sequential": [
            [
             0,
             "#0d0887"
            ],
            [
             0.1111111111111111,
             "#46039f"
            ],
            [
             0.2222222222222222,
             "#7201a8"
            ],
            [
             0.3333333333333333,
             "#9c179e"
            ],
            [
             0.4444444444444444,
             "#bd3786"
            ],
            [
             0.5555555555555556,
             "#d8576b"
            ],
            [
             0.6666666666666666,
             "#ed7953"
            ],
            [
             0.7777777777777778,
             "#fb9f3a"
            ],
            [
             0.8888888888888888,
             "#fdca26"
            ],
            [
             1,
             "#f0f921"
            ]
           ],
           "sequentialminus": [
            [
             0,
             "#0d0887"
            ],
            [
             0.1111111111111111,
             "#46039f"
            ],
            [
             0.2222222222222222,
             "#7201a8"
            ],
            [
             0.3333333333333333,
             "#9c179e"
            ],
            [
             0.4444444444444444,
             "#bd3786"
            ],
            [
             0.5555555555555556,
             "#d8576b"
            ],
            [
             0.6666666666666666,
             "#ed7953"
            ],
            [
             0.7777777777777778,
             "#fb9f3a"
            ],
            [
             0.8888888888888888,
             "#fdca26"
            ],
            [
             1,
             "#f0f921"
            ]
           ]
          },
          "colorway": [
           "#636efa",
           "#EF553B",
           "#00cc96",
           "#ab63fa",
           "#FFA15A",
           "#19d3f3",
           "#FF6692",
           "#B6E880",
           "#FF97FF",
           "#FECB52"
          ],
          "font": {
           "color": "#2a3f5f"
          },
          "geo": {
           "bgcolor": "white",
           "lakecolor": "white",
           "landcolor": "#E5ECF6",
           "showlakes": true,
           "showland": true,
           "subunitcolor": "white"
          },
          "hoverlabel": {
           "align": "left"
          },
          "hovermode": "closest",
          "mapbox": {
           "style": "light"
          },
          "paper_bgcolor": "white",
          "plot_bgcolor": "#E5ECF6",
          "polar": {
           "angularaxis": {
            "gridcolor": "white",
            "linecolor": "white",
            "ticks": ""
           },
           "bgcolor": "#E5ECF6",
           "radialaxis": {
            "gridcolor": "white",
            "linecolor": "white",
            "ticks": ""
           }
          },
          "scene": {
           "xaxis": {
            "backgroundcolor": "#E5ECF6",
            "gridcolor": "white",
            "gridwidth": 2,
            "linecolor": "white",
            "showbackground": true,
            "ticks": "",
            "zerolinecolor": "white"
           },
           "yaxis": {
            "backgroundcolor": "#E5ECF6",
            "gridcolor": "white",
            "gridwidth": 2,
            "linecolor": "white",
            "showbackground": true,
            "ticks": "",
            "zerolinecolor": "white"
           },
           "zaxis": {
            "backgroundcolor": "#E5ECF6",
            "gridcolor": "white",
            "gridwidth": 2,
            "linecolor": "white",
            "showbackground": true,
            "ticks": "",
            "zerolinecolor": "white"
           }
          },
          "shapedefaults": {
           "line": {
            "color": "#2a3f5f"
           }
          },
          "ternary": {
           "aaxis": {
            "gridcolor": "white",
            "linecolor": "white",
            "ticks": ""
           },
           "baxis": {
            "gridcolor": "white",
            "linecolor": "white",
            "ticks": ""
           },
           "bgcolor": "#E5ECF6",
           "caxis": {
            "gridcolor": "white",
            "linecolor": "white",
            "ticks": ""
           }
          },
          "title": {
           "x": 0.05
          },
          "xaxis": {
           "automargin": true,
           "gridcolor": "white",
           "linecolor": "white",
           "ticks": "",
           "title": {
            "standoff": 15
           },
           "zerolinecolor": "white",
           "zerolinewidth": 2
          },
          "yaxis": {
           "automargin": true,
           "gridcolor": "white",
           "linecolor": "white",
           "ticks": "",
           "title": {
            "standoff": 15
           },
           "zerolinecolor": "white",
           "zerolinewidth": 2
          }
         }
        },
        "title": {
         "font": {
          "color": "#4D5663"
         }
        },
        "xaxis": {
         "gridcolor": "#E1E5ED",
         "showgrid": true,
         "tickfont": {
          "color": "#4D5663"
         },
         "title": {
          "font": {
           "color": "#4D5663"
          },
          "text": ""
         },
         "zerolinecolor": "#E1E5ED"
        },
        "yaxis": {
         "gridcolor": "#E1E5ED",
         "showgrid": true,
         "tickfont": {
          "color": "#4D5663"
         },
         "title": {
          "font": {
           "color": "#4D5663"
          },
          "text": ""
         },
         "zerolinecolor": "#E1E5ED"
        }
       }
      },
      "text/html": [
       "<div>                            <div id=\"ab7167a9-afe6-4dfe-bff7-d69abf25c764\" class=\"plotly-graph-div\" style=\"height:525px; width:100%;\"></div>            <script type=\"text/javascript\">                require([\"plotly\"], function(Plotly) {                    window.PLOTLYENV=window.PLOTLYENV || {};\n",
       "                    window.PLOTLYENV.BASE_URL='https://plot.ly';                                    if (document.getElementById(\"ab7167a9-afe6-4dfe-bff7-d69abf25c764\")) {                    Plotly.newPlot(                        \"ab7167a9-afe6-4dfe-bff7-d69abf25c764\",                        [{\"line\":{\"color\":\"rgba(255, 153, 51, 1.0)\",\"dash\":\"solid\",\"shape\":\"linear\",\"width\":1.3},\"marker\":{\"size\":12,\"symbol\":\"circle\"},\"mode\":\"markers\",\"name\":\"B\",\"text\":\"\",\"x\":[-1.7551052678663162,0.3844705852588308,-2.036235857734799,-0.4777192690016541,1.4543579926789922,-0.09237757661484672,0.6119764070206649,1.2237887733721426,-1.7337095285419843,-0.09984401561568264,-0.4649631618162517,0.9998649026069217,-0.6943268284110494,-0.72841097667062,-0.4417144240902041,-0.004464788666717921,0.07531256094745666,0.819040457639244,-0.4567053715819427,-0.5963208419744218,0.20953116501771618,-0.6853725302321193,-0.4001354564558299,0.6480780792891775,0.21240416189485206,0.14312795229648412,1.4393143026131452,0.7837815407286436,0.7467555023995134,0.29599035733768936,-0.7218712504422361,-1.25193389495634,0.03611354174396783,-0.03200300201512434,-1.1826084205945602,-1.4446328395682333,-0.04401236980398926,1.148871152117295,-0.14011474199688925,0.06115179255331545,0.868403061018585,0.5428333970190617,2.023958447325256,1.298799841292337,0.3078105580800464,0.6071874163245976,0.8972500697072223,-0.9315584354567149,0.17846500752828248,0.4284783757579867,-1.2333721181585848,-0.5601363807245684,0.09472304319338498,1.778688134912088,-1.8021319258488775,-0.7791449714553991,-0.5839473586620774,-0.7253804597334422,-0.9232769368882936,-0.6139384413256993,-0.06283253701103511,-0.9172264457972898,1.274365195722724,-0.23411960543441399,-0.8057448573292509,0.7054532319615852,-1.1036282271372015,0.6513618183801033,1.6919479921315315,2.0298722949294987,-0.7413914397119926,1.6472076306959016,0.6975377328009644,-2.5744066196418682,-1.1618031599466374,1.191995297707877,0.3357604375348084,0.528360105058137,-2.426809770915547,-1.4970050996342303,0.5012670828793494,-0.4144372147571527,-1.5032345584573734,-0.5645262794150616,0.9074324916191596,0.5291147311047883,1.27378422165143,0.8144032756088596,0.22763909553884226,0.04666463041197144,-0.2909034169358753,1.2439472755893324,-0.5030014312921158,-2.04618571072768,-1.9776242737576282,-0.7784135744681734,-0.43542356262032955,0.3511218761609181,0.6690302299966587,-2.937691978255148],\"y\":[0.4382592167411095,-0.6309961348420734,-0.0395311262178848,-0.31428373652841174,-1.0100162848027445,0.3935453506068354,-1.1208413794066048,-0.48057193451665925,0.07553530507313684,-1.732193450923254,-0.18194479104436243,-1.2768988483331727,-0.9010984722462253,-0.04831591513783132,1.017334361674233,2.0659548342501,-1.3257645889148622,1.1439743874680193,-0.5955125539431376,1.5396128052705145,-0.3056876386133438,-0.3877195935848514,-0.26289468030335533,0.8933171597993632,0.28295230371184565,-2.0381890153955404,-0.8598396093738542,-1.6518707199339169,1.315608649571582,-1.1411519377453063,-1.1360395440453932,-1.7772226648265301,0.9650122260771038,1.1487983813941074,0.6236448087340094,0.23376375669016658,0.6124046327547832,1.438466886570016,-1.2648382819818582,-0.18510973962669178,-0.6786077887679473,-0.664905423820725,-0.46612759720887575,-0.750935532586305,0.7553429312716934,-0.974797806662005,1.0791958284105596,-1.4647682070265706,-1.131758714727324,0.3584005296774685,-2.618621262491332,0.22598540427059874,-0.11981462527459533,1.4990841490508868,-0.20774363409278152,0.6976938911487156,-0.6330586023195791,1.6187904142539622,1.282338045791857,0.0802792937980838,-0.5108597070798586,0.12905133080909542,0.3449053470374282,0.0766504080888916,-1.515901853753896,1.553054792584085,0.08897000243510644,-1.0459050859726782,-0.39902139781521845,1.2555188182347081,-2.0145418672522446,-0.27008247237976113,0.4903043952555374,2.214217040668718,-0.36536702022485823,-0.9829776507777322,-0.1469357916605228,0.5679188818392001,1.529413014699103,-0.3276547721051137,-1.0423677573212309,0.811616799365819,-1.3316013120176349,-1.8682578918247865,0.9497852481964191,-0.48074134536630314,-0.4481668902136482,-0.4874510603514809,0.8886789746157747,-0.8885847644458682,-0.6885045336406496,1.589358536547224,-0.6758365158912941,-0.40969212660536275,0.6746415974540376,1.1271460223680927,-1.6450552325643122,0.12158090294215941,1.0007876253334738,-1.256378892090455],\"type\":\"scatter\"}],                        {\"legend\":{\"bgcolor\":\"#F5F6F9\",\"font\":{\"color\":\"#4D5663\"}},\"paper_bgcolor\":\"#F5F6F9\",\"plot_bgcolor\":\"#F5F6F9\",\"template\":{\"data\":{\"barpolar\":[{\"marker\":{\"line\":{\"color\":\"#E5ECF6\",\"width\":0.5},\"pattern\":{\"fillmode\":\"overlay\",\"size\":10,\"solidity\":0.2}},\"type\":\"barpolar\"}],\"bar\":[{\"error_x\":{\"color\":\"#2a3f5f\"},\"error_y\":{\"color\":\"#2a3f5f\"},\"marker\":{\"line\":{\"color\":\"#E5ECF6\",\"width\":0.5},\"pattern\":{\"fillmode\":\"overlay\",\"size\":10,\"solidity\":0.2}},\"type\":\"bar\"}],\"carpet\":[{\"aaxis\":{\"endlinecolor\":\"#2a3f5f\",\"gridcolor\":\"white\",\"linecolor\":\"white\",\"minorgridcolor\":\"white\",\"startlinecolor\":\"#2a3f5f\"},\"baxis\":{\"endlinecolor\":\"#2a3f5f\",\"gridcolor\":\"white\",\"linecolor\":\"white\",\"minorgridcolor\":\"white\",\"startlinecolor\":\"#2a3f5f\"},\"type\":\"carpet\"}],\"choropleth\":[{\"colorbar\":{\"outlinewidth\":0,\"ticks\":\"\"},\"type\":\"choropleth\"}],\"contourcarpet\":[{\"colorbar\":{\"outlinewidth\":0,\"ticks\":\"\"},\"type\":\"contourcarpet\"}],\"contour\":[{\"colorbar\":{\"outlinewidth\":0,\"ticks\":\"\"},\"colorscale\":[[0.0,\"#0d0887\"],[0.1111111111111111,\"#46039f\"],[0.2222222222222222,\"#7201a8\"],[0.3333333333333333,\"#9c179e\"],[0.4444444444444444,\"#bd3786\"],[0.5555555555555556,\"#d8576b\"],[0.6666666666666666,\"#ed7953\"],[0.7777777777777778,\"#fb9f3a\"],[0.8888888888888888,\"#fdca26\"],[1.0,\"#f0f921\"]],\"type\":\"contour\"}],\"heatmapgl\":[{\"colorbar\":{\"outlinewidth\":0,\"ticks\":\"\"},\"colorscale\":[[0.0,\"#0d0887\"],[0.1111111111111111,\"#46039f\"],[0.2222222222222222,\"#7201a8\"],[0.3333333333333333,\"#9c179e\"],[0.4444444444444444,\"#bd3786\"],[0.5555555555555556,\"#d8576b\"],[0.6666666666666666,\"#ed7953\"],[0.7777777777777778,\"#fb9f3a\"],[0.8888888888888888,\"#fdca26\"],[1.0,\"#f0f921\"]],\"type\":\"heatmapgl\"}],\"heatmap\":[{\"colorbar\":{\"outlinewidth\":0,\"ticks\":\"\"},\"colorscale\":[[0.0,\"#0d0887\"],[0.1111111111111111,\"#46039f\"],[0.2222222222222222,\"#7201a8\"],[0.3333333333333333,\"#9c179e\"],[0.4444444444444444,\"#bd3786\"],[0.5555555555555556,\"#d8576b\"],[0.6666666666666666,\"#ed7953\"],[0.7777777777777778,\"#fb9f3a\"],[0.8888888888888888,\"#fdca26\"],[1.0,\"#f0f921\"]],\"type\":\"heatmap\"}],\"histogram2dcontour\":[{\"colorbar\":{\"outlinewidth\":0,\"ticks\":\"\"},\"colorscale\":[[0.0,\"#0d0887\"],[0.1111111111111111,\"#46039f\"],[0.2222222222222222,\"#7201a8\"],[0.3333333333333333,\"#9c179e\"],[0.4444444444444444,\"#bd3786\"],[0.5555555555555556,\"#d8576b\"],[0.6666666666666666,\"#ed7953\"],[0.7777777777777778,\"#fb9f3a\"],[0.8888888888888888,\"#fdca26\"],[1.0,\"#f0f921\"]],\"type\":\"histogram2dcontour\"}],\"histogram2d\":[{\"colorbar\":{\"outlinewidth\":0,\"ticks\":\"\"},\"colorscale\":[[0.0,\"#0d0887\"],[0.1111111111111111,\"#46039f\"],[0.2222222222222222,\"#7201a8\"],[0.3333333333333333,\"#9c179e\"],[0.4444444444444444,\"#bd3786\"],[0.5555555555555556,\"#d8576b\"],[0.6666666666666666,\"#ed7953\"],[0.7777777777777778,\"#fb9f3a\"],[0.8888888888888888,\"#fdca26\"],[1.0,\"#f0f921\"]],\"type\":\"histogram2d\"}],\"histogram\":[{\"marker\":{\"pattern\":{\"fillmode\":\"overlay\",\"size\":10,\"solidity\":0.2}},\"type\":\"histogram\"}],\"mesh3d\":[{\"colorbar\":{\"outlinewidth\":0,\"ticks\":\"\"},\"type\":\"mesh3d\"}],\"parcoords\":[{\"line\":{\"colorbar\":{\"outlinewidth\":0,\"ticks\":\"\"}},\"type\":\"parcoords\"}],\"pie\":[{\"automargin\":true,\"type\":\"pie\"}],\"scatter3d\":[{\"line\":{\"colorbar\":{\"outlinewidth\":0,\"ticks\":\"\"}},\"marker\":{\"colorbar\":{\"outlinewidth\":0,\"ticks\":\"\"}},\"type\":\"scatter3d\"}],\"scattercarpet\":[{\"marker\":{\"colorbar\":{\"outlinewidth\":0,\"ticks\":\"\"}},\"type\":\"scattercarpet\"}],\"scattergeo\":[{\"marker\":{\"colorbar\":{\"outlinewidth\":0,\"ticks\":\"\"}},\"type\":\"scattergeo\"}],\"scattergl\":[{\"marker\":{\"colorbar\":{\"outlinewidth\":0,\"ticks\":\"\"}},\"type\":\"scattergl\"}],\"scattermapbox\":[{\"marker\":{\"colorbar\":{\"outlinewidth\":0,\"ticks\":\"\"}},\"type\":\"scattermapbox\"}],\"scatterpolargl\":[{\"marker\":{\"colorbar\":{\"outlinewidth\":0,\"ticks\":\"\"}},\"type\":\"scatterpolargl\"}],\"scatterpolar\":[{\"marker\":{\"colorbar\":{\"outlinewidth\":0,\"ticks\":\"\"}},\"type\":\"scatterpolar\"}],\"scatter\":[{\"fillpattern\":{\"fillmode\":\"overlay\",\"size\":10,\"solidity\":0.2},\"type\":\"scatter\"}],\"scatterternary\":[{\"marker\":{\"colorbar\":{\"outlinewidth\":0,\"ticks\":\"\"}},\"type\":\"scatterternary\"}],\"surface\":[{\"colorbar\":{\"outlinewidth\":0,\"ticks\":\"\"},\"colorscale\":[[0.0,\"#0d0887\"],[0.1111111111111111,\"#46039f\"],[0.2222222222222222,\"#7201a8\"],[0.3333333333333333,\"#9c179e\"],[0.4444444444444444,\"#bd3786\"],[0.5555555555555556,\"#d8576b\"],[0.6666666666666666,\"#ed7953\"],[0.7777777777777778,\"#fb9f3a\"],[0.8888888888888888,\"#fdca26\"],[1.0,\"#f0f921\"]],\"type\":\"surface\"}],\"table\":[{\"cells\":{\"fill\":{\"color\":\"#EBF0F8\"},\"line\":{\"color\":\"white\"}},\"header\":{\"fill\":{\"color\":\"#C8D4E3\"},\"line\":{\"color\":\"white\"}},\"type\":\"table\"}]},\"layout\":{\"annotationdefaults\":{\"arrowcolor\":\"#2a3f5f\",\"arrowhead\":0,\"arrowwidth\":1},\"autotypenumbers\":\"strict\",\"coloraxis\":{\"colorbar\":{\"outlinewidth\":0,\"ticks\":\"\"}},\"colorscale\":{\"diverging\":[[0,\"#8e0152\"],[0.1,\"#c51b7d\"],[0.2,\"#de77ae\"],[0.3,\"#f1b6da\"],[0.4,\"#fde0ef\"],[0.5,\"#f7f7f7\"],[0.6,\"#e6f5d0\"],[0.7,\"#b8e186\"],[0.8,\"#7fbc41\"],[0.9,\"#4d9221\"],[1,\"#276419\"]],\"sequential\":[[0.0,\"#0d0887\"],[0.1111111111111111,\"#46039f\"],[0.2222222222222222,\"#7201a8\"],[0.3333333333333333,\"#9c179e\"],[0.4444444444444444,\"#bd3786\"],[0.5555555555555556,\"#d8576b\"],[0.6666666666666666,\"#ed7953\"],[0.7777777777777778,\"#fb9f3a\"],[0.8888888888888888,\"#fdca26\"],[1.0,\"#f0f921\"]],\"sequentialminus\":[[0.0,\"#0d0887\"],[0.1111111111111111,\"#46039f\"],[0.2222222222222222,\"#7201a8\"],[0.3333333333333333,\"#9c179e\"],[0.4444444444444444,\"#bd3786\"],[0.5555555555555556,\"#d8576b\"],[0.6666666666666666,\"#ed7953\"],[0.7777777777777778,\"#fb9f3a\"],[0.8888888888888888,\"#fdca26\"],[1.0,\"#f0f921\"]]},\"colorway\":[\"#636efa\",\"#EF553B\",\"#00cc96\",\"#ab63fa\",\"#FFA15A\",\"#19d3f3\",\"#FF6692\",\"#B6E880\",\"#FF97FF\",\"#FECB52\"],\"font\":{\"color\":\"#2a3f5f\"},\"geo\":{\"bgcolor\":\"white\",\"lakecolor\":\"white\",\"landcolor\":\"#E5ECF6\",\"showlakes\":true,\"showland\":true,\"subunitcolor\":\"white\"},\"hoverlabel\":{\"align\":\"left\"},\"hovermode\":\"closest\",\"mapbox\":{\"style\":\"light\"},\"paper_bgcolor\":\"white\",\"plot_bgcolor\":\"#E5ECF6\",\"polar\":{\"angularaxis\":{\"gridcolor\":\"white\",\"linecolor\":\"white\",\"ticks\":\"\"},\"bgcolor\":\"#E5ECF6\",\"radialaxis\":{\"gridcolor\":\"white\",\"linecolor\":\"white\",\"ticks\":\"\"}},\"scene\":{\"xaxis\":{\"backgroundcolor\":\"#E5ECF6\",\"gridcolor\":\"white\",\"gridwidth\":2,\"linecolor\":\"white\",\"showbackground\":true,\"ticks\":\"\",\"zerolinecolor\":\"white\"},\"yaxis\":{\"backgroundcolor\":\"#E5ECF6\",\"gridcolor\":\"white\",\"gridwidth\":2,\"linecolor\":\"white\",\"showbackground\":true,\"ticks\":\"\",\"zerolinecolor\":\"white\"},\"zaxis\":{\"backgroundcolor\":\"#E5ECF6\",\"gridcolor\":\"white\",\"gridwidth\":2,\"linecolor\":\"white\",\"showbackground\":true,\"ticks\":\"\",\"zerolinecolor\":\"white\"}},\"shapedefaults\":{\"line\":{\"color\":\"#2a3f5f\"}},\"ternary\":{\"aaxis\":{\"gridcolor\":\"white\",\"linecolor\":\"white\",\"ticks\":\"\"},\"baxis\":{\"gridcolor\":\"white\",\"linecolor\":\"white\",\"ticks\":\"\"},\"bgcolor\":\"#E5ECF6\",\"caxis\":{\"gridcolor\":\"white\",\"linecolor\":\"white\",\"ticks\":\"\"}},\"title\":{\"x\":0.05},\"xaxis\":{\"automargin\":true,\"gridcolor\":\"white\",\"linecolor\":\"white\",\"ticks\":\"\",\"title\":{\"standoff\":15},\"zerolinecolor\":\"white\",\"zerolinewidth\":2},\"yaxis\":{\"automargin\":true,\"gridcolor\":\"white\",\"linecolor\":\"white\",\"ticks\":\"\",\"title\":{\"standoff\":15},\"zerolinecolor\":\"white\",\"zerolinewidth\":2}}},\"title\":{\"font\":{\"color\":\"#4D5663\"}},\"xaxis\":{\"gridcolor\":\"#E1E5ED\",\"showgrid\":true,\"tickfont\":{\"color\":\"#4D5663\"},\"title\":{\"font\":{\"color\":\"#4D5663\"},\"text\":\"\"},\"zerolinecolor\":\"#E1E5ED\"},\"yaxis\":{\"gridcolor\":\"#E1E5ED\",\"showgrid\":true,\"tickfont\":{\"color\":\"#4D5663\"},\"title\":{\"font\":{\"color\":\"#4D5663\"},\"text\":\"\"},\"zerolinecolor\":\"#E1E5ED\"}},                        {\"showLink\": true, \"linkText\": \"Export to plot.ly\", \"plotlyServerURL\": \"https://plot.ly\", \"responsive\": true}                    ).then(function(){\n",
       "                            \n",
       "var gd = document.getElementById('ab7167a9-afe6-4dfe-bff7-d69abf25c764');\n",
       "var x = new MutationObserver(function (mutations, observer) {{\n",
       "        var display = window.getComputedStyle(gd).display;\n",
       "        if (!display || display === 'none') {{\n",
       "            console.log([gd, 'removed!']);\n",
       "            Plotly.purge(gd);\n",
       "            observer.disconnect();\n",
       "        }}\n",
       "}});\n",
       "\n",
       "// Listen for the removal of the full notebook cells\n",
       "var notebookContainer = gd.closest('#notebook-container');\n",
       "if (notebookContainer) {{\n",
       "    x.observe(notebookContainer, {childList: true});\n",
       "}}\n",
       "\n",
       "// Listen for the clearing of the current output cell\n",
       "var outputEl = gd.closest('.output');\n",
       "if (outputEl) {{\n",
       "    x.observe(outputEl, {childList: true});\n",
       "}}\n",
       "\n",
       "                        })                };                });            </script>        </div>"
      ]
     },
     "metadata": {},
     "output_type": "display_data"
    }
   ],
   "source": [
    "df.iplot(kind='scatter',x='A',y='B',mode='markers')"
   ]
  },
  {
   "cell_type": "code",
   "execution_count": 20,
   "metadata": {},
   "outputs": [
    {
     "data": {
      "application/vnd.plotly.v1+json": {
       "config": {
        "linkText": "Export to plot.ly",
        "plotlyServerURL": "https://plot.ly",
        "showLink": true
       },
       "data": [
        {
         "marker": {
          "color": "rgba(255, 153, 51, 0.6)",
          "line": {
           "color": "rgba(255, 153, 51, 1.0)",
           "width": 1
          }
         },
         "name": "Values",
         "orientation": "v",
         "text": "",
         "type": "bar",
         "x": [
          "A",
          "B",
          "C"
         ],
         "y": [
          32,
          43,
          50
         ]
        }
       ],
       "layout": {
        "legend": {
         "bgcolor": "#F5F6F9",
         "font": {
          "color": "#4D5663"
         }
        },
        "paper_bgcolor": "#F5F6F9",
        "plot_bgcolor": "#F5F6F9",
        "template": {
         "data": {
          "bar": [
           {
            "error_x": {
             "color": "#2a3f5f"
            },
            "error_y": {
             "color": "#2a3f5f"
            },
            "marker": {
             "line": {
              "color": "#E5ECF6",
              "width": 0.5
             },
             "pattern": {
              "fillmode": "overlay",
              "size": 10,
              "solidity": 0.2
             }
            },
            "type": "bar"
           }
          ],
          "barpolar": [
           {
            "marker": {
             "line": {
              "color": "#E5ECF6",
              "width": 0.5
             },
             "pattern": {
              "fillmode": "overlay",
              "size": 10,
              "solidity": 0.2
             }
            },
            "type": "barpolar"
           }
          ],
          "carpet": [
           {
            "aaxis": {
             "endlinecolor": "#2a3f5f",
             "gridcolor": "white",
             "linecolor": "white",
             "minorgridcolor": "white",
             "startlinecolor": "#2a3f5f"
            },
            "baxis": {
             "endlinecolor": "#2a3f5f",
             "gridcolor": "white",
             "linecolor": "white",
             "minorgridcolor": "white",
             "startlinecolor": "#2a3f5f"
            },
            "type": "carpet"
           }
          ],
          "choropleth": [
           {
            "colorbar": {
             "outlinewidth": 0,
             "ticks": ""
            },
            "type": "choropleth"
           }
          ],
          "contour": [
           {
            "colorbar": {
             "outlinewidth": 0,
             "ticks": ""
            },
            "colorscale": [
             [
              0,
              "#0d0887"
             ],
             [
              0.1111111111111111,
              "#46039f"
             ],
             [
              0.2222222222222222,
              "#7201a8"
             ],
             [
              0.3333333333333333,
              "#9c179e"
             ],
             [
              0.4444444444444444,
              "#bd3786"
             ],
             [
              0.5555555555555556,
              "#d8576b"
             ],
             [
              0.6666666666666666,
              "#ed7953"
             ],
             [
              0.7777777777777778,
              "#fb9f3a"
             ],
             [
              0.8888888888888888,
              "#fdca26"
             ],
             [
              1,
              "#f0f921"
             ]
            ],
            "type": "contour"
           }
          ],
          "contourcarpet": [
           {
            "colorbar": {
             "outlinewidth": 0,
             "ticks": ""
            },
            "type": "contourcarpet"
           }
          ],
          "heatmap": [
           {
            "colorbar": {
             "outlinewidth": 0,
             "ticks": ""
            },
            "colorscale": [
             [
              0,
              "#0d0887"
             ],
             [
              0.1111111111111111,
              "#46039f"
             ],
             [
              0.2222222222222222,
              "#7201a8"
             ],
             [
              0.3333333333333333,
              "#9c179e"
             ],
             [
              0.4444444444444444,
              "#bd3786"
             ],
             [
              0.5555555555555556,
              "#d8576b"
             ],
             [
              0.6666666666666666,
              "#ed7953"
             ],
             [
              0.7777777777777778,
              "#fb9f3a"
             ],
             [
              0.8888888888888888,
              "#fdca26"
             ],
             [
              1,
              "#f0f921"
             ]
            ],
            "type": "heatmap"
           }
          ],
          "heatmapgl": [
           {
            "colorbar": {
             "outlinewidth": 0,
             "ticks": ""
            },
            "colorscale": [
             [
              0,
              "#0d0887"
             ],
             [
              0.1111111111111111,
              "#46039f"
             ],
             [
              0.2222222222222222,
              "#7201a8"
             ],
             [
              0.3333333333333333,
              "#9c179e"
             ],
             [
              0.4444444444444444,
              "#bd3786"
             ],
             [
              0.5555555555555556,
              "#d8576b"
             ],
             [
              0.6666666666666666,
              "#ed7953"
             ],
             [
              0.7777777777777778,
              "#fb9f3a"
             ],
             [
              0.8888888888888888,
              "#fdca26"
             ],
             [
              1,
              "#f0f921"
             ]
            ],
            "type": "heatmapgl"
           }
          ],
          "histogram": [
           {
            "marker": {
             "pattern": {
              "fillmode": "overlay",
              "size": 10,
              "solidity": 0.2
             }
            },
            "type": "histogram"
           }
          ],
          "histogram2d": [
           {
            "colorbar": {
             "outlinewidth": 0,
             "ticks": ""
            },
            "colorscale": [
             [
              0,
              "#0d0887"
             ],
             [
              0.1111111111111111,
              "#46039f"
             ],
             [
              0.2222222222222222,
              "#7201a8"
             ],
             [
              0.3333333333333333,
              "#9c179e"
             ],
             [
              0.4444444444444444,
              "#bd3786"
             ],
             [
              0.5555555555555556,
              "#d8576b"
             ],
             [
              0.6666666666666666,
              "#ed7953"
             ],
             [
              0.7777777777777778,
              "#fb9f3a"
             ],
             [
              0.8888888888888888,
              "#fdca26"
             ],
             [
              1,
              "#f0f921"
             ]
            ],
            "type": "histogram2d"
           }
          ],
          "histogram2dcontour": [
           {
            "colorbar": {
             "outlinewidth": 0,
             "ticks": ""
            },
            "colorscale": [
             [
              0,
              "#0d0887"
             ],
             [
              0.1111111111111111,
              "#46039f"
             ],
             [
              0.2222222222222222,
              "#7201a8"
             ],
             [
              0.3333333333333333,
              "#9c179e"
             ],
             [
              0.4444444444444444,
              "#bd3786"
             ],
             [
              0.5555555555555556,
              "#d8576b"
             ],
             [
              0.6666666666666666,
              "#ed7953"
             ],
             [
              0.7777777777777778,
              "#fb9f3a"
             ],
             [
              0.8888888888888888,
              "#fdca26"
             ],
             [
              1,
              "#f0f921"
             ]
            ],
            "type": "histogram2dcontour"
           }
          ],
          "mesh3d": [
           {
            "colorbar": {
             "outlinewidth": 0,
             "ticks": ""
            },
            "type": "mesh3d"
           }
          ],
          "parcoords": [
           {
            "line": {
             "colorbar": {
              "outlinewidth": 0,
              "ticks": ""
             }
            },
            "type": "parcoords"
           }
          ],
          "pie": [
           {
            "automargin": true,
            "type": "pie"
           }
          ],
          "scatter": [
           {
            "fillpattern": {
             "fillmode": "overlay",
             "size": 10,
             "solidity": 0.2
            },
            "type": "scatter"
           }
          ],
          "scatter3d": [
           {
            "line": {
             "colorbar": {
              "outlinewidth": 0,
              "ticks": ""
             }
            },
            "marker": {
             "colorbar": {
              "outlinewidth": 0,
              "ticks": ""
             }
            },
            "type": "scatter3d"
           }
          ],
          "scattercarpet": [
           {
            "marker": {
             "colorbar": {
              "outlinewidth": 0,
              "ticks": ""
             }
            },
            "type": "scattercarpet"
           }
          ],
          "scattergeo": [
           {
            "marker": {
             "colorbar": {
              "outlinewidth": 0,
              "ticks": ""
             }
            },
            "type": "scattergeo"
           }
          ],
          "scattergl": [
           {
            "marker": {
             "colorbar": {
              "outlinewidth": 0,
              "ticks": ""
             }
            },
            "type": "scattergl"
           }
          ],
          "scattermapbox": [
           {
            "marker": {
             "colorbar": {
              "outlinewidth": 0,
              "ticks": ""
             }
            },
            "type": "scattermapbox"
           }
          ],
          "scatterpolar": [
           {
            "marker": {
             "colorbar": {
              "outlinewidth": 0,
              "ticks": ""
             }
            },
            "type": "scatterpolar"
           }
          ],
          "scatterpolargl": [
           {
            "marker": {
             "colorbar": {
              "outlinewidth": 0,
              "ticks": ""
             }
            },
            "type": "scatterpolargl"
           }
          ],
          "scatterternary": [
           {
            "marker": {
             "colorbar": {
              "outlinewidth": 0,
              "ticks": ""
             }
            },
            "type": "scatterternary"
           }
          ],
          "surface": [
           {
            "colorbar": {
             "outlinewidth": 0,
             "ticks": ""
            },
            "colorscale": [
             [
              0,
              "#0d0887"
             ],
             [
              0.1111111111111111,
              "#46039f"
             ],
             [
              0.2222222222222222,
              "#7201a8"
             ],
             [
              0.3333333333333333,
              "#9c179e"
             ],
             [
              0.4444444444444444,
              "#bd3786"
             ],
             [
              0.5555555555555556,
              "#d8576b"
             ],
             [
              0.6666666666666666,
              "#ed7953"
             ],
             [
              0.7777777777777778,
              "#fb9f3a"
             ],
             [
              0.8888888888888888,
              "#fdca26"
             ],
             [
              1,
              "#f0f921"
             ]
            ],
            "type": "surface"
           }
          ],
          "table": [
           {
            "cells": {
             "fill": {
              "color": "#EBF0F8"
             },
             "line": {
              "color": "white"
             }
            },
            "header": {
             "fill": {
              "color": "#C8D4E3"
             },
             "line": {
              "color": "white"
             }
            },
            "type": "table"
           }
          ]
         },
         "layout": {
          "annotationdefaults": {
           "arrowcolor": "#2a3f5f",
           "arrowhead": 0,
           "arrowwidth": 1
          },
          "autotypenumbers": "strict",
          "coloraxis": {
           "colorbar": {
            "outlinewidth": 0,
            "ticks": ""
           }
          },
          "colorscale": {
           "diverging": [
            [
             0,
             "#8e0152"
            ],
            [
             0.1,
             "#c51b7d"
            ],
            [
             0.2,
             "#de77ae"
            ],
            [
             0.3,
             "#f1b6da"
            ],
            [
             0.4,
             "#fde0ef"
            ],
            [
             0.5,
             "#f7f7f7"
            ],
            [
             0.6,
             "#e6f5d0"
            ],
            [
             0.7,
             "#b8e186"
            ],
            [
             0.8,
             "#7fbc41"
            ],
            [
             0.9,
             "#4d9221"
            ],
            [
             1,
             "#276419"
            ]
           ],
           "sequential": [
            [
             0,
             "#0d0887"
            ],
            [
             0.1111111111111111,
             "#46039f"
            ],
            [
             0.2222222222222222,
             "#7201a8"
            ],
            [
             0.3333333333333333,
             "#9c179e"
            ],
            [
             0.4444444444444444,
             "#bd3786"
            ],
            [
             0.5555555555555556,
             "#d8576b"
            ],
            [
             0.6666666666666666,
             "#ed7953"
            ],
            [
             0.7777777777777778,
             "#fb9f3a"
            ],
            [
             0.8888888888888888,
             "#fdca26"
            ],
            [
             1,
             "#f0f921"
            ]
           ],
           "sequentialminus": [
            [
             0,
             "#0d0887"
            ],
            [
             0.1111111111111111,
             "#46039f"
            ],
            [
             0.2222222222222222,
             "#7201a8"
            ],
            [
             0.3333333333333333,
             "#9c179e"
            ],
            [
             0.4444444444444444,
             "#bd3786"
            ],
            [
             0.5555555555555556,
             "#d8576b"
            ],
            [
             0.6666666666666666,
             "#ed7953"
            ],
            [
             0.7777777777777778,
             "#fb9f3a"
            ],
            [
             0.8888888888888888,
             "#fdca26"
            ],
            [
             1,
             "#f0f921"
            ]
           ]
          },
          "colorway": [
           "#636efa",
           "#EF553B",
           "#00cc96",
           "#ab63fa",
           "#FFA15A",
           "#19d3f3",
           "#FF6692",
           "#B6E880",
           "#FF97FF",
           "#FECB52"
          ],
          "font": {
           "color": "#2a3f5f"
          },
          "geo": {
           "bgcolor": "white",
           "lakecolor": "white",
           "landcolor": "#E5ECF6",
           "showlakes": true,
           "showland": true,
           "subunitcolor": "white"
          },
          "hoverlabel": {
           "align": "left"
          },
          "hovermode": "closest",
          "mapbox": {
           "style": "light"
          },
          "paper_bgcolor": "white",
          "plot_bgcolor": "#E5ECF6",
          "polar": {
           "angularaxis": {
            "gridcolor": "white",
            "linecolor": "white",
            "ticks": ""
           },
           "bgcolor": "#E5ECF6",
           "radialaxis": {
            "gridcolor": "white",
            "linecolor": "white",
            "ticks": ""
           }
          },
          "scene": {
           "xaxis": {
            "backgroundcolor": "#E5ECF6",
            "gridcolor": "white",
            "gridwidth": 2,
            "linecolor": "white",
            "showbackground": true,
            "ticks": "",
            "zerolinecolor": "white"
           },
           "yaxis": {
            "backgroundcolor": "#E5ECF6",
            "gridcolor": "white",
            "gridwidth": 2,
            "linecolor": "white",
            "showbackground": true,
            "ticks": "",
            "zerolinecolor": "white"
           },
           "zaxis": {
            "backgroundcolor": "#E5ECF6",
            "gridcolor": "white",
            "gridwidth": 2,
            "linecolor": "white",
            "showbackground": true,
            "ticks": "",
            "zerolinecolor": "white"
           }
          },
          "shapedefaults": {
           "line": {
            "color": "#2a3f5f"
           }
          },
          "ternary": {
           "aaxis": {
            "gridcolor": "white",
            "linecolor": "white",
            "ticks": ""
           },
           "baxis": {
            "gridcolor": "white",
            "linecolor": "white",
            "ticks": ""
           },
           "bgcolor": "#E5ECF6",
           "caxis": {
            "gridcolor": "white",
            "linecolor": "white",
            "ticks": ""
           }
          },
          "title": {
           "x": 0.05
          },
          "xaxis": {
           "automargin": true,
           "gridcolor": "white",
           "linecolor": "white",
           "ticks": "",
           "title": {
            "standoff": 15
           },
           "zerolinecolor": "white",
           "zerolinewidth": 2
          },
          "yaxis": {
           "automargin": true,
           "gridcolor": "white",
           "linecolor": "white",
           "ticks": "",
           "title": {
            "standoff": 15
           },
           "zerolinecolor": "white",
           "zerolinewidth": 2
          }
         }
        },
        "title": {
         "font": {
          "color": "#4D5663"
         }
        },
        "xaxis": {
         "gridcolor": "#E1E5ED",
         "showgrid": true,
         "tickfont": {
          "color": "#4D5663"
         },
         "title": {
          "font": {
           "color": "#4D5663"
          },
          "text": ""
         },
         "zerolinecolor": "#E1E5ED"
        },
        "yaxis": {
         "gridcolor": "#E1E5ED",
         "showgrid": true,
         "tickfont": {
          "color": "#4D5663"
         },
         "title": {
          "font": {
           "color": "#4D5663"
          },
          "text": ""
         },
         "zerolinecolor": "#E1E5ED"
        }
       }
      },
      "text/html": [
       "<div>                            <div id=\"7a2b991d-9a5f-4227-beda-3de608604dd3\" class=\"plotly-graph-div\" style=\"height:525px; width:100%;\"></div>            <script type=\"text/javascript\">                require([\"plotly\"], function(Plotly) {                    window.PLOTLYENV=window.PLOTLYENV || {};\n",
       "                    window.PLOTLYENV.BASE_URL='https://plot.ly';                                    if (document.getElementById(\"7a2b991d-9a5f-4227-beda-3de608604dd3\")) {                    Plotly.newPlot(                        \"7a2b991d-9a5f-4227-beda-3de608604dd3\",                        [{\"marker\":{\"color\":\"rgba(255, 153, 51, 0.6)\",\"line\":{\"color\":\"rgba(255, 153, 51, 1.0)\",\"width\":1}},\"name\":\"Values\",\"orientation\":\"v\",\"text\":\"\",\"x\":[\"A\",\"B\",\"C\"],\"y\":[32,43,50],\"type\":\"bar\"}],                        {\"legend\":{\"bgcolor\":\"#F5F6F9\",\"font\":{\"color\":\"#4D5663\"}},\"paper_bgcolor\":\"#F5F6F9\",\"plot_bgcolor\":\"#F5F6F9\",\"template\":{\"data\":{\"barpolar\":[{\"marker\":{\"line\":{\"color\":\"#E5ECF6\",\"width\":0.5},\"pattern\":{\"fillmode\":\"overlay\",\"size\":10,\"solidity\":0.2}},\"type\":\"barpolar\"}],\"bar\":[{\"error_x\":{\"color\":\"#2a3f5f\"},\"error_y\":{\"color\":\"#2a3f5f\"},\"marker\":{\"line\":{\"color\":\"#E5ECF6\",\"width\":0.5},\"pattern\":{\"fillmode\":\"overlay\",\"size\":10,\"solidity\":0.2}},\"type\":\"bar\"}],\"carpet\":[{\"aaxis\":{\"endlinecolor\":\"#2a3f5f\",\"gridcolor\":\"white\",\"linecolor\":\"white\",\"minorgridcolor\":\"white\",\"startlinecolor\":\"#2a3f5f\"},\"baxis\":{\"endlinecolor\":\"#2a3f5f\",\"gridcolor\":\"white\",\"linecolor\":\"white\",\"minorgridcolor\":\"white\",\"startlinecolor\":\"#2a3f5f\"},\"type\":\"carpet\"}],\"choropleth\":[{\"colorbar\":{\"outlinewidth\":0,\"ticks\":\"\"},\"type\":\"choropleth\"}],\"contourcarpet\":[{\"colorbar\":{\"outlinewidth\":0,\"ticks\":\"\"},\"type\":\"contourcarpet\"}],\"contour\":[{\"colorbar\":{\"outlinewidth\":0,\"ticks\":\"\"},\"colorscale\":[[0.0,\"#0d0887\"],[0.1111111111111111,\"#46039f\"],[0.2222222222222222,\"#7201a8\"],[0.3333333333333333,\"#9c179e\"],[0.4444444444444444,\"#bd3786\"],[0.5555555555555556,\"#d8576b\"],[0.6666666666666666,\"#ed7953\"],[0.7777777777777778,\"#fb9f3a\"],[0.8888888888888888,\"#fdca26\"],[1.0,\"#f0f921\"]],\"type\":\"contour\"}],\"heatmapgl\":[{\"colorbar\":{\"outlinewidth\":0,\"ticks\":\"\"},\"colorscale\":[[0.0,\"#0d0887\"],[0.1111111111111111,\"#46039f\"],[0.2222222222222222,\"#7201a8\"],[0.3333333333333333,\"#9c179e\"],[0.4444444444444444,\"#bd3786\"],[0.5555555555555556,\"#d8576b\"],[0.6666666666666666,\"#ed7953\"],[0.7777777777777778,\"#fb9f3a\"],[0.8888888888888888,\"#fdca26\"],[1.0,\"#f0f921\"]],\"type\":\"heatmapgl\"}],\"heatmap\":[{\"colorbar\":{\"outlinewidth\":0,\"ticks\":\"\"},\"colorscale\":[[0.0,\"#0d0887\"],[0.1111111111111111,\"#46039f\"],[0.2222222222222222,\"#7201a8\"],[0.3333333333333333,\"#9c179e\"],[0.4444444444444444,\"#bd3786\"],[0.5555555555555556,\"#d8576b\"],[0.6666666666666666,\"#ed7953\"],[0.7777777777777778,\"#fb9f3a\"],[0.8888888888888888,\"#fdca26\"],[1.0,\"#f0f921\"]],\"type\":\"heatmap\"}],\"histogram2dcontour\":[{\"colorbar\":{\"outlinewidth\":0,\"ticks\":\"\"},\"colorscale\":[[0.0,\"#0d0887\"],[0.1111111111111111,\"#46039f\"],[0.2222222222222222,\"#7201a8\"],[0.3333333333333333,\"#9c179e\"],[0.4444444444444444,\"#bd3786\"],[0.5555555555555556,\"#d8576b\"],[0.6666666666666666,\"#ed7953\"],[0.7777777777777778,\"#fb9f3a\"],[0.8888888888888888,\"#fdca26\"],[1.0,\"#f0f921\"]],\"type\":\"histogram2dcontour\"}],\"histogram2d\":[{\"colorbar\":{\"outlinewidth\":0,\"ticks\":\"\"},\"colorscale\":[[0.0,\"#0d0887\"],[0.1111111111111111,\"#46039f\"],[0.2222222222222222,\"#7201a8\"],[0.3333333333333333,\"#9c179e\"],[0.4444444444444444,\"#bd3786\"],[0.5555555555555556,\"#d8576b\"],[0.6666666666666666,\"#ed7953\"],[0.7777777777777778,\"#fb9f3a\"],[0.8888888888888888,\"#fdca26\"],[1.0,\"#f0f921\"]],\"type\":\"histogram2d\"}],\"histogram\":[{\"marker\":{\"pattern\":{\"fillmode\":\"overlay\",\"size\":10,\"solidity\":0.2}},\"type\":\"histogram\"}],\"mesh3d\":[{\"colorbar\":{\"outlinewidth\":0,\"ticks\":\"\"},\"type\":\"mesh3d\"}],\"parcoords\":[{\"line\":{\"colorbar\":{\"outlinewidth\":0,\"ticks\":\"\"}},\"type\":\"parcoords\"}],\"pie\":[{\"automargin\":true,\"type\":\"pie\"}],\"scatter3d\":[{\"line\":{\"colorbar\":{\"outlinewidth\":0,\"ticks\":\"\"}},\"marker\":{\"colorbar\":{\"outlinewidth\":0,\"ticks\":\"\"}},\"type\":\"scatter3d\"}],\"scattercarpet\":[{\"marker\":{\"colorbar\":{\"outlinewidth\":0,\"ticks\":\"\"}},\"type\":\"scattercarpet\"}],\"scattergeo\":[{\"marker\":{\"colorbar\":{\"outlinewidth\":0,\"ticks\":\"\"}},\"type\":\"scattergeo\"}],\"scattergl\":[{\"marker\":{\"colorbar\":{\"outlinewidth\":0,\"ticks\":\"\"}},\"type\":\"scattergl\"}],\"scattermapbox\":[{\"marker\":{\"colorbar\":{\"outlinewidth\":0,\"ticks\":\"\"}},\"type\":\"scattermapbox\"}],\"scatterpolargl\":[{\"marker\":{\"colorbar\":{\"outlinewidth\":0,\"ticks\":\"\"}},\"type\":\"scatterpolargl\"}],\"scatterpolar\":[{\"marker\":{\"colorbar\":{\"outlinewidth\":0,\"ticks\":\"\"}},\"type\":\"scatterpolar\"}],\"scatter\":[{\"fillpattern\":{\"fillmode\":\"overlay\",\"size\":10,\"solidity\":0.2},\"type\":\"scatter\"}],\"scatterternary\":[{\"marker\":{\"colorbar\":{\"outlinewidth\":0,\"ticks\":\"\"}},\"type\":\"scatterternary\"}],\"surface\":[{\"colorbar\":{\"outlinewidth\":0,\"ticks\":\"\"},\"colorscale\":[[0.0,\"#0d0887\"],[0.1111111111111111,\"#46039f\"],[0.2222222222222222,\"#7201a8\"],[0.3333333333333333,\"#9c179e\"],[0.4444444444444444,\"#bd3786\"],[0.5555555555555556,\"#d8576b\"],[0.6666666666666666,\"#ed7953\"],[0.7777777777777778,\"#fb9f3a\"],[0.8888888888888888,\"#fdca26\"],[1.0,\"#f0f921\"]],\"type\":\"surface\"}],\"table\":[{\"cells\":{\"fill\":{\"color\":\"#EBF0F8\"},\"line\":{\"color\":\"white\"}},\"header\":{\"fill\":{\"color\":\"#C8D4E3\"},\"line\":{\"color\":\"white\"}},\"type\":\"table\"}]},\"layout\":{\"annotationdefaults\":{\"arrowcolor\":\"#2a3f5f\",\"arrowhead\":0,\"arrowwidth\":1},\"autotypenumbers\":\"strict\",\"coloraxis\":{\"colorbar\":{\"outlinewidth\":0,\"ticks\":\"\"}},\"colorscale\":{\"diverging\":[[0,\"#8e0152\"],[0.1,\"#c51b7d\"],[0.2,\"#de77ae\"],[0.3,\"#f1b6da\"],[0.4,\"#fde0ef\"],[0.5,\"#f7f7f7\"],[0.6,\"#e6f5d0\"],[0.7,\"#b8e186\"],[0.8,\"#7fbc41\"],[0.9,\"#4d9221\"],[1,\"#276419\"]],\"sequential\":[[0.0,\"#0d0887\"],[0.1111111111111111,\"#46039f\"],[0.2222222222222222,\"#7201a8\"],[0.3333333333333333,\"#9c179e\"],[0.4444444444444444,\"#bd3786\"],[0.5555555555555556,\"#d8576b\"],[0.6666666666666666,\"#ed7953\"],[0.7777777777777778,\"#fb9f3a\"],[0.8888888888888888,\"#fdca26\"],[1.0,\"#f0f921\"]],\"sequentialminus\":[[0.0,\"#0d0887\"],[0.1111111111111111,\"#46039f\"],[0.2222222222222222,\"#7201a8\"],[0.3333333333333333,\"#9c179e\"],[0.4444444444444444,\"#bd3786\"],[0.5555555555555556,\"#d8576b\"],[0.6666666666666666,\"#ed7953\"],[0.7777777777777778,\"#fb9f3a\"],[0.8888888888888888,\"#fdca26\"],[1.0,\"#f0f921\"]]},\"colorway\":[\"#636efa\",\"#EF553B\",\"#00cc96\",\"#ab63fa\",\"#FFA15A\",\"#19d3f3\",\"#FF6692\",\"#B6E880\",\"#FF97FF\",\"#FECB52\"],\"font\":{\"color\":\"#2a3f5f\"},\"geo\":{\"bgcolor\":\"white\",\"lakecolor\":\"white\",\"landcolor\":\"#E5ECF6\",\"showlakes\":true,\"showland\":true,\"subunitcolor\":\"white\"},\"hoverlabel\":{\"align\":\"left\"},\"hovermode\":\"closest\",\"mapbox\":{\"style\":\"light\"},\"paper_bgcolor\":\"white\",\"plot_bgcolor\":\"#E5ECF6\",\"polar\":{\"angularaxis\":{\"gridcolor\":\"white\",\"linecolor\":\"white\",\"ticks\":\"\"},\"bgcolor\":\"#E5ECF6\",\"radialaxis\":{\"gridcolor\":\"white\",\"linecolor\":\"white\",\"ticks\":\"\"}},\"scene\":{\"xaxis\":{\"backgroundcolor\":\"#E5ECF6\",\"gridcolor\":\"white\",\"gridwidth\":2,\"linecolor\":\"white\",\"showbackground\":true,\"ticks\":\"\",\"zerolinecolor\":\"white\"},\"yaxis\":{\"backgroundcolor\":\"#E5ECF6\",\"gridcolor\":\"white\",\"gridwidth\":2,\"linecolor\":\"white\",\"showbackground\":true,\"ticks\":\"\",\"zerolinecolor\":\"white\"},\"zaxis\":{\"backgroundcolor\":\"#E5ECF6\",\"gridcolor\":\"white\",\"gridwidth\":2,\"linecolor\":\"white\",\"showbackground\":true,\"ticks\":\"\",\"zerolinecolor\":\"white\"}},\"shapedefaults\":{\"line\":{\"color\":\"#2a3f5f\"}},\"ternary\":{\"aaxis\":{\"gridcolor\":\"white\",\"linecolor\":\"white\",\"ticks\":\"\"},\"baxis\":{\"gridcolor\":\"white\",\"linecolor\":\"white\",\"ticks\":\"\"},\"bgcolor\":\"#E5ECF6\",\"caxis\":{\"gridcolor\":\"white\",\"linecolor\":\"white\",\"ticks\":\"\"}},\"title\":{\"x\":0.05},\"xaxis\":{\"automargin\":true,\"gridcolor\":\"white\",\"linecolor\":\"white\",\"ticks\":\"\",\"title\":{\"standoff\":15},\"zerolinecolor\":\"white\",\"zerolinewidth\":2},\"yaxis\":{\"automargin\":true,\"gridcolor\":\"white\",\"linecolor\":\"white\",\"ticks\":\"\",\"title\":{\"standoff\":15},\"zerolinecolor\":\"white\",\"zerolinewidth\":2}}},\"title\":{\"font\":{\"color\":\"#4D5663\"}},\"xaxis\":{\"gridcolor\":\"#E1E5ED\",\"showgrid\":true,\"tickfont\":{\"color\":\"#4D5663\"},\"title\":{\"font\":{\"color\":\"#4D5663\"},\"text\":\"\"},\"zerolinecolor\":\"#E1E5ED\"},\"yaxis\":{\"gridcolor\":\"#E1E5ED\",\"showgrid\":true,\"tickfont\":{\"color\":\"#4D5663\"},\"title\":{\"font\":{\"color\":\"#4D5663\"},\"text\":\"\"},\"zerolinecolor\":\"#E1E5ED\"}},                        {\"showLink\": true, \"linkText\": \"Export to plot.ly\", \"plotlyServerURL\": \"https://plot.ly\", \"responsive\": true}                    ).then(function(){\n",
       "                            \n",
       "var gd = document.getElementById('7a2b991d-9a5f-4227-beda-3de608604dd3');\n",
       "var x = new MutationObserver(function (mutations, observer) {{\n",
       "        var display = window.getComputedStyle(gd).display;\n",
       "        if (!display || display === 'none') {{\n",
       "            console.log([gd, 'removed!']);\n",
       "            Plotly.purge(gd);\n",
       "            observer.disconnect();\n",
       "        }}\n",
       "}});\n",
       "\n",
       "// Listen for the removal of the full notebook cells\n",
       "var notebookContainer = gd.closest('#notebook-container');\n",
       "if (notebookContainer) {{\n",
       "    x.observe(notebookContainer, {childList: true});\n",
       "}}\n",
       "\n",
       "// Listen for the clearing of the current output cell\n",
       "var outputEl = gd.closest('.output');\n",
       "if (outputEl) {{\n",
       "    x.observe(outputEl, {childList: true});\n",
       "}}\n",
       "\n",
       "                        })                };                });            </script>        </div>"
      ]
     },
     "metadata": {},
     "output_type": "display_data"
    }
   ],
   "source": [
    "df2.iplot(kind='bar',x='Category',y='Values')"
   ]
  },
  {
   "cell_type": "code",
   "execution_count": 21,
   "metadata": {},
   "outputs": [
    {
     "data": {
      "application/vnd.plotly.v1+json": {
       "config": {
        "linkText": "Export to plot.ly",
        "plotlyServerURL": "https://plot.ly",
        "showLink": true
       },
       "data": [
        {
         "marker": {
          "color": "rgba(255, 153, 51, 0.6)",
          "line": {
           "color": "rgba(255, 153, 51, 1.0)",
           "width": 1
          }
         },
         "name": "A",
         "orientation": "v",
         "text": "",
         "type": "bar",
         "x": [
          0,
          1,
          2,
          3,
          4,
          5,
          6,
          7,
          8,
          9,
          10,
          11,
          12,
          13,
          14,
          15,
          16,
          17,
          18,
          19,
          20,
          21,
          22,
          23,
          24,
          25,
          26,
          27,
          28,
          29,
          30,
          31,
          32,
          33,
          34,
          35,
          36,
          37,
          38,
          39,
          40,
          41,
          42,
          43,
          44,
          45,
          46,
          47,
          48,
          49,
          50,
          51,
          52,
          53,
          54,
          55,
          56,
          57,
          58,
          59,
          60,
          61,
          62,
          63,
          64,
          65,
          66,
          67,
          68,
          69,
          70,
          71,
          72,
          73,
          74,
          75,
          76,
          77,
          78,
          79,
          80,
          81,
          82,
          83,
          84,
          85,
          86,
          87,
          88,
          89,
          90,
          91,
          92,
          93,
          94,
          95,
          96,
          97,
          98,
          99
         ],
         "y": [
          -1.7551052678663162,
          0.3844705852588308,
          -2.036235857734799,
          -0.4777192690016541,
          1.4543579926789922,
          -0.09237757661484672,
          0.6119764070206649,
          1.2237887733721426,
          -1.7337095285419843,
          -0.09984401561568264,
          -0.4649631618162517,
          0.9998649026069217,
          -0.6943268284110494,
          -0.72841097667062,
          -0.4417144240902041,
          -0.004464788666717921,
          0.07531256094745666,
          0.819040457639244,
          -0.4567053715819427,
          -0.5963208419744218,
          0.20953116501771618,
          -0.6853725302321193,
          -0.4001354564558299,
          0.6480780792891775,
          0.21240416189485206,
          0.14312795229648412,
          1.4393143026131452,
          0.7837815407286436,
          0.7467555023995134,
          0.29599035733768936,
          -0.7218712504422361,
          -1.25193389495634,
          0.03611354174396783,
          -0.03200300201512434,
          -1.1826084205945602,
          -1.4446328395682333,
          -0.04401236980398926,
          1.148871152117295,
          -0.14011474199688925,
          0.06115179255331545,
          0.868403061018585,
          0.5428333970190617,
          2.023958447325256,
          1.298799841292337,
          0.3078105580800464,
          0.6071874163245976,
          0.8972500697072223,
          -0.9315584354567149,
          0.17846500752828248,
          0.4284783757579867,
          -1.2333721181585848,
          -0.5601363807245684,
          0.09472304319338498,
          1.778688134912088,
          -1.8021319258488775,
          -0.7791449714553991,
          -0.5839473586620774,
          -0.7253804597334422,
          -0.9232769368882936,
          -0.6139384413256993,
          -0.06283253701103511,
          -0.9172264457972898,
          1.274365195722724,
          -0.23411960543441399,
          -0.8057448573292509,
          0.7054532319615852,
          -1.1036282271372015,
          0.6513618183801033,
          1.6919479921315315,
          2.0298722949294987,
          -0.7413914397119926,
          1.6472076306959016,
          0.6975377328009644,
          -2.5744066196418682,
          -1.1618031599466374,
          1.191995297707877,
          0.3357604375348084,
          0.528360105058137,
          -2.426809770915547,
          -1.4970050996342303,
          0.5012670828793494,
          -0.4144372147571527,
          -1.5032345584573734,
          -0.5645262794150616,
          0.9074324916191596,
          0.5291147311047883,
          1.27378422165143,
          0.8144032756088596,
          0.22763909553884226,
          0.04666463041197144,
          -0.2909034169358753,
          1.2439472755893324,
          -0.5030014312921158,
          -2.04618571072768,
          -1.9776242737576282,
          -0.7784135744681734,
          -0.43542356262032955,
          0.3511218761609181,
          0.6690302299966587,
          -2.937691978255148
         ]
        },
        {
         "marker": {
          "color": "rgba(55, 128, 191, 0.6)",
          "line": {
           "color": "rgba(55, 128, 191, 1.0)",
           "width": 1
          }
         },
         "name": "B",
         "orientation": "v",
         "text": "",
         "type": "bar",
         "x": [
          0,
          1,
          2,
          3,
          4,
          5,
          6,
          7,
          8,
          9,
          10,
          11,
          12,
          13,
          14,
          15,
          16,
          17,
          18,
          19,
          20,
          21,
          22,
          23,
          24,
          25,
          26,
          27,
          28,
          29,
          30,
          31,
          32,
          33,
          34,
          35,
          36,
          37,
          38,
          39,
          40,
          41,
          42,
          43,
          44,
          45,
          46,
          47,
          48,
          49,
          50,
          51,
          52,
          53,
          54,
          55,
          56,
          57,
          58,
          59,
          60,
          61,
          62,
          63,
          64,
          65,
          66,
          67,
          68,
          69,
          70,
          71,
          72,
          73,
          74,
          75,
          76,
          77,
          78,
          79,
          80,
          81,
          82,
          83,
          84,
          85,
          86,
          87,
          88,
          89,
          90,
          91,
          92,
          93,
          94,
          95,
          96,
          97,
          98,
          99
         ],
         "y": [
          0.4382592167411095,
          -0.6309961348420734,
          -0.0395311262178848,
          -0.31428373652841174,
          -1.0100162848027445,
          0.3935453506068354,
          -1.1208413794066048,
          -0.48057193451665925,
          0.07553530507313684,
          -1.732193450923254,
          -0.18194479104436243,
          -1.2768988483331727,
          -0.9010984722462253,
          -0.04831591513783132,
          1.017334361674233,
          2.0659548342501,
          -1.3257645889148622,
          1.1439743874680193,
          -0.5955125539431376,
          1.5396128052705145,
          -0.3056876386133438,
          -0.3877195935848514,
          -0.26289468030335533,
          0.8933171597993632,
          0.28295230371184565,
          -2.0381890153955404,
          -0.8598396093738542,
          -1.6518707199339169,
          1.315608649571582,
          -1.1411519377453063,
          -1.1360395440453932,
          -1.7772226648265301,
          0.9650122260771038,
          1.1487983813941074,
          0.6236448087340094,
          0.23376375669016658,
          0.6124046327547832,
          1.438466886570016,
          -1.2648382819818582,
          -0.18510973962669178,
          -0.6786077887679473,
          -0.664905423820725,
          -0.46612759720887575,
          -0.750935532586305,
          0.7553429312716934,
          -0.974797806662005,
          1.0791958284105596,
          -1.4647682070265706,
          -1.131758714727324,
          0.3584005296774685,
          -2.618621262491332,
          0.22598540427059874,
          -0.11981462527459533,
          1.4990841490508868,
          -0.20774363409278152,
          0.6976938911487156,
          -0.6330586023195791,
          1.6187904142539622,
          1.282338045791857,
          0.0802792937980838,
          -0.5108597070798586,
          0.12905133080909542,
          0.3449053470374282,
          0.0766504080888916,
          -1.515901853753896,
          1.553054792584085,
          0.08897000243510644,
          -1.0459050859726782,
          -0.39902139781521845,
          1.2555188182347081,
          -2.0145418672522446,
          -0.27008247237976113,
          0.4903043952555374,
          2.214217040668718,
          -0.36536702022485823,
          -0.9829776507777322,
          -0.1469357916605228,
          0.5679188818392001,
          1.529413014699103,
          -0.3276547721051137,
          -1.0423677573212309,
          0.811616799365819,
          -1.3316013120176349,
          -1.8682578918247865,
          0.9497852481964191,
          -0.48074134536630314,
          -0.4481668902136482,
          -0.4874510603514809,
          0.8886789746157747,
          -0.8885847644458682,
          -0.6885045336406496,
          1.589358536547224,
          -0.6758365158912941,
          -0.40969212660536275,
          0.6746415974540376,
          1.1271460223680927,
          -1.6450552325643122,
          0.12158090294215941,
          1.0007876253334738,
          -1.256378892090455
         ]
        },
        {
         "marker": {
          "color": "rgba(50, 171, 96, 0.6)",
          "line": {
           "color": "rgba(50, 171, 96, 1.0)",
           "width": 1
          }
         },
         "name": "C",
         "orientation": "v",
         "text": "",
         "type": "bar",
         "x": [
          0,
          1,
          2,
          3,
          4,
          5,
          6,
          7,
          8,
          9,
          10,
          11,
          12,
          13,
          14,
          15,
          16,
          17,
          18,
          19,
          20,
          21,
          22,
          23,
          24,
          25,
          26,
          27,
          28,
          29,
          30,
          31,
          32,
          33,
          34,
          35,
          36,
          37,
          38,
          39,
          40,
          41,
          42,
          43,
          44,
          45,
          46,
          47,
          48,
          49,
          50,
          51,
          52,
          53,
          54,
          55,
          56,
          57,
          58,
          59,
          60,
          61,
          62,
          63,
          64,
          65,
          66,
          67,
          68,
          69,
          70,
          71,
          72,
          73,
          74,
          75,
          76,
          77,
          78,
          79,
          80,
          81,
          82,
          83,
          84,
          85,
          86,
          87,
          88,
          89,
          90,
          91,
          92,
          93,
          94,
          95,
          96,
          97,
          98,
          99
         ],
         "y": [
          1.2041286763052448,
          -0.7341612192305633,
          -0.5458056090180362,
          -0.060176807033348434,
          -1.461210307868879,
          -0.042962820390264604,
          -1.1112680953319287,
          0.4425994344947499,
          0.1581364727067789,
          1.0523143699302913,
          -0.6852756634925544,
          -2.138283291452284,
          0.26267208157579036,
          0.37372183885347143,
          0.8213211099006584,
          -0.8154119669655834,
          0.38096982250192774,
          0.3370927626585573,
          0.8661579662151041,
          0.5922180910315239,
          -0.246750931009974,
          -0.9512094621196407,
          -1.279912153943022,
          -1.0318148862660201,
          -1.2832182702457628,
          0.24335563499257745,
          -0.49710382848007084,
          -2.9933342420800924,
          -0.6978903685053779,
          2.3069038297787072,
          1.1972196152142145,
          0.5005035356788747,
          0.7297790581122335,
          -0.15941717349860096,
          -0.5181303473438783,
          -0.5934618471232722,
          0.8995817172937732,
          1.4236306634076306,
          0.13458851966672683,
          -1.9244973003383656,
          -0.4396687465651273,
          0.43148518125632296,
          -0.1045871680622103,
          -1.5154907586013207,
          0.9195989783041805,
          -0.5680229856548504,
          -1.0279969155715944,
          -0.7050486050975706,
          1.657409308353311,
          0.43853218340055466,
          0.4453702568775285,
          -0.8589282128077184,
          0.6917317701189633,
          0.4874349454596271,
          -0.05415017783183345,
          0.6786386411680831,
          0.49941202879755286,
          -0.09355296913250151,
          -0.39456615110421206,
          0.945327187041317,
          -0.1592104734693847,
          2.3917432164498007,
          -0.506147738239636,
          -0.26501055918580796,
          0.256761716941572,
          -2.0970130189996263,
          2.080817157003123,
          -1.969713916536074,
          1.2186284182395668,
          -0.6754697490087247,
          0.0864288898960222,
          -1.2623278342411035,
          -1.5782667637365249,
          -0.03995829079015229,
          0.4184420663801775,
          -0.5544865869156967,
          0.4917122214543861,
          -0.06530864944150375,
          -0.11841439565633523,
          0.6511421435271256,
          1.027365203598178,
          -1.0793832565983752,
          0.19273703232535136,
          0.21278608830470566,
          0.6698430690156365,
          -1.1447128329756069,
          -0.1406796689064955,
          0.23141660493699273,
          0.9064832898559017,
          -1.4194927711734235,
          1.7863130491938028,
          1.4143890894685258,
          -1.1686375404626603,
          -1.2767884937582192,
          0.908973163702017,
          0.4903546831594897,
          1.458215782292664,
          -0.1739490839601721,
          -0.08603191853491715,
          -0.30139862355672215
         ]
        },
        {
         "marker": {
          "color": "rgba(128, 0, 128, 0.6)",
          "line": {
           "color": "rgba(128, 0, 128, 1.0)",
           "width": 1
          }
         },
         "name": "D",
         "orientation": "v",
         "text": "",
         "type": "bar",
         "x": [
          0,
          1,
          2,
          3,
          4,
          5,
          6,
          7,
          8,
          9,
          10,
          11,
          12,
          13,
          14,
          15,
          16,
          17,
          18,
          19,
          20,
          21,
          22,
          23,
          24,
          25,
          26,
          27,
          28,
          29,
          30,
          31,
          32,
          33,
          34,
          35,
          36,
          37,
          38,
          39,
          40,
          41,
          42,
          43,
          44,
          45,
          46,
          47,
          48,
          49,
          50,
          51,
          52,
          53,
          54,
          55,
          56,
          57,
          58,
          59,
          60,
          61,
          62,
          63,
          64,
          65,
          66,
          67,
          68,
          69,
          70,
          71,
          72,
          73,
          74,
          75,
          76,
          77,
          78,
          79,
          80,
          81,
          82,
          83,
          84,
          85,
          86,
          87,
          88,
          89,
          90,
          91,
          92,
          93,
          94,
          95,
          96,
          97,
          98,
          99
         ],
         "y": [
          0.5335617547626704,
          1.11511778820712,
          -0.08010239879881892,
          -2.259130632450229,
          0.1306904956755313,
          -0.10868636704330263,
          -1.2119879393566173,
          0.058401962784051895,
          -1.28475547880816,
          -0.23874716438584068,
          -0.05486944254343988,
          -0.7903758731068092,
          0.5511763376605952,
          0.6598876147808562,
          -1.393544253357598,
          -0.22141033511022082,
          1.3723354165859456,
          -2.295330139910439,
          0.7048578956406352,
          -1.3456434351515638,
          1.1330308424283735,
          -1.6303682417443779,
          1.1458167157730648,
          0.3412691509585753,
          -1.4814410312878,
          0.7056244817874007,
          -0.35631268737456484,
          -1.4973624280243167,
          -2.384006313434215,
          -0.4603706240551062,
          -0.3396935582570401,
          -1.7531152695661887,
          1.3317539945057488,
          0.03028900886027697,
          0.003446055668178733,
          0.6235875867000816,
          2.2119702214189525,
          0.09084069260464103,
          0.2455822204067303,
          -0.6571322155562199,
          -0.16271374185554327,
          -0.643073675919325,
          -1.9137010323432584,
          -0.7764981602357823,
          -0.44312146885367115,
          -1.7356585778027214,
          0.24444323790835046,
          0.7104679959661663,
          -1.3390136550043847,
          0.16366534129867924,
          -0.6047531524042749,
          1.2553527366235804,
          -0.6701759062038355,
          0.9363081857722896,
          0.8211474912961345,
          -1.8240721473503028,
          0.45230942549634595,
          2.1574505417899834,
          -0.062096453693924164,
          2.369880887091539,
          -1.0804781096479488,
          -1.3240023935686234,
          0.1891364017721843,
          1.4454723116515689,
          0.2670018973992693,
          0.3843716971280922,
          -0.9649721651660574,
          -1.0909805836656126,
          0.27081041390492183,
          1.153388859206965,
          0.38281022895155126,
          -0.8713849540757779,
          2.0528631419834227,
          1.5097740524964776,
          -0.5438358420554982,
          -0.07034753062399098,
          -0.8942657348846185,
          0.9487048514799492,
          1.3008219239253918,
          -0.5290864305394178,
          -1.7064792654511123,
          -0.19315259821983888,
          0.16849549170129602,
          0.3616001588411008,
          0.026682942900016677,
          1.2430267142940021,
          1.8288506123013686,
          -0.6461015794148398,
          -0.03903876462222602,
          -0.7345934981355124,
          -1.267407423342911,
          0.020312121797485937,
          -0.6162696698678704,
          -0.8700178732099789,
          0.48554238667112404,
          0.26801570273470005,
          0.103588232775617,
          0.12065839577974721,
          1.3510822698238307,
          0.3829175412191313
         ]
        }
       ],
       "layout": {
        "legend": {
         "bgcolor": "#F5F6F9",
         "font": {
          "color": "#4D5663"
         }
        },
        "paper_bgcolor": "#F5F6F9",
        "plot_bgcolor": "#F5F6F9",
        "template": {
         "data": {
          "bar": [
           {
            "error_x": {
             "color": "#2a3f5f"
            },
            "error_y": {
             "color": "#2a3f5f"
            },
            "marker": {
             "line": {
              "color": "#E5ECF6",
              "width": 0.5
             },
             "pattern": {
              "fillmode": "overlay",
              "size": 10,
              "solidity": 0.2
             }
            },
            "type": "bar"
           }
          ],
          "barpolar": [
           {
            "marker": {
             "line": {
              "color": "#E5ECF6",
              "width": 0.5
             },
             "pattern": {
              "fillmode": "overlay",
              "size": 10,
              "solidity": 0.2
             }
            },
            "type": "barpolar"
           }
          ],
          "carpet": [
           {
            "aaxis": {
             "endlinecolor": "#2a3f5f",
             "gridcolor": "white",
             "linecolor": "white",
             "minorgridcolor": "white",
             "startlinecolor": "#2a3f5f"
            },
            "baxis": {
             "endlinecolor": "#2a3f5f",
             "gridcolor": "white",
             "linecolor": "white",
             "minorgridcolor": "white",
             "startlinecolor": "#2a3f5f"
            },
            "type": "carpet"
           }
          ],
          "choropleth": [
           {
            "colorbar": {
             "outlinewidth": 0,
             "ticks": ""
            },
            "type": "choropleth"
           }
          ],
          "contour": [
           {
            "colorbar": {
             "outlinewidth": 0,
             "ticks": ""
            },
            "colorscale": [
             [
              0,
              "#0d0887"
             ],
             [
              0.1111111111111111,
              "#46039f"
             ],
             [
              0.2222222222222222,
              "#7201a8"
             ],
             [
              0.3333333333333333,
              "#9c179e"
             ],
             [
              0.4444444444444444,
              "#bd3786"
             ],
             [
              0.5555555555555556,
              "#d8576b"
             ],
             [
              0.6666666666666666,
              "#ed7953"
             ],
             [
              0.7777777777777778,
              "#fb9f3a"
             ],
             [
              0.8888888888888888,
              "#fdca26"
             ],
             [
              1,
              "#f0f921"
             ]
            ],
            "type": "contour"
           }
          ],
          "contourcarpet": [
           {
            "colorbar": {
             "outlinewidth": 0,
             "ticks": ""
            },
            "type": "contourcarpet"
           }
          ],
          "heatmap": [
           {
            "colorbar": {
             "outlinewidth": 0,
             "ticks": ""
            },
            "colorscale": [
             [
              0,
              "#0d0887"
             ],
             [
              0.1111111111111111,
              "#46039f"
             ],
             [
              0.2222222222222222,
              "#7201a8"
             ],
             [
              0.3333333333333333,
              "#9c179e"
             ],
             [
              0.4444444444444444,
              "#bd3786"
             ],
             [
              0.5555555555555556,
              "#d8576b"
             ],
             [
              0.6666666666666666,
              "#ed7953"
             ],
             [
              0.7777777777777778,
              "#fb9f3a"
             ],
             [
              0.8888888888888888,
              "#fdca26"
             ],
             [
              1,
              "#f0f921"
             ]
            ],
            "type": "heatmap"
           }
          ],
          "heatmapgl": [
           {
            "colorbar": {
             "outlinewidth": 0,
             "ticks": ""
            },
            "colorscale": [
             [
              0,
              "#0d0887"
             ],
             [
              0.1111111111111111,
              "#46039f"
             ],
             [
              0.2222222222222222,
              "#7201a8"
             ],
             [
              0.3333333333333333,
              "#9c179e"
             ],
             [
              0.4444444444444444,
              "#bd3786"
             ],
             [
              0.5555555555555556,
              "#d8576b"
             ],
             [
              0.6666666666666666,
              "#ed7953"
             ],
             [
              0.7777777777777778,
              "#fb9f3a"
             ],
             [
              0.8888888888888888,
              "#fdca26"
             ],
             [
              1,
              "#f0f921"
             ]
            ],
            "type": "heatmapgl"
           }
          ],
          "histogram": [
           {
            "marker": {
             "pattern": {
              "fillmode": "overlay",
              "size": 10,
              "solidity": 0.2
             }
            },
            "type": "histogram"
           }
          ],
          "histogram2d": [
           {
            "colorbar": {
             "outlinewidth": 0,
             "ticks": ""
            },
            "colorscale": [
             [
              0,
              "#0d0887"
             ],
             [
              0.1111111111111111,
              "#46039f"
             ],
             [
              0.2222222222222222,
              "#7201a8"
             ],
             [
              0.3333333333333333,
              "#9c179e"
             ],
             [
              0.4444444444444444,
              "#bd3786"
             ],
             [
              0.5555555555555556,
              "#d8576b"
             ],
             [
              0.6666666666666666,
              "#ed7953"
             ],
             [
              0.7777777777777778,
              "#fb9f3a"
             ],
             [
              0.8888888888888888,
              "#fdca26"
             ],
             [
              1,
              "#f0f921"
             ]
            ],
            "type": "histogram2d"
           }
          ],
          "histogram2dcontour": [
           {
            "colorbar": {
             "outlinewidth": 0,
             "ticks": ""
            },
            "colorscale": [
             [
              0,
              "#0d0887"
             ],
             [
              0.1111111111111111,
              "#46039f"
             ],
             [
              0.2222222222222222,
              "#7201a8"
             ],
             [
              0.3333333333333333,
              "#9c179e"
             ],
             [
              0.4444444444444444,
              "#bd3786"
             ],
             [
              0.5555555555555556,
              "#d8576b"
             ],
             [
              0.6666666666666666,
              "#ed7953"
             ],
             [
              0.7777777777777778,
              "#fb9f3a"
             ],
             [
              0.8888888888888888,
              "#fdca26"
             ],
             [
              1,
              "#f0f921"
             ]
            ],
            "type": "histogram2dcontour"
           }
          ],
          "mesh3d": [
           {
            "colorbar": {
             "outlinewidth": 0,
             "ticks": ""
            },
            "type": "mesh3d"
           }
          ],
          "parcoords": [
           {
            "line": {
             "colorbar": {
              "outlinewidth": 0,
              "ticks": ""
             }
            },
            "type": "parcoords"
           }
          ],
          "pie": [
           {
            "automargin": true,
            "type": "pie"
           }
          ],
          "scatter": [
           {
            "fillpattern": {
             "fillmode": "overlay",
             "size": 10,
             "solidity": 0.2
            },
            "type": "scatter"
           }
          ],
          "scatter3d": [
           {
            "line": {
             "colorbar": {
              "outlinewidth": 0,
              "ticks": ""
             }
            },
            "marker": {
             "colorbar": {
              "outlinewidth": 0,
              "ticks": ""
             }
            },
            "type": "scatter3d"
           }
          ],
          "scattercarpet": [
           {
            "marker": {
             "colorbar": {
              "outlinewidth": 0,
              "ticks": ""
             }
            },
            "type": "scattercarpet"
           }
          ],
          "scattergeo": [
           {
            "marker": {
             "colorbar": {
              "outlinewidth": 0,
              "ticks": ""
             }
            },
            "type": "scattergeo"
           }
          ],
          "scattergl": [
           {
            "marker": {
             "colorbar": {
              "outlinewidth": 0,
              "ticks": ""
             }
            },
            "type": "scattergl"
           }
          ],
          "scattermapbox": [
           {
            "marker": {
             "colorbar": {
              "outlinewidth": 0,
              "ticks": ""
             }
            },
            "type": "scattermapbox"
           }
          ],
          "scatterpolar": [
           {
            "marker": {
             "colorbar": {
              "outlinewidth": 0,
              "ticks": ""
             }
            },
            "type": "scatterpolar"
           }
          ],
          "scatterpolargl": [
           {
            "marker": {
             "colorbar": {
              "outlinewidth": 0,
              "ticks": ""
             }
            },
            "type": "scatterpolargl"
           }
          ],
          "scatterternary": [
           {
            "marker": {
             "colorbar": {
              "outlinewidth": 0,
              "ticks": ""
             }
            },
            "type": "scatterternary"
           }
          ],
          "surface": [
           {
            "colorbar": {
             "outlinewidth": 0,
             "ticks": ""
            },
            "colorscale": [
             [
              0,
              "#0d0887"
             ],
             [
              0.1111111111111111,
              "#46039f"
             ],
             [
              0.2222222222222222,
              "#7201a8"
             ],
             [
              0.3333333333333333,
              "#9c179e"
             ],
             [
              0.4444444444444444,
              "#bd3786"
             ],
             [
              0.5555555555555556,
              "#d8576b"
             ],
             [
              0.6666666666666666,
              "#ed7953"
             ],
             [
              0.7777777777777778,
              "#fb9f3a"
             ],
             [
              0.8888888888888888,
              "#fdca26"
             ],
             [
              1,
              "#f0f921"
             ]
            ],
            "type": "surface"
           }
          ],
          "table": [
           {
            "cells": {
             "fill": {
              "color": "#EBF0F8"
             },
             "line": {
              "color": "white"
             }
            },
            "header": {
             "fill": {
              "color": "#C8D4E3"
             },
             "line": {
              "color": "white"
             }
            },
            "type": "table"
           }
          ]
         },
         "layout": {
          "annotationdefaults": {
           "arrowcolor": "#2a3f5f",
           "arrowhead": 0,
           "arrowwidth": 1
          },
          "autotypenumbers": "strict",
          "coloraxis": {
           "colorbar": {
            "outlinewidth": 0,
            "ticks": ""
           }
          },
          "colorscale": {
           "diverging": [
            [
             0,
             "#8e0152"
            ],
            [
             0.1,
             "#c51b7d"
            ],
            [
             0.2,
             "#de77ae"
            ],
            [
             0.3,
             "#f1b6da"
            ],
            [
             0.4,
             "#fde0ef"
            ],
            [
             0.5,
             "#f7f7f7"
            ],
            [
             0.6,
             "#e6f5d0"
            ],
            [
             0.7,
             "#b8e186"
            ],
            [
             0.8,
             "#7fbc41"
            ],
            [
             0.9,
             "#4d9221"
            ],
            [
             1,
             "#276419"
            ]
           ],
           "sequential": [
            [
             0,
             "#0d0887"
            ],
            [
             0.1111111111111111,
             "#46039f"
            ],
            [
             0.2222222222222222,
             "#7201a8"
            ],
            [
             0.3333333333333333,
             "#9c179e"
            ],
            [
             0.4444444444444444,
             "#bd3786"
            ],
            [
             0.5555555555555556,
             "#d8576b"
            ],
            [
             0.6666666666666666,
             "#ed7953"
            ],
            [
             0.7777777777777778,
             "#fb9f3a"
            ],
            [
             0.8888888888888888,
             "#fdca26"
            ],
            [
             1,
             "#f0f921"
            ]
           ],
           "sequentialminus": [
            [
             0,
             "#0d0887"
            ],
            [
             0.1111111111111111,
             "#46039f"
            ],
            [
             0.2222222222222222,
             "#7201a8"
            ],
            [
             0.3333333333333333,
             "#9c179e"
            ],
            [
             0.4444444444444444,
             "#bd3786"
            ],
            [
             0.5555555555555556,
             "#d8576b"
            ],
            [
             0.6666666666666666,
             "#ed7953"
            ],
            [
             0.7777777777777778,
             "#fb9f3a"
            ],
            [
             0.8888888888888888,
             "#fdca26"
            ],
            [
             1,
             "#f0f921"
            ]
           ]
          },
          "colorway": [
           "#636efa",
           "#EF553B",
           "#00cc96",
           "#ab63fa",
           "#FFA15A",
           "#19d3f3",
           "#FF6692",
           "#B6E880",
           "#FF97FF",
           "#FECB52"
          ],
          "font": {
           "color": "#2a3f5f"
          },
          "geo": {
           "bgcolor": "white",
           "lakecolor": "white",
           "landcolor": "#E5ECF6",
           "showlakes": true,
           "showland": true,
           "subunitcolor": "white"
          },
          "hoverlabel": {
           "align": "left"
          },
          "hovermode": "closest",
          "mapbox": {
           "style": "light"
          },
          "paper_bgcolor": "white",
          "plot_bgcolor": "#E5ECF6",
          "polar": {
           "angularaxis": {
            "gridcolor": "white",
            "linecolor": "white",
            "ticks": ""
           },
           "bgcolor": "#E5ECF6",
           "radialaxis": {
            "gridcolor": "white",
            "linecolor": "white",
            "ticks": ""
           }
          },
          "scene": {
           "xaxis": {
            "backgroundcolor": "#E5ECF6",
            "gridcolor": "white",
            "gridwidth": 2,
            "linecolor": "white",
            "showbackground": true,
            "ticks": "",
            "zerolinecolor": "white"
           },
           "yaxis": {
            "backgroundcolor": "#E5ECF6",
            "gridcolor": "white",
            "gridwidth": 2,
            "linecolor": "white",
            "showbackground": true,
            "ticks": "",
            "zerolinecolor": "white"
           },
           "zaxis": {
            "backgroundcolor": "#E5ECF6",
            "gridcolor": "white",
            "gridwidth": 2,
            "linecolor": "white",
            "showbackground": true,
            "ticks": "",
            "zerolinecolor": "white"
           }
          },
          "shapedefaults": {
           "line": {
            "color": "#2a3f5f"
           }
          },
          "ternary": {
           "aaxis": {
            "gridcolor": "white",
            "linecolor": "white",
            "ticks": ""
           },
           "baxis": {
            "gridcolor": "white",
            "linecolor": "white",
            "ticks": ""
           },
           "bgcolor": "#E5ECF6",
           "caxis": {
            "gridcolor": "white",
            "linecolor": "white",
            "ticks": ""
           }
          },
          "title": {
           "x": 0.05
          },
          "xaxis": {
           "automargin": true,
           "gridcolor": "white",
           "linecolor": "white",
           "ticks": "",
           "title": {
            "standoff": 15
           },
           "zerolinecolor": "white",
           "zerolinewidth": 2
          },
          "yaxis": {
           "automargin": true,
           "gridcolor": "white",
           "linecolor": "white",
           "ticks": "",
           "title": {
            "standoff": 15
           },
           "zerolinecolor": "white",
           "zerolinewidth": 2
          }
         }
        },
        "title": {
         "font": {
          "color": "#4D5663"
         }
        },
        "xaxis": {
         "gridcolor": "#E1E5ED",
         "showgrid": true,
         "tickfont": {
          "color": "#4D5663"
         },
         "title": {
          "font": {
           "color": "#4D5663"
          },
          "text": ""
         },
         "zerolinecolor": "#E1E5ED"
        },
        "yaxis": {
         "gridcolor": "#E1E5ED",
         "showgrid": true,
         "tickfont": {
          "color": "#4D5663"
         },
         "title": {
          "font": {
           "color": "#4D5663"
          },
          "text": ""
         },
         "zerolinecolor": "#E1E5ED"
        }
       }
      },
      "text/html": [
       "<div>                            <div id=\"60fc552c-3ed4-471d-8139-9db3a83741e9\" class=\"plotly-graph-div\" style=\"height:525px; width:100%;\"></div>            <script type=\"text/javascript\">                require([\"plotly\"], function(Plotly) {                    window.PLOTLYENV=window.PLOTLYENV || {};\n",
       "                    window.PLOTLYENV.BASE_URL='https://plot.ly';                                    if (document.getElementById(\"60fc552c-3ed4-471d-8139-9db3a83741e9\")) {                    Plotly.newPlot(                        \"60fc552c-3ed4-471d-8139-9db3a83741e9\",                        [{\"marker\":{\"color\":\"rgba(255, 153, 51, 0.6)\",\"line\":{\"color\":\"rgba(255, 153, 51, 1.0)\",\"width\":1}},\"name\":\"A\",\"orientation\":\"v\",\"text\":\"\",\"x\":[0,1,2,3,4,5,6,7,8,9,10,11,12,13,14,15,16,17,18,19,20,21,22,23,24,25,26,27,28,29,30,31,32,33,34,35,36,37,38,39,40,41,42,43,44,45,46,47,48,49,50,51,52,53,54,55,56,57,58,59,60,61,62,63,64,65,66,67,68,69,70,71,72,73,74,75,76,77,78,79,80,81,82,83,84,85,86,87,88,89,90,91,92,93,94,95,96,97,98,99],\"y\":[-1.7551052678663162,0.3844705852588308,-2.036235857734799,-0.4777192690016541,1.4543579926789922,-0.09237757661484672,0.6119764070206649,1.2237887733721426,-1.7337095285419843,-0.09984401561568264,-0.4649631618162517,0.9998649026069217,-0.6943268284110494,-0.72841097667062,-0.4417144240902041,-0.004464788666717921,0.07531256094745666,0.819040457639244,-0.4567053715819427,-0.5963208419744218,0.20953116501771618,-0.6853725302321193,-0.4001354564558299,0.6480780792891775,0.21240416189485206,0.14312795229648412,1.4393143026131452,0.7837815407286436,0.7467555023995134,0.29599035733768936,-0.7218712504422361,-1.25193389495634,0.03611354174396783,-0.03200300201512434,-1.1826084205945602,-1.4446328395682333,-0.04401236980398926,1.148871152117295,-0.14011474199688925,0.06115179255331545,0.868403061018585,0.5428333970190617,2.023958447325256,1.298799841292337,0.3078105580800464,0.6071874163245976,0.8972500697072223,-0.9315584354567149,0.17846500752828248,0.4284783757579867,-1.2333721181585848,-0.5601363807245684,0.09472304319338498,1.778688134912088,-1.8021319258488775,-0.7791449714553991,-0.5839473586620774,-0.7253804597334422,-0.9232769368882936,-0.6139384413256993,-0.06283253701103511,-0.9172264457972898,1.274365195722724,-0.23411960543441399,-0.8057448573292509,0.7054532319615852,-1.1036282271372015,0.6513618183801033,1.6919479921315315,2.0298722949294987,-0.7413914397119926,1.6472076306959016,0.6975377328009644,-2.5744066196418682,-1.1618031599466374,1.191995297707877,0.3357604375348084,0.528360105058137,-2.426809770915547,-1.4970050996342303,0.5012670828793494,-0.4144372147571527,-1.5032345584573734,-0.5645262794150616,0.9074324916191596,0.5291147311047883,1.27378422165143,0.8144032756088596,0.22763909553884226,0.04666463041197144,-0.2909034169358753,1.2439472755893324,-0.5030014312921158,-2.04618571072768,-1.9776242737576282,-0.7784135744681734,-0.43542356262032955,0.3511218761609181,0.6690302299966587,-2.937691978255148],\"type\":\"bar\"},{\"marker\":{\"color\":\"rgba(55, 128, 191, 0.6)\",\"line\":{\"color\":\"rgba(55, 128, 191, 1.0)\",\"width\":1}},\"name\":\"B\",\"orientation\":\"v\",\"text\":\"\",\"x\":[0,1,2,3,4,5,6,7,8,9,10,11,12,13,14,15,16,17,18,19,20,21,22,23,24,25,26,27,28,29,30,31,32,33,34,35,36,37,38,39,40,41,42,43,44,45,46,47,48,49,50,51,52,53,54,55,56,57,58,59,60,61,62,63,64,65,66,67,68,69,70,71,72,73,74,75,76,77,78,79,80,81,82,83,84,85,86,87,88,89,90,91,92,93,94,95,96,97,98,99],\"y\":[0.4382592167411095,-0.6309961348420734,-0.0395311262178848,-0.31428373652841174,-1.0100162848027445,0.3935453506068354,-1.1208413794066048,-0.48057193451665925,0.07553530507313684,-1.732193450923254,-0.18194479104436243,-1.2768988483331727,-0.9010984722462253,-0.04831591513783132,1.017334361674233,2.0659548342501,-1.3257645889148622,1.1439743874680193,-0.5955125539431376,1.5396128052705145,-0.3056876386133438,-0.3877195935848514,-0.26289468030335533,0.8933171597993632,0.28295230371184565,-2.0381890153955404,-0.8598396093738542,-1.6518707199339169,1.315608649571582,-1.1411519377453063,-1.1360395440453932,-1.7772226648265301,0.9650122260771038,1.1487983813941074,0.6236448087340094,0.23376375669016658,0.6124046327547832,1.438466886570016,-1.2648382819818582,-0.18510973962669178,-0.6786077887679473,-0.664905423820725,-0.46612759720887575,-0.750935532586305,0.7553429312716934,-0.974797806662005,1.0791958284105596,-1.4647682070265706,-1.131758714727324,0.3584005296774685,-2.618621262491332,0.22598540427059874,-0.11981462527459533,1.4990841490508868,-0.20774363409278152,0.6976938911487156,-0.6330586023195791,1.6187904142539622,1.282338045791857,0.0802792937980838,-0.5108597070798586,0.12905133080909542,0.3449053470374282,0.0766504080888916,-1.515901853753896,1.553054792584085,0.08897000243510644,-1.0459050859726782,-0.39902139781521845,1.2555188182347081,-2.0145418672522446,-0.27008247237976113,0.4903043952555374,2.214217040668718,-0.36536702022485823,-0.9829776507777322,-0.1469357916605228,0.5679188818392001,1.529413014699103,-0.3276547721051137,-1.0423677573212309,0.811616799365819,-1.3316013120176349,-1.8682578918247865,0.9497852481964191,-0.48074134536630314,-0.4481668902136482,-0.4874510603514809,0.8886789746157747,-0.8885847644458682,-0.6885045336406496,1.589358536547224,-0.6758365158912941,-0.40969212660536275,0.6746415974540376,1.1271460223680927,-1.6450552325643122,0.12158090294215941,1.0007876253334738,-1.256378892090455],\"type\":\"bar\"},{\"marker\":{\"color\":\"rgba(50, 171, 96, 0.6)\",\"line\":{\"color\":\"rgba(50, 171, 96, 1.0)\",\"width\":1}},\"name\":\"C\",\"orientation\":\"v\",\"text\":\"\",\"x\":[0,1,2,3,4,5,6,7,8,9,10,11,12,13,14,15,16,17,18,19,20,21,22,23,24,25,26,27,28,29,30,31,32,33,34,35,36,37,38,39,40,41,42,43,44,45,46,47,48,49,50,51,52,53,54,55,56,57,58,59,60,61,62,63,64,65,66,67,68,69,70,71,72,73,74,75,76,77,78,79,80,81,82,83,84,85,86,87,88,89,90,91,92,93,94,95,96,97,98,99],\"y\":[1.2041286763052448,-0.7341612192305633,-0.5458056090180362,-0.060176807033348434,-1.461210307868879,-0.042962820390264604,-1.1112680953319287,0.4425994344947499,0.1581364727067789,1.0523143699302913,-0.6852756634925544,-2.138283291452284,0.26267208157579036,0.37372183885347143,0.8213211099006584,-0.8154119669655834,0.38096982250192774,0.3370927626585573,0.8661579662151041,0.5922180910315239,-0.246750931009974,-0.9512094621196407,-1.279912153943022,-1.0318148862660201,-1.2832182702457628,0.24335563499257745,-0.49710382848007084,-2.9933342420800924,-0.6978903685053779,2.3069038297787072,1.1972196152142145,0.5005035356788747,0.7297790581122335,-0.15941717349860096,-0.5181303473438783,-0.5934618471232722,0.8995817172937732,1.4236306634076306,0.13458851966672683,-1.9244973003383656,-0.4396687465651273,0.43148518125632296,-0.1045871680622103,-1.5154907586013207,0.9195989783041805,-0.5680229856548504,-1.0279969155715944,-0.7050486050975706,1.657409308353311,0.43853218340055466,0.4453702568775285,-0.8589282128077184,0.6917317701189633,0.4874349454596271,-0.05415017783183345,0.6786386411680831,0.49941202879755286,-0.09355296913250151,-0.39456615110421206,0.945327187041317,-0.1592104734693847,2.3917432164498007,-0.506147738239636,-0.26501055918580796,0.256761716941572,-2.0970130189996263,2.080817157003123,-1.969713916536074,1.2186284182395668,-0.6754697490087247,0.0864288898960222,-1.2623278342411035,-1.5782667637365249,-0.03995829079015229,0.4184420663801775,-0.5544865869156967,0.4917122214543861,-0.06530864944150375,-0.11841439565633523,0.6511421435271256,1.027365203598178,-1.0793832565983752,0.19273703232535136,0.21278608830470566,0.6698430690156365,-1.1447128329756069,-0.1406796689064955,0.23141660493699273,0.9064832898559017,-1.4194927711734235,1.7863130491938028,1.4143890894685258,-1.1686375404626603,-1.2767884937582192,0.908973163702017,0.4903546831594897,1.458215782292664,-0.1739490839601721,-0.08603191853491715,-0.30139862355672215],\"type\":\"bar\"},{\"marker\":{\"color\":\"rgba(128, 0, 128, 0.6)\",\"line\":{\"color\":\"rgba(128, 0, 128, 1.0)\",\"width\":1}},\"name\":\"D\",\"orientation\":\"v\",\"text\":\"\",\"x\":[0,1,2,3,4,5,6,7,8,9,10,11,12,13,14,15,16,17,18,19,20,21,22,23,24,25,26,27,28,29,30,31,32,33,34,35,36,37,38,39,40,41,42,43,44,45,46,47,48,49,50,51,52,53,54,55,56,57,58,59,60,61,62,63,64,65,66,67,68,69,70,71,72,73,74,75,76,77,78,79,80,81,82,83,84,85,86,87,88,89,90,91,92,93,94,95,96,97,98,99],\"y\":[0.5335617547626704,1.11511778820712,-0.08010239879881892,-2.259130632450229,0.1306904956755313,-0.10868636704330263,-1.2119879393566173,0.058401962784051895,-1.28475547880816,-0.23874716438584068,-0.05486944254343988,-0.7903758731068092,0.5511763376605952,0.6598876147808562,-1.393544253357598,-0.22141033511022082,1.3723354165859456,-2.295330139910439,0.7048578956406352,-1.3456434351515638,1.1330308424283735,-1.6303682417443779,1.1458167157730648,0.3412691509585753,-1.4814410312878,0.7056244817874007,-0.35631268737456484,-1.4973624280243167,-2.384006313434215,-0.4603706240551062,-0.3396935582570401,-1.7531152695661887,1.3317539945057488,0.03028900886027697,0.003446055668178733,0.6235875867000816,2.2119702214189525,0.09084069260464103,0.2455822204067303,-0.6571322155562199,-0.16271374185554327,-0.643073675919325,-1.9137010323432584,-0.7764981602357823,-0.44312146885367115,-1.7356585778027214,0.24444323790835046,0.7104679959661663,-1.3390136550043847,0.16366534129867924,-0.6047531524042749,1.2553527366235804,-0.6701759062038355,0.9363081857722896,0.8211474912961345,-1.8240721473503028,0.45230942549634595,2.1574505417899834,-0.062096453693924164,2.369880887091539,-1.0804781096479488,-1.3240023935686234,0.1891364017721843,1.4454723116515689,0.2670018973992693,0.3843716971280922,-0.9649721651660574,-1.0909805836656126,0.27081041390492183,1.153388859206965,0.38281022895155126,-0.8713849540757779,2.0528631419834227,1.5097740524964776,-0.5438358420554982,-0.07034753062399098,-0.8942657348846185,0.9487048514799492,1.3008219239253918,-0.5290864305394178,-1.7064792654511123,-0.19315259821983888,0.16849549170129602,0.3616001588411008,0.026682942900016677,1.2430267142940021,1.8288506123013686,-0.6461015794148398,-0.03903876462222602,-0.7345934981355124,-1.267407423342911,0.020312121797485937,-0.6162696698678704,-0.8700178732099789,0.48554238667112404,0.26801570273470005,0.103588232775617,0.12065839577974721,1.3510822698238307,0.3829175412191313],\"type\":\"bar\"}],                        {\"legend\":{\"bgcolor\":\"#F5F6F9\",\"font\":{\"color\":\"#4D5663\"}},\"paper_bgcolor\":\"#F5F6F9\",\"plot_bgcolor\":\"#F5F6F9\",\"template\":{\"data\":{\"barpolar\":[{\"marker\":{\"line\":{\"color\":\"#E5ECF6\",\"width\":0.5},\"pattern\":{\"fillmode\":\"overlay\",\"size\":10,\"solidity\":0.2}},\"type\":\"barpolar\"}],\"bar\":[{\"error_x\":{\"color\":\"#2a3f5f\"},\"error_y\":{\"color\":\"#2a3f5f\"},\"marker\":{\"line\":{\"color\":\"#E5ECF6\",\"width\":0.5},\"pattern\":{\"fillmode\":\"overlay\",\"size\":10,\"solidity\":0.2}},\"type\":\"bar\"}],\"carpet\":[{\"aaxis\":{\"endlinecolor\":\"#2a3f5f\",\"gridcolor\":\"white\",\"linecolor\":\"white\",\"minorgridcolor\":\"white\",\"startlinecolor\":\"#2a3f5f\"},\"baxis\":{\"endlinecolor\":\"#2a3f5f\",\"gridcolor\":\"white\",\"linecolor\":\"white\",\"minorgridcolor\":\"white\",\"startlinecolor\":\"#2a3f5f\"},\"type\":\"carpet\"}],\"choropleth\":[{\"colorbar\":{\"outlinewidth\":0,\"ticks\":\"\"},\"type\":\"choropleth\"}],\"contourcarpet\":[{\"colorbar\":{\"outlinewidth\":0,\"ticks\":\"\"},\"type\":\"contourcarpet\"}],\"contour\":[{\"colorbar\":{\"outlinewidth\":0,\"ticks\":\"\"},\"colorscale\":[[0.0,\"#0d0887\"],[0.1111111111111111,\"#46039f\"],[0.2222222222222222,\"#7201a8\"],[0.3333333333333333,\"#9c179e\"],[0.4444444444444444,\"#bd3786\"],[0.5555555555555556,\"#d8576b\"],[0.6666666666666666,\"#ed7953\"],[0.7777777777777778,\"#fb9f3a\"],[0.8888888888888888,\"#fdca26\"],[1.0,\"#f0f921\"]],\"type\":\"contour\"}],\"heatmapgl\":[{\"colorbar\":{\"outlinewidth\":0,\"ticks\":\"\"},\"colorscale\":[[0.0,\"#0d0887\"],[0.1111111111111111,\"#46039f\"],[0.2222222222222222,\"#7201a8\"],[0.3333333333333333,\"#9c179e\"],[0.4444444444444444,\"#bd3786\"],[0.5555555555555556,\"#d8576b\"],[0.6666666666666666,\"#ed7953\"],[0.7777777777777778,\"#fb9f3a\"],[0.8888888888888888,\"#fdca26\"],[1.0,\"#f0f921\"]],\"type\":\"heatmapgl\"}],\"heatmap\":[{\"colorbar\":{\"outlinewidth\":0,\"ticks\":\"\"},\"colorscale\":[[0.0,\"#0d0887\"],[0.1111111111111111,\"#46039f\"],[0.2222222222222222,\"#7201a8\"],[0.3333333333333333,\"#9c179e\"],[0.4444444444444444,\"#bd3786\"],[0.5555555555555556,\"#d8576b\"],[0.6666666666666666,\"#ed7953\"],[0.7777777777777778,\"#fb9f3a\"],[0.8888888888888888,\"#fdca26\"],[1.0,\"#f0f921\"]],\"type\":\"heatmap\"}],\"histogram2dcontour\":[{\"colorbar\":{\"outlinewidth\":0,\"ticks\":\"\"},\"colorscale\":[[0.0,\"#0d0887\"],[0.1111111111111111,\"#46039f\"],[0.2222222222222222,\"#7201a8\"],[0.3333333333333333,\"#9c179e\"],[0.4444444444444444,\"#bd3786\"],[0.5555555555555556,\"#d8576b\"],[0.6666666666666666,\"#ed7953\"],[0.7777777777777778,\"#fb9f3a\"],[0.8888888888888888,\"#fdca26\"],[1.0,\"#f0f921\"]],\"type\":\"histogram2dcontour\"}],\"histogram2d\":[{\"colorbar\":{\"outlinewidth\":0,\"ticks\":\"\"},\"colorscale\":[[0.0,\"#0d0887\"],[0.1111111111111111,\"#46039f\"],[0.2222222222222222,\"#7201a8\"],[0.3333333333333333,\"#9c179e\"],[0.4444444444444444,\"#bd3786\"],[0.5555555555555556,\"#d8576b\"],[0.6666666666666666,\"#ed7953\"],[0.7777777777777778,\"#fb9f3a\"],[0.8888888888888888,\"#fdca26\"],[1.0,\"#f0f921\"]],\"type\":\"histogram2d\"}],\"histogram\":[{\"marker\":{\"pattern\":{\"fillmode\":\"overlay\",\"size\":10,\"solidity\":0.2}},\"type\":\"histogram\"}],\"mesh3d\":[{\"colorbar\":{\"outlinewidth\":0,\"ticks\":\"\"},\"type\":\"mesh3d\"}],\"parcoords\":[{\"line\":{\"colorbar\":{\"outlinewidth\":0,\"ticks\":\"\"}},\"type\":\"parcoords\"}],\"pie\":[{\"automargin\":true,\"type\":\"pie\"}],\"scatter3d\":[{\"line\":{\"colorbar\":{\"outlinewidth\":0,\"ticks\":\"\"}},\"marker\":{\"colorbar\":{\"outlinewidth\":0,\"ticks\":\"\"}},\"type\":\"scatter3d\"}],\"scattercarpet\":[{\"marker\":{\"colorbar\":{\"outlinewidth\":0,\"ticks\":\"\"}},\"type\":\"scattercarpet\"}],\"scattergeo\":[{\"marker\":{\"colorbar\":{\"outlinewidth\":0,\"ticks\":\"\"}},\"type\":\"scattergeo\"}],\"scattergl\":[{\"marker\":{\"colorbar\":{\"outlinewidth\":0,\"ticks\":\"\"}},\"type\":\"scattergl\"}],\"scattermapbox\":[{\"marker\":{\"colorbar\":{\"outlinewidth\":0,\"ticks\":\"\"}},\"type\":\"scattermapbox\"}],\"scatterpolargl\":[{\"marker\":{\"colorbar\":{\"outlinewidth\":0,\"ticks\":\"\"}},\"type\":\"scatterpolargl\"}],\"scatterpolar\":[{\"marker\":{\"colorbar\":{\"outlinewidth\":0,\"ticks\":\"\"}},\"type\":\"scatterpolar\"}],\"scatter\":[{\"fillpattern\":{\"fillmode\":\"overlay\",\"size\":10,\"solidity\":0.2},\"type\":\"scatter\"}],\"scatterternary\":[{\"marker\":{\"colorbar\":{\"outlinewidth\":0,\"ticks\":\"\"}},\"type\":\"scatterternary\"}],\"surface\":[{\"colorbar\":{\"outlinewidth\":0,\"ticks\":\"\"},\"colorscale\":[[0.0,\"#0d0887\"],[0.1111111111111111,\"#46039f\"],[0.2222222222222222,\"#7201a8\"],[0.3333333333333333,\"#9c179e\"],[0.4444444444444444,\"#bd3786\"],[0.5555555555555556,\"#d8576b\"],[0.6666666666666666,\"#ed7953\"],[0.7777777777777778,\"#fb9f3a\"],[0.8888888888888888,\"#fdca26\"],[1.0,\"#f0f921\"]],\"type\":\"surface\"}],\"table\":[{\"cells\":{\"fill\":{\"color\":\"#EBF0F8\"},\"line\":{\"color\":\"white\"}},\"header\":{\"fill\":{\"color\":\"#C8D4E3\"},\"line\":{\"color\":\"white\"}},\"type\":\"table\"}]},\"layout\":{\"annotationdefaults\":{\"arrowcolor\":\"#2a3f5f\",\"arrowhead\":0,\"arrowwidth\":1},\"autotypenumbers\":\"strict\",\"coloraxis\":{\"colorbar\":{\"outlinewidth\":0,\"ticks\":\"\"}},\"colorscale\":{\"diverging\":[[0,\"#8e0152\"],[0.1,\"#c51b7d\"],[0.2,\"#de77ae\"],[0.3,\"#f1b6da\"],[0.4,\"#fde0ef\"],[0.5,\"#f7f7f7\"],[0.6,\"#e6f5d0\"],[0.7,\"#b8e186\"],[0.8,\"#7fbc41\"],[0.9,\"#4d9221\"],[1,\"#276419\"]],\"sequential\":[[0.0,\"#0d0887\"],[0.1111111111111111,\"#46039f\"],[0.2222222222222222,\"#7201a8\"],[0.3333333333333333,\"#9c179e\"],[0.4444444444444444,\"#bd3786\"],[0.5555555555555556,\"#d8576b\"],[0.6666666666666666,\"#ed7953\"],[0.7777777777777778,\"#fb9f3a\"],[0.8888888888888888,\"#fdca26\"],[1.0,\"#f0f921\"]],\"sequentialminus\":[[0.0,\"#0d0887\"],[0.1111111111111111,\"#46039f\"],[0.2222222222222222,\"#7201a8\"],[0.3333333333333333,\"#9c179e\"],[0.4444444444444444,\"#bd3786\"],[0.5555555555555556,\"#d8576b\"],[0.6666666666666666,\"#ed7953\"],[0.7777777777777778,\"#fb9f3a\"],[0.8888888888888888,\"#fdca26\"],[1.0,\"#f0f921\"]]},\"colorway\":[\"#636efa\",\"#EF553B\",\"#00cc96\",\"#ab63fa\",\"#FFA15A\",\"#19d3f3\",\"#FF6692\",\"#B6E880\",\"#FF97FF\",\"#FECB52\"],\"font\":{\"color\":\"#2a3f5f\"},\"geo\":{\"bgcolor\":\"white\",\"lakecolor\":\"white\",\"landcolor\":\"#E5ECF6\",\"showlakes\":true,\"showland\":true,\"subunitcolor\":\"white\"},\"hoverlabel\":{\"align\":\"left\"},\"hovermode\":\"closest\",\"mapbox\":{\"style\":\"light\"},\"paper_bgcolor\":\"white\",\"plot_bgcolor\":\"#E5ECF6\",\"polar\":{\"angularaxis\":{\"gridcolor\":\"white\",\"linecolor\":\"white\",\"ticks\":\"\"},\"bgcolor\":\"#E5ECF6\",\"radialaxis\":{\"gridcolor\":\"white\",\"linecolor\":\"white\",\"ticks\":\"\"}},\"scene\":{\"xaxis\":{\"backgroundcolor\":\"#E5ECF6\",\"gridcolor\":\"white\",\"gridwidth\":2,\"linecolor\":\"white\",\"showbackground\":true,\"ticks\":\"\",\"zerolinecolor\":\"white\"},\"yaxis\":{\"backgroundcolor\":\"#E5ECF6\",\"gridcolor\":\"white\",\"gridwidth\":2,\"linecolor\":\"white\",\"showbackground\":true,\"ticks\":\"\",\"zerolinecolor\":\"white\"},\"zaxis\":{\"backgroundcolor\":\"#E5ECF6\",\"gridcolor\":\"white\",\"gridwidth\":2,\"linecolor\":\"white\",\"showbackground\":true,\"ticks\":\"\",\"zerolinecolor\":\"white\"}},\"shapedefaults\":{\"line\":{\"color\":\"#2a3f5f\"}},\"ternary\":{\"aaxis\":{\"gridcolor\":\"white\",\"linecolor\":\"white\",\"ticks\":\"\"},\"baxis\":{\"gridcolor\":\"white\",\"linecolor\":\"white\",\"ticks\":\"\"},\"bgcolor\":\"#E5ECF6\",\"caxis\":{\"gridcolor\":\"white\",\"linecolor\":\"white\",\"ticks\":\"\"}},\"title\":{\"x\":0.05},\"xaxis\":{\"automargin\":true,\"gridcolor\":\"white\",\"linecolor\":\"white\",\"ticks\":\"\",\"title\":{\"standoff\":15},\"zerolinecolor\":\"white\",\"zerolinewidth\":2},\"yaxis\":{\"automargin\":true,\"gridcolor\":\"white\",\"linecolor\":\"white\",\"ticks\":\"\",\"title\":{\"standoff\":15},\"zerolinecolor\":\"white\",\"zerolinewidth\":2}}},\"title\":{\"font\":{\"color\":\"#4D5663\"}},\"xaxis\":{\"gridcolor\":\"#E1E5ED\",\"showgrid\":true,\"tickfont\":{\"color\":\"#4D5663\"},\"title\":{\"font\":{\"color\":\"#4D5663\"},\"text\":\"\"},\"zerolinecolor\":\"#E1E5ED\"},\"yaxis\":{\"gridcolor\":\"#E1E5ED\",\"showgrid\":true,\"tickfont\":{\"color\":\"#4D5663\"},\"title\":{\"font\":{\"color\":\"#4D5663\"},\"text\":\"\"},\"zerolinecolor\":\"#E1E5ED\"}},                        {\"showLink\": true, \"linkText\": \"Export to plot.ly\", \"plotlyServerURL\": \"https://plot.ly\", \"responsive\": true}                    ).then(function(){\n",
       "                            \n",
       "var gd = document.getElementById('60fc552c-3ed4-471d-8139-9db3a83741e9');\n",
       "var x = new MutationObserver(function (mutations, observer) {{\n",
       "        var display = window.getComputedStyle(gd).display;\n",
       "        if (!display || display === 'none') {{\n",
       "            console.log([gd, 'removed!']);\n",
       "            Plotly.purge(gd);\n",
       "            observer.disconnect();\n",
       "        }}\n",
       "}});\n",
       "\n",
       "// Listen for the removal of the full notebook cells\n",
       "var notebookContainer = gd.closest('#notebook-container');\n",
       "if (notebookContainer) {{\n",
       "    x.observe(notebookContainer, {childList: true});\n",
       "}}\n",
       "\n",
       "// Listen for the clearing of the current output cell\n",
       "var outputEl = gd.closest('.output');\n",
       "if (outputEl) {{\n",
       "    x.observe(outputEl, {childList: true});\n",
       "}}\n",
       "\n",
       "                        })                };                });            </script>        </div>"
      ]
     },
     "metadata": {},
     "output_type": "display_data"
    }
   ],
   "source": [
    " df.iplot(kind='bar') #hr point k lia alg bar bni h jo k hame nhi chahiye"
   ]
  },
  {
   "cell_type": "code",
   "execution_count": 23,
   "metadata": {},
   "outputs": [
    {
     "data": {
      "application/vnd.plotly.v1+json": {
       "config": {
        "linkText": "Export to plot.ly",
        "plotlyServerURL": "https://plot.ly",
        "showLink": true
       },
       "data": [
        {
         "marker": {
          "color": "rgba(255, 153, 51, 0.6)",
          "line": {
           "color": "rgba(255, 153, 51, 1.0)",
           "width": 1
          }
         },
         "name": "None",
         "orientation": "v",
         "text": "",
         "type": "bar",
         "x": [
          "A",
          "B",
          "C",
          "D"
         ],
         "y": [
          100,
          100,
          100,
          100
         ]
        }
       ],
       "layout": {
        "legend": {
         "bgcolor": "#F5F6F9",
         "font": {
          "color": "#4D5663"
         }
        },
        "paper_bgcolor": "#F5F6F9",
        "plot_bgcolor": "#F5F6F9",
        "template": {
         "data": {
          "bar": [
           {
            "error_x": {
             "color": "#2a3f5f"
            },
            "error_y": {
             "color": "#2a3f5f"
            },
            "marker": {
             "line": {
              "color": "#E5ECF6",
              "width": 0.5
             },
             "pattern": {
              "fillmode": "overlay",
              "size": 10,
              "solidity": 0.2
             }
            },
            "type": "bar"
           }
          ],
          "barpolar": [
           {
            "marker": {
             "line": {
              "color": "#E5ECF6",
              "width": 0.5
             },
             "pattern": {
              "fillmode": "overlay",
              "size": 10,
              "solidity": 0.2
             }
            },
            "type": "barpolar"
           }
          ],
          "carpet": [
           {
            "aaxis": {
             "endlinecolor": "#2a3f5f",
             "gridcolor": "white",
             "linecolor": "white",
             "minorgridcolor": "white",
             "startlinecolor": "#2a3f5f"
            },
            "baxis": {
             "endlinecolor": "#2a3f5f",
             "gridcolor": "white",
             "linecolor": "white",
             "minorgridcolor": "white",
             "startlinecolor": "#2a3f5f"
            },
            "type": "carpet"
           }
          ],
          "choropleth": [
           {
            "colorbar": {
             "outlinewidth": 0,
             "ticks": ""
            },
            "type": "choropleth"
           }
          ],
          "contour": [
           {
            "colorbar": {
             "outlinewidth": 0,
             "ticks": ""
            },
            "colorscale": [
             [
              0,
              "#0d0887"
             ],
             [
              0.1111111111111111,
              "#46039f"
             ],
             [
              0.2222222222222222,
              "#7201a8"
             ],
             [
              0.3333333333333333,
              "#9c179e"
             ],
             [
              0.4444444444444444,
              "#bd3786"
             ],
             [
              0.5555555555555556,
              "#d8576b"
             ],
             [
              0.6666666666666666,
              "#ed7953"
             ],
             [
              0.7777777777777778,
              "#fb9f3a"
             ],
             [
              0.8888888888888888,
              "#fdca26"
             ],
             [
              1,
              "#f0f921"
             ]
            ],
            "type": "contour"
           }
          ],
          "contourcarpet": [
           {
            "colorbar": {
             "outlinewidth": 0,
             "ticks": ""
            },
            "type": "contourcarpet"
           }
          ],
          "heatmap": [
           {
            "colorbar": {
             "outlinewidth": 0,
             "ticks": ""
            },
            "colorscale": [
             [
              0,
              "#0d0887"
             ],
             [
              0.1111111111111111,
              "#46039f"
             ],
             [
              0.2222222222222222,
              "#7201a8"
             ],
             [
              0.3333333333333333,
              "#9c179e"
             ],
             [
              0.4444444444444444,
              "#bd3786"
             ],
             [
              0.5555555555555556,
              "#d8576b"
             ],
             [
              0.6666666666666666,
              "#ed7953"
             ],
             [
              0.7777777777777778,
              "#fb9f3a"
             ],
             [
              0.8888888888888888,
              "#fdca26"
             ],
             [
              1,
              "#f0f921"
             ]
            ],
            "type": "heatmap"
           }
          ],
          "heatmapgl": [
           {
            "colorbar": {
             "outlinewidth": 0,
             "ticks": ""
            },
            "colorscale": [
             [
              0,
              "#0d0887"
             ],
             [
              0.1111111111111111,
              "#46039f"
             ],
             [
              0.2222222222222222,
              "#7201a8"
             ],
             [
              0.3333333333333333,
              "#9c179e"
             ],
             [
              0.4444444444444444,
              "#bd3786"
             ],
             [
              0.5555555555555556,
              "#d8576b"
             ],
             [
              0.6666666666666666,
              "#ed7953"
             ],
             [
              0.7777777777777778,
              "#fb9f3a"
             ],
             [
              0.8888888888888888,
              "#fdca26"
             ],
             [
              1,
              "#f0f921"
             ]
            ],
            "type": "heatmapgl"
           }
          ],
          "histogram": [
           {
            "marker": {
             "pattern": {
              "fillmode": "overlay",
              "size": 10,
              "solidity": 0.2
             }
            },
            "type": "histogram"
           }
          ],
          "histogram2d": [
           {
            "colorbar": {
             "outlinewidth": 0,
             "ticks": ""
            },
            "colorscale": [
             [
              0,
              "#0d0887"
             ],
             [
              0.1111111111111111,
              "#46039f"
             ],
             [
              0.2222222222222222,
              "#7201a8"
             ],
             [
              0.3333333333333333,
              "#9c179e"
             ],
             [
              0.4444444444444444,
              "#bd3786"
             ],
             [
              0.5555555555555556,
              "#d8576b"
             ],
             [
              0.6666666666666666,
              "#ed7953"
             ],
             [
              0.7777777777777778,
              "#fb9f3a"
             ],
             [
              0.8888888888888888,
              "#fdca26"
             ],
             [
              1,
              "#f0f921"
             ]
            ],
            "type": "histogram2d"
           }
          ],
          "histogram2dcontour": [
           {
            "colorbar": {
             "outlinewidth": 0,
             "ticks": ""
            },
            "colorscale": [
             [
              0,
              "#0d0887"
             ],
             [
              0.1111111111111111,
              "#46039f"
             ],
             [
              0.2222222222222222,
              "#7201a8"
             ],
             [
              0.3333333333333333,
              "#9c179e"
             ],
             [
              0.4444444444444444,
              "#bd3786"
             ],
             [
              0.5555555555555556,
              "#d8576b"
             ],
             [
              0.6666666666666666,
              "#ed7953"
             ],
             [
              0.7777777777777778,
              "#fb9f3a"
             ],
             [
              0.8888888888888888,
              "#fdca26"
             ],
             [
              1,
              "#f0f921"
             ]
            ],
            "type": "histogram2dcontour"
           }
          ],
          "mesh3d": [
           {
            "colorbar": {
             "outlinewidth": 0,
             "ticks": ""
            },
            "type": "mesh3d"
           }
          ],
          "parcoords": [
           {
            "line": {
             "colorbar": {
              "outlinewidth": 0,
              "ticks": ""
             }
            },
            "type": "parcoords"
           }
          ],
          "pie": [
           {
            "automargin": true,
            "type": "pie"
           }
          ],
          "scatter": [
           {
            "fillpattern": {
             "fillmode": "overlay",
             "size": 10,
             "solidity": 0.2
            },
            "type": "scatter"
           }
          ],
          "scatter3d": [
           {
            "line": {
             "colorbar": {
              "outlinewidth": 0,
              "ticks": ""
             }
            },
            "marker": {
             "colorbar": {
              "outlinewidth": 0,
              "ticks": ""
             }
            },
            "type": "scatter3d"
           }
          ],
          "scattercarpet": [
           {
            "marker": {
             "colorbar": {
              "outlinewidth": 0,
              "ticks": ""
             }
            },
            "type": "scattercarpet"
           }
          ],
          "scattergeo": [
           {
            "marker": {
             "colorbar": {
              "outlinewidth": 0,
              "ticks": ""
             }
            },
            "type": "scattergeo"
           }
          ],
          "scattergl": [
           {
            "marker": {
             "colorbar": {
              "outlinewidth": 0,
              "ticks": ""
             }
            },
            "type": "scattergl"
           }
          ],
          "scattermapbox": [
           {
            "marker": {
             "colorbar": {
              "outlinewidth": 0,
              "ticks": ""
             }
            },
            "type": "scattermapbox"
           }
          ],
          "scatterpolar": [
           {
            "marker": {
             "colorbar": {
              "outlinewidth": 0,
              "ticks": ""
             }
            },
            "type": "scatterpolar"
           }
          ],
          "scatterpolargl": [
           {
            "marker": {
             "colorbar": {
              "outlinewidth": 0,
              "ticks": ""
             }
            },
            "type": "scatterpolargl"
           }
          ],
          "scatterternary": [
           {
            "marker": {
             "colorbar": {
              "outlinewidth": 0,
              "ticks": ""
             }
            },
            "type": "scatterternary"
           }
          ],
          "surface": [
           {
            "colorbar": {
             "outlinewidth": 0,
             "ticks": ""
            },
            "colorscale": [
             [
              0,
              "#0d0887"
             ],
             [
              0.1111111111111111,
              "#46039f"
             ],
             [
              0.2222222222222222,
              "#7201a8"
             ],
             [
              0.3333333333333333,
              "#9c179e"
             ],
             [
              0.4444444444444444,
              "#bd3786"
             ],
             [
              0.5555555555555556,
              "#d8576b"
             ],
             [
              0.6666666666666666,
              "#ed7953"
             ],
             [
              0.7777777777777778,
              "#fb9f3a"
             ],
             [
              0.8888888888888888,
              "#fdca26"
             ],
             [
              1,
              "#f0f921"
             ]
            ],
            "type": "surface"
           }
          ],
          "table": [
           {
            "cells": {
             "fill": {
              "color": "#EBF0F8"
             },
             "line": {
              "color": "white"
             }
            },
            "header": {
             "fill": {
              "color": "#C8D4E3"
             },
             "line": {
              "color": "white"
             }
            },
            "type": "table"
           }
          ]
         },
         "layout": {
          "annotationdefaults": {
           "arrowcolor": "#2a3f5f",
           "arrowhead": 0,
           "arrowwidth": 1
          },
          "autotypenumbers": "strict",
          "coloraxis": {
           "colorbar": {
            "outlinewidth": 0,
            "ticks": ""
           }
          },
          "colorscale": {
           "diverging": [
            [
             0,
             "#8e0152"
            ],
            [
             0.1,
             "#c51b7d"
            ],
            [
             0.2,
             "#de77ae"
            ],
            [
             0.3,
             "#f1b6da"
            ],
            [
             0.4,
             "#fde0ef"
            ],
            [
             0.5,
             "#f7f7f7"
            ],
            [
             0.6,
             "#e6f5d0"
            ],
            [
             0.7,
             "#b8e186"
            ],
            [
             0.8,
             "#7fbc41"
            ],
            [
             0.9,
             "#4d9221"
            ],
            [
             1,
             "#276419"
            ]
           ],
           "sequential": [
            [
             0,
             "#0d0887"
            ],
            [
             0.1111111111111111,
             "#46039f"
            ],
            [
             0.2222222222222222,
             "#7201a8"
            ],
            [
             0.3333333333333333,
             "#9c179e"
            ],
            [
             0.4444444444444444,
             "#bd3786"
            ],
            [
             0.5555555555555556,
             "#d8576b"
            ],
            [
             0.6666666666666666,
             "#ed7953"
            ],
            [
             0.7777777777777778,
             "#fb9f3a"
            ],
            [
             0.8888888888888888,
             "#fdca26"
            ],
            [
             1,
             "#f0f921"
            ]
           ],
           "sequentialminus": [
            [
             0,
             "#0d0887"
            ],
            [
             0.1111111111111111,
             "#46039f"
            ],
            [
             0.2222222222222222,
             "#7201a8"
            ],
            [
             0.3333333333333333,
             "#9c179e"
            ],
            [
             0.4444444444444444,
             "#bd3786"
            ],
            [
             0.5555555555555556,
             "#d8576b"
            ],
            [
             0.6666666666666666,
             "#ed7953"
            ],
            [
             0.7777777777777778,
             "#fb9f3a"
            ],
            [
             0.8888888888888888,
             "#fdca26"
            ],
            [
             1,
             "#f0f921"
            ]
           ]
          },
          "colorway": [
           "#636efa",
           "#EF553B",
           "#00cc96",
           "#ab63fa",
           "#FFA15A",
           "#19d3f3",
           "#FF6692",
           "#B6E880",
           "#FF97FF",
           "#FECB52"
          ],
          "font": {
           "color": "#2a3f5f"
          },
          "geo": {
           "bgcolor": "white",
           "lakecolor": "white",
           "landcolor": "#E5ECF6",
           "showlakes": true,
           "showland": true,
           "subunitcolor": "white"
          },
          "hoverlabel": {
           "align": "left"
          },
          "hovermode": "closest",
          "mapbox": {
           "style": "light"
          },
          "paper_bgcolor": "white",
          "plot_bgcolor": "#E5ECF6",
          "polar": {
           "angularaxis": {
            "gridcolor": "white",
            "linecolor": "white",
            "ticks": ""
           },
           "bgcolor": "#E5ECF6",
           "radialaxis": {
            "gridcolor": "white",
            "linecolor": "white",
            "ticks": ""
           }
          },
          "scene": {
           "xaxis": {
            "backgroundcolor": "#E5ECF6",
            "gridcolor": "white",
            "gridwidth": 2,
            "linecolor": "white",
            "showbackground": true,
            "ticks": "",
            "zerolinecolor": "white"
           },
           "yaxis": {
            "backgroundcolor": "#E5ECF6",
            "gridcolor": "white",
            "gridwidth": 2,
            "linecolor": "white",
            "showbackground": true,
            "ticks": "",
            "zerolinecolor": "white"
           },
           "zaxis": {
            "backgroundcolor": "#E5ECF6",
            "gridcolor": "white",
            "gridwidth": 2,
            "linecolor": "white",
            "showbackground": true,
            "ticks": "",
            "zerolinecolor": "white"
           }
          },
          "shapedefaults": {
           "line": {
            "color": "#2a3f5f"
           }
          },
          "ternary": {
           "aaxis": {
            "gridcolor": "white",
            "linecolor": "white",
            "ticks": ""
           },
           "baxis": {
            "gridcolor": "white",
            "linecolor": "white",
            "ticks": ""
           },
           "bgcolor": "#E5ECF6",
           "caxis": {
            "gridcolor": "white",
            "linecolor": "white",
            "ticks": ""
           }
          },
          "title": {
           "x": 0.05
          },
          "xaxis": {
           "automargin": true,
           "gridcolor": "white",
           "linecolor": "white",
           "ticks": "",
           "title": {
            "standoff": 15
           },
           "zerolinecolor": "white",
           "zerolinewidth": 2
          },
          "yaxis": {
           "automargin": true,
           "gridcolor": "white",
           "linecolor": "white",
           "ticks": "",
           "title": {
            "standoff": 15
           },
           "zerolinecolor": "white",
           "zerolinewidth": 2
          }
         }
        },
        "title": {
         "font": {
          "color": "#4D5663"
         }
        },
        "xaxis": {
         "gridcolor": "#E1E5ED",
         "showgrid": true,
         "tickfont": {
          "color": "#4D5663"
         },
         "title": {
          "font": {
           "color": "#4D5663"
          },
          "text": ""
         },
         "zerolinecolor": "#E1E5ED"
        },
        "yaxis": {
         "gridcolor": "#E1E5ED",
         "showgrid": true,
         "tickfont": {
          "color": "#4D5663"
         },
         "title": {
          "font": {
           "color": "#4D5663"
          },
          "text": ""
         },
         "zerolinecolor": "#E1E5ED"
        }
       }
      },
      "text/html": [
       "<div>                            <div id=\"df643ea2-6dbf-4ed1-aec6-283fe69f93f4\" class=\"plotly-graph-div\" style=\"height:525px; width:100%;\"></div>            <script type=\"text/javascript\">                require([\"plotly\"], function(Plotly) {                    window.PLOTLYENV=window.PLOTLYENV || {};\n",
       "                    window.PLOTLYENV.BASE_URL='https://plot.ly';                                    if (document.getElementById(\"df643ea2-6dbf-4ed1-aec6-283fe69f93f4\")) {                    Plotly.newPlot(                        \"df643ea2-6dbf-4ed1-aec6-283fe69f93f4\",                        [{\"marker\":{\"color\":\"rgba(255, 153, 51, 0.6)\",\"line\":{\"color\":\"rgba(255, 153, 51, 1.0)\",\"width\":1}},\"name\":\"None\",\"orientation\":\"v\",\"text\":\"\",\"x\":[\"A\",\"B\",\"C\",\"D\"],\"y\":[100,100,100,100],\"type\":\"bar\"}],                        {\"legend\":{\"bgcolor\":\"#F5F6F9\",\"font\":{\"color\":\"#4D5663\"}},\"paper_bgcolor\":\"#F5F6F9\",\"plot_bgcolor\":\"#F5F6F9\",\"template\":{\"data\":{\"barpolar\":[{\"marker\":{\"line\":{\"color\":\"#E5ECF6\",\"width\":0.5},\"pattern\":{\"fillmode\":\"overlay\",\"size\":10,\"solidity\":0.2}},\"type\":\"barpolar\"}],\"bar\":[{\"error_x\":{\"color\":\"#2a3f5f\"},\"error_y\":{\"color\":\"#2a3f5f\"},\"marker\":{\"line\":{\"color\":\"#E5ECF6\",\"width\":0.5},\"pattern\":{\"fillmode\":\"overlay\",\"size\":10,\"solidity\":0.2}},\"type\":\"bar\"}],\"carpet\":[{\"aaxis\":{\"endlinecolor\":\"#2a3f5f\",\"gridcolor\":\"white\",\"linecolor\":\"white\",\"minorgridcolor\":\"white\",\"startlinecolor\":\"#2a3f5f\"},\"baxis\":{\"endlinecolor\":\"#2a3f5f\",\"gridcolor\":\"white\",\"linecolor\":\"white\",\"minorgridcolor\":\"white\",\"startlinecolor\":\"#2a3f5f\"},\"type\":\"carpet\"}],\"choropleth\":[{\"colorbar\":{\"outlinewidth\":0,\"ticks\":\"\"},\"type\":\"choropleth\"}],\"contourcarpet\":[{\"colorbar\":{\"outlinewidth\":0,\"ticks\":\"\"},\"type\":\"contourcarpet\"}],\"contour\":[{\"colorbar\":{\"outlinewidth\":0,\"ticks\":\"\"},\"colorscale\":[[0.0,\"#0d0887\"],[0.1111111111111111,\"#46039f\"],[0.2222222222222222,\"#7201a8\"],[0.3333333333333333,\"#9c179e\"],[0.4444444444444444,\"#bd3786\"],[0.5555555555555556,\"#d8576b\"],[0.6666666666666666,\"#ed7953\"],[0.7777777777777778,\"#fb9f3a\"],[0.8888888888888888,\"#fdca26\"],[1.0,\"#f0f921\"]],\"type\":\"contour\"}],\"heatmapgl\":[{\"colorbar\":{\"outlinewidth\":0,\"ticks\":\"\"},\"colorscale\":[[0.0,\"#0d0887\"],[0.1111111111111111,\"#46039f\"],[0.2222222222222222,\"#7201a8\"],[0.3333333333333333,\"#9c179e\"],[0.4444444444444444,\"#bd3786\"],[0.5555555555555556,\"#d8576b\"],[0.6666666666666666,\"#ed7953\"],[0.7777777777777778,\"#fb9f3a\"],[0.8888888888888888,\"#fdca26\"],[1.0,\"#f0f921\"]],\"type\":\"heatmapgl\"}],\"heatmap\":[{\"colorbar\":{\"outlinewidth\":0,\"ticks\":\"\"},\"colorscale\":[[0.0,\"#0d0887\"],[0.1111111111111111,\"#46039f\"],[0.2222222222222222,\"#7201a8\"],[0.3333333333333333,\"#9c179e\"],[0.4444444444444444,\"#bd3786\"],[0.5555555555555556,\"#d8576b\"],[0.6666666666666666,\"#ed7953\"],[0.7777777777777778,\"#fb9f3a\"],[0.8888888888888888,\"#fdca26\"],[1.0,\"#f0f921\"]],\"type\":\"heatmap\"}],\"histogram2dcontour\":[{\"colorbar\":{\"outlinewidth\":0,\"ticks\":\"\"},\"colorscale\":[[0.0,\"#0d0887\"],[0.1111111111111111,\"#46039f\"],[0.2222222222222222,\"#7201a8\"],[0.3333333333333333,\"#9c179e\"],[0.4444444444444444,\"#bd3786\"],[0.5555555555555556,\"#d8576b\"],[0.6666666666666666,\"#ed7953\"],[0.7777777777777778,\"#fb9f3a\"],[0.8888888888888888,\"#fdca26\"],[1.0,\"#f0f921\"]],\"type\":\"histogram2dcontour\"}],\"histogram2d\":[{\"colorbar\":{\"outlinewidth\":0,\"ticks\":\"\"},\"colorscale\":[[0.0,\"#0d0887\"],[0.1111111111111111,\"#46039f\"],[0.2222222222222222,\"#7201a8\"],[0.3333333333333333,\"#9c179e\"],[0.4444444444444444,\"#bd3786\"],[0.5555555555555556,\"#d8576b\"],[0.6666666666666666,\"#ed7953\"],[0.7777777777777778,\"#fb9f3a\"],[0.8888888888888888,\"#fdca26\"],[1.0,\"#f0f921\"]],\"type\":\"histogram2d\"}],\"histogram\":[{\"marker\":{\"pattern\":{\"fillmode\":\"overlay\",\"size\":10,\"solidity\":0.2}},\"type\":\"histogram\"}],\"mesh3d\":[{\"colorbar\":{\"outlinewidth\":0,\"ticks\":\"\"},\"type\":\"mesh3d\"}],\"parcoords\":[{\"line\":{\"colorbar\":{\"outlinewidth\":0,\"ticks\":\"\"}},\"type\":\"parcoords\"}],\"pie\":[{\"automargin\":true,\"type\":\"pie\"}],\"scatter3d\":[{\"line\":{\"colorbar\":{\"outlinewidth\":0,\"ticks\":\"\"}},\"marker\":{\"colorbar\":{\"outlinewidth\":0,\"ticks\":\"\"}},\"type\":\"scatter3d\"}],\"scattercarpet\":[{\"marker\":{\"colorbar\":{\"outlinewidth\":0,\"ticks\":\"\"}},\"type\":\"scattercarpet\"}],\"scattergeo\":[{\"marker\":{\"colorbar\":{\"outlinewidth\":0,\"ticks\":\"\"}},\"type\":\"scattergeo\"}],\"scattergl\":[{\"marker\":{\"colorbar\":{\"outlinewidth\":0,\"ticks\":\"\"}},\"type\":\"scattergl\"}],\"scattermapbox\":[{\"marker\":{\"colorbar\":{\"outlinewidth\":0,\"ticks\":\"\"}},\"type\":\"scattermapbox\"}],\"scatterpolargl\":[{\"marker\":{\"colorbar\":{\"outlinewidth\":0,\"ticks\":\"\"}},\"type\":\"scatterpolargl\"}],\"scatterpolar\":[{\"marker\":{\"colorbar\":{\"outlinewidth\":0,\"ticks\":\"\"}},\"type\":\"scatterpolar\"}],\"scatter\":[{\"fillpattern\":{\"fillmode\":\"overlay\",\"size\":10,\"solidity\":0.2},\"type\":\"scatter\"}],\"scatterternary\":[{\"marker\":{\"colorbar\":{\"outlinewidth\":0,\"ticks\":\"\"}},\"type\":\"scatterternary\"}],\"surface\":[{\"colorbar\":{\"outlinewidth\":0,\"ticks\":\"\"},\"colorscale\":[[0.0,\"#0d0887\"],[0.1111111111111111,\"#46039f\"],[0.2222222222222222,\"#7201a8\"],[0.3333333333333333,\"#9c179e\"],[0.4444444444444444,\"#bd3786\"],[0.5555555555555556,\"#d8576b\"],[0.6666666666666666,\"#ed7953\"],[0.7777777777777778,\"#fb9f3a\"],[0.8888888888888888,\"#fdca26\"],[1.0,\"#f0f921\"]],\"type\":\"surface\"}],\"table\":[{\"cells\":{\"fill\":{\"color\":\"#EBF0F8\"},\"line\":{\"color\":\"white\"}},\"header\":{\"fill\":{\"color\":\"#C8D4E3\"},\"line\":{\"color\":\"white\"}},\"type\":\"table\"}]},\"layout\":{\"annotationdefaults\":{\"arrowcolor\":\"#2a3f5f\",\"arrowhead\":0,\"arrowwidth\":1},\"autotypenumbers\":\"strict\",\"coloraxis\":{\"colorbar\":{\"outlinewidth\":0,\"ticks\":\"\"}},\"colorscale\":{\"diverging\":[[0,\"#8e0152\"],[0.1,\"#c51b7d\"],[0.2,\"#de77ae\"],[0.3,\"#f1b6da\"],[0.4,\"#fde0ef\"],[0.5,\"#f7f7f7\"],[0.6,\"#e6f5d0\"],[0.7,\"#b8e186\"],[0.8,\"#7fbc41\"],[0.9,\"#4d9221\"],[1,\"#276419\"]],\"sequential\":[[0.0,\"#0d0887\"],[0.1111111111111111,\"#46039f\"],[0.2222222222222222,\"#7201a8\"],[0.3333333333333333,\"#9c179e\"],[0.4444444444444444,\"#bd3786\"],[0.5555555555555556,\"#d8576b\"],[0.6666666666666666,\"#ed7953\"],[0.7777777777777778,\"#fb9f3a\"],[0.8888888888888888,\"#fdca26\"],[1.0,\"#f0f921\"]],\"sequentialminus\":[[0.0,\"#0d0887\"],[0.1111111111111111,\"#46039f\"],[0.2222222222222222,\"#7201a8\"],[0.3333333333333333,\"#9c179e\"],[0.4444444444444444,\"#bd3786\"],[0.5555555555555556,\"#d8576b\"],[0.6666666666666666,\"#ed7953\"],[0.7777777777777778,\"#fb9f3a\"],[0.8888888888888888,\"#fdca26\"],[1.0,\"#f0f921\"]]},\"colorway\":[\"#636efa\",\"#EF553B\",\"#00cc96\",\"#ab63fa\",\"#FFA15A\",\"#19d3f3\",\"#FF6692\",\"#B6E880\",\"#FF97FF\",\"#FECB52\"],\"font\":{\"color\":\"#2a3f5f\"},\"geo\":{\"bgcolor\":\"white\",\"lakecolor\":\"white\",\"landcolor\":\"#E5ECF6\",\"showlakes\":true,\"showland\":true,\"subunitcolor\":\"white\"},\"hoverlabel\":{\"align\":\"left\"},\"hovermode\":\"closest\",\"mapbox\":{\"style\":\"light\"},\"paper_bgcolor\":\"white\",\"plot_bgcolor\":\"#E5ECF6\",\"polar\":{\"angularaxis\":{\"gridcolor\":\"white\",\"linecolor\":\"white\",\"ticks\":\"\"},\"bgcolor\":\"#E5ECF6\",\"radialaxis\":{\"gridcolor\":\"white\",\"linecolor\":\"white\",\"ticks\":\"\"}},\"scene\":{\"xaxis\":{\"backgroundcolor\":\"#E5ECF6\",\"gridcolor\":\"white\",\"gridwidth\":2,\"linecolor\":\"white\",\"showbackground\":true,\"ticks\":\"\",\"zerolinecolor\":\"white\"},\"yaxis\":{\"backgroundcolor\":\"#E5ECF6\",\"gridcolor\":\"white\",\"gridwidth\":2,\"linecolor\":\"white\",\"showbackground\":true,\"ticks\":\"\",\"zerolinecolor\":\"white\"},\"zaxis\":{\"backgroundcolor\":\"#E5ECF6\",\"gridcolor\":\"white\",\"gridwidth\":2,\"linecolor\":\"white\",\"showbackground\":true,\"ticks\":\"\",\"zerolinecolor\":\"white\"}},\"shapedefaults\":{\"line\":{\"color\":\"#2a3f5f\"}},\"ternary\":{\"aaxis\":{\"gridcolor\":\"white\",\"linecolor\":\"white\",\"ticks\":\"\"},\"baxis\":{\"gridcolor\":\"white\",\"linecolor\":\"white\",\"ticks\":\"\"},\"bgcolor\":\"#E5ECF6\",\"caxis\":{\"gridcolor\":\"white\",\"linecolor\":\"white\",\"ticks\":\"\"}},\"title\":{\"x\":0.05},\"xaxis\":{\"automargin\":true,\"gridcolor\":\"white\",\"linecolor\":\"white\",\"ticks\":\"\",\"title\":{\"standoff\":15},\"zerolinecolor\":\"white\",\"zerolinewidth\":2},\"yaxis\":{\"automargin\":true,\"gridcolor\":\"white\",\"linecolor\":\"white\",\"ticks\":\"\",\"title\":{\"standoff\":15},\"zerolinecolor\":\"white\",\"zerolinewidth\":2}}},\"title\":{\"font\":{\"color\":\"#4D5663\"}},\"xaxis\":{\"gridcolor\":\"#E1E5ED\",\"showgrid\":true,\"tickfont\":{\"color\":\"#4D5663\"},\"title\":{\"font\":{\"color\":\"#4D5663\"},\"text\":\"\"},\"zerolinecolor\":\"#E1E5ED\"},\"yaxis\":{\"gridcolor\":\"#E1E5ED\",\"showgrid\":true,\"tickfont\":{\"color\":\"#4D5663\"},\"title\":{\"font\":{\"color\":\"#4D5663\"},\"text\":\"\"},\"zerolinecolor\":\"#E1E5ED\"}},                        {\"showLink\": true, \"linkText\": \"Export to plot.ly\", \"plotlyServerURL\": \"https://plot.ly\", \"responsive\": true}                    ).then(function(){\n",
       "                            \n",
       "var gd = document.getElementById('df643ea2-6dbf-4ed1-aec6-283fe69f93f4');\n",
       "var x = new MutationObserver(function (mutations, observer) {{\n",
       "        var display = window.getComputedStyle(gd).display;\n",
       "        if (!display || display === 'none') {{\n",
       "            console.log([gd, 'removed!']);\n",
       "            Plotly.purge(gd);\n",
       "            observer.disconnect();\n",
       "        }}\n",
       "}});\n",
       "\n",
       "// Listen for the removal of the full notebook cells\n",
       "var notebookContainer = gd.closest('#notebook-container');\n",
       "if (notebookContainer) {{\n",
       "    x.observe(notebookContainer, {childList: true});\n",
       "}}\n",
       "\n",
       "// Listen for the clearing of the current output cell\n",
       "var outputEl = gd.closest('.output');\n",
       "if (outputEl) {{\n",
       "    x.observe(outputEl, {childList: true});\n",
       "}}\n",
       "\n",
       "                        })                };                });            </script>        </div>"
      ]
     },
     "metadata": {},
     "output_type": "display_data"
    }
   ],
   "source": [
    " df.count().iplot(kind='bar')\n",
    "    #count total number of values which are 100 for each column "
   ]
  },
  {
   "cell_type": "code",
   "execution_count": 26,
   "metadata": {},
   "outputs": [
    {
     "data": {
      "application/vnd.plotly.v1+json": {
       "config": {
        "linkText": "Export to plot.ly",
        "plotlyServerURL": "https://plot.ly",
        "showLink": true
       },
       "data": [
        {
         "marker": {
          "color": "rgba(255, 153, 51, 0.6)",
          "line": {
           "color": "rgba(255, 153, 51, 1.0)",
           "width": 1
          }
         },
         "name": "None",
         "orientation": "v",
         "text": "",
         "type": "bar",
         "x": [
          "A",
          "B",
          "C",
          "D"
         ],
         "y": [
          -8.975083978992135,
          -11.982662486085191,
          -3.599322881472302,
          -7.0954837862900115
         ]
        }
       ],
       "layout": {
        "legend": {
         "bgcolor": "#F5F6F9",
         "font": {
          "color": "#4D5663"
         }
        },
        "paper_bgcolor": "#F5F6F9",
        "plot_bgcolor": "#F5F6F9",
        "template": {
         "data": {
          "bar": [
           {
            "error_x": {
             "color": "#2a3f5f"
            },
            "error_y": {
             "color": "#2a3f5f"
            },
            "marker": {
             "line": {
              "color": "#E5ECF6",
              "width": 0.5
             },
             "pattern": {
              "fillmode": "overlay",
              "size": 10,
              "solidity": 0.2
             }
            },
            "type": "bar"
           }
          ],
          "barpolar": [
           {
            "marker": {
             "line": {
              "color": "#E5ECF6",
              "width": 0.5
             },
             "pattern": {
              "fillmode": "overlay",
              "size": 10,
              "solidity": 0.2
             }
            },
            "type": "barpolar"
           }
          ],
          "carpet": [
           {
            "aaxis": {
             "endlinecolor": "#2a3f5f",
             "gridcolor": "white",
             "linecolor": "white",
             "minorgridcolor": "white",
             "startlinecolor": "#2a3f5f"
            },
            "baxis": {
             "endlinecolor": "#2a3f5f",
             "gridcolor": "white",
             "linecolor": "white",
             "minorgridcolor": "white",
             "startlinecolor": "#2a3f5f"
            },
            "type": "carpet"
           }
          ],
          "choropleth": [
           {
            "colorbar": {
             "outlinewidth": 0,
             "ticks": ""
            },
            "type": "choropleth"
           }
          ],
          "contour": [
           {
            "colorbar": {
             "outlinewidth": 0,
             "ticks": ""
            },
            "colorscale": [
             [
              0,
              "#0d0887"
             ],
             [
              0.1111111111111111,
              "#46039f"
             ],
             [
              0.2222222222222222,
              "#7201a8"
             ],
             [
              0.3333333333333333,
              "#9c179e"
             ],
             [
              0.4444444444444444,
              "#bd3786"
             ],
             [
              0.5555555555555556,
              "#d8576b"
             ],
             [
              0.6666666666666666,
              "#ed7953"
             ],
             [
              0.7777777777777778,
              "#fb9f3a"
             ],
             [
              0.8888888888888888,
              "#fdca26"
             ],
             [
              1,
              "#f0f921"
             ]
            ],
            "type": "contour"
           }
          ],
          "contourcarpet": [
           {
            "colorbar": {
             "outlinewidth": 0,
             "ticks": ""
            },
            "type": "contourcarpet"
           }
          ],
          "heatmap": [
           {
            "colorbar": {
             "outlinewidth": 0,
             "ticks": ""
            },
            "colorscale": [
             [
              0,
              "#0d0887"
             ],
             [
              0.1111111111111111,
              "#46039f"
             ],
             [
              0.2222222222222222,
              "#7201a8"
             ],
             [
              0.3333333333333333,
              "#9c179e"
             ],
             [
              0.4444444444444444,
              "#bd3786"
             ],
             [
              0.5555555555555556,
              "#d8576b"
             ],
             [
              0.6666666666666666,
              "#ed7953"
             ],
             [
              0.7777777777777778,
              "#fb9f3a"
             ],
             [
              0.8888888888888888,
              "#fdca26"
             ],
             [
              1,
              "#f0f921"
             ]
            ],
            "type": "heatmap"
           }
          ],
          "heatmapgl": [
           {
            "colorbar": {
             "outlinewidth": 0,
             "ticks": ""
            },
            "colorscale": [
             [
              0,
              "#0d0887"
             ],
             [
              0.1111111111111111,
              "#46039f"
             ],
             [
              0.2222222222222222,
              "#7201a8"
             ],
             [
              0.3333333333333333,
              "#9c179e"
             ],
             [
              0.4444444444444444,
              "#bd3786"
             ],
             [
              0.5555555555555556,
              "#d8576b"
             ],
             [
              0.6666666666666666,
              "#ed7953"
             ],
             [
              0.7777777777777778,
              "#fb9f3a"
             ],
             [
              0.8888888888888888,
              "#fdca26"
             ],
             [
              1,
              "#f0f921"
             ]
            ],
            "type": "heatmapgl"
           }
          ],
          "histogram": [
           {
            "marker": {
             "pattern": {
              "fillmode": "overlay",
              "size": 10,
              "solidity": 0.2
             }
            },
            "type": "histogram"
           }
          ],
          "histogram2d": [
           {
            "colorbar": {
             "outlinewidth": 0,
             "ticks": ""
            },
            "colorscale": [
             [
              0,
              "#0d0887"
             ],
             [
              0.1111111111111111,
              "#46039f"
             ],
             [
              0.2222222222222222,
              "#7201a8"
             ],
             [
              0.3333333333333333,
              "#9c179e"
             ],
             [
              0.4444444444444444,
              "#bd3786"
             ],
             [
              0.5555555555555556,
              "#d8576b"
             ],
             [
              0.6666666666666666,
              "#ed7953"
             ],
             [
              0.7777777777777778,
              "#fb9f3a"
             ],
             [
              0.8888888888888888,
              "#fdca26"
             ],
             [
              1,
              "#f0f921"
             ]
            ],
            "type": "histogram2d"
           }
          ],
          "histogram2dcontour": [
           {
            "colorbar": {
             "outlinewidth": 0,
             "ticks": ""
            },
            "colorscale": [
             [
              0,
              "#0d0887"
             ],
             [
              0.1111111111111111,
              "#46039f"
             ],
             [
              0.2222222222222222,
              "#7201a8"
             ],
             [
              0.3333333333333333,
              "#9c179e"
             ],
             [
              0.4444444444444444,
              "#bd3786"
             ],
             [
              0.5555555555555556,
              "#d8576b"
             ],
             [
              0.6666666666666666,
              "#ed7953"
             ],
             [
              0.7777777777777778,
              "#fb9f3a"
             ],
             [
              0.8888888888888888,
              "#fdca26"
             ],
             [
              1,
              "#f0f921"
             ]
            ],
            "type": "histogram2dcontour"
           }
          ],
          "mesh3d": [
           {
            "colorbar": {
             "outlinewidth": 0,
             "ticks": ""
            },
            "type": "mesh3d"
           }
          ],
          "parcoords": [
           {
            "line": {
             "colorbar": {
              "outlinewidth": 0,
              "ticks": ""
             }
            },
            "type": "parcoords"
           }
          ],
          "pie": [
           {
            "automargin": true,
            "type": "pie"
           }
          ],
          "scatter": [
           {
            "fillpattern": {
             "fillmode": "overlay",
             "size": 10,
             "solidity": 0.2
            },
            "type": "scatter"
           }
          ],
          "scatter3d": [
           {
            "line": {
             "colorbar": {
              "outlinewidth": 0,
              "ticks": ""
             }
            },
            "marker": {
             "colorbar": {
              "outlinewidth": 0,
              "ticks": ""
             }
            },
            "type": "scatter3d"
           }
          ],
          "scattercarpet": [
           {
            "marker": {
             "colorbar": {
              "outlinewidth": 0,
              "ticks": ""
             }
            },
            "type": "scattercarpet"
           }
          ],
          "scattergeo": [
           {
            "marker": {
             "colorbar": {
              "outlinewidth": 0,
              "ticks": ""
             }
            },
            "type": "scattergeo"
           }
          ],
          "scattergl": [
           {
            "marker": {
             "colorbar": {
              "outlinewidth": 0,
              "ticks": ""
             }
            },
            "type": "scattergl"
           }
          ],
          "scattermapbox": [
           {
            "marker": {
             "colorbar": {
              "outlinewidth": 0,
              "ticks": ""
             }
            },
            "type": "scattermapbox"
           }
          ],
          "scatterpolar": [
           {
            "marker": {
             "colorbar": {
              "outlinewidth": 0,
              "ticks": ""
             }
            },
            "type": "scatterpolar"
           }
          ],
          "scatterpolargl": [
           {
            "marker": {
             "colorbar": {
              "outlinewidth": 0,
              "ticks": ""
             }
            },
            "type": "scatterpolargl"
           }
          ],
          "scatterternary": [
           {
            "marker": {
             "colorbar": {
              "outlinewidth": 0,
              "ticks": ""
             }
            },
            "type": "scatterternary"
           }
          ],
          "surface": [
           {
            "colorbar": {
             "outlinewidth": 0,
             "ticks": ""
            },
            "colorscale": [
             [
              0,
              "#0d0887"
             ],
             [
              0.1111111111111111,
              "#46039f"
             ],
             [
              0.2222222222222222,
              "#7201a8"
             ],
             [
              0.3333333333333333,
              "#9c179e"
             ],
             [
              0.4444444444444444,
              "#bd3786"
             ],
             [
              0.5555555555555556,
              "#d8576b"
             ],
             [
              0.6666666666666666,
              "#ed7953"
             ],
             [
              0.7777777777777778,
              "#fb9f3a"
             ],
             [
              0.8888888888888888,
              "#fdca26"
             ],
             [
              1,
              "#f0f921"
             ]
            ],
            "type": "surface"
           }
          ],
          "table": [
           {
            "cells": {
             "fill": {
              "color": "#EBF0F8"
             },
             "line": {
              "color": "white"
             }
            },
            "header": {
             "fill": {
              "color": "#C8D4E3"
             },
             "line": {
              "color": "white"
             }
            },
            "type": "table"
           }
          ]
         },
         "layout": {
          "annotationdefaults": {
           "arrowcolor": "#2a3f5f",
           "arrowhead": 0,
           "arrowwidth": 1
          },
          "autotypenumbers": "strict",
          "coloraxis": {
           "colorbar": {
            "outlinewidth": 0,
            "ticks": ""
           }
          },
          "colorscale": {
           "diverging": [
            [
             0,
             "#8e0152"
            ],
            [
             0.1,
             "#c51b7d"
            ],
            [
             0.2,
             "#de77ae"
            ],
            [
             0.3,
             "#f1b6da"
            ],
            [
             0.4,
             "#fde0ef"
            ],
            [
             0.5,
             "#f7f7f7"
            ],
            [
             0.6,
             "#e6f5d0"
            ],
            [
             0.7,
             "#b8e186"
            ],
            [
             0.8,
             "#7fbc41"
            ],
            [
             0.9,
             "#4d9221"
            ],
            [
             1,
             "#276419"
            ]
           ],
           "sequential": [
            [
             0,
             "#0d0887"
            ],
            [
             0.1111111111111111,
             "#46039f"
            ],
            [
             0.2222222222222222,
             "#7201a8"
            ],
            [
             0.3333333333333333,
             "#9c179e"
            ],
            [
             0.4444444444444444,
             "#bd3786"
            ],
            [
             0.5555555555555556,
             "#d8576b"
            ],
            [
             0.6666666666666666,
             "#ed7953"
            ],
            [
             0.7777777777777778,
             "#fb9f3a"
            ],
            [
             0.8888888888888888,
             "#fdca26"
            ],
            [
             1,
             "#f0f921"
            ]
           ],
           "sequentialminus": [
            [
             0,
             "#0d0887"
            ],
            [
             0.1111111111111111,
             "#46039f"
            ],
            [
             0.2222222222222222,
             "#7201a8"
            ],
            [
             0.3333333333333333,
             "#9c179e"
            ],
            [
             0.4444444444444444,
             "#bd3786"
            ],
            [
             0.5555555555555556,
             "#d8576b"
            ],
            [
             0.6666666666666666,
             "#ed7953"
            ],
            [
             0.7777777777777778,
             "#fb9f3a"
            ],
            [
             0.8888888888888888,
             "#fdca26"
            ],
            [
             1,
             "#f0f921"
            ]
           ]
          },
          "colorway": [
           "#636efa",
           "#EF553B",
           "#00cc96",
           "#ab63fa",
           "#FFA15A",
           "#19d3f3",
           "#FF6692",
           "#B6E880",
           "#FF97FF",
           "#FECB52"
          ],
          "font": {
           "color": "#2a3f5f"
          },
          "geo": {
           "bgcolor": "white",
           "lakecolor": "white",
           "landcolor": "#E5ECF6",
           "showlakes": true,
           "showland": true,
           "subunitcolor": "white"
          },
          "hoverlabel": {
           "align": "left"
          },
          "hovermode": "closest",
          "mapbox": {
           "style": "light"
          },
          "paper_bgcolor": "white",
          "plot_bgcolor": "#E5ECF6",
          "polar": {
           "angularaxis": {
            "gridcolor": "white",
            "linecolor": "white",
            "ticks": ""
           },
           "bgcolor": "#E5ECF6",
           "radialaxis": {
            "gridcolor": "white",
            "linecolor": "white",
            "ticks": ""
           }
          },
          "scene": {
           "xaxis": {
            "backgroundcolor": "#E5ECF6",
            "gridcolor": "white",
            "gridwidth": 2,
            "linecolor": "white",
            "showbackground": true,
            "ticks": "",
            "zerolinecolor": "white"
           },
           "yaxis": {
            "backgroundcolor": "#E5ECF6",
            "gridcolor": "white",
            "gridwidth": 2,
            "linecolor": "white",
            "showbackground": true,
            "ticks": "",
            "zerolinecolor": "white"
           },
           "zaxis": {
            "backgroundcolor": "#E5ECF6",
            "gridcolor": "white",
            "gridwidth": 2,
            "linecolor": "white",
            "showbackground": true,
            "ticks": "",
            "zerolinecolor": "white"
           }
          },
          "shapedefaults": {
           "line": {
            "color": "#2a3f5f"
           }
          },
          "ternary": {
           "aaxis": {
            "gridcolor": "white",
            "linecolor": "white",
            "ticks": ""
           },
           "baxis": {
            "gridcolor": "white",
            "linecolor": "white",
            "ticks": ""
           },
           "bgcolor": "#E5ECF6",
           "caxis": {
            "gridcolor": "white",
            "linecolor": "white",
            "ticks": ""
           }
          },
          "title": {
           "x": 0.05
          },
          "xaxis": {
           "automargin": true,
           "gridcolor": "white",
           "linecolor": "white",
           "ticks": "",
           "title": {
            "standoff": 15
           },
           "zerolinecolor": "white",
           "zerolinewidth": 2
          },
          "yaxis": {
           "automargin": true,
           "gridcolor": "white",
           "linecolor": "white",
           "ticks": "",
           "title": {
            "standoff": 15
           },
           "zerolinecolor": "white",
           "zerolinewidth": 2
          }
         }
        },
        "title": {
         "font": {
          "color": "#4D5663"
         }
        },
        "xaxis": {
         "gridcolor": "#E1E5ED",
         "showgrid": true,
         "tickfont": {
          "color": "#4D5663"
         },
         "title": {
          "font": {
           "color": "#4D5663"
          },
          "text": ""
         },
         "zerolinecolor": "#E1E5ED"
        },
        "yaxis": {
         "gridcolor": "#E1E5ED",
         "showgrid": true,
         "tickfont": {
          "color": "#4D5663"
         },
         "title": {
          "font": {
           "color": "#4D5663"
          },
          "text": ""
         },
         "zerolinecolor": "#E1E5ED"
        }
       }
      },
      "text/html": [
       "<div>                            <div id=\"ecea3dcb-b872-4eee-b8ad-6c59a2c4edee\" class=\"plotly-graph-div\" style=\"height:525px; width:100%;\"></div>            <script type=\"text/javascript\">                require([\"plotly\"], function(Plotly) {                    window.PLOTLYENV=window.PLOTLYENV || {};\n",
       "                    window.PLOTLYENV.BASE_URL='https://plot.ly';                                    if (document.getElementById(\"ecea3dcb-b872-4eee-b8ad-6c59a2c4edee\")) {                    Plotly.newPlot(                        \"ecea3dcb-b872-4eee-b8ad-6c59a2c4edee\",                        [{\"marker\":{\"color\":\"rgba(255, 153, 51, 0.6)\",\"line\":{\"color\":\"rgba(255, 153, 51, 1.0)\",\"width\":1}},\"name\":\"None\",\"orientation\":\"v\",\"text\":\"\",\"x\":[\"A\",\"B\",\"C\",\"D\"],\"y\":[-8.975083978992135,-11.982662486085191,-3.599322881472302,-7.0954837862900115],\"type\":\"bar\"}],                        {\"legend\":{\"bgcolor\":\"#F5F6F9\",\"font\":{\"color\":\"#4D5663\"}},\"paper_bgcolor\":\"#F5F6F9\",\"plot_bgcolor\":\"#F5F6F9\",\"template\":{\"data\":{\"barpolar\":[{\"marker\":{\"line\":{\"color\":\"#E5ECF6\",\"width\":0.5},\"pattern\":{\"fillmode\":\"overlay\",\"size\":10,\"solidity\":0.2}},\"type\":\"barpolar\"}],\"bar\":[{\"error_x\":{\"color\":\"#2a3f5f\"},\"error_y\":{\"color\":\"#2a3f5f\"},\"marker\":{\"line\":{\"color\":\"#E5ECF6\",\"width\":0.5},\"pattern\":{\"fillmode\":\"overlay\",\"size\":10,\"solidity\":0.2}},\"type\":\"bar\"}],\"carpet\":[{\"aaxis\":{\"endlinecolor\":\"#2a3f5f\",\"gridcolor\":\"white\",\"linecolor\":\"white\",\"minorgridcolor\":\"white\",\"startlinecolor\":\"#2a3f5f\"},\"baxis\":{\"endlinecolor\":\"#2a3f5f\",\"gridcolor\":\"white\",\"linecolor\":\"white\",\"minorgridcolor\":\"white\",\"startlinecolor\":\"#2a3f5f\"},\"type\":\"carpet\"}],\"choropleth\":[{\"colorbar\":{\"outlinewidth\":0,\"ticks\":\"\"},\"type\":\"choropleth\"}],\"contourcarpet\":[{\"colorbar\":{\"outlinewidth\":0,\"ticks\":\"\"},\"type\":\"contourcarpet\"}],\"contour\":[{\"colorbar\":{\"outlinewidth\":0,\"ticks\":\"\"},\"colorscale\":[[0.0,\"#0d0887\"],[0.1111111111111111,\"#46039f\"],[0.2222222222222222,\"#7201a8\"],[0.3333333333333333,\"#9c179e\"],[0.4444444444444444,\"#bd3786\"],[0.5555555555555556,\"#d8576b\"],[0.6666666666666666,\"#ed7953\"],[0.7777777777777778,\"#fb9f3a\"],[0.8888888888888888,\"#fdca26\"],[1.0,\"#f0f921\"]],\"type\":\"contour\"}],\"heatmapgl\":[{\"colorbar\":{\"outlinewidth\":0,\"ticks\":\"\"},\"colorscale\":[[0.0,\"#0d0887\"],[0.1111111111111111,\"#46039f\"],[0.2222222222222222,\"#7201a8\"],[0.3333333333333333,\"#9c179e\"],[0.4444444444444444,\"#bd3786\"],[0.5555555555555556,\"#d8576b\"],[0.6666666666666666,\"#ed7953\"],[0.7777777777777778,\"#fb9f3a\"],[0.8888888888888888,\"#fdca26\"],[1.0,\"#f0f921\"]],\"type\":\"heatmapgl\"}],\"heatmap\":[{\"colorbar\":{\"outlinewidth\":0,\"ticks\":\"\"},\"colorscale\":[[0.0,\"#0d0887\"],[0.1111111111111111,\"#46039f\"],[0.2222222222222222,\"#7201a8\"],[0.3333333333333333,\"#9c179e\"],[0.4444444444444444,\"#bd3786\"],[0.5555555555555556,\"#d8576b\"],[0.6666666666666666,\"#ed7953\"],[0.7777777777777778,\"#fb9f3a\"],[0.8888888888888888,\"#fdca26\"],[1.0,\"#f0f921\"]],\"type\":\"heatmap\"}],\"histogram2dcontour\":[{\"colorbar\":{\"outlinewidth\":0,\"ticks\":\"\"},\"colorscale\":[[0.0,\"#0d0887\"],[0.1111111111111111,\"#46039f\"],[0.2222222222222222,\"#7201a8\"],[0.3333333333333333,\"#9c179e\"],[0.4444444444444444,\"#bd3786\"],[0.5555555555555556,\"#d8576b\"],[0.6666666666666666,\"#ed7953\"],[0.7777777777777778,\"#fb9f3a\"],[0.8888888888888888,\"#fdca26\"],[1.0,\"#f0f921\"]],\"type\":\"histogram2dcontour\"}],\"histogram2d\":[{\"colorbar\":{\"outlinewidth\":0,\"ticks\":\"\"},\"colorscale\":[[0.0,\"#0d0887\"],[0.1111111111111111,\"#46039f\"],[0.2222222222222222,\"#7201a8\"],[0.3333333333333333,\"#9c179e\"],[0.4444444444444444,\"#bd3786\"],[0.5555555555555556,\"#d8576b\"],[0.6666666666666666,\"#ed7953\"],[0.7777777777777778,\"#fb9f3a\"],[0.8888888888888888,\"#fdca26\"],[1.0,\"#f0f921\"]],\"type\":\"histogram2d\"}],\"histogram\":[{\"marker\":{\"pattern\":{\"fillmode\":\"overlay\",\"size\":10,\"solidity\":0.2}},\"type\":\"histogram\"}],\"mesh3d\":[{\"colorbar\":{\"outlinewidth\":0,\"ticks\":\"\"},\"type\":\"mesh3d\"}],\"parcoords\":[{\"line\":{\"colorbar\":{\"outlinewidth\":0,\"ticks\":\"\"}},\"type\":\"parcoords\"}],\"pie\":[{\"automargin\":true,\"type\":\"pie\"}],\"scatter3d\":[{\"line\":{\"colorbar\":{\"outlinewidth\":0,\"ticks\":\"\"}},\"marker\":{\"colorbar\":{\"outlinewidth\":0,\"ticks\":\"\"}},\"type\":\"scatter3d\"}],\"scattercarpet\":[{\"marker\":{\"colorbar\":{\"outlinewidth\":0,\"ticks\":\"\"}},\"type\":\"scattercarpet\"}],\"scattergeo\":[{\"marker\":{\"colorbar\":{\"outlinewidth\":0,\"ticks\":\"\"}},\"type\":\"scattergeo\"}],\"scattergl\":[{\"marker\":{\"colorbar\":{\"outlinewidth\":0,\"ticks\":\"\"}},\"type\":\"scattergl\"}],\"scattermapbox\":[{\"marker\":{\"colorbar\":{\"outlinewidth\":0,\"ticks\":\"\"}},\"type\":\"scattermapbox\"}],\"scatterpolargl\":[{\"marker\":{\"colorbar\":{\"outlinewidth\":0,\"ticks\":\"\"}},\"type\":\"scatterpolargl\"}],\"scatterpolar\":[{\"marker\":{\"colorbar\":{\"outlinewidth\":0,\"ticks\":\"\"}},\"type\":\"scatterpolar\"}],\"scatter\":[{\"fillpattern\":{\"fillmode\":\"overlay\",\"size\":10,\"solidity\":0.2},\"type\":\"scatter\"}],\"scatterternary\":[{\"marker\":{\"colorbar\":{\"outlinewidth\":0,\"ticks\":\"\"}},\"type\":\"scatterternary\"}],\"surface\":[{\"colorbar\":{\"outlinewidth\":0,\"ticks\":\"\"},\"colorscale\":[[0.0,\"#0d0887\"],[0.1111111111111111,\"#46039f\"],[0.2222222222222222,\"#7201a8\"],[0.3333333333333333,\"#9c179e\"],[0.4444444444444444,\"#bd3786\"],[0.5555555555555556,\"#d8576b\"],[0.6666666666666666,\"#ed7953\"],[0.7777777777777778,\"#fb9f3a\"],[0.8888888888888888,\"#fdca26\"],[1.0,\"#f0f921\"]],\"type\":\"surface\"}],\"table\":[{\"cells\":{\"fill\":{\"color\":\"#EBF0F8\"},\"line\":{\"color\":\"white\"}},\"header\":{\"fill\":{\"color\":\"#C8D4E3\"},\"line\":{\"color\":\"white\"}},\"type\":\"table\"}]},\"layout\":{\"annotationdefaults\":{\"arrowcolor\":\"#2a3f5f\",\"arrowhead\":0,\"arrowwidth\":1},\"autotypenumbers\":\"strict\",\"coloraxis\":{\"colorbar\":{\"outlinewidth\":0,\"ticks\":\"\"}},\"colorscale\":{\"diverging\":[[0,\"#8e0152\"],[0.1,\"#c51b7d\"],[0.2,\"#de77ae\"],[0.3,\"#f1b6da\"],[0.4,\"#fde0ef\"],[0.5,\"#f7f7f7\"],[0.6,\"#e6f5d0\"],[0.7,\"#b8e186\"],[0.8,\"#7fbc41\"],[0.9,\"#4d9221\"],[1,\"#276419\"]],\"sequential\":[[0.0,\"#0d0887\"],[0.1111111111111111,\"#46039f\"],[0.2222222222222222,\"#7201a8\"],[0.3333333333333333,\"#9c179e\"],[0.4444444444444444,\"#bd3786\"],[0.5555555555555556,\"#d8576b\"],[0.6666666666666666,\"#ed7953\"],[0.7777777777777778,\"#fb9f3a\"],[0.8888888888888888,\"#fdca26\"],[1.0,\"#f0f921\"]],\"sequentialminus\":[[0.0,\"#0d0887\"],[0.1111111111111111,\"#46039f\"],[0.2222222222222222,\"#7201a8\"],[0.3333333333333333,\"#9c179e\"],[0.4444444444444444,\"#bd3786\"],[0.5555555555555556,\"#d8576b\"],[0.6666666666666666,\"#ed7953\"],[0.7777777777777778,\"#fb9f3a\"],[0.8888888888888888,\"#fdca26\"],[1.0,\"#f0f921\"]]},\"colorway\":[\"#636efa\",\"#EF553B\",\"#00cc96\",\"#ab63fa\",\"#FFA15A\",\"#19d3f3\",\"#FF6692\",\"#B6E880\",\"#FF97FF\",\"#FECB52\"],\"font\":{\"color\":\"#2a3f5f\"},\"geo\":{\"bgcolor\":\"white\",\"lakecolor\":\"white\",\"landcolor\":\"#E5ECF6\",\"showlakes\":true,\"showland\":true,\"subunitcolor\":\"white\"},\"hoverlabel\":{\"align\":\"left\"},\"hovermode\":\"closest\",\"mapbox\":{\"style\":\"light\"},\"paper_bgcolor\":\"white\",\"plot_bgcolor\":\"#E5ECF6\",\"polar\":{\"angularaxis\":{\"gridcolor\":\"white\",\"linecolor\":\"white\",\"ticks\":\"\"},\"bgcolor\":\"#E5ECF6\",\"radialaxis\":{\"gridcolor\":\"white\",\"linecolor\":\"white\",\"ticks\":\"\"}},\"scene\":{\"xaxis\":{\"backgroundcolor\":\"#E5ECF6\",\"gridcolor\":\"white\",\"gridwidth\":2,\"linecolor\":\"white\",\"showbackground\":true,\"ticks\":\"\",\"zerolinecolor\":\"white\"},\"yaxis\":{\"backgroundcolor\":\"#E5ECF6\",\"gridcolor\":\"white\",\"gridwidth\":2,\"linecolor\":\"white\",\"showbackground\":true,\"ticks\":\"\",\"zerolinecolor\":\"white\"},\"zaxis\":{\"backgroundcolor\":\"#E5ECF6\",\"gridcolor\":\"white\",\"gridwidth\":2,\"linecolor\":\"white\",\"showbackground\":true,\"ticks\":\"\",\"zerolinecolor\":\"white\"}},\"shapedefaults\":{\"line\":{\"color\":\"#2a3f5f\"}},\"ternary\":{\"aaxis\":{\"gridcolor\":\"white\",\"linecolor\":\"white\",\"ticks\":\"\"},\"baxis\":{\"gridcolor\":\"white\",\"linecolor\":\"white\",\"ticks\":\"\"},\"bgcolor\":\"#E5ECF6\",\"caxis\":{\"gridcolor\":\"white\",\"linecolor\":\"white\",\"ticks\":\"\"}},\"title\":{\"x\":0.05},\"xaxis\":{\"automargin\":true,\"gridcolor\":\"white\",\"linecolor\":\"white\",\"ticks\":\"\",\"title\":{\"standoff\":15},\"zerolinecolor\":\"white\",\"zerolinewidth\":2},\"yaxis\":{\"automargin\":true,\"gridcolor\":\"white\",\"linecolor\":\"white\",\"ticks\":\"\",\"title\":{\"standoff\":15},\"zerolinecolor\":\"white\",\"zerolinewidth\":2}}},\"title\":{\"font\":{\"color\":\"#4D5663\"}},\"xaxis\":{\"gridcolor\":\"#E1E5ED\",\"showgrid\":true,\"tickfont\":{\"color\":\"#4D5663\"},\"title\":{\"font\":{\"color\":\"#4D5663\"},\"text\":\"\"},\"zerolinecolor\":\"#E1E5ED\"},\"yaxis\":{\"gridcolor\":\"#E1E5ED\",\"showgrid\":true,\"tickfont\":{\"color\":\"#4D5663\"},\"title\":{\"font\":{\"color\":\"#4D5663\"},\"text\":\"\"},\"zerolinecolor\":\"#E1E5ED\"}},                        {\"showLink\": true, \"linkText\": \"Export to plot.ly\", \"plotlyServerURL\": \"https://plot.ly\", \"responsive\": true}                    ).then(function(){\n",
       "                            \n",
       "var gd = document.getElementById('ecea3dcb-b872-4eee-b8ad-6c59a2c4edee');\n",
       "var x = new MutationObserver(function (mutations, observer) {{\n",
       "        var display = window.getComputedStyle(gd).display;\n",
       "        if (!display || display === 'none') {{\n",
       "            console.log([gd, 'removed!']);\n",
       "            Plotly.purge(gd);\n",
       "            observer.disconnect();\n",
       "        }}\n",
       "}});\n",
       "\n",
       "// Listen for the removal of the full notebook cells\n",
       "var notebookContainer = gd.closest('#notebook-container');\n",
       "if (notebookContainer) {{\n",
       "    x.observe(notebookContainer, {childList: true});\n",
       "}}\n",
       "\n",
       "// Listen for the clearing of the current output cell\n",
       "var outputEl = gd.closest('.output');\n",
       "if (outputEl) {{\n",
       "    x.observe(outputEl, {childList: true});\n",
       "}}\n",
       "\n",
       "                        })                };                });            </script>        </div>"
      ]
     },
     "metadata": {},
     "output_type": "display_data"
    }
   ],
   "source": [
    " df.sum().iplot(kind='bar')\n",
    "    #sum of each column which is in negative right now"
   ]
  },
  {
   "cell_type": "code",
   "execution_count": 30,
   "metadata": {},
   "outputs": [
    {
     "data": {
      "application/vnd.plotly.v1+json": {
       "config": {
        "linkText": "Export to plot.ly",
        "plotlyServerURL": "https://plot.ly",
        "showLink": true
       },
       "data": [
        {
         "boxpoints": false,
         "line": {
          "width": 1.3
         },
         "marker": {
          "color": "rgba(255, 153, 51, 1.0)"
         },
         "name": "A",
         "orientation": "v",
         "type": "box",
         "y": [
          -1.7551052678663162,
          0.3844705852588308,
          -2.036235857734799,
          -0.4777192690016541,
          1.4543579926789922,
          -0.09237757661484672,
          0.6119764070206649,
          1.2237887733721426,
          -1.7337095285419843,
          -0.09984401561568264,
          -0.4649631618162517,
          0.9998649026069217,
          -0.6943268284110494,
          -0.72841097667062,
          -0.4417144240902041,
          -0.004464788666717921,
          0.07531256094745666,
          0.819040457639244,
          -0.4567053715819427,
          -0.5963208419744218,
          0.20953116501771618,
          -0.6853725302321193,
          -0.4001354564558299,
          0.6480780792891775,
          0.21240416189485206,
          0.14312795229648412,
          1.4393143026131452,
          0.7837815407286436,
          0.7467555023995134,
          0.29599035733768936,
          -0.7218712504422361,
          -1.25193389495634,
          0.03611354174396783,
          -0.03200300201512434,
          -1.1826084205945602,
          -1.4446328395682333,
          -0.04401236980398926,
          1.148871152117295,
          -0.14011474199688925,
          0.06115179255331545,
          0.868403061018585,
          0.5428333970190617,
          2.023958447325256,
          1.298799841292337,
          0.3078105580800464,
          0.6071874163245976,
          0.8972500697072223,
          -0.9315584354567149,
          0.17846500752828248,
          0.4284783757579867,
          -1.2333721181585848,
          -0.5601363807245684,
          0.09472304319338498,
          1.778688134912088,
          -1.8021319258488775,
          -0.7791449714553991,
          -0.5839473586620774,
          -0.7253804597334422,
          -0.9232769368882936,
          -0.6139384413256993,
          -0.06283253701103511,
          -0.9172264457972898,
          1.274365195722724,
          -0.23411960543441399,
          -0.8057448573292509,
          0.7054532319615852,
          -1.1036282271372015,
          0.6513618183801033,
          1.6919479921315315,
          2.0298722949294987,
          -0.7413914397119926,
          1.6472076306959016,
          0.6975377328009644,
          -2.5744066196418682,
          -1.1618031599466374,
          1.191995297707877,
          0.3357604375348084,
          0.528360105058137,
          -2.426809770915547,
          -1.4970050996342303,
          0.5012670828793494,
          -0.4144372147571527,
          -1.5032345584573734,
          -0.5645262794150616,
          0.9074324916191596,
          0.5291147311047883,
          1.27378422165143,
          0.8144032756088596,
          0.22763909553884226,
          0.04666463041197144,
          -0.2909034169358753,
          1.2439472755893324,
          -0.5030014312921158,
          -2.04618571072768,
          -1.9776242737576282,
          -0.7784135744681734,
          -0.43542356262032955,
          0.3511218761609181,
          0.6690302299966587,
          -2.937691978255148
         ]
        },
        {
         "boxpoints": false,
         "line": {
          "width": 1.3
         },
         "marker": {
          "color": "rgba(55, 128, 191, 1.0)"
         },
         "name": "B",
         "orientation": "v",
         "type": "box",
         "y": [
          0.4382592167411095,
          -0.6309961348420734,
          -0.0395311262178848,
          -0.31428373652841174,
          -1.0100162848027445,
          0.3935453506068354,
          -1.1208413794066048,
          -0.48057193451665925,
          0.07553530507313684,
          -1.732193450923254,
          -0.18194479104436243,
          -1.2768988483331727,
          -0.9010984722462253,
          -0.04831591513783132,
          1.017334361674233,
          2.0659548342501,
          -1.3257645889148622,
          1.1439743874680193,
          -0.5955125539431376,
          1.5396128052705145,
          -0.3056876386133438,
          -0.3877195935848514,
          -0.26289468030335533,
          0.8933171597993632,
          0.28295230371184565,
          -2.0381890153955404,
          -0.8598396093738542,
          -1.6518707199339169,
          1.315608649571582,
          -1.1411519377453063,
          -1.1360395440453932,
          -1.7772226648265301,
          0.9650122260771038,
          1.1487983813941074,
          0.6236448087340094,
          0.23376375669016658,
          0.6124046327547832,
          1.438466886570016,
          -1.2648382819818582,
          -0.18510973962669178,
          -0.6786077887679473,
          -0.664905423820725,
          -0.46612759720887575,
          -0.750935532586305,
          0.7553429312716934,
          -0.974797806662005,
          1.0791958284105596,
          -1.4647682070265706,
          -1.131758714727324,
          0.3584005296774685,
          -2.618621262491332,
          0.22598540427059874,
          -0.11981462527459533,
          1.4990841490508868,
          -0.20774363409278152,
          0.6976938911487156,
          -0.6330586023195791,
          1.6187904142539622,
          1.282338045791857,
          0.0802792937980838,
          -0.5108597070798586,
          0.12905133080909542,
          0.3449053470374282,
          0.0766504080888916,
          -1.515901853753896,
          1.553054792584085,
          0.08897000243510644,
          -1.0459050859726782,
          -0.39902139781521845,
          1.2555188182347081,
          -2.0145418672522446,
          -0.27008247237976113,
          0.4903043952555374,
          2.214217040668718,
          -0.36536702022485823,
          -0.9829776507777322,
          -0.1469357916605228,
          0.5679188818392001,
          1.529413014699103,
          -0.3276547721051137,
          -1.0423677573212309,
          0.811616799365819,
          -1.3316013120176349,
          -1.8682578918247865,
          0.9497852481964191,
          -0.48074134536630314,
          -0.4481668902136482,
          -0.4874510603514809,
          0.8886789746157747,
          -0.8885847644458682,
          -0.6885045336406496,
          1.589358536547224,
          -0.6758365158912941,
          -0.40969212660536275,
          0.6746415974540376,
          1.1271460223680927,
          -1.6450552325643122,
          0.12158090294215941,
          1.0007876253334738,
          -1.256378892090455
         ]
        },
        {
         "boxpoints": false,
         "line": {
          "width": 1.3
         },
         "marker": {
          "color": "rgba(50, 171, 96, 1.0)"
         },
         "name": "C",
         "orientation": "v",
         "type": "box",
         "y": [
          1.2041286763052448,
          -0.7341612192305633,
          -0.5458056090180362,
          -0.060176807033348434,
          -1.461210307868879,
          -0.042962820390264604,
          -1.1112680953319287,
          0.4425994344947499,
          0.1581364727067789,
          1.0523143699302913,
          -0.6852756634925544,
          -2.138283291452284,
          0.26267208157579036,
          0.37372183885347143,
          0.8213211099006584,
          -0.8154119669655834,
          0.38096982250192774,
          0.3370927626585573,
          0.8661579662151041,
          0.5922180910315239,
          -0.246750931009974,
          -0.9512094621196407,
          -1.279912153943022,
          -1.0318148862660201,
          -1.2832182702457628,
          0.24335563499257745,
          -0.49710382848007084,
          -2.9933342420800924,
          -0.6978903685053779,
          2.3069038297787072,
          1.1972196152142145,
          0.5005035356788747,
          0.7297790581122335,
          -0.15941717349860096,
          -0.5181303473438783,
          -0.5934618471232722,
          0.8995817172937732,
          1.4236306634076306,
          0.13458851966672683,
          -1.9244973003383656,
          -0.4396687465651273,
          0.43148518125632296,
          -0.1045871680622103,
          -1.5154907586013207,
          0.9195989783041805,
          -0.5680229856548504,
          -1.0279969155715944,
          -0.7050486050975706,
          1.657409308353311,
          0.43853218340055466,
          0.4453702568775285,
          -0.8589282128077184,
          0.6917317701189633,
          0.4874349454596271,
          -0.05415017783183345,
          0.6786386411680831,
          0.49941202879755286,
          -0.09355296913250151,
          -0.39456615110421206,
          0.945327187041317,
          -0.1592104734693847,
          2.3917432164498007,
          -0.506147738239636,
          -0.26501055918580796,
          0.256761716941572,
          -2.0970130189996263,
          2.080817157003123,
          -1.969713916536074,
          1.2186284182395668,
          -0.6754697490087247,
          0.0864288898960222,
          -1.2623278342411035,
          -1.5782667637365249,
          -0.03995829079015229,
          0.4184420663801775,
          -0.5544865869156967,
          0.4917122214543861,
          -0.06530864944150375,
          -0.11841439565633523,
          0.6511421435271256,
          1.027365203598178,
          -1.0793832565983752,
          0.19273703232535136,
          0.21278608830470566,
          0.6698430690156365,
          -1.1447128329756069,
          -0.1406796689064955,
          0.23141660493699273,
          0.9064832898559017,
          -1.4194927711734235,
          1.7863130491938028,
          1.4143890894685258,
          -1.1686375404626603,
          -1.2767884937582192,
          0.908973163702017,
          0.4903546831594897,
          1.458215782292664,
          -0.1739490839601721,
          -0.08603191853491715,
          -0.30139862355672215
         ]
        },
        {
         "boxpoints": false,
         "line": {
          "width": 1.3
         },
         "marker": {
          "color": "rgba(128, 0, 128, 1.0)"
         },
         "name": "D",
         "orientation": "v",
         "type": "box",
         "y": [
          0.5335617547626704,
          1.11511778820712,
          -0.08010239879881892,
          -2.259130632450229,
          0.1306904956755313,
          -0.10868636704330263,
          -1.2119879393566173,
          0.058401962784051895,
          -1.28475547880816,
          -0.23874716438584068,
          -0.05486944254343988,
          -0.7903758731068092,
          0.5511763376605952,
          0.6598876147808562,
          -1.393544253357598,
          -0.22141033511022082,
          1.3723354165859456,
          -2.295330139910439,
          0.7048578956406352,
          -1.3456434351515638,
          1.1330308424283735,
          -1.6303682417443779,
          1.1458167157730648,
          0.3412691509585753,
          -1.4814410312878,
          0.7056244817874007,
          -0.35631268737456484,
          -1.4973624280243167,
          -2.384006313434215,
          -0.4603706240551062,
          -0.3396935582570401,
          -1.7531152695661887,
          1.3317539945057488,
          0.03028900886027697,
          0.003446055668178733,
          0.6235875867000816,
          2.2119702214189525,
          0.09084069260464103,
          0.2455822204067303,
          -0.6571322155562199,
          -0.16271374185554327,
          -0.643073675919325,
          -1.9137010323432584,
          -0.7764981602357823,
          -0.44312146885367115,
          -1.7356585778027214,
          0.24444323790835046,
          0.7104679959661663,
          -1.3390136550043847,
          0.16366534129867924,
          -0.6047531524042749,
          1.2553527366235804,
          -0.6701759062038355,
          0.9363081857722896,
          0.8211474912961345,
          -1.8240721473503028,
          0.45230942549634595,
          2.1574505417899834,
          -0.062096453693924164,
          2.369880887091539,
          -1.0804781096479488,
          -1.3240023935686234,
          0.1891364017721843,
          1.4454723116515689,
          0.2670018973992693,
          0.3843716971280922,
          -0.9649721651660574,
          -1.0909805836656126,
          0.27081041390492183,
          1.153388859206965,
          0.38281022895155126,
          -0.8713849540757779,
          2.0528631419834227,
          1.5097740524964776,
          -0.5438358420554982,
          -0.07034753062399098,
          -0.8942657348846185,
          0.9487048514799492,
          1.3008219239253918,
          -0.5290864305394178,
          -1.7064792654511123,
          -0.19315259821983888,
          0.16849549170129602,
          0.3616001588411008,
          0.026682942900016677,
          1.2430267142940021,
          1.8288506123013686,
          -0.6461015794148398,
          -0.03903876462222602,
          -0.7345934981355124,
          -1.267407423342911,
          0.020312121797485937,
          -0.6162696698678704,
          -0.8700178732099789,
          0.48554238667112404,
          0.26801570273470005,
          0.103588232775617,
          0.12065839577974721,
          1.3510822698238307,
          0.3829175412191313
         ]
        }
       ],
       "layout": {
        "legend": {
         "bgcolor": "#F5F6F9",
         "font": {
          "color": "#4D5663"
         }
        },
        "paper_bgcolor": "#F5F6F9",
        "plot_bgcolor": "#F5F6F9",
        "template": {
         "data": {
          "bar": [
           {
            "error_x": {
             "color": "#2a3f5f"
            },
            "error_y": {
             "color": "#2a3f5f"
            },
            "marker": {
             "line": {
              "color": "#E5ECF6",
              "width": 0.5
             },
             "pattern": {
              "fillmode": "overlay",
              "size": 10,
              "solidity": 0.2
             }
            },
            "type": "bar"
           }
          ],
          "barpolar": [
           {
            "marker": {
             "line": {
              "color": "#E5ECF6",
              "width": 0.5
             },
             "pattern": {
              "fillmode": "overlay",
              "size": 10,
              "solidity": 0.2
             }
            },
            "type": "barpolar"
           }
          ],
          "carpet": [
           {
            "aaxis": {
             "endlinecolor": "#2a3f5f",
             "gridcolor": "white",
             "linecolor": "white",
             "minorgridcolor": "white",
             "startlinecolor": "#2a3f5f"
            },
            "baxis": {
             "endlinecolor": "#2a3f5f",
             "gridcolor": "white",
             "linecolor": "white",
             "minorgridcolor": "white",
             "startlinecolor": "#2a3f5f"
            },
            "type": "carpet"
           }
          ],
          "choropleth": [
           {
            "colorbar": {
             "outlinewidth": 0,
             "ticks": ""
            },
            "type": "choropleth"
           }
          ],
          "contour": [
           {
            "colorbar": {
             "outlinewidth": 0,
             "ticks": ""
            },
            "colorscale": [
             [
              0,
              "#0d0887"
             ],
             [
              0.1111111111111111,
              "#46039f"
             ],
             [
              0.2222222222222222,
              "#7201a8"
             ],
             [
              0.3333333333333333,
              "#9c179e"
             ],
             [
              0.4444444444444444,
              "#bd3786"
             ],
             [
              0.5555555555555556,
              "#d8576b"
             ],
             [
              0.6666666666666666,
              "#ed7953"
             ],
             [
              0.7777777777777778,
              "#fb9f3a"
             ],
             [
              0.8888888888888888,
              "#fdca26"
             ],
             [
              1,
              "#f0f921"
             ]
            ],
            "type": "contour"
           }
          ],
          "contourcarpet": [
           {
            "colorbar": {
             "outlinewidth": 0,
             "ticks": ""
            },
            "type": "contourcarpet"
           }
          ],
          "heatmap": [
           {
            "colorbar": {
             "outlinewidth": 0,
             "ticks": ""
            },
            "colorscale": [
             [
              0,
              "#0d0887"
             ],
             [
              0.1111111111111111,
              "#46039f"
             ],
             [
              0.2222222222222222,
              "#7201a8"
             ],
             [
              0.3333333333333333,
              "#9c179e"
             ],
             [
              0.4444444444444444,
              "#bd3786"
             ],
             [
              0.5555555555555556,
              "#d8576b"
             ],
             [
              0.6666666666666666,
              "#ed7953"
             ],
             [
              0.7777777777777778,
              "#fb9f3a"
             ],
             [
              0.8888888888888888,
              "#fdca26"
             ],
             [
              1,
              "#f0f921"
             ]
            ],
            "type": "heatmap"
           }
          ],
          "heatmapgl": [
           {
            "colorbar": {
             "outlinewidth": 0,
             "ticks": ""
            },
            "colorscale": [
             [
              0,
              "#0d0887"
             ],
             [
              0.1111111111111111,
              "#46039f"
             ],
             [
              0.2222222222222222,
              "#7201a8"
             ],
             [
              0.3333333333333333,
              "#9c179e"
             ],
             [
              0.4444444444444444,
              "#bd3786"
             ],
             [
              0.5555555555555556,
              "#d8576b"
             ],
             [
              0.6666666666666666,
              "#ed7953"
             ],
             [
              0.7777777777777778,
              "#fb9f3a"
             ],
             [
              0.8888888888888888,
              "#fdca26"
             ],
             [
              1,
              "#f0f921"
             ]
            ],
            "type": "heatmapgl"
           }
          ],
          "histogram": [
           {
            "marker": {
             "pattern": {
              "fillmode": "overlay",
              "size": 10,
              "solidity": 0.2
             }
            },
            "type": "histogram"
           }
          ],
          "histogram2d": [
           {
            "colorbar": {
             "outlinewidth": 0,
             "ticks": ""
            },
            "colorscale": [
             [
              0,
              "#0d0887"
             ],
             [
              0.1111111111111111,
              "#46039f"
             ],
             [
              0.2222222222222222,
              "#7201a8"
             ],
             [
              0.3333333333333333,
              "#9c179e"
             ],
             [
              0.4444444444444444,
              "#bd3786"
             ],
             [
              0.5555555555555556,
              "#d8576b"
             ],
             [
              0.6666666666666666,
              "#ed7953"
             ],
             [
              0.7777777777777778,
              "#fb9f3a"
             ],
             [
              0.8888888888888888,
              "#fdca26"
             ],
             [
              1,
              "#f0f921"
             ]
            ],
            "type": "histogram2d"
           }
          ],
          "histogram2dcontour": [
           {
            "colorbar": {
             "outlinewidth": 0,
             "ticks": ""
            },
            "colorscale": [
             [
              0,
              "#0d0887"
             ],
             [
              0.1111111111111111,
              "#46039f"
             ],
             [
              0.2222222222222222,
              "#7201a8"
             ],
             [
              0.3333333333333333,
              "#9c179e"
             ],
             [
              0.4444444444444444,
              "#bd3786"
             ],
             [
              0.5555555555555556,
              "#d8576b"
             ],
             [
              0.6666666666666666,
              "#ed7953"
             ],
             [
              0.7777777777777778,
              "#fb9f3a"
             ],
             [
              0.8888888888888888,
              "#fdca26"
             ],
             [
              1,
              "#f0f921"
             ]
            ],
            "type": "histogram2dcontour"
           }
          ],
          "mesh3d": [
           {
            "colorbar": {
             "outlinewidth": 0,
             "ticks": ""
            },
            "type": "mesh3d"
           }
          ],
          "parcoords": [
           {
            "line": {
             "colorbar": {
              "outlinewidth": 0,
              "ticks": ""
             }
            },
            "type": "parcoords"
           }
          ],
          "pie": [
           {
            "automargin": true,
            "type": "pie"
           }
          ],
          "scatter": [
           {
            "fillpattern": {
             "fillmode": "overlay",
             "size": 10,
             "solidity": 0.2
            },
            "type": "scatter"
           }
          ],
          "scatter3d": [
           {
            "line": {
             "colorbar": {
              "outlinewidth": 0,
              "ticks": ""
             }
            },
            "marker": {
             "colorbar": {
              "outlinewidth": 0,
              "ticks": ""
             }
            },
            "type": "scatter3d"
           }
          ],
          "scattercarpet": [
           {
            "marker": {
             "colorbar": {
              "outlinewidth": 0,
              "ticks": ""
             }
            },
            "type": "scattercarpet"
           }
          ],
          "scattergeo": [
           {
            "marker": {
             "colorbar": {
              "outlinewidth": 0,
              "ticks": ""
             }
            },
            "type": "scattergeo"
           }
          ],
          "scattergl": [
           {
            "marker": {
             "colorbar": {
              "outlinewidth": 0,
              "ticks": ""
             }
            },
            "type": "scattergl"
           }
          ],
          "scattermapbox": [
           {
            "marker": {
             "colorbar": {
              "outlinewidth": 0,
              "ticks": ""
             }
            },
            "type": "scattermapbox"
           }
          ],
          "scatterpolar": [
           {
            "marker": {
             "colorbar": {
              "outlinewidth": 0,
              "ticks": ""
             }
            },
            "type": "scatterpolar"
           }
          ],
          "scatterpolargl": [
           {
            "marker": {
             "colorbar": {
              "outlinewidth": 0,
              "ticks": ""
             }
            },
            "type": "scatterpolargl"
           }
          ],
          "scatterternary": [
           {
            "marker": {
             "colorbar": {
              "outlinewidth": 0,
              "ticks": ""
             }
            },
            "type": "scatterternary"
           }
          ],
          "surface": [
           {
            "colorbar": {
             "outlinewidth": 0,
             "ticks": ""
            },
            "colorscale": [
             [
              0,
              "#0d0887"
             ],
             [
              0.1111111111111111,
              "#46039f"
             ],
             [
              0.2222222222222222,
              "#7201a8"
             ],
             [
              0.3333333333333333,
              "#9c179e"
             ],
             [
              0.4444444444444444,
              "#bd3786"
             ],
             [
              0.5555555555555556,
              "#d8576b"
             ],
             [
              0.6666666666666666,
              "#ed7953"
             ],
             [
              0.7777777777777778,
              "#fb9f3a"
             ],
             [
              0.8888888888888888,
              "#fdca26"
             ],
             [
              1,
              "#f0f921"
             ]
            ],
            "type": "surface"
           }
          ],
          "table": [
           {
            "cells": {
             "fill": {
              "color": "#EBF0F8"
             },
             "line": {
              "color": "white"
             }
            },
            "header": {
             "fill": {
              "color": "#C8D4E3"
             },
             "line": {
              "color": "white"
             }
            },
            "type": "table"
           }
          ]
         },
         "layout": {
          "annotationdefaults": {
           "arrowcolor": "#2a3f5f",
           "arrowhead": 0,
           "arrowwidth": 1
          },
          "autotypenumbers": "strict",
          "coloraxis": {
           "colorbar": {
            "outlinewidth": 0,
            "ticks": ""
           }
          },
          "colorscale": {
           "diverging": [
            [
             0,
             "#8e0152"
            ],
            [
             0.1,
             "#c51b7d"
            ],
            [
             0.2,
             "#de77ae"
            ],
            [
             0.3,
             "#f1b6da"
            ],
            [
             0.4,
             "#fde0ef"
            ],
            [
             0.5,
             "#f7f7f7"
            ],
            [
             0.6,
             "#e6f5d0"
            ],
            [
             0.7,
             "#b8e186"
            ],
            [
             0.8,
             "#7fbc41"
            ],
            [
             0.9,
             "#4d9221"
            ],
            [
             1,
             "#276419"
            ]
           ],
           "sequential": [
            [
             0,
             "#0d0887"
            ],
            [
             0.1111111111111111,
             "#46039f"
            ],
            [
             0.2222222222222222,
             "#7201a8"
            ],
            [
             0.3333333333333333,
             "#9c179e"
            ],
            [
             0.4444444444444444,
             "#bd3786"
            ],
            [
             0.5555555555555556,
             "#d8576b"
            ],
            [
             0.6666666666666666,
             "#ed7953"
            ],
            [
             0.7777777777777778,
             "#fb9f3a"
            ],
            [
             0.8888888888888888,
             "#fdca26"
            ],
            [
             1,
             "#f0f921"
            ]
           ],
           "sequentialminus": [
            [
             0,
             "#0d0887"
            ],
            [
             0.1111111111111111,
             "#46039f"
            ],
            [
             0.2222222222222222,
             "#7201a8"
            ],
            [
             0.3333333333333333,
             "#9c179e"
            ],
            [
             0.4444444444444444,
             "#bd3786"
            ],
            [
             0.5555555555555556,
             "#d8576b"
            ],
            [
             0.6666666666666666,
             "#ed7953"
            ],
            [
             0.7777777777777778,
             "#fb9f3a"
            ],
            [
             0.8888888888888888,
             "#fdca26"
            ],
            [
             1,
             "#f0f921"
            ]
           ]
          },
          "colorway": [
           "#636efa",
           "#EF553B",
           "#00cc96",
           "#ab63fa",
           "#FFA15A",
           "#19d3f3",
           "#FF6692",
           "#B6E880",
           "#FF97FF",
           "#FECB52"
          ],
          "font": {
           "color": "#2a3f5f"
          },
          "geo": {
           "bgcolor": "white",
           "lakecolor": "white",
           "landcolor": "#E5ECF6",
           "showlakes": true,
           "showland": true,
           "subunitcolor": "white"
          },
          "hoverlabel": {
           "align": "left"
          },
          "hovermode": "closest",
          "mapbox": {
           "style": "light"
          },
          "paper_bgcolor": "white",
          "plot_bgcolor": "#E5ECF6",
          "polar": {
           "angularaxis": {
            "gridcolor": "white",
            "linecolor": "white",
            "ticks": ""
           },
           "bgcolor": "#E5ECF6",
           "radialaxis": {
            "gridcolor": "white",
            "linecolor": "white",
            "ticks": ""
           }
          },
          "scene": {
           "xaxis": {
            "backgroundcolor": "#E5ECF6",
            "gridcolor": "white",
            "gridwidth": 2,
            "linecolor": "white",
            "showbackground": true,
            "ticks": "",
            "zerolinecolor": "white"
           },
           "yaxis": {
            "backgroundcolor": "#E5ECF6",
            "gridcolor": "white",
            "gridwidth": 2,
            "linecolor": "white",
            "showbackground": true,
            "ticks": "",
            "zerolinecolor": "white"
           },
           "zaxis": {
            "backgroundcolor": "#E5ECF6",
            "gridcolor": "white",
            "gridwidth": 2,
            "linecolor": "white",
            "showbackground": true,
            "ticks": "",
            "zerolinecolor": "white"
           }
          },
          "shapedefaults": {
           "line": {
            "color": "#2a3f5f"
           }
          },
          "ternary": {
           "aaxis": {
            "gridcolor": "white",
            "linecolor": "white",
            "ticks": ""
           },
           "baxis": {
            "gridcolor": "white",
            "linecolor": "white",
            "ticks": ""
           },
           "bgcolor": "#E5ECF6",
           "caxis": {
            "gridcolor": "white",
            "linecolor": "white",
            "ticks": ""
           }
          },
          "title": {
           "x": 0.05
          },
          "xaxis": {
           "automargin": true,
           "gridcolor": "white",
           "linecolor": "white",
           "ticks": "",
           "title": {
            "standoff": 15
           },
           "zerolinecolor": "white",
           "zerolinewidth": 2
          },
          "yaxis": {
           "automargin": true,
           "gridcolor": "white",
           "linecolor": "white",
           "ticks": "",
           "title": {
            "standoff": 15
           },
           "zerolinecolor": "white",
           "zerolinewidth": 2
          }
         }
        },
        "title": {
         "font": {
          "color": "#4D5663"
         }
        },
        "xaxis": {
         "gridcolor": "#E1E5ED",
         "showgrid": true,
         "tickfont": {
          "color": "#4D5663"
         },
         "title": {
          "font": {
           "color": "#4D5663"
          },
          "text": ""
         },
         "zerolinecolor": "#E1E5ED"
        },
        "yaxis": {
         "gridcolor": "#E1E5ED",
         "showgrid": true,
         "tickfont": {
          "color": "#4D5663"
         },
         "title": {
          "font": {
           "color": "#4D5663"
          },
          "text": ""
         },
         "zerolinecolor": "#E1E5ED"
        }
       }
      },
      "text/html": [
       "<div>                            <div id=\"8bc20be8-1194-4265-a94c-a63c9c641659\" class=\"plotly-graph-div\" style=\"height:525px; width:100%;\"></div>            <script type=\"text/javascript\">                require([\"plotly\"], function(Plotly) {                    window.PLOTLYENV=window.PLOTLYENV || {};\n",
       "                    window.PLOTLYENV.BASE_URL='https://plot.ly';                                    if (document.getElementById(\"8bc20be8-1194-4265-a94c-a63c9c641659\")) {                    Plotly.newPlot(                        \"8bc20be8-1194-4265-a94c-a63c9c641659\",                        [{\"boxpoints\":false,\"line\":{\"width\":1.3},\"marker\":{\"color\":\"rgba(255, 153, 51, 1.0)\"},\"name\":\"A\",\"orientation\":\"v\",\"y\":[-1.7551052678663162,0.3844705852588308,-2.036235857734799,-0.4777192690016541,1.4543579926789922,-0.09237757661484672,0.6119764070206649,1.2237887733721426,-1.7337095285419843,-0.09984401561568264,-0.4649631618162517,0.9998649026069217,-0.6943268284110494,-0.72841097667062,-0.4417144240902041,-0.004464788666717921,0.07531256094745666,0.819040457639244,-0.4567053715819427,-0.5963208419744218,0.20953116501771618,-0.6853725302321193,-0.4001354564558299,0.6480780792891775,0.21240416189485206,0.14312795229648412,1.4393143026131452,0.7837815407286436,0.7467555023995134,0.29599035733768936,-0.7218712504422361,-1.25193389495634,0.03611354174396783,-0.03200300201512434,-1.1826084205945602,-1.4446328395682333,-0.04401236980398926,1.148871152117295,-0.14011474199688925,0.06115179255331545,0.868403061018585,0.5428333970190617,2.023958447325256,1.298799841292337,0.3078105580800464,0.6071874163245976,0.8972500697072223,-0.9315584354567149,0.17846500752828248,0.4284783757579867,-1.2333721181585848,-0.5601363807245684,0.09472304319338498,1.778688134912088,-1.8021319258488775,-0.7791449714553991,-0.5839473586620774,-0.7253804597334422,-0.9232769368882936,-0.6139384413256993,-0.06283253701103511,-0.9172264457972898,1.274365195722724,-0.23411960543441399,-0.8057448573292509,0.7054532319615852,-1.1036282271372015,0.6513618183801033,1.6919479921315315,2.0298722949294987,-0.7413914397119926,1.6472076306959016,0.6975377328009644,-2.5744066196418682,-1.1618031599466374,1.191995297707877,0.3357604375348084,0.528360105058137,-2.426809770915547,-1.4970050996342303,0.5012670828793494,-0.4144372147571527,-1.5032345584573734,-0.5645262794150616,0.9074324916191596,0.5291147311047883,1.27378422165143,0.8144032756088596,0.22763909553884226,0.04666463041197144,-0.2909034169358753,1.2439472755893324,-0.5030014312921158,-2.04618571072768,-1.9776242737576282,-0.7784135744681734,-0.43542356262032955,0.3511218761609181,0.6690302299966587,-2.937691978255148],\"type\":\"box\"},{\"boxpoints\":false,\"line\":{\"width\":1.3},\"marker\":{\"color\":\"rgba(55, 128, 191, 1.0)\"},\"name\":\"B\",\"orientation\":\"v\",\"y\":[0.4382592167411095,-0.6309961348420734,-0.0395311262178848,-0.31428373652841174,-1.0100162848027445,0.3935453506068354,-1.1208413794066048,-0.48057193451665925,0.07553530507313684,-1.732193450923254,-0.18194479104436243,-1.2768988483331727,-0.9010984722462253,-0.04831591513783132,1.017334361674233,2.0659548342501,-1.3257645889148622,1.1439743874680193,-0.5955125539431376,1.5396128052705145,-0.3056876386133438,-0.3877195935848514,-0.26289468030335533,0.8933171597993632,0.28295230371184565,-2.0381890153955404,-0.8598396093738542,-1.6518707199339169,1.315608649571582,-1.1411519377453063,-1.1360395440453932,-1.7772226648265301,0.9650122260771038,1.1487983813941074,0.6236448087340094,0.23376375669016658,0.6124046327547832,1.438466886570016,-1.2648382819818582,-0.18510973962669178,-0.6786077887679473,-0.664905423820725,-0.46612759720887575,-0.750935532586305,0.7553429312716934,-0.974797806662005,1.0791958284105596,-1.4647682070265706,-1.131758714727324,0.3584005296774685,-2.618621262491332,0.22598540427059874,-0.11981462527459533,1.4990841490508868,-0.20774363409278152,0.6976938911487156,-0.6330586023195791,1.6187904142539622,1.282338045791857,0.0802792937980838,-0.5108597070798586,0.12905133080909542,0.3449053470374282,0.0766504080888916,-1.515901853753896,1.553054792584085,0.08897000243510644,-1.0459050859726782,-0.39902139781521845,1.2555188182347081,-2.0145418672522446,-0.27008247237976113,0.4903043952555374,2.214217040668718,-0.36536702022485823,-0.9829776507777322,-0.1469357916605228,0.5679188818392001,1.529413014699103,-0.3276547721051137,-1.0423677573212309,0.811616799365819,-1.3316013120176349,-1.8682578918247865,0.9497852481964191,-0.48074134536630314,-0.4481668902136482,-0.4874510603514809,0.8886789746157747,-0.8885847644458682,-0.6885045336406496,1.589358536547224,-0.6758365158912941,-0.40969212660536275,0.6746415974540376,1.1271460223680927,-1.6450552325643122,0.12158090294215941,1.0007876253334738,-1.256378892090455],\"type\":\"box\"},{\"boxpoints\":false,\"line\":{\"width\":1.3},\"marker\":{\"color\":\"rgba(50, 171, 96, 1.0)\"},\"name\":\"C\",\"orientation\":\"v\",\"y\":[1.2041286763052448,-0.7341612192305633,-0.5458056090180362,-0.060176807033348434,-1.461210307868879,-0.042962820390264604,-1.1112680953319287,0.4425994344947499,0.1581364727067789,1.0523143699302913,-0.6852756634925544,-2.138283291452284,0.26267208157579036,0.37372183885347143,0.8213211099006584,-0.8154119669655834,0.38096982250192774,0.3370927626585573,0.8661579662151041,0.5922180910315239,-0.246750931009974,-0.9512094621196407,-1.279912153943022,-1.0318148862660201,-1.2832182702457628,0.24335563499257745,-0.49710382848007084,-2.9933342420800924,-0.6978903685053779,2.3069038297787072,1.1972196152142145,0.5005035356788747,0.7297790581122335,-0.15941717349860096,-0.5181303473438783,-0.5934618471232722,0.8995817172937732,1.4236306634076306,0.13458851966672683,-1.9244973003383656,-0.4396687465651273,0.43148518125632296,-0.1045871680622103,-1.5154907586013207,0.9195989783041805,-0.5680229856548504,-1.0279969155715944,-0.7050486050975706,1.657409308353311,0.43853218340055466,0.4453702568775285,-0.8589282128077184,0.6917317701189633,0.4874349454596271,-0.05415017783183345,0.6786386411680831,0.49941202879755286,-0.09355296913250151,-0.39456615110421206,0.945327187041317,-0.1592104734693847,2.3917432164498007,-0.506147738239636,-0.26501055918580796,0.256761716941572,-2.0970130189996263,2.080817157003123,-1.969713916536074,1.2186284182395668,-0.6754697490087247,0.0864288898960222,-1.2623278342411035,-1.5782667637365249,-0.03995829079015229,0.4184420663801775,-0.5544865869156967,0.4917122214543861,-0.06530864944150375,-0.11841439565633523,0.6511421435271256,1.027365203598178,-1.0793832565983752,0.19273703232535136,0.21278608830470566,0.6698430690156365,-1.1447128329756069,-0.1406796689064955,0.23141660493699273,0.9064832898559017,-1.4194927711734235,1.7863130491938028,1.4143890894685258,-1.1686375404626603,-1.2767884937582192,0.908973163702017,0.4903546831594897,1.458215782292664,-0.1739490839601721,-0.08603191853491715,-0.30139862355672215],\"type\":\"box\"},{\"boxpoints\":false,\"line\":{\"width\":1.3},\"marker\":{\"color\":\"rgba(128, 0, 128, 1.0)\"},\"name\":\"D\",\"orientation\":\"v\",\"y\":[0.5335617547626704,1.11511778820712,-0.08010239879881892,-2.259130632450229,0.1306904956755313,-0.10868636704330263,-1.2119879393566173,0.058401962784051895,-1.28475547880816,-0.23874716438584068,-0.05486944254343988,-0.7903758731068092,0.5511763376605952,0.6598876147808562,-1.393544253357598,-0.22141033511022082,1.3723354165859456,-2.295330139910439,0.7048578956406352,-1.3456434351515638,1.1330308424283735,-1.6303682417443779,1.1458167157730648,0.3412691509585753,-1.4814410312878,0.7056244817874007,-0.35631268737456484,-1.4973624280243167,-2.384006313434215,-0.4603706240551062,-0.3396935582570401,-1.7531152695661887,1.3317539945057488,0.03028900886027697,0.003446055668178733,0.6235875867000816,2.2119702214189525,0.09084069260464103,0.2455822204067303,-0.6571322155562199,-0.16271374185554327,-0.643073675919325,-1.9137010323432584,-0.7764981602357823,-0.44312146885367115,-1.7356585778027214,0.24444323790835046,0.7104679959661663,-1.3390136550043847,0.16366534129867924,-0.6047531524042749,1.2553527366235804,-0.6701759062038355,0.9363081857722896,0.8211474912961345,-1.8240721473503028,0.45230942549634595,2.1574505417899834,-0.062096453693924164,2.369880887091539,-1.0804781096479488,-1.3240023935686234,0.1891364017721843,1.4454723116515689,0.2670018973992693,0.3843716971280922,-0.9649721651660574,-1.0909805836656126,0.27081041390492183,1.153388859206965,0.38281022895155126,-0.8713849540757779,2.0528631419834227,1.5097740524964776,-0.5438358420554982,-0.07034753062399098,-0.8942657348846185,0.9487048514799492,1.3008219239253918,-0.5290864305394178,-1.7064792654511123,-0.19315259821983888,0.16849549170129602,0.3616001588411008,0.026682942900016677,1.2430267142940021,1.8288506123013686,-0.6461015794148398,-0.03903876462222602,-0.7345934981355124,-1.267407423342911,0.020312121797485937,-0.6162696698678704,-0.8700178732099789,0.48554238667112404,0.26801570273470005,0.103588232775617,0.12065839577974721,1.3510822698238307,0.3829175412191313],\"type\":\"box\"}],                        {\"legend\":{\"bgcolor\":\"#F5F6F9\",\"font\":{\"color\":\"#4D5663\"}},\"paper_bgcolor\":\"#F5F6F9\",\"plot_bgcolor\":\"#F5F6F9\",\"template\":{\"data\":{\"barpolar\":[{\"marker\":{\"line\":{\"color\":\"#E5ECF6\",\"width\":0.5},\"pattern\":{\"fillmode\":\"overlay\",\"size\":10,\"solidity\":0.2}},\"type\":\"barpolar\"}],\"bar\":[{\"error_x\":{\"color\":\"#2a3f5f\"},\"error_y\":{\"color\":\"#2a3f5f\"},\"marker\":{\"line\":{\"color\":\"#E5ECF6\",\"width\":0.5},\"pattern\":{\"fillmode\":\"overlay\",\"size\":10,\"solidity\":0.2}},\"type\":\"bar\"}],\"carpet\":[{\"aaxis\":{\"endlinecolor\":\"#2a3f5f\",\"gridcolor\":\"white\",\"linecolor\":\"white\",\"minorgridcolor\":\"white\",\"startlinecolor\":\"#2a3f5f\"},\"baxis\":{\"endlinecolor\":\"#2a3f5f\",\"gridcolor\":\"white\",\"linecolor\":\"white\",\"minorgridcolor\":\"white\",\"startlinecolor\":\"#2a3f5f\"},\"type\":\"carpet\"}],\"choropleth\":[{\"colorbar\":{\"outlinewidth\":0,\"ticks\":\"\"},\"type\":\"choropleth\"}],\"contourcarpet\":[{\"colorbar\":{\"outlinewidth\":0,\"ticks\":\"\"},\"type\":\"contourcarpet\"}],\"contour\":[{\"colorbar\":{\"outlinewidth\":0,\"ticks\":\"\"},\"colorscale\":[[0.0,\"#0d0887\"],[0.1111111111111111,\"#46039f\"],[0.2222222222222222,\"#7201a8\"],[0.3333333333333333,\"#9c179e\"],[0.4444444444444444,\"#bd3786\"],[0.5555555555555556,\"#d8576b\"],[0.6666666666666666,\"#ed7953\"],[0.7777777777777778,\"#fb9f3a\"],[0.8888888888888888,\"#fdca26\"],[1.0,\"#f0f921\"]],\"type\":\"contour\"}],\"heatmapgl\":[{\"colorbar\":{\"outlinewidth\":0,\"ticks\":\"\"},\"colorscale\":[[0.0,\"#0d0887\"],[0.1111111111111111,\"#46039f\"],[0.2222222222222222,\"#7201a8\"],[0.3333333333333333,\"#9c179e\"],[0.4444444444444444,\"#bd3786\"],[0.5555555555555556,\"#d8576b\"],[0.6666666666666666,\"#ed7953\"],[0.7777777777777778,\"#fb9f3a\"],[0.8888888888888888,\"#fdca26\"],[1.0,\"#f0f921\"]],\"type\":\"heatmapgl\"}],\"heatmap\":[{\"colorbar\":{\"outlinewidth\":0,\"ticks\":\"\"},\"colorscale\":[[0.0,\"#0d0887\"],[0.1111111111111111,\"#46039f\"],[0.2222222222222222,\"#7201a8\"],[0.3333333333333333,\"#9c179e\"],[0.4444444444444444,\"#bd3786\"],[0.5555555555555556,\"#d8576b\"],[0.6666666666666666,\"#ed7953\"],[0.7777777777777778,\"#fb9f3a\"],[0.8888888888888888,\"#fdca26\"],[1.0,\"#f0f921\"]],\"type\":\"heatmap\"}],\"histogram2dcontour\":[{\"colorbar\":{\"outlinewidth\":0,\"ticks\":\"\"},\"colorscale\":[[0.0,\"#0d0887\"],[0.1111111111111111,\"#46039f\"],[0.2222222222222222,\"#7201a8\"],[0.3333333333333333,\"#9c179e\"],[0.4444444444444444,\"#bd3786\"],[0.5555555555555556,\"#d8576b\"],[0.6666666666666666,\"#ed7953\"],[0.7777777777777778,\"#fb9f3a\"],[0.8888888888888888,\"#fdca26\"],[1.0,\"#f0f921\"]],\"type\":\"histogram2dcontour\"}],\"histogram2d\":[{\"colorbar\":{\"outlinewidth\":0,\"ticks\":\"\"},\"colorscale\":[[0.0,\"#0d0887\"],[0.1111111111111111,\"#46039f\"],[0.2222222222222222,\"#7201a8\"],[0.3333333333333333,\"#9c179e\"],[0.4444444444444444,\"#bd3786\"],[0.5555555555555556,\"#d8576b\"],[0.6666666666666666,\"#ed7953\"],[0.7777777777777778,\"#fb9f3a\"],[0.8888888888888888,\"#fdca26\"],[1.0,\"#f0f921\"]],\"type\":\"histogram2d\"}],\"histogram\":[{\"marker\":{\"pattern\":{\"fillmode\":\"overlay\",\"size\":10,\"solidity\":0.2}},\"type\":\"histogram\"}],\"mesh3d\":[{\"colorbar\":{\"outlinewidth\":0,\"ticks\":\"\"},\"type\":\"mesh3d\"}],\"parcoords\":[{\"line\":{\"colorbar\":{\"outlinewidth\":0,\"ticks\":\"\"}},\"type\":\"parcoords\"}],\"pie\":[{\"automargin\":true,\"type\":\"pie\"}],\"scatter3d\":[{\"line\":{\"colorbar\":{\"outlinewidth\":0,\"ticks\":\"\"}},\"marker\":{\"colorbar\":{\"outlinewidth\":0,\"ticks\":\"\"}},\"type\":\"scatter3d\"}],\"scattercarpet\":[{\"marker\":{\"colorbar\":{\"outlinewidth\":0,\"ticks\":\"\"}},\"type\":\"scattercarpet\"}],\"scattergeo\":[{\"marker\":{\"colorbar\":{\"outlinewidth\":0,\"ticks\":\"\"}},\"type\":\"scattergeo\"}],\"scattergl\":[{\"marker\":{\"colorbar\":{\"outlinewidth\":0,\"ticks\":\"\"}},\"type\":\"scattergl\"}],\"scattermapbox\":[{\"marker\":{\"colorbar\":{\"outlinewidth\":0,\"ticks\":\"\"}},\"type\":\"scattermapbox\"}],\"scatterpolargl\":[{\"marker\":{\"colorbar\":{\"outlinewidth\":0,\"ticks\":\"\"}},\"type\":\"scatterpolargl\"}],\"scatterpolar\":[{\"marker\":{\"colorbar\":{\"outlinewidth\":0,\"ticks\":\"\"}},\"type\":\"scatterpolar\"}],\"scatter\":[{\"fillpattern\":{\"fillmode\":\"overlay\",\"size\":10,\"solidity\":0.2},\"type\":\"scatter\"}],\"scatterternary\":[{\"marker\":{\"colorbar\":{\"outlinewidth\":0,\"ticks\":\"\"}},\"type\":\"scatterternary\"}],\"surface\":[{\"colorbar\":{\"outlinewidth\":0,\"ticks\":\"\"},\"colorscale\":[[0.0,\"#0d0887\"],[0.1111111111111111,\"#46039f\"],[0.2222222222222222,\"#7201a8\"],[0.3333333333333333,\"#9c179e\"],[0.4444444444444444,\"#bd3786\"],[0.5555555555555556,\"#d8576b\"],[0.6666666666666666,\"#ed7953\"],[0.7777777777777778,\"#fb9f3a\"],[0.8888888888888888,\"#fdca26\"],[1.0,\"#f0f921\"]],\"type\":\"surface\"}],\"table\":[{\"cells\":{\"fill\":{\"color\":\"#EBF0F8\"},\"line\":{\"color\":\"white\"}},\"header\":{\"fill\":{\"color\":\"#C8D4E3\"},\"line\":{\"color\":\"white\"}},\"type\":\"table\"}]},\"layout\":{\"annotationdefaults\":{\"arrowcolor\":\"#2a3f5f\",\"arrowhead\":0,\"arrowwidth\":1},\"autotypenumbers\":\"strict\",\"coloraxis\":{\"colorbar\":{\"outlinewidth\":0,\"ticks\":\"\"}},\"colorscale\":{\"diverging\":[[0,\"#8e0152\"],[0.1,\"#c51b7d\"],[0.2,\"#de77ae\"],[0.3,\"#f1b6da\"],[0.4,\"#fde0ef\"],[0.5,\"#f7f7f7\"],[0.6,\"#e6f5d0\"],[0.7,\"#b8e186\"],[0.8,\"#7fbc41\"],[0.9,\"#4d9221\"],[1,\"#276419\"]],\"sequential\":[[0.0,\"#0d0887\"],[0.1111111111111111,\"#46039f\"],[0.2222222222222222,\"#7201a8\"],[0.3333333333333333,\"#9c179e\"],[0.4444444444444444,\"#bd3786\"],[0.5555555555555556,\"#d8576b\"],[0.6666666666666666,\"#ed7953\"],[0.7777777777777778,\"#fb9f3a\"],[0.8888888888888888,\"#fdca26\"],[1.0,\"#f0f921\"]],\"sequentialminus\":[[0.0,\"#0d0887\"],[0.1111111111111111,\"#46039f\"],[0.2222222222222222,\"#7201a8\"],[0.3333333333333333,\"#9c179e\"],[0.4444444444444444,\"#bd3786\"],[0.5555555555555556,\"#d8576b\"],[0.6666666666666666,\"#ed7953\"],[0.7777777777777778,\"#fb9f3a\"],[0.8888888888888888,\"#fdca26\"],[1.0,\"#f0f921\"]]},\"colorway\":[\"#636efa\",\"#EF553B\",\"#00cc96\",\"#ab63fa\",\"#FFA15A\",\"#19d3f3\",\"#FF6692\",\"#B6E880\",\"#FF97FF\",\"#FECB52\"],\"font\":{\"color\":\"#2a3f5f\"},\"geo\":{\"bgcolor\":\"white\",\"lakecolor\":\"white\",\"landcolor\":\"#E5ECF6\",\"showlakes\":true,\"showland\":true,\"subunitcolor\":\"white\"},\"hoverlabel\":{\"align\":\"left\"},\"hovermode\":\"closest\",\"mapbox\":{\"style\":\"light\"},\"paper_bgcolor\":\"white\",\"plot_bgcolor\":\"#E5ECF6\",\"polar\":{\"angularaxis\":{\"gridcolor\":\"white\",\"linecolor\":\"white\",\"ticks\":\"\"},\"bgcolor\":\"#E5ECF6\",\"radialaxis\":{\"gridcolor\":\"white\",\"linecolor\":\"white\",\"ticks\":\"\"}},\"scene\":{\"xaxis\":{\"backgroundcolor\":\"#E5ECF6\",\"gridcolor\":\"white\",\"gridwidth\":2,\"linecolor\":\"white\",\"showbackground\":true,\"ticks\":\"\",\"zerolinecolor\":\"white\"},\"yaxis\":{\"backgroundcolor\":\"#E5ECF6\",\"gridcolor\":\"white\",\"gridwidth\":2,\"linecolor\":\"white\",\"showbackground\":true,\"ticks\":\"\",\"zerolinecolor\":\"white\"},\"zaxis\":{\"backgroundcolor\":\"#E5ECF6\",\"gridcolor\":\"white\",\"gridwidth\":2,\"linecolor\":\"white\",\"showbackground\":true,\"ticks\":\"\",\"zerolinecolor\":\"white\"}},\"shapedefaults\":{\"line\":{\"color\":\"#2a3f5f\"}},\"ternary\":{\"aaxis\":{\"gridcolor\":\"white\",\"linecolor\":\"white\",\"ticks\":\"\"},\"baxis\":{\"gridcolor\":\"white\",\"linecolor\":\"white\",\"ticks\":\"\"},\"bgcolor\":\"#E5ECF6\",\"caxis\":{\"gridcolor\":\"white\",\"linecolor\":\"white\",\"ticks\":\"\"}},\"title\":{\"x\":0.05},\"xaxis\":{\"automargin\":true,\"gridcolor\":\"white\",\"linecolor\":\"white\",\"ticks\":\"\",\"title\":{\"standoff\":15},\"zerolinecolor\":\"white\",\"zerolinewidth\":2},\"yaxis\":{\"automargin\":true,\"gridcolor\":\"white\",\"linecolor\":\"white\",\"ticks\":\"\",\"title\":{\"standoff\":15},\"zerolinecolor\":\"white\",\"zerolinewidth\":2}}},\"title\":{\"font\":{\"color\":\"#4D5663\"}},\"xaxis\":{\"gridcolor\":\"#E1E5ED\",\"showgrid\":true,\"tickfont\":{\"color\":\"#4D5663\"},\"title\":{\"font\":{\"color\":\"#4D5663\"},\"text\":\"\"},\"zerolinecolor\":\"#E1E5ED\"},\"yaxis\":{\"gridcolor\":\"#E1E5ED\",\"showgrid\":true,\"tickfont\":{\"color\":\"#4D5663\"},\"title\":{\"font\":{\"color\":\"#4D5663\"},\"text\":\"\"},\"zerolinecolor\":\"#E1E5ED\"}},                        {\"showLink\": true, \"linkText\": \"Export to plot.ly\", \"plotlyServerURL\": \"https://plot.ly\", \"responsive\": true}                    ).then(function(){\n",
       "                            \n",
       "var gd = document.getElementById('8bc20be8-1194-4265-a94c-a63c9c641659');\n",
       "var x = new MutationObserver(function (mutations, observer) {{\n",
       "        var display = window.getComputedStyle(gd).display;\n",
       "        if (!display || display === 'none') {{\n",
       "            console.log([gd, 'removed!']);\n",
       "            Plotly.purge(gd);\n",
       "            observer.disconnect();\n",
       "        }}\n",
       "}});\n",
       "\n",
       "// Listen for the removal of the full notebook cells\n",
       "var notebookContainer = gd.closest('#notebook-container');\n",
       "if (notebookContainer) {{\n",
       "    x.observe(notebookContainer, {childList: true});\n",
       "}}\n",
       "\n",
       "// Listen for the clearing of the current output cell\n",
       "var outputEl = gd.closest('.output');\n",
       "if (outputEl) {{\n",
       "    x.observe(outputEl, {childList: true});\n",
       "}}\n",
       "\n",
       "                        })                };                });            </script>        </div>"
      ]
     },
     "metadata": {},
     "output_type": "display_data"
    }
   ],
   "source": [
    "df.iplot(kind='box')\n",
    "#box plot of each column . you can hide and show specific by clicking on column name\n"
   ]
  },
  {
   "cell_type": "markdown",
   "metadata": {},
   "source": [
    "# 3D surface plot "
   ]
  },
  {
   "cell_type": "code",
   "execution_count": 31,
   "metadata": {},
   "outputs": [],
   "source": [
    "#create new datafram\n",
    "df3= pd.DataFrame({'x':[1,2,3,4,5], 'y':[10,20,30,40,50], 'z':[500,400,300,200,100]})\n"
   ]
  },
  {
   "cell_type": "code",
   "execution_count": 32,
   "metadata": {},
   "outputs": [
    {
     "data": {
      "text/html": [
       "<div>\n",
       "<style scoped>\n",
       "    .dataframe tbody tr th:only-of-type {\n",
       "        vertical-align: middle;\n",
       "    }\n",
       "\n",
       "    .dataframe tbody tr th {\n",
       "        vertical-align: top;\n",
       "    }\n",
       "\n",
       "    .dataframe thead th {\n",
       "        text-align: right;\n",
       "    }\n",
       "</style>\n",
       "<table border=\"1\" class=\"dataframe\">\n",
       "  <thead>\n",
       "    <tr style=\"text-align: right;\">\n",
       "      <th></th>\n",
       "      <th>x</th>\n",
       "      <th>y</th>\n",
       "      <th>z</th>\n",
       "    </tr>\n",
       "  </thead>\n",
       "  <tbody>\n",
       "    <tr>\n",
       "      <th>0</th>\n",
       "      <td>1</td>\n",
       "      <td>10</td>\n",
       "      <td>500</td>\n",
       "    </tr>\n",
       "    <tr>\n",
       "      <th>1</th>\n",
       "      <td>2</td>\n",
       "      <td>20</td>\n",
       "      <td>400</td>\n",
       "    </tr>\n",
       "    <tr>\n",
       "      <th>2</th>\n",
       "      <td>3</td>\n",
       "      <td>30</td>\n",
       "      <td>300</td>\n",
       "    </tr>\n",
       "    <tr>\n",
       "      <th>3</th>\n",
       "      <td>4</td>\n",
       "      <td>40</td>\n",
       "      <td>200</td>\n",
       "    </tr>\n",
       "    <tr>\n",
       "      <th>4</th>\n",
       "      <td>5</td>\n",
       "      <td>50</td>\n",
       "      <td>100</td>\n",
       "    </tr>\n",
       "  </tbody>\n",
       "</table>\n",
       "</div>"
      ],
      "text/plain": [
       "   x   y    z\n",
       "0  1  10  500\n",
       "1  2  20  400\n",
       "2  3  30  300\n",
       "3  4  40  200\n",
       "4  5  50  100"
      ]
     },
     "execution_count": 32,
     "metadata": {},
     "output_type": "execute_result"
    }
   ],
   "source": [
    "df3"
   ]
  },
  {
   "cell_type": "code",
   "execution_count": 37,
   "metadata": {},
   "outputs": [
    {
     "data": {
      "application/vnd.plotly.v1+json": {
       "config": {
        "linkText": "Export to plot.ly",
        "plotlyServerURL": "https://plot.ly",
        "showLink": true
       },
       "data": [
        {
         "colorscale": [
          [
           0,
           "rgb(255, 153, 51)"
          ],
          [
           0.1111111111111111,
           "rgb(55, 128, 191)"
          ],
          [
           0.2222222222222222,
           "rgb(50, 171, 96)"
          ],
          [
           0.3333333333333333,
           "rgb(128, 0, 128)"
          ],
          [
           0.4444444444444444,
           "rgb(219, 64, 82)"
          ],
          [
           0.5555555555555556,
           "rgb(0, 128, 128)"
          ],
          [
           0.6666666666666666,
           "rgb(255, 255, 51)"
          ],
          [
           0.7777777777777778,
           "rgb(128, 128, 0)"
          ],
          [
           0.8888888888888888,
           "rgb(251, 128, 114)"
          ],
          [
           1,
           "rgb(128, 177, 211)"
          ]
         ],
         "type": "surface",
         "x": [
          0,
          1,
          2,
          3,
          4
         ],
         "y": [
          "x",
          "y",
          "z"
         ],
         "z": [
          [
           1,
           2,
           3,
           4,
           5
          ],
          [
           10,
           20,
           30,
           40,
           50
          ],
          [
           500,
           400,
           300,
           200,
           100
          ]
         ]
        }
       ],
       "layout": {
        "legend": {
         "bgcolor": "#F5F6F9",
         "font": {
          "color": "#4D5663"
         }
        },
        "paper_bgcolor": "#F5F6F9",
        "plot_bgcolor": "#F5F6F9",
        "template": {
         "data": {
          "bar": [
           {
            "error_x": {
             "color": "#2a3f5f"
            },
            "error_y": {
             "color": "#2a3f5f"
            },
            "marker": {
             "line": {
              "color": "#E5ECF6",
              "width": 0.5
             },
             "pattern": {
              "fillmode": "overlay",
              "size": 10,
              "solidity": 0.2
             }
            },
            "type": "bar"
           }
          ],
          "barpolar": [
           {
            "marker": {
             "line": {
              "color": "#E5ECF6",
              "width": 0.5
             },
             "pattern": {
              "fillmode": "overlay",
              "size": 10,
              "solidity": 0.2
             }
            },
            "type": "barpolar"
           }
          ],
          "carpet": [
           {
            "aaxis": {
             "endlinecolor": "#2a3f5f",
             "gridcolor": "white",
             "linecolor": "white",
             "minorgridcolor": "white",
             "startlinecolor": "#2a3f5f"
            },
            "baxis": {
             "endlinecolor": "#2a3f5f",
             "gridcolor": "white",
             "linecolor": "white",
             "minorgridcolor": "white",
             "startlinecolor": "#2a3f5f"
            },
            "type": "carpet"
           }
          ],
          "choropleth": [
           {
            "colorbar": {
             "outlinewidth": 0,
             "ticks": ""
            },
            "type": "choropleth"
           }
          ],
          "contour": [
           {
            "colorbar": {
             "outlinewidth": 0,
             "ticks": ""
            },
            "colorscale": [
             [
              0,
              "#0d0887"
             ],
             [
              0.1111111111111111,
              "#46039f"
             ],
             [
              0.2222222222222222,
              "#7201a8"
             ],
             [
              0.3333333333333333,
              "#9c179e"
             ],
             [
              0.4444444444444444,
              "#bd3786"
             ],
             [
              0.5555555555555556,
              "#d8576b"
             ],
             [
              0.6666666666666666,
              "#ed7953"
             ],
             [
              0.7777777777777778,
              "#fb9f3a"
             ],
             [
              0.8888888888888888,
              "#fdca26"
             ],
             [
              1,
              "#f0f921"
             ]
            ],
            "type": "contour"
           }
          ],
          "contourcarpet": [
           {
            "colorbar": {
             "outlinewidth": 0,
             "ticks": ""
            },
            "type": "contourcarpet"
           }
          ],
          "heatmap": [
           {
            "colorbar": {
             "outlinewidth": 0,
             "ticks": ""
            },
            "colorscale": [
             [
              0,
              "#0d0887"
             ],
             [
              0.1111111111111111,
              "#46039f"
             ],
             [
              0.2222222222222222,
              "#7201a8"
             ],
             [
              0.3333333333333333,
              "#9c179e"
             ],
             [
              0.4444444444444444,
              "#bd3786"
             ],
             [
              0.5555555555555556,
              "#d8576b"
             ],
             [
              0.6666666666666666,
              "#ed7953"
             ],
             [
              0.7777777777777778,
              "#fb9f3a"
             ],
             [
              0.8888888888888888,
              "#fdca26"
             ],
             [
              1,
              "#f0f921"
             ]
            ],
            "type": "heatmap"
           }
          ],
          "heatmapgl": [
           {
            "colorbar": {
             "outlinewidth": 0,
             "ticks": ""
            },
            "colorscale": [
             [
              0,
              "#0d0887"
             ],
             [
              0.1111111111111111,
              "#46039f"
             ],
             [
              0.2222222222222222,
              "#7201a8"
             ],
             [
              0.3333333333333333,
              "#9c179e"
             ],
             [
              0.4444444444444444,
              "#bd3786"
             ],
             [
              0.5555555555555556,
              "#d8576b"
             ],
             [
              0.6666666666666666,
              "#ed7953"
             ],
             [
              0.7777777777777778,
              "#fb9f3a"
             ],
             [
              0.8888888888888888,
              "#fdca26"
             ],
             [
              1,
              "#f0f921"
             ]
            ],
            "type": "heatmapgl"
           }
          ],
          "histogram": [
           {
            "marker": {
             "pattern": {
              "fillmode": "overlay",
              "size": 10,
              "solidity": 0.2
             }
            },
            "type": "histogram"
           }
          ],
          "histogram2d": [
           {
            "colorbar": {
             "outlinewidth": 0,
             "ticks": ""
            },
            "colorscale": [
             [
              0,
              "#0d0887"
             ],
             [
              0.1111111111111111,
              "#46039f"
             ],
             [
              0.2222222222222222,
              "#7201a8"
             ],
             [
              0.3333333333333333,
              "#9c179e"
             ],
             [
              0.4444444444444444,
              "#bd3786"
             ],
             [
              0.5555555555555556,
              "#d8576b"
             ],
             [
              0.6666666666666666,
              "#ed7953"
             ],
             [
              0.7777777777777778,
              "#fb9f3a"
             ],
             [
              0.8888888888888888,
              "#fdca26"
             ],
             [
              1,
              "#f0f921"
             ]
            ],
            "type": "histogram2d"
           }
          ],
          "histogram2dcontour": [
           {
            "colorbar": {
             "outlinewidth": 0,
             "ticks": ""
            },
            "colorscale": [
             [
              0,
              "#0d0887"
             ],
             [
              0.1111111111111111,
              "#46039f"
             ],
             [
              0.2222222222222222,
              "#7201a8"
             ],
             [
              0.3333333333333333,
              "#9c179e"
             ],
             [
              0.4444444444444444,
              "#bd3786"
             ],
             [
              0.5555555555555556,
              "#d8576b"
             ],
             [
              0.6666666666666666,
              "#ed7953"
             ],
             [
              0.7777777777777778,
              "#fb9f3a"
             ],
             [
              0.8888888888888888,
              "#fdca26"
             ],
             [
              1,
              "#f0f921"
             ]
            ],
            "type": "histogram2dcontour"
           }
          ],
          "mesh3d": [
           {
            "colorbar": {
             "outlinewidth": 0,
             "ticks": ""
            },
            "type": "mesh3d"
           }
          ],
          "parcoords": [
           {
            "line": {
             "colorbar": {
              "outlinewidth": 0,
              "ticks": ""
             }
            },
            "type": "parcoords"
           }
          ],
          "pie": [
           {
            "automargin": true,
            "type": "pie"
           }
          ],
          "scatter": [
           {
            "fillpattern": {
             "fillmode": "overlay",
             "size": 10,
             "solidity": 0.2
            },
            "type": "scatter"
           }
          ],
          "scatter3d": [
           {
            "line": {
             "colorbar": {
              "outlinewidth": 0,
              "ticks": ""
             }
            },
            "marker": {
             "colorbar": {
              "outlinewidth": 0,
              "ticks": ""
             }
            },
            "type": "scatter3d"
           }
          ],
          "scattercarpet": [
           {
            "marker": {
             "colorbar": {
              "outlinewidth": 0,
              "ticks": ""
             }
            },
            "type": "scattercarpet"
           }
          ],
          "scattergeo": [
           {
            "marker": {
             "colorbar": {
              "outlinewidth": 0,
              "ticks": ""
             }
            },
            "type": "scattergeo"
           }
          ],
          "scattergl": [
           {
            "marker": {
             "colorbar": {
              "outlinewidth": 0,
              "ticks": ""
             }
            },
            "type": "scattergl"
           }
          ],
          "scattermapbox": [
           {
            "marker": {
             "colorbar": {
              "outlinewidth": 0,
              "ticks": ""
             }
            },
            "type": "scattermapbox"
           }
          ],
          "scatterpolar": [
           {
            "marker": {
             "colorbar": {
              "outlinewidth": 0,
              "ticks": ""
             }
            },
            "type": "scatterpolar"
           }
          ],
          "scatterpolargl": [
           {
            "marker": {
             "colorbar": {
              "outlinewidth": 0,
              "ticks": ""
             }
            },
            "type": "scatterpolargl"
           }
          ],
          "scatterternary": [
           {
            "marker": {
             "colorbar": {
              "outlinewidth": 0,
              "ticks": ""
             }
            },
            "type": "scatterternary"
           }
          ],
          "surface": [
           {
            "colorbar": {
             "outlinewidth": 0,
             "ticks": ""
            },
            "colorscale": [
             [
              0,
              "#0d0887"
             ],
             [
              0.1111111111111111,
              "#46039f"
             ],
             [
              0.2222222222222222,
              "#7201a8"
             ],
             [
              0.3333333333333333,
              "#9c179e"
             ],
             [
              0.4444444444444444,
              "#bd3786"
             ],
             [
              0.5555555555555556,
              "#d8576b"
             ],
             [
              0.6666666666666666,
              "#ed7953"
             ],
             [
              0.7777777777777778,
              "#fb9f3a"
             ],
             [
              0.8888888888888888,
              "#fdca26"
             ],
             [
              1,
              "#f0f921"
             ]
            ],
            "type": "surface"
           }
          ],
          "table": [
           {
            "cells": {
             "fill": {
              "color": "#EBF0F8"
             },
             "line": {
              "color": "white"
             }
            },
            "header": {
             "fill": {
              "color": "#C8D4E3"
             },
             "line": {
              "color": "white"
             }
            },
            "type": "table"
           }
          ]
         },
         "layout": {
          "annotationdefaults": {
           "arrowcolor": "#2a3f5f",
           "arrowhead": 0,
           "arrowwidth": 1
          },
          "autotypenumbers": "strict",
          "coloraxis": {
           "colorbar": {
            "outlinewidth": 0,
            "ticks": ""
           }
          },
          "colorscale": {
           "diverging": [
            [
             0,
             "#8e0152"
            ],
            [
             0.1,
             "#c51b7d"
            ],
            [
             0.2,
             "#de77ae"
            ],
            [
             0.3,
             "#f1b6da"
            ],
            [
             0.4,
             "#fde0ef"
            ],
            [
             0.5,
             "#f7f7f7"
            ],
            [
             0.6,
             "#e6f5d0"
            ],
            [
             0.7,
             "#b8e186"
            ],
            [
             0.8,
             "#7fbc41"
            ],
            [
             0.9,
             "#4d9221"
            ],
            [
             1,
             "#276419"
            ]
           ],
           "sequential": [
            [
             0,
             "#0d0887"
            ],
            [
             0.1111111111111111,
             "#46039f"
            ],
            [
             0.2222222222222222,
             "#7201a8"
            ],
            [
             0.3333333333333333,
             "#9c179e"
            ],
            [
             0.4444444444444444,
             "#bd3786"
            ],
            [
             0.5555555555555556,
             "#d8576b"
            ],
            [
             0.6666666666666666,
             "#ed7953"
            ],
            [
             0.7777777777777778,
             "#fb9f3a"
            ],
            [
             0.8888888888888888,
             "#fdca26"
            ],
            [
             1,
             "#f0f921"
            ]
           ],
           "sequentialminus": [
            [
             0,
             "#0d0887"
            ],
            [
             0.1111111111111111,
             "#46039f"
            ],
            [
             0.2222222222222222,
             "#7201a8"
            ],
            [
             0.3333333333333333,
             "#9c179e"
            ],
            [
             0.4444444444444444,
             "#bd3786"
            ],
            [
             0.5555555555555556,
             "#d8576b"
            ],
            [
             0.6666666666666666,
             "#ed7953"
            ],
            [
             0.7777777777777778,
             "#fb9f3a"
            ],
            [
             0.8888888888888888,
             "#fdca26"
            ],
            [
             1,
             "#f0f921"
            ]
           ]
          },
          "colorway": [
           "#636efa",
           "#EF553B",
           "#00cc96",
           "#ab63fa",
           "#FFA15A",
           "#19d3f3",
           "#FF6692",
           "#B6E880",
           "#FF97FF",
           "#FECB52"
          ],
          "font": {
           "color": "#2a3f5f"
          },
          "geo": {
           "bgcolor": "white",
           "lakecolor": "white",
           "landcolor": "#E5ECF6",
           "showlakes": true,
           "showland": true,
           "subunitcolor": "white"
          },
          "hoverlabel": {
           "align": "left"
          },
          "hovermode": "closest",
          "mapbox": {
           "style": "light"
          },
          "paper_bgcolor": "white",
          "plot_bgcolor": "#E5ECF6",
          "polar": {
           "angularaxis": {
            "gridcolor": "white",
            "linecolor": "white",
            "ticks": ""
           },
           "bgcolor": "#E5ECF6",
           "radialaxis": {
            "gridcolor": "white",
            "linecolor": "white",
            "ticks": ""
           }
          },
          "scene": {
           "xaxis": {
            "backgroundcolor": "#E5ECF6",
            "gridcolor": "white",
            "gridwidth": 2,
            "linecolor": "white",
            "showbackground": true,
            "ticks": "",
            "zerolinecolor": "white"
           },
           "yaxis": {
            "backgroundcolor": "#E5ECF6",
            "gridcolor": "white",
            "gridwidth": 2,
            "linecolor": "white",
            "showbackground": true,
            "ticks": "",
            "zerolinecolor": "white"
           },
           "zaxis": {
            "backgroundcolor": "#E5ECF6",
            "gridcolor": "white",
            "gridwidth": 2,
            "linecolor": "white",
            "showbackground": true,
            "ticks": "",
            "zerolinecolor": "white"
           }
          },
          "shapedefaults": {
           "line": {
            "color": "#2a3f5f"
           }
          },
          "ternary": {
           "aaxis": {
            "gridcolor": "white",
            "linecolor": "white",
            "ticks": ""
           },
           "baxis": {
            "gridcolor": "white",
            "linecolor": "white",
            "ticks": ""
           },
           "bgcolor": "#E5ECF6",
           "caxis": {
            "gridcolor": "white",
            "linecolor": "white",
            "ticks": ""
           }
          },
          "title": {
           "x": 0.05
          },
          "xaxis": {
           "automargin": true,
           "gridcolor": "white",
           "linecolor": "white",
           "ticks": "",
           "title": {
            "standoff": 15
           },
           "zerolinecolor": "white",
           "zerolinewidth": 2
          },
          "yaxis": {
           "automargin": true,
           "gridcolor": "white",
           "linecolor": "white",
           "ticks": "",
           "title": {
            "standoff": 15
           },
           "zerolinecolor": "white",
           "zerolinewidth": 2
          }
         }
        },
        "title": {
         "font": {
          "color": "#4D5663"
         }
        },
        "xaxis": {
         "gridcolor": "#E1E5ED",
         "showgrid": true,
         "tickfont": {
          "color": "#4D5663"
         },
         "title": {
          "font": {
           "color": "#4D5663"
          },
          "text": ""
         },
         "zerolinecolor": "#E1E5ED"
        },
        "yaxis": {
         "gridcolor": "#E1E5ED",
         "showgrid": true,
         "tickfont": {
          "color": "#4D5663"
         },
         "title": {
          "font": {
           "color": "#4D5663"
          },
          "text": ""
         },
         "zerolinecolor": "#E1E5ED"
        }
       }
      },
      "text/html": [
       "<div>                            <div id=\"b3506ead-334c-4226-b5c9-566fc28db6f9\" class=\"plotly-graph-div\" style=\"height:525px; width:100%;\"></div>            <script type=\"text/javascript\">                require([\"plotly\"], function(Plotly) {                    window.PLOTLYENV=window.PLOTLYENV || {};\n",
       "                    window.PLOTLYENV.BASE_URL='https://plot.ly';                                    if (document.getElementById(\"b3506ead-334c-4226-b5c9-566fc28db6f9\")) {                    Plotly.newPlot(                        \"b3506ead-334c-4226-b5c9-566fc28db6f9\",                        [{\"colorscale\":[[0.0,\"rgb(255, 153, 51)\"],[0.1111111111111111,\"rgb(55, 128, 191)\"],[0.2222222222222222,\"rgb(50, 171, 96)\"],[0.3333333333333333,\"rgb(128, 0, 128)\"],[0.4444444444444444,\"rgb(219, 64, 82)\"],[0.5555555555555556,\"rgb(0, 128, 128)\"],[0.6666666666666666,\"rgb(255, 255, 51)\"],[0.7777777777777778,\"rgb(128, 128, 0)\"],[0.8888888888888888,\"rgb(251, 128, 114)\"],[1.0,\"rgb(128, 177, 211)\"]],\"x\":[0,1,2,3,4],\"y\":[\"x\",\"y\",\"z\"],\"z\":[[1,2,3,4,5],[10,20,30,40,50],[500,400,300,200,100]],\"type\":\"surface\"}],                        {\"legend\":{\"bgcolor\":\"#F5F6F9\",\"font\":{\"color\":\"#4D5663\"}},\"paper_bgcolor\":\"#F5F6F9\",\"plot_bgcolor\":\"#F5F6F9\",\"template\":{\"data\":{\"barpolar\":[{\"marker\":{\"line\":{\"color\":\"#E5ECF6\",\"width\":0.5},\"pattern\":{\"fillmode\":\"overlay\",\"size\":10,\"solidity\":0.2}},\"type\":\"barpolar\"}],\"bar\":[{\"error_x\":{\"color\":\"#2a3f5f\"},\"error_y\":{\"color\":\"#2a3f5f\"},\"marker\":{\"line\":{\"color\":\"#E5ECF6\",\"width\":0.5},\"pattern\":{\"fillmode\":\"overlay\",\"size\":10,\"solidity\":0.2}},\"type\":\"bar\"}],\"carpet\":[{\"aaxis\":{\"endlinecolor\":\"#2a3f5f\",\"gridcolor\":\"white\",\"linecolor\":\"white\",\"minorgridcolor\":\"white\",\"startlinecolor\":\"#2a3f5f\"},\"baxis\":{\"endlinecolor\":\"#2a3f5f\",\"gridcolor\":\"white\",\"linecolor\":\"white\",\"minorgridcolor\":\"white\",\"startlinecolor\":\"#2a3f5f\"},\"type\":\"carpet\"}],\"choropleth\":[{\"colorbar\":{\"outlinewidth\":0,\"ticks\":\"\"},\"type\":\"choropleth\"}],\"contourcarpet\":[{\"colorbar\":{\"outlinewidth\":0,\"ticks\":\"\"},\"type\":\"contourcarpet\"}],\"contour\":[{\"colorbar\":{\"outlinewidth\":0,\"ticks\":\"\"},\"colorscale\":[[0.0,\"#0d0887\"],[0.1111111111111111,\"#46039f\"],[0.2222222222222222,\"#7201a8\"],[0.3333333333333333,\"#9c179e\"],[0.4444444444444444,\"#bd3786\"],[0.5555555555555556,\"#d8576b\"],[0.6666666666666666,\"#ed7953\"],[0.7777777777777778,\"#fb9f3a\"],[0.8888888888888888,\"#fdca26\"],[1.0,\"#f0f921\"]],\"type\":\"contour\"}],\"heatmapgl\":[{\"colorbar\":{\"outlinewidth\":0,\"ticks\":\"\"},\"colorscale\":[[0.0,\"#0d0887\"],[0.1111111111111111,\"#46039f\"],[0.2222222222222222,\"#7201a8\"],[0.3333333333333333,\"#9c179e\"],[0.4444444444444444,\"#bd3786\"],[0.5555555555555556,\"#d8576b\"],[0.6666666666666666,\"#ed7953\"],[0.7777777777777778,\"#fb9f3a\"],[0.8888888888888888,\"#fdca26\"],[1.0,\"#f0f921\"]],\"type\":\"heatmapgl\"}],\"heatmap\":[{\"colorbar\":{\"outlinewidth\":0,\"ticks\":\"\"},\"colorscale\":[[0.0,\"#0d0887\"],[0.1111111111111111,\"#46039f\"],[0.2222222222222222,\"#7201a8\"],[0.3333333333333333,\"#9c179e\"],[0.4444444444444444,\"#bd3786\"],[0.5555555555555556,\"#d8576b\"],[0.6666666666666666,\"#ed7953\"],[0.7777777777777778,\"#fb9f3a\"],[0.8888888888888888,\"#fdca26\"],[1.0,\"#f0f921\"]],\"type\":\"heatmap\"}],\"histogram2dcontour\":[{\"colorbar\":{\"outlinewidth\":0,\"ticks\":\"\"},\"colorscale\":[[0.0,\"#0d0887\"],[0.1111111111111111,\"#46039f\"],[0.2222222222222222,\"#7201a8\"],[0.3333333333333333,\"#9c179e\"],[0.4444444444444444,\"#bd3786\"],[0.5555555555555556,\"#d8576b\"],[0.6666666666666666,\"#ed7953\"],[0.7777777777777778,\"#fb9f3a\"],[0.8888888888888888,\"#fdca26\"],[1.0,\"#f0f921\"]],\"type\":\"histogram2dcontour\"}],\"histogram2d\":[{\"colorbar\":{\"outlinewidth\":0,\"ticks\":\"\"},\"colorscale\":[[0.0,\"#0d0887\"],[0.1111111111111111,\"#46039f\"],[0.2222222222222222,\"#7201a8\"],[0.3333333333333333,\"#9c179e\"],[0.4444444444444444,\"#bd3786\"],[0.5555555555555556,\"#d8576b\"],[0.6666666666666666,\"#ed7953\"],[0.7777777777777778,\"#fb9f3a\"],[0.8888888888888888,\"#fdca26\"],[1.0,\"#f0f921\"]],\"type\":\"histogram2d\"}],\"histogram\":[{\"marker\":{\"pattern\":{\"fillmode\":\"overlay\",\"size\":10,\"solidity\":0.2}},\"type\":\"histogram\"}],\"mesh3d\":[{\"colorbar\":{\"outlinewidth\":0,\"ticks\":\"\"},\"type\":\"mesh3d\"}],\"parcoords\":[{\"line\":{\"colorbar\":{\"outlinewidth\":0,\"ticks\":\"\"}},\"type\":\"parcoords\"}],\"pie\":[{\"automargin\":true,\"type\":\"pie\"}],\"scatter3d\":[{\"line\":{\"colorbar\":{\"outlinewidth\":0,\"ticks\":\"\"}},\"marker\":{\"colorbar\":{\"outlinewidth\":0,\"ticks\":\"\"}},\"type\":\"scatter3d\"}],\"scattercarpet\":[{\"marker\":{\"colorbar\":{\"outlinewidth\":0,\"ticks\":\"\"}},\"type\":\"scattercarpet\"}],\"scattergeo\":[{\"marker\":{\"colorbar\":{\"outlinewidth\":0,\"ticks\":\"\"}},\"type\":\"scattergeo\"}],\"scattergl\":[{\"marker\":{\"colorbar\":{\"outlinewidth\":0,\"ticks\":\"\"}},\"type\":\"scattergl\"}],\"scattermapbox\":[{\"marker\":{\"colorbar\":{\"outlinewidth\":0,\"ticks\":\"\"}},\"type\":\"scattermapbox\"}],\"scatterpolargl\":[{\"marker\":{\"colorbar\":{\"outlinewidth\":0,\"ticks\":\"\"}},\"type\":\"scatterpolargl\"}],\"scatterpolar\":[{\"marker\":{\"colorbar\":{\"outlinewidth\":0,\"ticks\":\"\"}},\"type\":\"scatterpolar\"}],\"scatter\":[{\"fillpattern\":{\"fillmode\":\"overlay\",\"size\":10,\"solidity\":0.2},\"type\":\"scatter\"}],\"scatterternary\":[{\"marker\":{\"colorbar\":{\"outlinewidth\":0,\"ticks\":\"\"}},\"type\":\"scatterternary\"}],\"surface\":[{\"colorbar\":{\"outlinewidth\":0,\"ticks\":\"\"},\"colorscale\":[[0.0,\"#0d0887\"],[0.1111111111111111,\"#46039f\"],[0.2222222222222222,\"#7201a8\"],[0.3333333333333333,\"#9c179e\"],[0.4444444444444444,\"#bd3786\"],[0.5555555555555556,\"#d8576b\"],[0.6666666666666666,\"#ed7953\"],[0.7777777777777778,\"#fb9f3a\"],[0.8888888888888888,\"#fdca26\"],[1.0,\"#f0f921\"]],\"type\":\"surface\"}],\"table\":[{\"cells\":{\"fill\":{\"color\":\"#EBF0F8\"},\"line\":{\"color\":\"white\"}},\"header\":{\"fill\":{\"color\":\"#C8D4E3\"},\"line\":{\"color\":\"white\"}},\"type\":\"table\"}]},\"layout\":{\"annotationdefaults\":{\"arrowcolor\":\"#2a3f5f\",\"arrowhead\":0,\"arrowwidth\":1},\"autotypenumbers\":\"strict\",\"coloraxis\":{\"colorbar\":{\"outlinewidth\":0,\"ticks\":\"\"}},\"colorscale\":{\"diverging\":[[0,\"#8e0152\"],[0.1,\"#c51b7d\"],[0.2,\"#de77ae\"],[0.3,\"#f1b6da\"],[0.4,\"#fde0ef\"],[0.5,\"#f7f7f7\"],[0.6,\"#e6f5d0\"],[0.7,\"#b8e186\"],[0.8,\"#7fbc41\"],[0.9,\"#4d9221\"],[1,\"#276419\"]],\"sequential\":[[0.0,\"#0d0887\"],[0.1111111111111111,\"#46039f\"],[0.2222222222222222,\"#7201a8\"],[0.3333333333333333,\"#9c179e\"],[0.4444444444444444,\"#bd3786\"],[0.5555555555555556,\"#d8576b\"],[0.6666666666666666,\"#ed7953\"],[0.7777777777777778,\"#fb9f3a\"],[0.8888888888888888,\"#fdca26\"],[1.0,\"#f0f921\"]],\"sequentialminus\":[[0.0,\"#0d0887\"],[0.1111111111111111,\"#46039f\"],[0.2222222222222222,\"#7201a8\"],[0.3333333333333333,\"#9c179e\"],[0.4444444444444444,\"#bd3786\"],[0.5555555555555556,\"#d8576b\"],[0.6666666666666666,\"#ed7953\"],[0.7777777777777778,\"#fb9f3a\"],[0.8888888888888888,\"#fdca26\"],[1.0,\"#f0f921\"]]},\"colorway\":[\"#636efa\",\"#EF553B\",\"#00cc96\",\"#ab63fa\",\"#FFA15A\",\"#19d3f3\",\"#FF6692\",\"#B6E880\",\"#FF97FF\",\"#FECB52\"],\"font\":{\"color\":\"#2a3f5f\"},\"geo\":{\"bgcolor\":\"white\",\"lakecolor\":\"white\",\"landcolor\":\"#E5ECF6\",\"showlakes\":true,\"showland\":true,\"subunitcolor\":\"white\"},\"hoverlabel\":{\"align\":\"left\"},\"hovermode\":\"closest\",\"mapbox\":{\"style\":\"light\"},\"paper_bgcolor\":\"white\",\"plot_bgcolor\":\"#E5ECF6\",\"polar\":{\"angularaxis\":{\"gridcolor\":\"white\",\"linecolor\":\"white\",\"ticks\":\"\"},\"bgcolor\":\"#E5ECF6\",\"radialaxis\":{\"gridcolor\":\"white\",\"linecolor\":\"white\",\"ticks\":\"\"}},\"scene\":{\"xaxis\":{\"backgroundcolor\":\"#E5ECF6\",\"gridcolor\":\"white\",\"gridwidth\":2,\"linecolor\":\"white\",\"showbackground\":true,\"ticks\":\"\",\"zerolinecolor\":\"white\"},\"yaxis\":{\"backgroundcolor\":\"#E5ECF6\",\"gridcolor\":\"white\",\"gridwidth\":2,\"linecolor\":\"white\",\"showbackground\":true,\"ticks\":\"\",\"zerolinecolor\":\"white\"},\"zaxis\":{\"backgroundcolor\":\"#E5ECF6\",\"gridcolor\":\"white\",\"gridwidth\":2,\"linecolor\":\"white\",\"showbackground\":true,\"ticks\":\"\",\"zerolinecolor\":\"white\"}},\"shapedefaults\":{\"line\":{\"color\":\"#2a3f5f\"}},\"ternary\":{\"aaxis\":{\"gridcolor\":\"white\",\"linecolor\":\"white\",\"ticks\":\"\"},\"baxis\":{\"gridcolor\":\"white\",\"linecolor\":\"white\",\"ticks\":\"\"},\"bgcolor\":\"#E5ECF6\",\"caxis\":{\"gridcolor\":\"white\",\"linecolor\":\"white\",\"ticks\":\"\"}},\"title\":{\"x\":0.05},\"xaxis\":{\"automargin\":true,\"gridcolor\":\"white\",\"linecolor\":\"white\",\"ticks\":\"\",\"title\":{\"standoff\":15},\"zerolinecolor\":\"white\",\"zerolinewidth\":2},\"yaxis\":{\"automargin\":true,\"gridcolor\":\"white\",\"linecolor\":\"white\",\"ticks\":\"\",\"title\":{\"standoff\":15},\"zerolinecolor\":\"white\",\"zerolinewidth\":2}}},\"title\":{\"font\":{\"color\":\"#4D5663\"}},\"xaxis\":{\"gridcolor\":\"#E1E5ED\",\"showgrid\":true,\"tickfont\":{\"color\":\"#4D5663\"},\"title\":{\"font\":{\"color\":\"#4D5663\"},\"text\":\"\"},\"zerolinecolor\":\"#E1E5ED\"},\"yaxis\":{\"gridcolor\":\"#E1E5ED\",\"showgrid\":true,\"tickfont\":{\"color\":\"#4D5663\"},\"title\":{\"font\":{\"color\":\"#4D5663\"},\"text\":\"\"},\"zerolinecolor\":\"#E1E5ED\"}},                        {\"showLink\": true, \"linkText\": \"Export to plot.ly\", \"plotlyServerURL\": \"https://plot.ly\", \"responsive\": true}                    ).then(function(){\n",
       "                            \n",
       "var gd = document.getElementById('b3506ead-334c-4226-b5c9-566fc28db6f9');\n",
       "var x = new MutationObserver(function (mutations, observer) {{\n",
       "        var display = window.getComputedStyle(gd).display;\n",
       "        if (!display || display === 'none') {{\n",
       "            console.log([gd, 'removed!']);\n",
       "            Plotly.purge(gd);\n",
       "            observer.disconnect();\n",
       "        }}\n",
       "}});\n",
       "\n",
       "// Listen for the removal of the full notebook cells\n",
       "var notebookContainer = gd.closest('#notebook-container');\n",
       "if (notebookContainer) {{\n",
       "    x.observe(notebookContainer, {childList: true});\n",
       "}}\n",
       "\n",
       "// Listen for the clearing of the current output cell\n",
       "var outputEl = gd.closest('.output');\n",
       "if (outputEl) {{\n",
       "    x.observe(outputEl, {childList: true});\n",
       "}}\n",
       "\n",
       "                        })                };                });            </script>        </div>"
      ]
     },
     "metadata": {},
     "output_type": "display_data"
    }
   ],
   "source": [
    "df3.iplot(kind='surface')"
   ]
  },
  {
   "cell_type": "code",
   "execution_count": 38,
   "metadata": {},
   "outputs": [
    {
     "data": {
      "application/vnd.plotly.v1+json": {
       "config": {
        "linkText": "Export to plot.ly",
        "plotlyServerURL": "https://plot.ly",
        "showLink": true
       },
       "data": [
        {
         "colorscale": [
          [
           0,
           "rgb(165,0,38)"
          ],
          [
           0.1,
           "rgb(215,48,39)"
          ],
          [
           0.2,
           "rgb(244,109,67)"
          ],
          [
           0.3,
           "rgb(253,174,97)"
          ],
          [
           0.4,
           "rgb(254,224,144)"
          ],
          [
           0.5,
           "rgb(255,255,191)"
          ],
          [
           0.6,
           "rgb(224,243,248)"
          ],
          [
           0.7,
           "rgb(171,217,233)"
          ],
          [
           0.8,
           "rgb(116,173,209)"
          ],
          [
           0.9,
           "rgb(69,117,180)"
          ],
          [
           1,
           "rgb(49,54,149)"
          ]
         ],
         "type": "surface",
         "x": [
          0,
          1,
          2,
          3,
          4
         ],
         "y": [
          "x",
          "y",
          "z"
         ],
         "z": [
          [
           1,
           2,
           3,
           4,
           5
          ],
          [
           10,
           20,
           30,
           40,
           50
          ],
          [
           500,
           400,
           300,
           200,
           100
          ]
         ]
        }
       ],
       "layout": {
        "legend": {
         "bgcolor": "#F5F6F9",
         "font": {
          "color": "#4D5663"
         }
        },
        "paper_bgcolor": "#F5F6F9",
        "plot_bgcolor": "#F5F6F9",
        "template": {
         "data": {
          "bar": [
           {
            "error_x": {
             "color": "#2a3f5f"
            },
            "error_y": {
             "color": "#2a3f5f"
            },
            "marker": {
             "line": {
              "color": "#E5ECF6",
              "width": 0.5
             },
             "pattern": {
              "fillmode": "overlay",
              "size": 10,
              "solidity": 0.2
             }
            },
            "type": "bar"
           }
          ],
          "barpolar": [
           {
            "marker": {
             "line": {
              "color": "#E5ECF6",
              "width": 0.5
             },
             "pattern": {
              "fillmode": "overlay",
              "size": 10,
              "solidity": 0.2
             }
            },
            "type": "barpolar"
           }
          ],
          "carpet": [
           {
            "aaxis": {
             "endlinecolor": "#2a3f5f",
             "gridcolor": "white",
             "linecolor": "white",
             "minorgridcolor": "white",
             "startlinecolor": "#2a3f5f"
            },
            "baxis": {
             "endlinecolor": "#2a3f5f",
             "gridcolor": "white",
             "linecolor": "white",
             "minorgridcolor": "white",
             "startlinecolor": "#2a3f5f"
            },
            "type": "carpet"
           }
          ],
          "choropleth": [
           {
            "colorbar": {
             "outlinewidth": 0,
             "ticks": ""
            },
            "type": "choropleth"
           }
          ],
          "contour": [
           {
            "colorbar": {
             "outlinewidth": 0,
             "ticks": ""
            },
            "colorscale": [
             [
              0,
              "#0d0887"
             ],
             [
              0.1111111111111111,
              "#46039f"
             ],
             [
              0.2222222222222222,
              "#7201a8"
             ],
             [
              0.3333333333333333,
              "#9c179e"
             ],
             [
              0.4444444444444444,
              "#bd3786"
             ],
             [
              0.5555555555555556,
              "#d8576b"
             ],
             [
              0.6666666666666666,
              "#ed7953"
             ],
             [
              0.7777777777777778,
              "#fb9f3a"
             ],
             [
              0.8888888888888888,
              "#fdca26"
             ],
             [
              1,
              "#f0f921"
             ]
            ],
            "type": "contour"
           }
          ],
          "contourcarpet": [
           {
            "colorbar": {
             "outlinewidth": 0,
             "ticks": ""
            },
            "type": "contourcarpet"
           }
          ],
          "heatmap": [
           {
            "colorbar": {
             "outlinewidth": 0,
             "ticks": ""
            },
            "colorscale": [
             [
              0,
              "#0d0887"
             ],
             [
              0.1111111111111111,
              "#46039f"
             ],
             [
              0.2222222222222222,
              "#7201a8"
             ],
             [
              0.3333333333333333,
              "#9c179e"
             ],
             [
              0.4444444444444444,
              "#bd3786"
             ],
             [
              0.5555555555555556,
              "#d8576b"
             ],
             [
              0.6666666666666666,
              "#ed7953"
             ],
             [
              0.7777777777777778,
              "#fb9f3a"
             ],
             [
              0.8888888888888888,
              "#fdca26"
             ],
             [
              1,
              "#f0f921"
             ]
            ],
            "type": "heatmap"
           }
          ],
          "heatmapgl": [
           {
            "colorbar": {
             "outlinewidth": 0,
             "ticks": ""
            },
            "colorscale": [
             [
              0,
              "#0d0887"
             ],
             [
              0.1111111111111111,
              "#46039f"
             ],
             [
              0.2222222222222222,
              "#7201a8"
             ],
             [
              0.3333333333333333,
              "#9c179e"
             ],
             [
              0.4444444444444444,
              "#bd3786"
             ],
             [
              0.5555555555555556,
              "#d8576b"
             ],
             [
              0.6666666666666666,
              "#ed7953"
             ],
             [
              0.7777777777777778,
              "#fb9f3a"
             ],
             [
              0.8888888888888888,
              "#fdca26"
             ],
             [
              1,
              "#f0f921"
             ]
            ],
            "type": "heatmapgl"
           }
          ],
          "histogram": [
           {
            "marker": {
             "pattern": {
              "fillmode": "overlay",
              "size": 10,
              "solidity": 0.2
             }
            },
            "type": "histogram"
           }
          ],
          "histogram2d": [
           {
            "colorbar": {
             "outlinewidth": 0,
             "ticks": ""
            },
            "colorscale": [
             [
              0,
              "#0d0887"
             ],
             [
              0.1111111111111111,
              "#46039f"
             ],
             [
              0.2222222222222222,
              "#7201a8"
             ],
             [
              0.3333333333333333,
              "#9c179e"
             ],
             [
              0.4444444444444444,
              "#bd3786"
             ],
             [
              0.5555555555555556,
              "#d8576b"
             ],
             [
              0.6666666666666666,
              "#ed7953"
             ],
             [
              0.7777777777777778,
              "#fb9f3a"
             ],
             [
              0.8888888888888888,
              "#fdca26"
             ],
             [
              1,
              "#f0f921"
             ]
            ],
            "type": "histogram2d"
           }
          ],
          "histogram2dcontour": [
           {
            "colorbar": {
             "outlinewidth": 0,
             "ticks": ""
            },
            "colorscale": [
             [
              0,
              "#0d0887"
             ],
             [
              0.1111111111111111,
              "#46039f"
             ],
             [
              0.2222222222222222,
              "#7201a8"
             ],
             [
              0.3333333333333333,
              "#9c179e"
             ],
             [
              0.4444444444444444,
              "#bd3786"
             ],
             [
              0.5555555555555556,
              "#d8576b"
             ],
             [
              0.6666666666666666,
              "#ed7953"
             ],
             [
              0.7777777777777778,
              "#fb9f3a"
             ],
             [
              0.8888888888888888,
              "#fdca26"
             ],
             [
              1,
              "#f0f921"
             ]
            ],
            "type": "histogram2dcontour"
           }
          ],
          "mesh3d": [
           {
            "colorbar": {
             "outlinewidth": 0,
             "ticks": ""
            },
            "type": "mesh3d"
           }
          ],
          "parcoords": [
           {
            "line": {
             "colorbar": {
              "outlinewidth": 0,
              "ticks": ""
             }
            },
            "type": "parcoords"
           }
          ],
          "pie": [
           {
            "automargin": true,
            "type": "pie"
           }
          ],
          "scatter": [
           {
            "fillpattern": {
             "fillmode": "overlay",
             "size": 10,
             "solidity": 0.2
            },
            "type": "scatter"
           }
          ],
          "scatter3d": [
           {
            "line": {
             "colorbar": {
              "outlinewidth": 0,
              "ticks": ""
             }
            },
            "marker": {
             "colorbar": {
              "outlinewidth": 0,
              "ticks": ""
             }
            },
            "type": "scatter3d"
           }
          ],
          "scattercarpet": [
           {
            "marker": {
             "colorbar": {
              "outlinewidth": 0,
              "ticks": ""
             }
            },
            "type": "scattercarpet"
           }
          ],
          "scattergeo": [
           {
            "marker": {
             "colorbar": {
              "outlinewidth": 0,
              "ticks": ""
             }
            },
            "type": "scattergeo"
           }
          ],
          "scattergl": [
           {
            "marker": {
             "colorbar": {
              "outlinewidth": 0,
              "ticks": ""
             }
            },
            "type": "scattergl"
           }
          ],
          "scattermapbox": [
           {
            "marker": {
             "colorbar": {
              "outlinewidth": 0,
              "ticks": ""
             }
            },
            "type": "scattermapbox"
           }
          ],
          "scatterpolar": [
           {
            "marker": {
             "colorbar": {
              "outlinewidth": 0,
              "ticks": ""
             }
            },
            "type": "scatterpolar"
           }
          ],
          "scatterpolargl": [
           {
            "marker": {
             "colorbar": {
              "outlinewidth": 0,
              "ticks": ""
             }
            },
            "type": "scatterpolargl"
           }
          ],
          "scatterternary": [
           {
            "marker": {
             "colorbar": {
              "outlinewidth": 0,
              "ticks": ""
             }
            },
            "type": "scatterternary"
           }
          ],
          "surface": [
           {
            "colorbar": {
             "outlinewidth": 0,
             "ticks": ""
            },
            "colorscale": [
             [
              0,
              "#0d0887"
             ],
             [
              0.1111111111111111,
              "#46039f"
             ],
             [
              0.2222222222222222,
              "#7201a8"
             ],
             [
              0.3333333333333333,
              "#9c179e"
             ],
             [
              0.4444444444444444,
              "#bd3786"
             ],
             [
              0.5555555555555556,
              "#d8576b"
             ],
             [
              0.6666666666666666,
              "#ed7953"
             ],
             [
              0.7777777777777778,
              "#fb9f3a"
             ],
             [
              0.8888888888888888,
              "#fdca26"
             ],
             [
              1,
              "#f0f921"
             ]
            ],
            "type": "surface"
           }
          ],
          "table": [
           {
            "cells": {
             "fill": {
              "color": "#EBF0F8"
             },
             "line": {
              "color": "white"
             }
            },
            "header": {
             "fill": {
              "color": "#C8D4E3"
             },
             "line": {
              "color": "white"
             }
            },
            "type": "table"
           }
          ]
         },
         "layout": {
          "annotationdefaults": {
           "arrowcolor": "#2a3f5f",
           "arrowhead": 0,
           "arrowwidth": 1
          },
          "autotypenumbers": "strict",
          "coloraxis": {
           "colorbar": {
            "outlinewidth": 0,
            "ticks": ""
           }
          },
          "colorscale": {
           "diverging": [
            [
             0,
             "#8e0152"
            ],
            [
             0.1,
             "#c51b7d"
            ],
            [
             0.2,
             "#de77ae"
            ],
            [
             0.3,
             "#f1b6da"
            ],
            [
             0.4,
             "#fde0ef"
            ],
            [
             0.5,
             "#f7f7f7"
            ],
            [
             0.6,
             "#e6f5d0"
            ],
            [
             0.7,
             "#b8e186"
            ],
            [
             0.8,
             "#7fbc41"
            ],
            [
             0.9,
             "#4d9221"
            ],
            [
             1,
             "#276419"
            ]
           ],
           "sequential": [
            [
             0,
             "#0d0887"
            ],
            [
             0.1111111111111111,
             "#46039f"
            ],
            [
             0.2222222222222222,
             "#7201a8"
            ],
            [
             0.3333333333333333,
             "#9c179e"
            ],
            [
             0.4444444444444444,
             "#bd3786"
            ],
            [
             0.5555555555555556,
             "#d8576b"
            ],
            [
             0.6666666666666666,
             "#ed7953"
            ],
            [
             0.7777777777777778,
             "#fb9f3a"
            ],
            [
             0.8888888888888888,
             "#fdca26"
            ],
            [
             1,
             "#f0f921"
            ]
           ],
           "sequentialminus": [
            [
             0,
             "#0d0887"
            ],
            [
             0.1111111111111111,
             "#46039f"
            ],
            [
             0.2222222222222222,
             "#7201a8"
            ],
            [
             0.3333333333333333,
             "#9c179e"
            ],
            [
             0.4444444444444444,
             "#bd3786"
            ],
            [
             0.5555555555555556,
             "#d8576b"
            ],
            [
             0.6666666666666666,
             "#ed7953"
            ],
            [
             0.7777777777777778,
             "#fb9f3a"
            ],
            [
             0.8888888888888888,
             "#fdca26"
            ],
            [
             1,
             "#f0f921"
            ]
           ]
          },
          "colorway": [
           "#636efa",
           "#EF553B",
           "#00cc96",
           "#ab63fa",
           "#FFA15A",
           "#19d3f3",
           "#FF6692",
           "#B6E880",
           "#FF97FF",
           "#FECB52"
          ],
          "font": {
           "color": "#2a3f5f"
          },
          "geo": {
           "bgcolor": "white",
           "lakecolor": "white",
           "landcolor": "#E5ECF6",
           "showlakes": true,
           "showland": true,
           "subunitcolor": "white"
          },
          "hoverlabel": {
           "align": "left"
          },
          "hovermode": "closest",
          "mapbox": {
           "style": "light"
          },
          "paper_bgcolor": "white",
          "plot_bgcolor": "#E5ECF6",
          "polar": {
           "angularaxis": {
            "gridcolor": "white",
            "linecolor": "white",
            "ticks": ""
           },
           "bgcolor": "#E5ECF6",
           "radialaxis": {
            "gridcolor": "white",
            "linecolor": "white",
            "ticks": ""
           }
          },
          "scene": {
           "xaxis": {
            "backgroundcolor": "#E5ECF6",
            "gridcolor": "white",
            "gridwidth": 2,
            "linecolor": "white",
            "showbackground": true,
            "ticks": "",
            "zerolinecolor": "white"
           },
           "yaxis": {
            "backgroundcolor": "#E5ECF6",
            "gridcolor": "white",
            "gridwidth": 2,
            "linecolor": "white",
            "showbackground": true,
            "ticks": "",
            "zerolinecolor": "white"
           },
           "zaxis": {
            "backgroundcolor": "#E5ECF6",
            "gridcolor": "white",
            "gridwidth": 2,
            "linecolor": "white",
            "showbackground": true,
            "ticks": "",
            "zerolinecolor": "white"
           }
          },
          "shapedefaults": {
           "line": {
            "color": "#2a3f5f"
           }
          },
          "ternary": {
           "aaxis": {
            "gridcolor": "white",
            "linecolor": "white",
            "ticks": ""
           },
           "baxis": {
            "gridcolor": "white",
            "linecolor": "white",
            "ticks": ""
           },
           "bgcolor": "#E5ECF6",
           "caxis": {
            "gridcolor": "white",
            "linecolor": "white",
            "ticks": ""
           }
          },
          "title": {
           "x": 0.05
          },
          "xaxis": {
           "automargin": true,
           "gridcolor": "white",
           "linecolor": "white",
           "ticks": "",
           "title": {
            "standoff": 15
           },
           "zerolinecolor": "white",
           "zerolinewidth": 2
          },
          "yaxis": {
           "automargin": true,
           "gridcolor": "white",
           "linecolor": "white",
           "ticks": "",
           "title": {
            "standoff": 15
           },
           "zerolinecolor": "white",
           "zerolinewidth": 2
          }
         }
        },
        "title": {
         "font": {
          "color": "#4D5663"
         }
        },
        "xaxis": {
         "gridcolor": "#E1E5ED",
         "showgrid": true,
         "tickfont": {
          "color": "#4D5663"
         },
         "title": {
          "font": {
           "color": "#4D5663"
          },
          "text": ""
         },
         "zerolinecolor": "#E1E5ED"
        },
        "yaxis": {
         "gridcolor": "#E1E5ED",
         "showgrid": true,
         "tickfont": {
          "color": "#4D5663"
         },
         "title": {
          "font": {
           "color": "#4D5663"
          },
          "text": ""
         },
         "zerolinecolor": "#E1E5ED"
        }
       }
      },
      "text/html": [
       "<div>                            <div id=\"d10c741e-0b01-4489-ad4c-91d1219470a7\" class=\"plotly-graph-div\" style=\"height:525px; width:100%;\"></div>            <script type=\"text/javascript\">                require([\"plotly\"], function(Plotly) {                    window.PLOTLYENV=window.PLOTLYENV || {};\n",
       "                    window.PLOTLYENV.BASE_URL='https://plot.ly';                                    if (document.getElementById(\"d10c741e-0b01-4489-ad4c-91d1219470a7\")) {                    Plotly.newPlot(                        \"d10c741e-0b01-4489-ad4c-91d1219470a7\",                        [{\"colorscale\":[[0.0,\"rgb(165,0,38)\"],[0.1,\"rgb(215,48,39)\"],[0.2,\"rgb(244,109,67)\"],[0.3,\"rgb(253,174,97)\"],[0.4,\"rgb(254,224,144)\"],[0.5,\"rgb(255,255,191)\"],[0.6,\"rgb(224,243,248)\"],[0.7,\"rgb(171,217,233)\"],[0.8,\"rgb(116,173,209)\"],[0.9,\"rgb(69,117,180)\"],[1.0,\"rgb(49,54,149)\"]],\"x\":[0,1,2,3,4],\"y\":[\"x\",\"y\",\"z\"],\"z\":[[1,2,3,4,5],[10,20,30,40,50],[500,400,300,200,100]],\"type\":\"surface\"}],                        {\"legend\":{\"bgcolor\":\"#F5F6F9\",\"font\":{\"color\":\"#4D5663\"}},\"paper_bgcolor\":\"#F5F6F9\",\"plot_bgcolor\":\"#F5F6F9\",\"template\":{\"data\":{\"barpolar\":[{\"marker\":{\"line\":{\"color\":\"#E5ECF6\",\"width\":0.5},\"pattern\":{\"fillmode\":\"overlay\",\"size\":10,\"solidity\":0.2}},\"type\":\"barpolar\"}],\"bar\":[{\"error_x\":{\"color\":\"#2a3f5f\"},\"error_y\":{\"color\":\"#2a3f5f\"},\"marker\":{\"line\":{\"color\":\"#E5ECF6\",\"width\":0.5},\"pattern\":{\"fillmode\":\"overlay\",\"size\":10,\"solidity\":0.2}},\"type\":\"bar\"}],\"carpet\":[{\"aaxis\":{\"endlinecolor\":\"#2a3f5f\",\"gridcolor\":\"white\",\"linecolor\":\"white\",\"minorgridcolor\":\"white\",\"startlinecolor\":\"#2a3f5f\"},\"baxis\":{\"endlinecolor\":\"#2a3f5f\",\"gridcolor\":\"white\",\"linecolor\":\"white\",\"minorgridcolor\":\"white\",\"startlinecolor\":\"#2a3f5f\"},\"type\":\"carpet\"}],\"choropleth\":[{\"colorbar\":{\"outlinewidth\":0,\"ticks\":\"\"},\"type\":\"choropleth\"}],\"contourcarpet\":[{\"colorbar\":{\"outlinewidth\":0,\"ticks\":\"\"},\"type\":\"contourcarpet\"}],\"contour\":[{\"colorbar\":{\"outlinewidth\":0,\"ticks\":\"\"},\"colorscale\":[[0.0,\"#0d0887\"],[0.1111111111111111,\"#46039f\"],[0.2222222222222222,\"#7201a8\"],[0.3333333333333333,\"#9c179e\"],[0.4444444444444444,\"#bd3786\"],[0.5555555555555556,\"#d8576b\"],[0.6666666666666666,\"#ed7953\"],[0.7777777777777778,\"#fb9f3a\"],[0.8888888888888888,\"#fdca26\"],[1.0,\"#f0f921\"]],\"type\":\"contour\"}],\"heatmapgl\":[{\"colorbar\":{\"outlinewidth\":0,\"ticks\":\"\"},\"colorscale\":[[0.0,\"#0d0887\"],[0.1111111111111111,\"#46039f\"],[0.2222222222222222,\"#7201a8\"],[0.3333333333333333,\"#9c179e\"],[0.4444444444444444,\"#bd3786\"],[0.5555555555555556,\"#d8576b\"],[0.6666666666666666,\"#ed7953\"],[0.7777777777777778,\"#fb9f3a\"],[0.8888888888888888,\"#fdca26\"],[1.0,\"#f0f921\"]],\"type\":\"heatmapgl\"}],\"heatmap\":[{\"colorbar\":{\"outlinewidth\":0,\"ticks\":\"\"},\"colorscale\":[[0.0,\"#0d0887\"],[0.1111111111111111,\"#46039f\"],[0.2222222222222222,\"#7201a8\"],[0.3333333333333333,\"#9c179e\"],[0.4444444444444444,\"#bd3786\"],[0.5555555555555556,\"#d8576b\"],[0.6666666666666666,\"#ed7953\"],[0.7777777777777778,\"#fb9f3a\"],[0.8888888888888888,\"#fdca26\"],[1.0,\"#f0f921\"]],\"type\":\"heatmap\"}],\"histogram2dcontour\":[{\"colorbar\":{\"outlinewidth\":0,\"ticks\":\"\"},\"colorscale\":[[0.0,\"#0d0887\"],[0.1111111111111111,\"#46039f\"],[0.2222222222222222,\"#7201a8\"],[0.3333333333333333,\"#9c179e\"],[0.4444444444444444,\"#bd3786\"],[0.5555555555555556,\"#d8576b\"],[0.6666666666666666,\"#ed7953\"],[0.7777777777777778,\"#fb9f3a\"],[0.8888888888888888,\"#fdca26\"],[1.0,\"#f0f921\"]],\"type\":\"histogram2dcontour\"}],\"histogram2d\":[{\"colorbar\":{\"outlinewidth\":0,\"ticks\":\"\"},\"colorscale\":[[0.0,\"#0d0887\"],[0.1111111111111111,\"#46039f\"],[0.2222222222222222,\"#7201a8\"],[0.3333333333333333,\"#9c179e\"],[0.4444444444444444,\"#bd3786\"],[0.5555555555555556,\"#d8576b\"],[0.6666666666666666,\"#ed7953\"],[0.7777777777777778,\"#fb9f3a\"],[0.8888888888888888,\"#fdca26\"],[1.0,\"#f0f921\"]],\"type\":\"histogram2d\"}],\"histogram\":[{\"marker\":{\"pattern\":{\"fillmode\":\"overlay\",\"size\":10,\"solidity\":0.2}},\"type\":\"histogram\"}],\"mesh3d\":[{\"colorbar\":{\"outlinewidth\":0,\"ticks\":\"\"},\"type\":\"mesh3d\"}],\"parcoords\":[{\"line\":{\"colorbar\":{\"outlinewidth\":0,\"ticks\":\"\"}},\"type\":\"parcoords\"}],\"pie\":[{\"automargin\":true,\"type\":\"pie\"}],\"scatter3d\":[{\"line\":{\"colorbar\":{\"outlinewidth\":0,\"ticks\":\"\"}},\"marker\":{\"colorbar\":{\"outlinewidth\":0,\"ticks\":\"\"}},\"type\":\"scatter3d\"}],\"scattercarpet\":[{\"marker\":{\"colorbar\":{\"outlinewidth\":0,\"ticks\":\"\"}},\"type\":\"scattercarpet\"}],\"scattergeo\":[{\"marker\":{\"colorbar\":{\"outlinewidth\":0,\"ticks\":\"\"}},\"type\":\"scattergeo\"}],\"scattergl\":[{\"marker\":{\"colorbar\":{\"outlinewidth\":0,\"ticks\":\"\"}},\"type\":\"scattergl\"}],\"scattermapbox\":[{\"marker\":{\"colorbar\":{\"outlinewidth\":0,\"ticks\":\"\"}},\"type\":\"scattermapbox\"}],\"scatterpolargl\":[{\"marker\":{\"colorbar\":{\"outlinewidth\":0,\"ticks\":\"\"}},\"type\":\"scatterpolargl\"}],\"scatterpolar\":[{\"marker\":{\"colorbar\":{\"outlinewidth\":0,\"ticks\":\"\"}},\"type\":\"scatterpolar\"}],\"scatter\":[{\"fillpattern\":{\"fillmode\":\"overlay\",\"size\":10,\"solidity\":0.2},\"type\":\"scatter\"}],\"scatterternary\":[{\"marker\":{\"colorbar\":{\"outlinewidth\":0,\"ticks\":\"\"}},\"type\":\"scatterternary\"}],\"surface\":[{\"colorbar\":{\"outlinewidth\":0,\"ticks\":\"\"},\"colorscale\":[[0.0,\"#0d0887\"],[0.1111111111111111,\"#46039f\"],[0.2222222222222222,\"#7201a8\"],[0.3333333333333333,\"#9c179e\"],[0.4444444444444444,\"#bd3786\"],[0.5555555555555556,\"#d8576b\"],[0.6666666666666666,\"#ed7953\"],[0.7777777777777778,\"#fb9f3a\"],[0.8888888888888888,\"#fdca26\"],[1.0,\"#f0f921\"]],\"type\":\"surface\"}],\"table\":[{\"cells\":{\"fill\":{\"color\":\"#EBF0F8\"},\"line\":{\"color\":\"white\"}},\"header\":{\"fill\":{\"color\":\"#C8D4E3\"},\"line\":{\"color\":\"white\"}},\"type\":\"table\"}]},\"layout\":{\"annotationdefaults\":{\"arrowcolor\":\"#2a3f5f\",\"arrowhead\":0,\"arrowwidth\":1},\"autotypenumbers\":\"strict\",\"coloraxis\":{\"colorbar\":{\"outlinewidth\":0,\"ticks\":\"\"}},\"colorscale\":{\"diverging\":[[0,\"#8e0152\"],[0.1,\"#c51b7d\"],[0.2,\"#de77ae\"],[0.3,\"#f1b6da\"],[0.4,\"#fde0ef\"],[0.5,\"#f7f7f7\"],[0.6,\"#e6f5d0\"],[0.7,\"#b8e186\"],[0.8,\"#7fbc41\"],[0.9,\"#4d9221\"],[1,\"#276419\"]],\"sequential\":[[0.0,\"#0d0887\"],[0.1111111111111111,\"#46039f\"],[0.2222222222222222,\"#7201a8\"],[0.3333333333333333,\"#9c179e\"],[0.4444444444444444,\"#bd3786\"],[0.5555555555555556,\"#d8576b\"],[0.6666666666666666,\"#ed7953\"],[0.7777777777777778,\"#fb9f3a\"],[0.8888888888888888,\"#fdca26\"],[1.0,\"#f0f921\"]],\"sequentialminus\":[[0.0,\"#0d0887\"],[0.1111111111111111,\"#46039f\"],[0.2222222222222222,\"#7201a8\"],[0.3333333333333333,\"#9c179e\"],[0.4444444444444444,\"#bd3786\"],[0.5555555555555556,\"#d8576b\"],[0.6666666666666666,\"#ed7953\"],[0.7777777777777778,\"#fb9f3a\"],[0.8888888888888888,\"#fdca26\"],[1.0,\"#f0f921\"]]},\"colorway\":[\"#636efa\",\"#EF553B\",\"#00cc96\",\"#ab63fa\",\"#FFA15A\",\"#19d3f3\",\"#FF6692\",\"#B6E880\",\"#FF97FF\",\"#FECB52\"],\"font\":{\"color\":\"#2a3f5f\"},\"geo\":{\"bgcolor\":\"white\",\"lakecolor\":\"white\",\"landcolor\":\"#E5ECF6\",\"showlakes\":true,\"showland\":true,\"subunitcolor\":\"white\"},\"hoverlabel\":{\"align\":\"left\"},\"hovermode\":\"closest\",\"mapbox\":{\"style\":\"light\"},\"paper_bgcolor\":\"white\",\"plot_bgcolor\":\"#E5ECF6\",\"polar\":{\"angularaxis\":{\"gridcolor\":\"white\",\"linecolor\":\"white\",\"ticks\":\"\"},\"bgcolor\":\"#E5ECF6\",\"radialaxis\":{\"gridcolor\":\"white\",\"linecolor\":\"white\",\"ticks\":\"\"}},\"scene\":{\"xaxis\":{\"backgroundcolor\":\"#E5ECF6\",\"gridcolor\":\"white\",\"gridwidth\":2,\"linecolor\":\"white\",\"showbackground\":true,\"ticks\":\"\",\"zerolinecolor\":\"white\"},\"yaxis\":{\"backgroundcolor\":\"#E5ECF6\",\"gridcolor\":\"white\",\"gridwidth\":2,\"linecolor\":\"white\",\"showbackground\":true,\"ticks\":\"\",\"zerolinecolor\":\"white\"},\"zaxis\":{\"backgroundcolor\":\"#E5ECF6\",\"gridcolor\":\"white\",\"gridwidth\":2,\"linecolor\":\"white\",\"showbackground\":true,\"ticks\":\"\",\"zerolinecolor\":\"white\"}},\"shapedefaults\":{\"line\":{\"color\":\"#2a3f5f\"}},\"ternary\":{\"aaxis\":{\"gridcolor\":\"white\",\"linecolor\":\"white\",\"ticks\":\"\"},\"baxis\":{\"gridcolor\":\"white\",\"linecolor\":\"white\",\"ticks\":\"\"},\"bgcolor\":\"#E5ECF6\",\"caxis\":{\"gridcolor\":\"white\",\"linecolor\":\"white\",\"ticks\":\"\"}},\"title\":{\"x\":0.05},\"xaxis\":{\"automargin\":true,\"gridcolor\":\"white\",\"linecolor\":\"white\",\"ticks\":\"\",\"title\":{\"standoff\":15},\"zerolinecolor\":\"white\",\"zerolinewidth\":2},\"yaxis\":{\"automargin\":true,\"gridcolor\":\"white\",\"linecolor\":\"white\",\"ticks\":\"\",\"title\":{\"standoff\":15},\"zerolinecolor\":\"white\",\"zerolinewidth\":2}}},\"title\":{\"font\":{\"color\":\"#4D5663\"}},\"xaxis\":{\"gridcolor\":\"#E1E5ED\",\"showgrid\":true,\"tickfont\":{\"color\":\"#4D5663\"},\"title\":{\"font\":{\"color\":\"#4D5663\"},\"text\":\"\"},\"zerolinecolor\":\"#E1E5ED\"},\"yaxis\":{\"gridcolor\":\"#E1E5ED\",\"showgrid\":true,\"tickfont\":{\"color\":\"#4D5663\"},\"title\":{\"font\":{\"color\":\"#4D5663\"},\"text\":\"\"},\"zerolinecolor\":\"#E1E5ED\"}},                        {\"showLink\": true, \"linkText\": \"Export to plot.ly\", \"plotlyServerURL\": \"https://plot.ly\", \"responsive\": true}                    ).then(function(){\n",
       "                            \n",
       "var gd = document.getElementById('d10c741e-0b01-4489-ad4c-91d1219470a7');\n",
       "var x = new MutationObserver(function (mutations, observer) {{\n",
       "        var display = window.getComputedStyle(gd).display;\n",
       "        if (!display || display === 'none') {{\n",
       "            console.log([gd, 'removed!']);\n",
       "            Plotly.purge(gd);\n",
       "            observer.disconnect();\n",
       "        }}\n",
       "}});\n",
       "\n",
       "// Listen for the removal of the full notebook cells\n",
       "var notebookContainer = gd.closest('#notebook-container');\n",
       "if (notebookContainer) {{\n",
       "    x.observe(notebookContainer, {childList: true});\n",
       "}}\n",
       "\n",
       "// Listen for the clearing of the current output cell\n",
       "var outputEl = gd.closest('.output');\n",
       "if (outputEl) {{\n",
       "    x.observe(outputEl, {childList: true});\n",
       "}}\n",
       "\n",
       "                        })                };                });            </script>        </div>"
      ]
     },
     "metadata": {},
     "output_type": "display_data"
    }
   ],
   "source": [
    "\n",
    "df3.iplot(kind='surface', colorscale='rdylbu')"
   ]
  },
  {
   "cell_type": "code",
   "execution_count": null,
   "metadata": {},
   "outputs": [],
   "source": [
    "\n"
   ]
  },
  {
   "cell_type": "code",
   "execution_count": 39,
   "metadata": {},
   "outputs": [
    {
     "data": {
      "application/vnd.plotly.v1+json": {
       "config": {
        "linkText": "Export to plot.ly",
        "plotlyServerURL": "https://plot.ly",
        "showLink": true
       },
       "data": [
        {
         "histfunc": "count",
         "histnorm": "",
         "marker": {
          "color": "rgba(255, 153, 51, 1.0)",
          "line": {
           "color": "#4D5663",
           "width": 1.3
          }
         },
         "name": "A",
         "opacity": 0.8,
         "orientation": "v",
         "type": "histogram",
         "x": [
          -1.7551052678663162,
          0.3844705852588308,
          -2.036235857734799,
          -0.4777192690016541,
          1.4543579926789922,
          -0.09237757661484672,
          0.6119764070206649,
          1.2237887733721426,
          -1.7337095285419843,
          -0.09984401561568264,
          -0.4649631618162517,
          0.9998649026069217,
          -0.6943268284110494,
          -0.72841097667062,
          -0.4417144240902041,
          -0.004464788666717921,
          0.07531256094745666,
          0.819040457639244,
          -0.4567053715819427,
          -0.5963208419744218,
          0.20953116501771618,
          -0.6853725302321193,
          -0.4001354564558299,
          0.6480780792891775,
          0.21240416189485206,
          0.14312795229648412,
          1.4393143026131452,
          0.7837815407286436,
          0.7467555023995134,
          0.29599035733768936,
          -0.7218712504422361,
          -1.25193389495634,
          0.03611354174396783,
          -0.03200300201512434,
          -1.1826084205945602,
          -1.4446328395682333,
          -0.04401236980398926,
          1.148871152117295,
          -0.14011474199688925,
          0.06115179255331545,
          0.868403061018585,
          0.5428333970190617,
          2.023958447325256,
          1.298799841292337,
          0.3078105580800464,
          0.6071874163245976,
          0.8972500697072223,
          -0.9315584354567149,
          0.17846500752828248,
          0.4284783757579867,
          -1.2333721181585848,
          -0.5601363807245684,
          0.09472304319338498,
          1.778688134912088,
          -1.8021319258488775,
          -0.7791449714553991,
          -0.5839473586620774,
          -0.7253804597334422,
          -0.9232769368882936,
          -0.6139384413256993,
          -0.06283253701103511,
          -0.9172264457972898,
          1.274365195722724,
          -0.23411960543441399,
          -0.8057448573292509,
          0.7054532319615852,
          -1.1036282271372015,
          0.6513618183801033,
          1.6919479921315315,
          2.0298722949294987,
          -0.7413914397119926,
          1.6472076306959016,
          0.6975377328009644,
          -2.5744066196418682,
          -1.1618031599466374,
          1.191995297707877,
          0.3357604375348084,
          0.528360105058137,
          -2.426809770915547,
          -1.4970050996342303,
          0.5012670828793494,
          -0.4144372147571527,
          -1.5032345584573734,
          -0.5645262794150616,
          0.9074324916191596,
          0.5291147311047883,
          1.27378422165143,
          0.8144032756088596,
          0.22763909553884226,
          0.04666463041197144,
          -0.2909034169358753,
          1.2439472755893324,
          -0.5030014312921158,
          -2.04618571072768,
          -1.9776242737576282,
          -0.7784135744681734,
          -0.43542356262032955,
          0.3511218761609181,
          0.6690302299966587,
          -2.937691978255148
         ]
        }
       ],
       "layout": {
        "barmode": "overlay",
        "legend": {
         "bgcolor": "#F5F6F9",
         "font": {
          "color": "#4D5663"
         }
        },
        "paper_bgcolor": "#F5F6F9",
        "plot_bgcolor": "#F5F6F9",
        "template": {
         "data": {
          "bar": [
           {
            "error_x": {
             "color": "#2a3f5f"
            },
            "error_y": {
             "color": "#2a3f5f"
            },
            "marker": {
             "line": {
              "color": "#E5ECF6",
              "width": 0.5
             },
             "pattern": {
              "fillmode": "overlay",
              "size": 10,
              "solidity": 0.2
             }
            },
            "type": "bar"
           }
          ],
          "barpolar": [
           {
            "marker": {
             "line": {
              "color": "#E5ECF6",
              "width": 0.5
             },
             "pattern": {
              "fillmode": "overlay",
              "size": 10,
              "solidity": 0.2
             }
            },
            "type": "barpolar"
           }
          ],
          "carpet": [
           {
            "aaxis": {
             "endlinecolor": "#2a3f5f",
             "gridcolor": "white",
             "linecolor": "white",
             "minorgridcolor": "white",
             "startlinecolor": "#2a3f5f"
            },
            "baxis": {
             "endlinecolor": "#2a3f5f",
             "gridcolor": "white",
             "linecolor": "white",
             "minorgridcolor": "white",
             "startlinecolor": "#2a3f5f"
            },
            "type": "carpet"
           }
          ],
          "choropleth": [
           {
            "colorbar": {
             "outlinewidth": 0,
             "ticks": ""
            },
            "type": "choropleth"
           }
          ],
          "contour": [
           {
            "colorbar": {
             "outlinewidth": 0,
             "ticks": ""
            },
            "colorscale": [
             [
              0,
              "#0d0887"
             ],
             [
              0.1111111111111111,
              "#46039f"
             ],
             [
              0.2222222222222222,
              "#7201a8"
             ],
             [
              0.3333333333333333,
              "#9c179e"
             ],
             [
              0.4444444444444444,
              "#bd3786"
             ],
             [
              0.5555555555555556,
              "#d8576b"
             ],
             [
              0.6666666666666666,
              "#ed7953"
             ],
             [
              0.7777777777777778,
              "#fb9f3a"
             ],
             [
              0.8888888888888888,
              "#fdca26"
             ],
             [
              1,
              "#f0f921"
             ]
            ],
            "type": "contour"
           }
          ],
          "contourcarpet": [
           {
            "colorbar": {
             "outlinewidth": 0,
             "ticks": ""
            },
            "type": "contourcarpet"
           }
          ],
          "heatmap": [
           {
            "colorbar": {
             "outlinewidth": 0,
             "ticks": ""
            },
            "colorscale": [
             [
              0,
              "#0d0887"
             ],
             [
              0.1111111111111111,
              "#46039f"
             ],
             [
              0.2222222222222222,
              "#7201a8"
             ],
             [
              0.3333333333333333,
              "#9c179e"
             ],
             [
              0.4444444444444444,
              "#bd3786"
             ],
             [
              0.5555555555555556,
              "#d8576b"
             ],
             [
              0.6666666666666666,
              "#ed7953"
             ],
             [
              0.7777777777777778,
              "#fb9f3a"
             ],
             [
              0.8888888888888888,
              "#fdca26"
             ],
             [
              1,
              "#f0f921"
             ]
            ],
            "type": "heatmap"
           }
          ],
          "heatmapgl": [
           {
            "colorbar": {
             "outlinewidth": 0,
             "ticks": ""
            },
            "colorscale": [
             [
              0,
              "#0d0887"
             ],
             [
              0.1111111111111111,
              "#46039f"
             ],
             [
              0.2222222222222222,
              "#7201a8"
             ],
             [
              0.3333333333333333,
              "#9c179e"
             ],
             [
              0.4444444444444444,
              "#bd3786"
             ],
             [
              0.5555555555555556,
              "#d8576b"
             ],
             [
              0.6666666666666666,
              "#ed7953"
             ],
             [
              0.7777777777777778,
              "#fb9f3a"
             ],
             [
              0.8888888888888888,
              "#fdca26"
             ],
             [
              1,
              "#f0f921"
             ]
            ],
            "type": "heatmapgl"
           }
          ],
          "histogram": [
           {
            "marker": {
             "pattern": {
              "fillmode": "overlay",
              "size": 10,
              "solidity": 0.2
             }
            },
            "type": "histogram"
           }
          ],
          "histogram2d": [
           {
            "colorbar": {
             "outlinewidth": 0,
             "ticks": ""
            },
            "colorscale": [
             [
              0,
              "#0d0887"
             ],
             [
              0.1111111111111111,
              "#46039f"
             ],
             [
              0.2222222222222222,
              "#7201a8"
             ],
             [
              0.3333333333333333,
              "#9c179e"
             ],
             [
              0.4444444444444444,
              "#bd3786"
             ],
             [
              0.5555555555555556,
              "#d8576b"
             ],
             [
              0.6666666666666666,
              "#ed7953"
             ],
             [
              0.7777777777777778,
              "#fb9f3a"
             ],
             [
              0.8888888888888888,
              "#fdca26"
             ],
             [
              1,
              "#f0f921"
             ]
            ],
            "type": "histogram2d"
           }
          ],
          "histogram2dcontour": [
           {
            "colorbar": {
             "outlinewidth": 0,
             "ticks": ""
            },
            "colorscale": [
             [
              0,
              "#0d0887"
             ],
             [
              0.1111111111111111,
              "#46039f"
             ],
             [
              0.2222222222222222,
              "#7201a8"
             ],
             [
              0.3333333333333333,
              "#9c179e"
             ],
             [
              0.4444444444444444,
              "#bd3786"
             ],
             [
              0.5555555555555556,
              "#d8576b"
             ],
             [
              0.6666666666666666,
              "#ed7953"
             ],
             [
              0.7777777777777778,
              "#fb9f3a"
             ],
             [
              0.8888888888888888,
              "#fdca26"
             ],
             [
              1,
              "#f0f921"
             ]
            ],
            "type": "histogram2dcontour"
           }
          ],
          "mesh3d": [
           {
            "colorbar": {
             "outlinewidth": 0,
             "ticks": ""
            },
            "type": "mesh3d"
           }
          ],
          "parcoords": [
           {
            "line": {
             "colorbar": {
              "outlinewidth": 0,
              "ticks": ""
             }
            },
            "type": "parcoords"
           }
          ],
          "pie": [
           {
            "automargin": true,
            "type": "pie"
           }
          ],
          "scatter": [
           {
            "fillpattern": {
             "fillmode": "overlay",
             "size": 10,
             "solidity": 0.2
            },
            "type": "scatter"
           }
          ],
          "scatter3d": [
           {
            "line": {
             "colorbar": {
              "outlinewidth": 0,
              "ticks": ""
             }
            },
            "marker": {
             "colorbar": {
              "outlinewidth": 0,
              "ticks": ""
             }
            },
            "type": "scatter3d"
           }
          ],
          "scattercarpet": [
           {
            "marker": {
             "colorbar": {
              "outlinewidth": 0,
              "ticks": ""
             }
            },
            "type": "scattercarpet"
           }
          ],
          "scattergeo": [
           {
            "marker": {
             "colorbar": {
              "outlinewidth": 0,
              "ticks": ""
             }
            },
            "type": "scattergeo"
           }
          ],
          "scattergl": [
           {
            "marker": {
             "colorbar": {
              "outlinewidth": 0,
              "ticks": ""
             }
            },
            "type": "scattergl"
           }
          ],
          "scattermapbox": [
           {
            "marker": {
             "colorbar": {
              "outlinewidth": 0,
              "ticks": ""
             }
            },
            "type": "scattermapbox"
           }
          ],
          "scatterpolar": [
           {
            "marker": {
             "colorbar": {
              "outlinewidth": 0,
              "ticks": ""
             }
            },
            "type": "scatterpolar"
           }
          ],
          "scatterpolargl": [
           {
            "marker": {
             "colorbar": {
              "outlinewidth": 0,
              "ticks": ""
             }
            },
            "type": "scatterpolargl"
           }
          ],
          "scatterternary": [
           {
            "marker": {
             "colorbar": {
              "outlinewidth": 0,
              "ticks": ""
             }
            },
            "type": "scatterternary"
           }
          ],
          "surface": [
           {
            "colorbar": {
             "outlinewidth": 0,
             "ticks": ""
            },
            "colorscale": [
             [
              0,
              "#0d0887"
             ],
             [
              0.1111111111111111,
              "#46039f"
             ],
             [
              0.2222222222222222,
              "#7201a8"
             ],
             [
              0.3333333333333333,
              "#9c179e"
             ],
             [
              0.4444444444444444,
              "#bd3786"
             ],
             [
              0.5555555555555556,
              "#d8576b"
             ],
             [
              0.6666666666666666,
              "#ed7953"
             ],
             [
              0.7777777777777778,
              "#fb9f3a"
             ],
             [
              0.8888888888888888,
              "#fdca26"
             ],
             [
              1,
              "#f0f921"
             ]
            ],
            "type": "surface"
           }
          ],
          "table": [
           {
            "cells": {
             "fill": {
              "color": "#EBF0F8"
             },
             "line": {
              "color": "white"
             }
            },
            "header": {
             "fill": {
              "color": "#C8D4E3"
             },
             "line": {
              "color": "white"
             }
            },
            "type": "table"
           }
          ]
         },
         "layout": {
          "annotationdefaults": {
           "arrowcolor": "#2a3f5f",
           "arrowhead": 0,
           "arrowwidth": 1
          },
          "autotypenumbers": "strict",
          "coloraxis": {
           "colorbar": {
            "outlinewidth": 0,
            "ticks": ""
           }
          },
          "colorscale": {
           "diverging": [
            [
             0,
             "#8e0152"
            ],
            [
             0.1,
             "#c51b7d"
            ],
            [
             0.2,
             "#de77ae"
            ],
            [
             0.3,
             "#f1b6da"
            ],
            [
             0.4,
             "#fde0ef"
            ],
            [
             0.5,
             "#f7f7f7"
            ],
            [
             0.6,
             "#e6f5d0"
            ],
            [
             0.7,
             "#b8e186"
            ],
            [
             0.8,
             "#7fbc41"
            ],
            [
             0.9,
             "#4d9221"
            ],
            [
             1,
             "#276419"
            ]
           ],
           "sequential": [
            [
             0,
             "#0d0887"
            ],
            [
             0.1111111111111111,
             "#46039f"
            ],
            [
             0.2222222222222222,
             "#7201a8"
            ],
            [
             0.3333333333333333,
             "#9c179e"
            ],
            [
             0.4444444444444444,
             "#bd3786"
            ],
            [
             0.5555555555555556,
             "#d8576b"
            ],
            [
             0.6666666666666666,
             "#ed7953"
            ],
            [
             0.7777777777777778,
             "#fb9f3a"
            ],
            [
             0.8888888888888888,
             "#fdca26"
            ],
            [
             1,
             "#f0f921"
            ]
           ],
           "sequentialminus": [
            [
             0,
             "#0d0887"
            ],
            [
             0.1111111111111111,
             "#46039f"
            ],
            [
             0.2222222222222222,
             "#7201a8"
            ],
            [
             0.3333333333333333,
             "#9c179e"
            ],
            [
             0.4444444444444444,
             "#bd3786"
            ],
            [
             0.5555555555555556,
             "#d8576b"
            ],
            [
             0.6666666666666666,
             "#ed7953"
            ],
            [
             0.7777777777777778,
             "#fb9f3a"
            ],
            [
             0.8888888888888888,
             "#fdca26"
            ],
            [
             1,
             "#f0f921"
            ]
           ]
          },
          "colorway": [
           "#636efa",
           "#EF553B",
           "#00cc96",
           "#ab63fa",
           "#FFA15A",
           "#19d3f3",
           "#FF6692",
           "#B6E880",
           "#FF97FF",
           "#FECB52"
          ],
          "font": {
           "color": "#2a3f5f"
          },
          "geo": {
           "bgcolor": "white",
           "lakecolor": "white",
           "landcolor": "#E5ECF6",
           "showlakes": true,
           "showland": true,
           "subunitcolor": "white"
          },
          "hoverlabel": {
           "align": "left"
          },
          "hovermode": "closest",
          "mapbox": {
           "style": "light"
          },
          "paper_bgcolor": "white",
          "plot_bgcolor": "#E5ECF6",
          "polar": {
           "angularaxis": {
            "gridcolor": "white",
            "linecolor": "white",
            "ticks": ""
           },
           "bgcolor": "#E5ECF6",
           "radialaxis": {
            "gridcolor": "white",
            "linecolor": "white",
            "ticks": ""
           }
          },
          "scene": {
           "xaxis": {
            "backgroundcolor": "#E5ECF6",
            "gridcolor": "white",
            "gridwidth": 2,
            "linecolor": "white",
            "showbackground": true,
            "ticks": "",
            "zerolinecolor": "white"
           },
           "yaxis": {
            "backgroundcolor": "#E5ECF6",
            "gridcolor": "white",
            "gridwidth": 2,
            "linecolor": "white",
            "showbackground": true,
            "ticks": "",
            "zerolinecolor": "white"
           },
           "zaxis": {
            "backgroundcolor": "#E5ECF6",
            "gridcolor": "white",
            "gridwidth": 2,
            "linecolor": "white",
            "showbackground": true,
            "ticks": "",
            "zerolinecolor": "white"
           }
          },
          "shapedefaults": {
           "line": {
            "color": "#2a3f5f"
           }
          },
          "ternary": {
           "aaxis": {
            "gridcolor": "white",
            "linecolor": "white",
            "ticks": ""
           },
           "baxis": {
            "gridcolor": "white",
            "linecolor": "white",
            "ticks": ""
           },
           "bgcolor": "#E5ECF6",
           "caxis": {
            "gridcolor": "white",
            "linecolor": "white",
            "ticks": ""
           }
          },
          "title": {
           "x": 0.05
          },
          "xaxis": {
           "automargin": true,
           "gridcolor": "white",
           "linecolor": "white",
           "ticks": "",
           "title": {
            "standoff": 15
           },
           "zerolinecolor": "white",
           "zerolinewidth": 2
          },
          "yaxis": {
           "automargin": true,
           "gridcolor": "white",
           "linecolor": "white",
           "ticks": "",
           "title": {
            "standoff": 15
           },
           "zerolinecolor": "white",
           "zerolinewidth": 2
          }
         }
        },
        "title": {
         "font": {
          "color": "#4D5663"
         }
        },
        "xaxis": {
         "gridcolor": "#E1E5ED",
         "showgrid": true,
         "tickfont": {
          "color": "#4D5663"
         },
         "title": {
          "font": {
           "color": "#4D5663"
          },
          "text": ""
         },
         "zerolinecolor": "#E1E5ED"
        },
        "yaxis": {
         "gridcolor": "#E1E5ED",
         "showgrid": true,
         "tickfont": {
          "color": "#4D5663"
         },
         "title": {
          "font": {
           "color": "#4D5663"
          },
          "text": ""
         },
         "zerolinecolor": "#E1E5ED"
        }
       }
      },
      "text/html": [
       "<div>                            <div id=\"7f356019-eba6-4c0a-b1bd-37fbfb0f3cdd\" class=\"plotly-graph-div\" style=\"height:525px; width:100%;\"></div>            <script type=\"text/javascript\">                require([\"plotly\"], function(Plotly) {                    window.PLOTLYENV=window.PLOTLYENV || {};\n",
       "                    window.PLOTLYENV.BASE_URL='https://plot.ly';                                    if (document.getElementById(\"7f356019-eba6-4c0a-b1bd-37fbfb0f3cdd\")) {                    Plotly.newPlot(                        \"7f356019-eba6-4c0a-b1bd-37fbfb0f3cdd\",                        [{\"histfunc\":\"count\",\"histnorm\":\"\",\"marker\":{\"color\":\"rgba(255, 153, 51, 1.0)\",\"line\":{\"color\":\"#4D5663\",\"width\":1.3}},\"name\":\"A\",\"opacity\":0.8,\"orientation\":\"v\",\"x\":[-1.7551052678663162,0.3844705852588308,-2.036235857734799,-0.4777192690016541,1.4543579926789922,-0.09237757661484672,0.6119764070206649,1.2237887733721426,-1.7337095285419843,-0.09984401561568264,-0.4649631618162517,0.9998649026069217,-0.6943268284110494,-0.72841097667062,-0.4417144240902041,-0.004464788666717921,0.07531256094745666,0.819040457639244,-0.4567053715819427,-0.5963208419744218,0.20953116501771618,-0.6853725302321193,-0.4001354564558299,0.6480780792891775,0.21240416189485206,0.14312795229648412,1.4393143026131452,0.7837815407286436,0.7467555023995134,0.29599035733768936,-0.7218712504422361,-1.25193389495634,0.03611354174396783,-0.03200300201512434,-1.1826084205945602,-1.4446328395682333,-0.04401236980398926,1.148871152117295,-0.14011474199688925,0.06115179255331545,0.868403061018585,0.5428333970190617,2.023958447325256,1.298799841292337,0.3078105580800464,0.6071874163245976,0.8972500697072223,-0.9315584354567149,0.17846500752828248,0.4284783757579867,-1.2333721181585848,-0.5601363807245684,0.09472304319338498,1.778688134912088,-1.8021319258488775,-0.7791449714553991,-0.5839473586620774,-0.7253804597334422,-0.9232769368882936,-0.6139384413256993,-0.06283253701103511,-0.9172264457972898,1.274365195722724,-0.23411960543441399,-0.8057448573292509,0.7054532319615852,-1.1036282271372015,0.6513618183801033,1.6919479921315315,2.0298722949294987,-0.7413914397119926,1.6472076306959016,0.6975377328009644,-2.5744066196418682,-1.1618031599466374,1.191995297707877,0.3357604375348084,0.528360105058137,-2.426809770915547,-1.4970050996342303,0.5012670828793494,-0.4144372147571527,-1.5032345584573734,-0.5645262794150616,0.9074324916191596,0.5291147311047883,1.27378422165143,0.8144032756088596,0.22763909553884226,0.04666463041197144,-0.2909034169358753,1.2439472755893324,-0.5030014312921158,-2.04618571072768,-1.9776242737576282,-0.7784135744681734,-0.43542356262032955,0.3511218761609181,0.6690302299966587,-2.937691978255148],\"type\":\"histogram\"}],                        {\"barmode\":\"overlay\",\"legend\":{\"bgcolor\":\"#F5F6F9\",\"font\":{\"color\":\"#4D5663\"}},\"paper_bgcolor\":\"#F5F6F9\",\"plot_bgcolor\":\"#F5F6F9\",\"template\":{\"data\":{\"barpolar\":[{\"marker\":{\"line\":{\"color\":\"#E5ECF6\",\"width\":0.5},\"pattern\":{\"fillmode\":\"overlay\",\"size\":10,\"solidity\":0.2}},\"type\":\"barpolar\"}],\"bar\":[{\"error_x\":{\"color\":\"#2a3f5f\"},\"error_y\":{\"color\":\"#2a3f5f\"},\"marker\":{\"line\":{\"color\":\"#E5ECF6\",\"width\":0.5},\"pattern\":{\"fillmode\":\"overlay\",\"size\":10,\"solidity\":0.2}},\"type\":\"bar\"}],\"carpet\":[{\"aaxis\":{\"endlinecolor\":\"#2a3f5f\",\"gridcolor\":\"white\",\"linecolor\":\"white\",\"minorgridcolor\":\"white\",\"startlinecolor\":\"#2a3f5f\"},\"baxis\":{\"endlinecolor\":\"#2a3f5f\",\"gridcolor\":\"white\",\"linecolor\":\"white\",\"minorgridcolor\":\"white\",\"startlinecolor\":\"#2a3f5f\"},\"type\":\"carpet\"}],\"choropleth\":[{\"colorbar\":{\"outlinewidth\":0,\"ticks\":\"\"},\"type\":\"choropleth\"}],\"contourcarpet\":[{\"colorbar\":{\"outlinewidth\":0,\"ticks\":\"\"},\"type\":\"contourcarpet\"}],\"contour\":[{\"colorbar\":{\"outlinewidth\":0,\"ticks\":\"\"},\"colorscale\":[[0.0,\"#0d0887\"],[0.1111111111111111,\"#46039f\"],[0.2222222222222222,\"#7201a8\"],[0.3333333333333333,\"#9c179e\"],[0.4444444444444444,\"#bd3786\"],[0.5555555555555556,\"#d8576b\"],[0.6666666666666666,\"#ed7953\"],[0.7777777777777778,\"#fb9f3a\"],[0.8888888888888888,\"#fdca26\"],[1.0,\"#f0f921\"]],\"type\":\"contour\"}],\"heatmapgl\":[{\"colorbar\":{\"outlinewidth\":0,\"ticks\":\"\"},\"colorscale\":[[0.0,\"#0d0887\"],[0.1111111111111111,\"#46039f\"],[0.2222222222222222,\"#7201a8\"],[0.3333333333333333,\"#9c179e\"],[0.4444444444444444,\"#bd3786\"],[0.5555555555555556,\"#d8576b\"],[0.6666666666666666,\"#ed7953\"],[0.7777777777777778,\"#fb9f3a\"],[0.8888888888888888,\"#fdca26\"],[1.0,\"#f0f921\"]],\"type\":\"heatmapgl\"}],\"heatmap\":[{\"colorbar\":{\"outlinewidth\":0,\"ticks\":\"\"},\"colorscale\":[[0.0,\"#0d0887\"],[0.1111111111111111,\"#46039f\"],[0.2222222222222222,\"#7201a8\"],[0.3333333333333333,\"#9c179e\"],[0.4444444444444444,\"#bd3786\"],[0.5555555555555556,\"#d8576b\"],[0.6666666666666666,\"#ed7953\"],[0.7777777777777778,\"#fb9f3a\"],[0.8888888888888888,\"#fdca26\"],[1.0,\"#f0f921\"]],\"type\":\"heatmap\"}],\"histogram2dcontour\":[{\"colorbar\":{\"outlinewidth\":0,\"ticks\":\"\"},\"colorscale\":[[0.0,\"#0d0887\"],[0.1111111111111111,\"#46039f\"],[0.2222222222222222,\"#7201a8\"],[0.3333333333333333,\"#9c179e\"],[0.4444444444444444,\"#bd3786\"],[0.5555555555555556,\"#d8576b\"],[0.6666666666666666,\"#ed7953\"],[0.7777777777777778,\"#fb9f3a\"],[0.8888888888888888,\"#fdca26\"],[1.0,\"#f0f921\"]],\"type\":\"histogram2dcontour\"}],\"histogram2d\":[{\"colorbar\":{\"outlinewidth\":0,\"ticks\":\"\"},\"colorscale\":[[0.0,\"#0d0887\"],[0.1111111111111111,\"#46039f\"],[0.2222222222222222,\"#7201a8\"],[0.3333333333333333,\"#9c179e\"],[0.4444444444444444,\"#bd3786\"],[0.5555555555555556,\"#d8576b\"],[0.6666666666666666,\"#ed7953\"],[0.7777777777777778,\"#fb9f3a\"],[0.8888888888888888,\"#fdca26\"],[1.0,\"#f0f921\"]],\"type\":\"histogram2d\"}],\"histogram\":[{\"marker\":{\"pattern\":{\"fillmode\":\"overlay\",\"size\":10,\"solidity\":0.2}},\"type\":\"histogram\"}],\"mesh3d\":[{\"colorbar\":{\"outlinewidth\":0,\"ticks\":\"\"},\"type\":\"mesh3d\"}],\"parcoords\":[{\"line\":{\"colorbar\":{\"outlinewidth\":0,\"ticks\":\"\"}},\"type\":\"parcoords\"}],\"pie\":[{\"automargin\":true,\"type\":\"pie\"}],\"scatter3d\":[{\"line\":{\"colorbar\":{\"outlinewidth\":0,\"ticks\":\"\"}},\"marker\":{\"colorbar\":{\"outlinewidth\":0,\"ticks\":\"\"}},\"type\":\"scatter3d\"}],\"scattercarpet\":[{\"marker\":{\"colorbar\":{\"outlinewidth\":0,\"ticks\":\"\"}},\"type\":\"scattercarpet\"}],\"scattergeo\":[{\"marker\":{\"colorbar\":{\"outlinewidth\":0,\"ticks\":\"\"}},\"type\":\"scattergeo\"}],\"scattergl\":[{\"marker\":{\"colorbar\":{\"outlinewidth\":0,\"ticks\":\"\"}},\"type\":\"scattergl\"}],\"scattermapbox\":[{\"marker\":{\"colorbar\":{\"outlinewidth\":0,\"ticks\":\"\"}},\"type\":\"scattermapbox\"}],\"scatterpolargl\":[{\"marker\":{\"colorbar\":{\"outlinewidth\":0,\"ticks\":\"\"}},\"type\":\"scatterpolargl\"}],\"scatterpolar\":[{\"marker\":{\"colorbar\":{\"outlinewidth\":0,\"ticks\":\"\"}},\"type\":\"scatterpolar\"}],\"scatter\":[{\"fillpattern\":{\"fillmode\":\"overlay\",\"size\":10,\"solidity\":0.2},\"type\":\"scatter\"}],\"scatterternary\":[{\"marker\":{\"colorbar\":{\"outlinewidth\":0,\"ticks\":\"\"}},\"type\":\"scatterternary\"}],\"surface\":[{\"colorbar\":{\"outlinewidth\":0,\"ticks\":\"\"},\"colorscale\":[[0.0,\"#0d0887\"],[0.1111111111111111,\"#46039f\"],[0.2222222222222222,\"#7201a8\"],[0.3333333333333333,\"#9c179e\"],[0.4444444444444444,\"#bd3786\"],[0.5555555555555556,\"#d8576b\"],[0.6666666666666666,\"#ed7953\"],[0.7777777777777778,\"#fb9f3a\"],[0.8888888888888888,\"#fdca26\"],[1.0,\"#f0f921\"]],\"type\":\"surface\"}],\"table\":[{\"cells\":{\"fill\":{\"color\":\"#EBF0F8\"},\"line\":{\"color\":\"white\"}},\"header\":{\"fill\":{\"color\":\"#C8D4E3\"},\"line\":{\"color\":\"white\"}},\"type\":\"table\"}]},\"layout\":{\"annotationdefaults\":{\"arrowcolor\":\"#2a3f5f\",\"arrowhead\":0,\"arrowwidth\":1},\"autotypenumbers\":\"strict\",\"coloraxis\":{\"colorbar\":{\"outlinewidth\":0,\"ticks\":\"\"}},\"colorscale\":{\"diverging\":[[0,\"#8e0152\"],[0.1,\"#c51b7d\"],[0.2,\"#de77ae\"],[0.3,\"#f1b6da\"],[0.4,\"#fde0ef\"],[0.5,\"#f7f7f7\"],[0.6,\"#e6f5d0\"],[0.7,\"#b8e186\"],[0.8,\"#7fbc41\"],[0.9,\"#4d9221\"],[1,\"#276419\"]],\"sequential\":[[0.0,\"#0d0887\"],[0.1111111111111111,\"#46039f\"],[0.2222222222222222,\"#7201a8\"],[0.3333333333333333,\"#9c179e\"],[0.4444444444444444,\"#bd3786\"],[0.5555555555555556,\"#d8576b\"],[0.6666666666666666,\"#ed7953\"],[0.7777777777777778,\"#fb9f3a\"],[0.8888888888888888,\"#fdca26\"],[1.0,\"#f0f921\"]],\"sequentialminus\":[[0.0,\"#0d0887\"],[0.1111111111111111,\"#46039f\"],[0.2222222222222222,\"#7201a8\"],[0.3333333333333333,\"#9c179e\"],[0.4444444444444444,\"#bd3786\"],[0.5555555555555556,\"#d8576b\"],[0.6666666666666666,\"#ed7953\"],[0.7777777777777778,\"#fb9f3a\"],[0.8888888888888888,\"#fdca26\"],[1.0,\"#f0f921\"]]},\"colorway\":[\"#636efa\",\"#EF553B\",\"#00cc96\",\"#ab63fa\",\"#FFA15A\",\"#19d3f3\",\"#FF6692\",\"#B6E880\",\"#FF97FF\",\"#FECB52\"],\"font\":{\"color\":\"#2a3f5f\"},\"geo\":{\"bgcolor\":\"white\",\"lakecolor\":\"white\",\"landcolor\":\"#E5ECF6\",\"showlakes\":true,\"showland\":true,\"subunitcolor\":\"white\"},\"hoverlabel\":{\"align\":\"left\"},\"hovermode\":\"closest\",\"mapbox\":{\"style\":\"light\"},\"paper_bgcolor\":\"white\",\"plot_bgcolor\":\"#E5ECF6\",\"polar\":{\"angularaxis\":{\"gridcolor\":\"white\",\"linecolor\":\"white\",\"ticks\":\"\"},\"bgcolor\":\"#E5ECF6\",\"radialaxis\":{\"gridcolor\":\"white\",\"linecolor\":\"white\",\"ticks\":\"\"}},\"scene\":{\"xaxis\":{\"backgroundcolor\":\"#E5ECF6\",\"gridcolor\":\"white\",\"gridwidth\":2,\"linecolor\":\"white\",\"showbackground\":true,\"ticks\":\"\",\"zerolinecolor\":\"white\"},\"yaxis\":{\"backgroundcolor\":\"#E5ECF6\",\"gridcolor\":\"white\",\"gridwidth\":2,\"linecolor\":\"white\",\"showbackground\":true,\"ticks\":\"\",\"zerolinecolor\":\"white\"},\"zaxis\":{\"backgroundcolor\":\"#E5ECF6\",\"gridcolor\":\"white\",\"gridwidth\":2,\"linecolor\":\"white\",\"showbackground\":true,\"ticks\":\"\",\"zerolinecolor\":\"white\"}},\"shapedefaults\":{\"line\":{\"color\":\"#2a3f5f\"}},\"ternary\":{\"aaxis\":{\"gridcolor\":\"white\",\"linecolor\":\"white\",\"ticks\":\"\"},\"baxis\":{\"gridcolor\":\"white\",\"linecolor\":\"white\",\"ticks\":\"\"},\"bgcolor\":\"#E5ECF6\",\"caxis\":{\"gridcolor\":\"white\",\"linecolor\":\"white\",\"ticks\":\"\"}},\"title\":{\"x\":0.05},\"xaxis\":{\"automargin\":true,\"gridcolor\":\"white\",\"linecolor\":\"white\",\"ticks\":\"\",\"title\":{\"standoff\":15},\"zerolinecolor\":\"white\",\"zerolinewidth\":2},\"yaxis\":{\"automargin\":true,\"gridcolor\":\"white\",\"linecolor\":\"white\",\"ticks\":\"\",\"title\":{\"standoff\":15},\"zerolinecolor\":\"white\",\"zerolinewidth\":2}}},\"title\":{\"font\":{\"color\":\"#4D5663\"}},\"xaxis\":{\"gridcolor\":\"#E1E5ED\",\"showgrid\":true,\"tickfont\":{\"color\":\"#4D5663\"},\"title\":{\"font\":{\"color\":\"#4D5663\"},\"text\":\"\"},\"zerolinecolor\":\"#E1E5ED\"},\"yaxis\":{\"gridcolor\":\"#E1E5ED\",\"showgrid\":true,\"tickfont\":{\"color\":\"#4D5663\"},\"title\":{\"font\":{\"color\":\"#4D5663\"},\"text\":\"\"},\"zerolinecolor\":\"#E1E5ED\"}},                        {\"showLink\": true, \"linkText\": \"Export to plot.ly\", \"plotlyServerURL\": \"https://plot.ly\", \"responsive\": true}                    ).then(function(){\n",
       "                            \n",
       "var gd = document.getElementById('7f356019-eba6-4c0a-b1bd-37fbfb0f3cdd');\n",
       "var x = new MutationObserver(function (mutations, observer) {{\n",
       "        var display = window.getComputedStyle(gd).display;\n",
       "        if (!display || display === 'none') {{\n",
       "            console.log([gd, 'removed!']);\n",
       "            Plotly.purge(gd);\n",
       "            observer.disconnect();\n",
       "        }}\n",
       "}});\n",
       "\n",
       "// Listen for the removal of the full notebook cells\n",
       "var notebookContainer = gd.closest('#notebook-container');\n",
       "if (notebookContainer) {{\n",
       "    x.observe(notebookContainer, {childList: true});\n",
       "}}\n",
       "\n",
       "// Listen for the clearing of the current output cell\n",
       "var outputEl = gd.closest('.output');\n",
       "if (outputEl) {{\n",
       "    x.observe(outputEl, {childList: true});\n",
       "}}\n",
       "\n",
       "                        })                };                });            </script>        </div>"
      ]
     },
     "metadata": {},
     "output_type": "display_data"
    }
   ],
   "source": [
    "df['A'].iplot(kind='hist')"
   ]
  },
  {
   "cell_type": "code",
   "execution_count": 40,
   "metadata": {},
   "outputs": [
    {
     "data": {
      "application/vnd.plotly.v1+json": {
       "config": {
        "linkText": "Export to plot.ly",
        "plotlyServerURL": "https://plot.ly",
        "showLink": true
       },
       "data": [
        {
         "histfunc": "count",
         "histnorm": "",
         "marker": {
          "color": "rgba(255, 153, 51, 1.0)",
          "line": {
           "color": "#4D5663",
           "width": 1.3
          }
         },
         "name": "A",
         "opacity": 0.8,
         "orientation": "v",
         "type": "histogram",
         "x": [
          -1.7551052678663162,
          0.3844705852588308,
          -2.036235857734799,
          -0.4777192690016541,
          1.4543579926789922,
          -0.09237757661484672,
          0.6119764070206649,
          1.2237887733721426,
          -1.7337095285419843,
          -0.09984401561568264,
          -0.4649631618162517,
          0.9998649026069217,
          -0.6943268284110494,
          -0.72841097667062,
          -0.4417144240902041,
          -0.004464788666717921,
          0.07531256094745666,
          0.819040457639244,
          -0.4567053715819427,
          -0.5963208419744218,
          0.20953116501771618,
          -0.6853725302321193,
          -0.4001354564558299,
          0.6480780792891775,
          0.21240416189485206,
          0.14312795229648412,
          1.4393143026131452,
          0.7837815407286436,
          0.7467555023995134,
          0.29599035733768936,
          -0.7218712504422361,
          -1.25193389495634,
          0.03611354174396783,
          -0.03200300201512434,
          -1.1826084205945602,
          -1.4446328395682333,
          -0.04401236980398926,
          1.148871152117295,
          -0.14011474199688925,
          0.06115179255331545,
          0.868403061018585,
          0.5428333970190617,
          2.023958447325256,
          1.298799841292337,
          0.3078105580800464,
          0.6071874163245976,
          0.8972500697072223,
          -0.9315584354567149,
          0.17846500752828248,
          0.4284783757579867,
          -1.2333721181585848,
          -0.5601363807245684,
          0.09472304319338498,
          1.778688134912088,
          -1.8021319258488775,
          -0.7791449714553991,
          -0.5839473586620774,
          -0.7253804597334422,
          -0.9232769368882936,
          -0.6139384413256993,
          -0.06283253701103511,
          -0.9172264457972898,
          1.274365195722724,
          -0.23411960543441399,
          -0.8057448573292509,
          0.7054532319615852,
          -1.1036282271372015,
          0.6513618183801033,
          1.6919479921315315,
          2.0298722949294987,
          -0.7413914397119926,
          1.6472076306959016,
          0.6975377328009644,
          -2.5744066196418682,
          -1.1618031599466374,
          1.191995297707877,
          0.3357604375348084,
          0.528360105058137,
          -2.426809770915547,
          -1.4970050996342303,
          0.5012670828793494,
          -0.4144372147571527,
          -1.5032345584573734,
          -0.5645262794150616,
          0.9074324916191596,
          0.5291147311047883,
          1.27378422165143,
          0.8144032756088596,
          0.22763909553884226,
          0.04666463041197144,
          -0.2909034169358753,
          1.2439472755893324,
          -0.5030014312921158,
          -2.04618571072768,
          -1.9776242737576282,
          -0.7784135744681734,
          -0.43542356262032955,
          0.3511218761609181,
          0.6690302299966587,
          -2.937691978255148
         ]
        },
        {
         "histfunc": "count",
         "histnorm": "",
         "marker": {
          "color": "rgba(55, 128, 191, 1.0)",
          "line": {
           "color": "#4D5663",
           "width": 1.3
          }
         },
         "name": "B",
         "opacity": 0.8,
         "orientation": "v",
         "type": "histogram",
         "x": [
          0.4382592167411095,
          -0.6309961348420734,
          -0.0395311262178848,
          -0.31428373652841174,
          -1.0100162848027445,
          0.3935453506068354,
          -1.1208413794066048,
          -0.48057193451665925,
          0.07553530507313684,
          -1.732193450923254,
          -0.18194479104436243,
          -1.2768988483331727,
          -0.9010984722462253,
          -0.04831591513783132,
          1.017334361674233,
          2.0659548342501,
          -1.3257645889148622,
          1.1439743874680193,
          -0.5955125539431376,
          1.5396128052705145,
          -0.3056876386133438,
          -0.3877195935848514,
          -0.26289468030335533,
          0.8933171597993632,
          0.28295230371184565,
          -2.0381890153955404,
          -0.8598396093738542,
          -1.6518707199339169,
          1.315608649571582,
          -1.1411519377453063,
          -1.1360395440453932,
          -1.7772226648265301,
          0.9650122260771038,
          1.1487983813941074,
          0.6236448087340094,
          0.23376375669016658,
          0.6124046327547832,
          1.438466886570016,
          -1.2648382819818582,
          -0.18510973962669178,
          -0.6786077887679473,
          -0.664905423820725,
          -0.46612759720887575,
          -0.750935532586305,
          0.7553429312716934,
          -0.974797806662005,
          1.0791958284105596,
          -1.4647682070265706,
          -1.131758714727324,
          0.3584005296774685,
          -2.618621262491332,
          0.22598540427059874,
          -0.11981462527459533,
          1.4990841490508868,
          -0.20774363409278152,
          0.6976938911487156,
          -0.6330586023195791,
          1.6187904142539622,
          1.282338045791857,
          0.0802792937980838,
          -0.5108597070798586,
          0.12905133080909542,
          0.3449053470374282,
          0.0766504080888916,
          -1.515901853753896,
          1.553054792584085,
          0.08897000243510644,
          -1.0459050859726782,
          -0.39902139781521845,
          1.2555188182347081,
          -2.0145418672522446,
          -0.27008247237976113,
          0.4903043952555374,
          2.214217040668718,
          -0.36536702022485823,
          -0.9829776507777322,
          -0.1469357916605228,
          0.5679188818392001,
          1.529413014699103,
          -0.3276547721051137,
          -1.0423677573212309,
          0.811616799365819,
          -1.3316013120176349,
          -1.8682578918247865,
          0.9497852481964191,
          -0.48074134536630314,
          -0.4481668902136482,
          -0.4874510603514809,
          0.8886789746157747,
          -0.8885847644458682,
          -0.6885045336406496,
          1.589358536547224,
          -0.6758365158912941,
          -0.40969212660536275,
          0.6746415974540376,
          1.1271460223680927,
          -1.6450552325643122,
          0.12158090294215941,
          1.0007876253334738,
          -1.256378892090455
         ]
        },
        {
         "histfunc": "count",
         "histnorm": "",
         "marker": {
          "color": "rgba(50, 171, 96, 1.0)",
          "line": {
           "color": "#4D5663",
           "width": 1.3
          }
         },
         "name": "C",
         "opacity": 0.8,
         "orientation": "v",
         "type": "histogram",
         "x": [
          1.2041286763052448,
          -0.7341612192305633,
          -0.5458056090180362,
          -0.060176807033348434,
          -1.461210307868879,
          -0.042962820390264604,
          -1.1112680953319287,
          0.4425994344947499,
          0.1581364727067789,
          1.0523143699302913,
          -0.6852756634925544,
          -2.138283291452284,
          0.26267208157579036,
          0.37372183885347143,
          0.8213211099006584,
          -0.8154119669655834,
          0.38096982250192774,
          0.3370927626585573,
          0.8661579662151041,
          0.5922180910315239,
          -0.246750931009974,
          -0.9512094621196407,
          -1.279912153943022,
          -1.0318148862660201,
          -1.2832182702457628,
          0.24335563499257745,
          -0.49710382848007084,
          -2.9933342420800924,
          -0.6978903685053779,
          2.3069038297787072,
          1.1972196152142145,
          0.5005035356788747,
          0.7297790581122335,
          -0.15941717349860096,
          -0.5181303473438783,
          -0.5934618471232722,
          0.8995817172937732,
          1.4236306634076306,
          0.13458851966672683,
          -1.9244973003383656,
          -0.4396687465651273,
          0.43148518125632296,
          -0.1045871680622103,
          -1.5154907586013207,
          0.9195989783041805,
          -0.5680229856548504,
          -1.0279969155715944,
          -0.7050486050975706,
          1.657409308353311,
          0.43853218340055466,
          0.4453702568775285,
          -0.8589282128077184,
          0.6917317701189633,
          0.4874349454596271,
          -0.05415017783183345,
          0.6786386411680831,
          0.49941202879755286,
          -0.09355296913250151,
          -0.39456615110421206,
          0.945327187041317,
          -0.1592104734693847,
          2.3917432164498007,
          -0.506147738239636,
          -0.26501055918580796,
          0.256761716941572,
          -2.0970130189996263,
          2.080817157003123,
          -1.969713916536074,
          1.2186284182395668,
          -0.6754697490087247,
          0.0864288898960222,
          -1.2623278342411035,
          -1.5782667637365249,
          -0.03995829079015229,
          0.4184420663801775,
          -0.5544865869156967,
          0.4917122214543861,
          -0.06530864944150375,
          -0.11841439565633523,
          0.6511421435271256,
          1.027365203598178,
          -1.0793832565983752,
          0.19273703232535136,
          0.21278608830470566,
          0.6698430690156365,
          -1.1447128329756069,
          -0.1406796689064955,
          0.23141660493699273,
          0.9064832898559017,
          -1.4194927711734235,
          1.7863130491938028,
          1.4143890894685258,
          -1.1686375404626603,
          -1.2767884937582192,
          0.908973163702017,
          0.4903546831594897,
          1.458215782292664,
          -0.1739490839601721,
          -0.08603191853491715,
          -0.30139862355672215
         ]
        },
        {
         "histfunc": "count",
         "histnorm": "",
         "marker": {
          "color": "rgba(128, 0, 128, 1.0)",
          "line": {
           "color": "#4D5663",
           "width": 1.3
          }
         },
         "name": "D",
         "opacity": 0.8,
         "orientation": "v",
         "type": "histogram",
         "x": [
          0.5335617547626704,
          1.11511778820712,
          -0.08010239879881892,
          -2.259130632450229,
          0.1306904956755313,
          -0.10868636704330263,
          -1.2119879393566173,
          0.058401962784051895,
          -1.28475547880816,
          -0.23874716438584068,
          -0.05486944254343988,
          -0.7903758731068092,
          0.5511763376605952,
          0.6598876147808562,
          -1.393544253357598,
          -0.22141033511022082,
          1.3723354165859456,
          -2.295330139910439,
          0.7048578956406352,
          -1.3456434351515638,
          1.1330308424283735,
          -1.6303682417443779,
          1.1458167157730648,
          0.3412691509585753,
          -1.4814410312878,
          0.7056244817874007,
          -0.35631268737456484,
          -1.4973624280243167,
          -2.384006313434215,
          -0.4603706240551062,
          -0.3396935582570401,
          -1.7531152695661887,
          1.3317539945057488,
          0.03028900886027697,
          0.003446055668178733,
          0.6235875867000816,
          2.2119702214189525,
          0.09084069260464103,
          0.2455822204067303,
          -0.6571322155562199,
          -0.16271374185554327,
          -0.643073675919325,
          -1.9137010323432584,
          -0.7764981602357823,
          -0.44312146885367115,
          -1.7356585778027214,
          0.24444323790835046,
          0.7104679959661663,
          -1.3390136550043847,
          0.16366534129867924,
          -0.6047531524042749,
          1.2553527366235804,
          -0.6701759062038355,
          0.9363081857722896,
          0.8211474912961345,
          -1.8240721473503028,
          0.45230942549634595,
          2.1574505417899834,
          -0.062096453693924164,
          2.369880887091539,
          -1.0804781096479488,
          -1.3240023935686234,
          0.1891364017721843,
          1.4454723116515689,
          0.2670018973992693,
          0.3843716971280922,
          -0.9649721651660574,
          -1.0909805836656126,
          0.27081041390492183,
          1.153388859206965,
          0.38281022895155126,
          -0.8713849540757779,
          2.0528631419834227,
          1.5097740524964776,
          -0.5438358420554982,
          -0.07034753062399098,
          -0.8942657348846185,
          0.9487048514799492,
          1.3008219239253918,
          -0.5290864305394178,
          -1.7064792654511123,
          -0.19315259821983888,
          0.16849549170129602,
          0.3616001588411008,
          0.026682942900016677,
          1.2430267142940021,
          1.8288506123013686,
          -0.6461015794148398,
          -0.03903876462222602,
          -0.7345934981355124,
          -1.267407423342911,
          0.020312121797485937,
          -0.6162696698678704,
          -0.8700178732099789,
          0.48554238667112404,
          0.26801570273470005,
          0.103588232775617,
          0.12065839577974721,
          1.3510822698238307,
          0.3829175412191313
         ]
        }
       ],
       "layout": {
        "barmode": "overlay",
        "legend": {
         "bgcolor": "#F5F6F9",
         "font": {
          "color": "#4D5663"
         }
        },
        "paper_bgcolor": "#F5F6F9",
        "plot_bgcolor": "#F5F6F9",
        "template": {
         "data": {
          "bar": [
           {
            "error_x": {
             "color": "#2a3f5f"
            },
            "error_y": {
             "color": "#2a3f5f"
            },
            "marker": {
             "line": {
              "color": "#E5ECF6",
              "width": 0.5
             },
             "pattern": {
              "fillmode": "overlay",
              "size": 10,
              "solidity": 0.2
             }
            },
            "type": "bar"
           }
          ],
          "barpolar": [
           {
            "marker": {
             "line": {
              "color": "#E5ECF6",
              "width": 0.5
             },
             "pattern": {
              "fillmode": "overlay",
              "size": 10,
              "solidity": 0.2
             }
            },
            "type": "barpolar"
           }
          ],
          "carpet": [
           {
            "aaxis": {
             "endlinecolor": "#2a3f5f",
             "gridcolor": "white",
             "linecolor": "white",
             "minorgridcolor": "white",
             "startlinecolor": "#2a3f5f"
            },
            "baxis": {
             "endlinecolor": "#2a3f5f",
             "gridcolor": "white",
             "linecolor": "white",
             "minorgridcolor": "white",
             "startlinecolor": "#2a3f5f"
            },
            "type": "carpet"
           }
          ],
          "choropleth": [
           {
            "colorbar": {
             "outlinewidth": 0,
             "ticks": ""
            },
            "type": "choropleth"
           }
          ],
          "contour": [
           {
            "colorbar": {
             "outlinewidth": 0,
             "ticks": ""
            },
            "colorscale": [
             [
              0,
              "#0d0887"
             ],
             [
              0.1111111111111111,
              "#46039f"
             ],
             [
              0.2222222222222222,
              "#7201a8"
             ],
             [
              0.3333333333333333,
              "#9c179e"
             ],
             [
              0.4444444444444444,
              "#bd3786"
             ],
             [
              0.5555555555555556,
              "#d8576b"
             ],
             [
              0.6666666666666666,
              "#ed7953"
             ],
             [
              0.7777777777777778,
              "#fb9f3a"
             ],
             [
              0.8888888888888888,
              "#fdca26"
             ],
             [
              1,
              "#f0f921"
             ]
            ],
            "type": "contour"
           }
          ],
          "contourcarpet": [
           {
            "colorbar": {
             "outlinewidth": 0,
             "ticks": ""
            },
            "type": "contourcarpet"
           }
          ],
          "heatmap": [
           {
            "colorbar": {
             "outlinewidth": 0,
             "ticks": ""
            },
            "colorscale": [
             [
              0,
              "#0d0887"
             ],
             [
              0.1111111111111111,
              "#46039f"
             ],
             [
              0.2222222222222222,
              "#7201a8"
             ],
             [
              0.3333333333333333,
              "#9c179e"
             ],
             [
              0.4444444444444444,
              "#bd3786"
             ],
             [
              0.5555555555555556,
              "#d8576b"
             ],
             [
              0.6666666666666666,
              "#ed7953"
             ],
             [
              0.7777777777777778,
              "#fb9f3a"
             ],
             [
              0.8888888888888888,
              "#fdca26"
             ],
             [
              1,
              "#f0f921"
             ]
            ],
            "type": "heatmap"
           }
          ],
          "heatmapgl": [
           {
            "colorbar": {
             "outlinewidth": 0,
             "ticks": ""
            },
            "colorscale": [
             [
              0,
              "#0d0887"
             ],
             [
              0.1111111111111111,
              "#46039f"
             ],
             [
              0.2222222222222222,
              "#7201a8"
             ],
             [
              0.3333333333333333,
              "#9c179e"
             ],
             [
              0.4444444444444444,
              "#bd3786"
             ],
             [
              0.5555555555555556,
              "#d8576b"
             ],
             [
              0.6666666666666666,
              "#ed7953"
             ],
             [
              0.7777777777777778,
              "#fb9f3a"
             ],
             [
              0.8888888888888888,
              "#fdca26"
             ],
             [
              1,
              "#f0f921"
             ]
            ],
            "type": "heatmapgl"
           }
          ],
          "histogram": [
           {
            "marker": {
             "pattern": {
              "fillmode": "overlay",
              "size": 10,
              "solidity": 0.2
             }
            },
            "type": "histogram"
           }
          ],
          "histogram2d": [
           {
            "colorbar": {
             "outlinewidth": 0,
             "ticks": ""
            },
            "colorscale": [
             [
              0,
              "#0d0887"
             ],
             [
              0.1111111111111111,
              "#46039f"
             ],
             [
              0.2222222222222222,
              "#7201a8"
             ],
             [
              0.3333333333333333,
              "#9c179e"
             ],
             [
              0.4444444444444444,
              "#bd3786"
             ],
             [
              0.5555555555555556,
              "#d8576b"
             ],
             [
              0.6666666666666666,
              "#ed7953"
             ],
             [
              0.7777777777777778,
              "#fb9f3a"
             ],
             [
              0.8888888888888888,
              "#fdca26"
             ],
             [
              1,
              "#f0f921"
             ]
            ],
            "type": "histogram2d"
           }
          ],
          "histogram2dcontour": [
           {
            "colorbar": {
             "outlinewidth": 0,
             "ticks": ""
            },
            "colorscale": [
             [
              0,
              "#0d0887"
             ],
             [
              0.1111111111111111,
              "#46039f"
             ],
             [
              0.2222222222222222,
              "#7201a8"
             ],
             [
              0.3333333333333333,
              "#9c179e"
             ],
             [
              0.4444444444444444,
              "#bd3786"
             ],
             [
              0.5555555555555556,
              "#d8576b"
             ],
             [
              0.6666666666666666,
              "#ed7953"
             ],
             [
              0.7777777777777778,
              "#fb9f3a"
             ],
             [
              0.8888888888888888,
              "#fdca26"
             ],
             [
              1,
              "#f0f921"
             ]
            ],
            "type": "histogram2dcontour"
           }
          ],
          "mesh3d": [
           {
            "colorbar": {
             "outlinewidth": 0,
             "ticks": ""
            },
            "type": "mesh3d"
           }
          ],
          "parcoords": [
           {
            "line": {
             "colorbar": {
              "outlinewidth": 0,
              "ticks": ""
             }
            },
            "type": "parcoords"
           }
          ],
          "pie": [
           {
            "automargin": true,
            "type": "pie"
           }
          ],
          "scatter": [
           {
            "fillpattern": {
             "fillmode": "overlay",
             "size": 10,
             "solidity": 0.2
            },
            "type": "scatter"
           }
          ],
          "scatter3d": [
           {
            "line": {
             "colorbar": {
              "outlinewidth": 0,
              "ticks": ""
             }
            },
            "marker": {
             "colorbar": {
              "outlinewidth": 0,
              "ticks": ""
             }
            },
            "type": "scatter3d"
           }
          ],
          "scattercarpet": [
           {
            "marker": {
             "colorbar": {
              "outlinewidth": 0,
              "ticks": ""
             }
            },
            "type": "scattercarpet"
           }
          ],
          "scattergeo": [
           {
            "marker": {
             "colorbar": {
              "outlinewidth": 0,
              "ticks": ""
             }
            },
            "type": "scattergeo"
           }
          ],
          "scattergl": [
           {
            "marker": {
             "colorbar": {
              "outlinewidth": 0,
              "ticks": ""
             }
            },
            "type": "scattergl"
           }
          ],
          "scattermapbox": [
           {
            "marker": {
             "colorbar": {
              "outlinewidth": 0,
              "ticks": ""
             }
            },
            "type": "scattermapbox"
           }
          ],
          "scatterpolar": [
           {
            "marker": {
             "colorbar": {
              "outlinewidth": 0,
              "ticks": ""
             }
            },
            "type": "scatterpolar"
           }
          ],
          "scatterpolargl": [
           {
            "marker": {
             "colorbar": {
              "outlinewidth": 0,
              "ticks": ""
             }
            },
            "type": "scatterpolargl"
           }
          ],
          "scatterternary": [
           {
            "marker": {
             "colorbar": {
              "outlinewidth": 0,
              "ticks": ""
             }
            },
            "type": "scatterternary"
           }
          ],
          "surface": [
           {
            "colorbar": {
             "outlinewidth": 0,
             "ticks": ""
            },
            "colorscale": [
             [
              0,
              "#0d0887"
             ],
             [
              0.1111111111111111,
              "#46039f"
             ],
             [
              0.2222222222222222,
              "#7201a8"
             ],
             [
              0.3333333333333333,
              "#9c179e"
             ],
             [
              0.4444444444444444,
              "#bd3786"
             ],
             [
              0.5555555555555556,
              "#d8576b"
             ],
             [
              0.6666666666666666,
              "#ed7953"
             ],
             [
              0.7777777777777778,
              "#fb9f3a"
             ],
             [
              0.8888888888888888,
              "#fdca26"
             ],
             [
              1,
              "#f0f921"
             ]
            ],
            "type": "surface"
           }
          ],
          "table": [
           {
            "cells": {
             "fill": {
              "color": "#EBF0F8"
             },
             "line": {
              "color": "white"
             }
            },
            "header": {
             "fill": {
              "color": "#C8D4E3"
             },
             "line": {
              "color": "white"
             }
            },
            "type": "table"
           }
          ]
         },
         "layout": {
          "annotationdefaults": {
           "arrowcolor": "#2a3f5f",
           "arrowhead": 0,
           "arrowwidth": 1
          },
          "autotypenumbers": "strict",
          "coloraxis": {
           "colorbar": {
            "outlinewidth": 0,
            "ticks": ""
           }
          },
          "colorscale": {
           "diverging": [
            [
             0,
             "#8e0152"
            ],
            [
             0.1,
             "#c51b7d"
            ],
            [
             0.2,
             "#de77ae"
            ],
            [
             0.3,
             "#f1b6da"
            ],
            [
             0.4,
             "#fde0ef"
            ],
            [
             0.5,
             "#f7f7f7"
            ],
            [
             0.6,
             "#e6f5d0"
            ],
            [
             0.7,
             "#b8e186"
            ],
            [
             0.8,
             "#7fbc41"
            ],
            [
             0.9,
             "#4d9221"
            ],
            [
             1,
             "#276419"
            ]
           ],
           "sequential": [
            [
             0,
             "#0d0887"
            ],
            [
             0.1111111111111111,
             "#46039f"
            ],
            [
             0.2222222222222222,
             "#7201a8"
            ],
            [
             0.3333333333333333,
             "#9c179e"
            ],
            [
             0.4444444444444444,
             "#bd3786"
            ],
            [
             0.5555555555555556,
             "#d8576b"
            ],
            [
             0.6666666666666666,
             "#ed7953"
            ],
            [
             0.7777777777777778,
             "#fb9f3a"
            ],
            [
             0.8888888888888888,
             "#fdca26"
            ],
            [
             1,
             "#f0f921"
            ]
           ],
           "sequentialminus": [
            [
             0,
             "#0d0887"
            ],
            [
             0.1111111111111111,
             "#46039f"
            ],
            [
             0.2222222222222222,
             "#7201a8"
            ],
            [
             0.3333333333333333,
             "#9c179e"
            ],
            [
             0.4444444444444444,
             "#bd3786"
            ],
            [
             0.5555555555555556,
             "#d8576b"
            ],
            [
             0.6666666666666666,
             "#ed7953"
            ],
            [
             0.7777777777777778,
             "#fb9f3a"
            ],
            [
             0.8888888888888888,
             "#fdca26"
            ],
            [
             1,
             "#f0f921"
            ]
           ]
          },
          "colorway": [
           "#636efa",
           "#EF553B",
           "#00cc96",
           "#ab63fa",
           "#FFA15A",
           "#19d3f3",
           "#FF6692",
           "#B6E880",
           "#FF97FF",
           "#FECB52"
          ],
          "font": {
           "color": "#2a3f5f"
          },
          "geo": {
           "bgcolor": "white",
           "lakecolor": "white",
           "landcolor": "#E5ECF6",
           "showlakes": true,
           "showland": true,
           "subunitcolor": "white"
          },
          "hoverlabel": {
           "align": "left"
          },
          "hovermode": "closest",
          "mapbox": {
           "style": "light"
          },
          "paper_bgcolor": "white",
          "plot_bgcolor": "#E5ECF6",
          "polar": {
           "angularaxis": {
            "gridcolor": "white",
            "linecolor": "white",
            "ticks": ""
           },
           "bgcolor": "#E5ECF6",
           "radialaxis": {
            "gridcolor": "white",
            "linecolor": "white",
            "ticks": ""
           }
          },
          "scene": {
           "xaxis": {
            "backgroundcolor": "#E5ECF6",
            "gridcolor": "white",
            "gridwidth": 2,
            "linecolor": "white",
            "showbackground": true,
            "ticks": "",
            "zerolinecolor": "white"
           },
           "yaxis": {
            "backgroundcolor": "#E5ECF6",
            "gridcolor": "white",
            "gridwidth": 2,
            "linecolor": "white",
            "showbackground": true,
            "ticks": "",
            "zerolinecolor": "white"
           },
           "zaxis": {
            "backgroundcolor": "#E5ECF6",
            "gridcolor": "white",
            "gridwidth": 2,
            "linecolor": "white",
            "showbackground": true,
            "ticks": "",
            "zerolinecolor": "white"
           }
          },
          "shapedefaults": {
           "line": {
            "color": "#2a3f5f"
           }
          },
          "ternary": {
           "aaxis": {
            "gridcolor": "white",
            "linecolor": "white",
            "ticks": ""
           },
           "baxis": {
            "gridcolor": "white",
            "linecolor": "white",
            "ticks": ""
           },
           "bgcolor": "#E5ECF6",
           "caxis": {
            "gridcolor": "white",
            "linecolor": "white",
            "ticks": ""
           }
          },
          "title": {
           "x": 0.05
          },
          "xaxis": {
           "automargin": true,
           "gridcolor": "white",
           "linecolor": "white",
           "ticks": "",
           "title": {
            "standoff": 15
           },
           "zerolinecolor": "white",
           "zerolinewidth": 2
          },
          "yaxis": {
           "automargin": true,
           "gridcolor": "white",
           "linecolor": "white",
           "ticks": "",
           "title": {
            "standoff": 15
           },
           "zerolinecolor": "white",
           "zerolinewidth": 2
          }
         }
        },
        "title": {
         "font": {
          "color": "#4D5663"
         }
        },
        "xaxis": {
         "gridcolor": "#E1E5ED",
         "showgrid": true,
         "tickfont": {
          "color": "#4D5663"
         },
         "title": {
          "font": {
           "color": "#4D5663"
          },
          "text": ""
         },
         "zerolinecolor": "#E1E5ED"
        },
        "yaxis": {
         "gridcolor": "#E1E5ED",
         "showgrid": true,
         "tickfont": {
          "color": "#4D5663"
         },
         "title": {
          "font": {
           "color": "#4D5663"
          },
          "text": ""
         },
         "zerolinecolor": "#E1E5ED"
        }
       }
      },
      "text/html": [
       "<div>                            <div id=\"16c35a82-492f-4711-85dc-f8b0ec4a9aeb\" class=\"plotly-graph-div\" style=\"height:525px; width:100%;\"></div>            <script type=\"text/javascript\">                require([\"plotly\"], function(Plotly) {                    window.PLOTLYENV=window.PLOTLYENV || {};\n",
       "                    window.PLOTLYENV.BASE_URL='https://plot.ly';                                    if (document.getElementById(\"16c35a82-492f-4711-85dc-f8b0ec4a9aeb\")) {                    Plotly.newPlot(                        \"16c35a82-492f-4711-85dc-f8b0ec4a9aeb\",                        [{\"histfunc\":\"count\",\"histnorm\":\"\",\"marker\":{\"color\":\"rgba(255, 153, 51, 1.0)\",\"line\":{\"color\":\"#4D5663\",\"width\":1.3}},\"name\":\"A\",\"opacity\":0.8,\"orientation\":\"v\",\"x\":[-1.7551052678663162,0.3844705852588308,-2.036235857734799,-0.4777192690016541,1.4543579926789922,-0.09237757661484672,0.6119764070206649,1.2237887733721426,-1.7337095285419843,-0.09984401561568264,-0.4649631618162517,0.9998649026069217,-0.6943268284110494,-0.72841097667062,-0.4417144240902041,-0.004464788666717921,0.07531256094745666,0.819040457639244,-0.4567053715819427,-0.5963208419744218,0.20953116501771618,-0.6853725302321193,-0.4001354564558299,0.6480780792891775,0.21240416189485206,0.14312795229648412,1.4393143026131452,0.7837815407286436,0.7467555023995134,0.29599035733768936,-0.7218712504422361,-1.25193389495634,0.03611354174396783,-0.03200300201512434,-1.1826084205945602,-1.4446328395682333,-0.04401236980398926,1.148871152117295,-0.14011474199688925,0.06115179255331545,0.868403061018585,0.5428333970190617,2.023958447325256,1.298799841292337,0.3078105580800464,0.6071874163245976,0.8972500697072223,-0.9315584354567149,0.17846500752828248,0.4284783757579867,-1.2333721181585848,-0.5601363807245684,0.09472304319338498,1.778688134912088,-1.8021319258488775,-0.7791449714553991,-0.5839473586620774,-0.7253804597334422,-0.9232769368882936,-0.6139384413256993,-0.06283253701103511,-0.9172264457972898,1.274365195722724,-0.23411960543441399,-0.8057448573292509,0.7054532319615852,-1.1036282271372015,0.6513618183801033,1.6919479921315315,2.0298722949294987,-0.7413914397119926,1.6472076306959016,0.6975377328009644,-2.5744066196418682,-1.1618031599466374,1.191995297707877,0.3357604375348084,0.528360105058137,-2.426809770915547,-1.4970050996342303,0.5012670828793494,-0.4144372147571527,-1.5032345584573734,-0.5645262794150616,0.9074324916191596,0.5291147311047883,1.27378422165143,0.8144032756088596,0.22763909553884226,0.04666463041197144,-0.2909034169358753,1.2439472755893324,-0.5030014312921158,-2.04618571072768,-1.9776242737576282,-0.7784135744681734,-0.43542356262032955,0.3511218761609181,0.6690302299966587,-2.937691978255148],\"type\":\"histogram\"},{\"histfunc\":\"count\",\"histnorm\":\"\",\"marker\":{\"color\":\"rgba(55, 128, 191, 1.0)\",\"line\":{\"color\":\"#4D5663\",\"width\":1.3}},\"name\":\"B\",\"opacity\":0.8,\"orientation\":\"v\",\"x\":[0.4382592167411095,-0.6309961348420734,-0.0395311262178848,-0.31428373652841174,-1.0100162848027445,0.3935453506068354,-1.1208413794066048,-0.48057193451665925,0.07553530507313684,-1.732193450923254,-0.18194479104436243,-1.2768988483331727,-0.9010984722462253,-0.04831591513783132,1.017334361674233,2.0659548342501,-1.3257645889148622,1.1439743874680193,-0.5955125539431376,1.5396128052705145,-0.3056876386133438,-0.3877195935848514,-0.26289468030335533,0.8933171597993632,0.28295230371184565,-2.0381890153955404,-0.8598396093738542,-1.6518707199339169,1.315608649571582,-1.1411519377453063,-1.1360395440453932,-1.7772226648265301,0.9650122260771038,1.1487983813941074,0.6236448087340094,0.23376375669016658,0.6124046327547832,1.438466886570016,-1.2648382819818582,-0.18510973962669178,-0.6786077887679473,-0.664905423820725,-0.46612759720887575,-0.750935532586305,0.7553429312716934,-0.974797806662005,1.0791958284105596,-1.4647682070265706,-1.131758714727324,0.3584005296774685,-2.618621262491332,0.22598540427059874,-0.11981462527459533,1.4990841490508868,-0.20774363409278152,0.6976938911487156,-0.6330586023195791,1.6187904142539622,1.282338045791857,0.0802792937980838,-0.5108597070798586,0.12905133080909542,0.3449053470374282,0.0766504080888916,-1.515901853753896,1.553054792584085,0.08897000243510644,-1.0459050859726782,-0.39902139781521845,1.2555188182347081,-2.0145418672522446,-0.27008247237976113,0.4903043952555374,2.214217040668718,-0.36536702022485823,-0.9829776507777322,-0.1469357916605228,0.5679188818392001,1.529413014699103,-0.3276547721051137,-1.0423677573212309,0.811616799365819,-1.3316013120176349,-1.8682578918247865,0.9497852481964191,-0.48074134536630314,-0.4481668902136482,-0.4874510603514809,0.8886789746157747,-0.8885847644458682,-0.6885045336406496,1.589358536547224,-0.6758365158912941,-0.40969212660536275,0.6746415974540376,1.1271460223680927,-1.6450552325643122,0.12158090294215941,1.0007876253334738,-1.256378892090455],\"type\":\"histogram\"},{\"histfunc\":\"count\",\"histnorm\":\"\",\"marker\":{\"color\":\"rgba(50, 171, 96, 1.0)\",\"line\":{\"color\":\"#4D5663\",\"width\":1.3}},\"name\":\"C\",\"opacity\":0.8,\"orientation\":\"v\",\"x\":[1.2041286763052448,-0.7341612192305633,-0.5458056090180362,-0.060176807033348434,-1.461210307868879,-0.042962820390264604,-1.1112680953319287,0.4425994344947499,0.1581364727067789,1.0523143699302913,-0.6852756634925544,-2.138283291452284,0.26267208157579036,0.37372183885347143,0.8213211099006584,-0.8154119669655834,0.38096982250192774,0.3370927626585573,0.8661579662151041,0.5922180910315239,-0.246750931009974,-0.9512094621196407,-1.279912153943022,-1.0318148862660201,-1.2832182702457628,0.24335563499257745,-0.49710382848007084,-2.9933342420800924,-0.6978903685053779,2.3069038297787072,1.1972196152142145,0.5005035356788747,0.7297790581122335,-0.15941717349860096,-0.5181303473438783,-0.5934618471232722,0.8995817172937732,1.4236306634076306,0.13458851966672683,-1.9244973003383656,-0.4396687465651273,0.43148518125632296,-0.1045871680622103,-1.5154907586013207,0.9195989783041805,-0.5680229856548504,-1.0279969155715944,-0.7050486050975706,1.657409308353311,0.43853218340055466,0.4453702568775285,-0.8589282128077184,0.6917317701189633,0.4874349454596271,-0.05415017783183345,0.6786386411680831,0.49941202879755286,-0.09355296913250151,-0.39456615110421206,0.945327187041317,-0.1592104734693847,2.3917432164498007,-0.506147738239636,-0.26501055918580796,0.256761716941572,-2.0970130189996263,2.080817157003123,-1.969713916536074,1.2186284182395668,-0.6754697490087247,0.0864288898960222,-1.2623278342411035,-1.5782667637365249,-0.03995829079015229,0.4184420663801775,-0.5544865869156967,0.4917122214543861,-0.06530864944150375,-0.11841439565633523,0.6511421435271256,1.027365203598178,-1.0793832565983752,0.19273703232535136,0.21278608830470566,0.6698430690156365,-1.1447128329756069,-0.1406796689064955,0.23141660493699273,0.9064832898559017,-1.4194927711734235,1.7863130491938028,1.4143890894685258,-1.1686375404626603,-1.2767884937582192,0.908973163702017,0.4903546831594897,1.458215782292664,-0.1739490839601721,-0.08603191853491715,-0.30139862355672215],\"type\":\"histogram\"},{\"histfunc\":\"count\",\"histnorm\":\"\",\"marker\":{\"color\":\"rgba(128, 0, 128, 1.0)\",\"line\":{\"color\":\"#4D5663\",\"width\":1.3}},\"name\":\"D\",\"opacity\":0.8,\"orientation\":\"v\",\"x\":[0.5335617547626704,1.11511778820712,-0.08010239879881892,-2.259130632450229,0.1306904956755313,-0.10868636704330263,-1.2119879393566173,0.058401962784051895,-1.28475547880816,-0.23874716438584068,-0.05486944254343988,-0.7903758731068092,0.5511763376605952,0.6598876147808562,-1.393544253357598,-0.22141033511022082,1.3723354165859456,-2.295330139910439,0.7048578956406352,-1.3456434351515638,1.1330308424283735,-1.6303682417443779,1.1458167157730648,0.3412691509585753,-1.4814410312878,0.7056244817874007,-0.35631268737456484,-1.4973624280243167,-2.384006313434215,-0.4603706240551062,-0.3396935582570401,-1.7531152695661887,1.3317539945057488,0.03028900886027697,0.003446055668178733,0.6235875867000816,2.2119702214189525,0.09084069260464103,0.2455822204067303,-0.6571322155562199,-0.16271374185554327,-0.643073675919325,-1.9137010323432584,-0.7764981602357823,-0.44312146885367115,-1.7356585778027214,0.24444323790835046,0.7104679959661663,-1.3390136550043847,0.16366534129867924,-0.6047531524042749,1.2553527366235804,-0.6701759062038355,0.9363081857722896,0.8211474912961345,-1.8240721473503028,0.45230942549634595,2.1574505417899834,-0.062096453693924164,2.369880887091539,-1.0804781096479488,-1.3240023935686234,0.1891364017721843,1.4454723116515689,0.2670018973992693,0.3843716971280922,-0.9649721651660574,-1.0909805836656126,0.27081041390492183,1.153388859206965,0.38281022895155126,-0.8713849540757779,2.0528631419834227,1.5097740524964776,-0.5438358420554982,-0.07034753062399098,-0.8942657348846185,0.9487048514799492,1.3008219239253918,-0.5290864305394178,-1.7064792654511123,-0.19315259821983888,0.16849549170129602,0.3616001588411008,0.026682942900016677,1.2430267142940021,1.8288506123013686,-0.6461015794148398,-0.03903876462222602,-0.7345934981355124,-1.267407423342911,0.020312121797485937,-0.6162696698678704,-0.8700178732099789,0.48554238667112404,0.26801570273470005,0.103588232775617,0.12065839577974721,1.3510822698238307,0.3829175412191313],\"type\":\"histogram\"}],                        {\"barmode\":\"overlay\",\"legend\":{\"bgcolor\":\"#F5F6F9\",\"font\":{\"color\":\"#4D5663\"}},\"paper_bgcolor\":\"#F5F6F9\",\"plot_bgcolor\":\"#F5F6F9\",\"template\":{\"data\":{\"barpolar\":[{\"marker\":{\"line\":{\"color\":\"#E5ECF6\",\"width\":0.5},\"pattern\":{\"fillmode\":\"overlay\",\"size\":10,\"solidity\":0.2}},\"type\":\"barpolar\"}],\"bar\":[{\"error_x\":{\"color\":\"#2a3f5f\"},\"error_y\":{\"color\":\"#2a3f5f\"},\"marker\":{\"line\":{\"color\":\"#E5ECF6\",\"width\":0.5},\"pattern\":{\"fillmode\":\"overlay\",\"size\":10,\"solidity\":0.2}},\"type\":\"bar\"}],\"carpet\":[{\"aaxis\":{\"endlinecolor\":\"#2a3f5f\",\"gridcolor\":\"white\",\"linecolor\":\"white\",\"minorgridcolor\":\"white\",\"startlinecolor\":\"#2a3f5f\"},\"baxis\":{\"endlinecolor\":\"#2a3f5f\",\"gridcolor\":\"white\",\"linecolor\":\"white\",\"minorgridcolor\":\"white\",\"startlinecolor\":\"#2a3f5f\"},\"type\":\"carpet\"}],\"choropleth\":[{\"colorbar\":{\"outlinewidth\":0,\"ticks\":\"\"},\"type\":\"choropleth\"}],\"contourcarpet\":[{\"colorbar\":{\"outlinewidth\":0,\"ticks\":\"\"},\"type\":\"contourcarpet\"}],\"contour\":[{\"colorbar\":{\"outlinewidth\":0,\"ticks\":\"\"},\"colorscale\":[[0.0,\"#0d0887\"],[0.1111111111111111,\"#46039f\"],[0.2222222222222222,\"#7201a8\"],[0.3333333333333333,\"#9c179e\"],[0.4444444444444444,\"#bd3786\"],[0.5555555555555556,\"#d8576b\"],[0.6666666666666666,\"#ed7953\"],[0.7777777777777778,\"#fb9f3a\"],[0.8888888888888888,\"#fdca26\"],[1.0,\"#f0f921\"]],\"type\":\"contour\"}],\"heatmapgl\":[{\"colorbar\":{\"outlinewidth\":0,\"ticks\":\"\"},\"colorscale\":[[0.0,\"#0d0887\"],[0.1111111111111111,\"#46039f\"],[0.2222222222222222,\"#7201a8\"],[0.3333333333333333,\"#9c179e\"],[0.4444444444444444,\"#bd3786\"],[0.5555555555555556,\"#d8576b\"],[0.6666666666666666,\"#ed7953\"],[0.7777777777777778,\"#fb9f3a\"],[0.8888888888888888,\"#fdca26\"],[1.0,\"#f0f921\"]],\"type\":\"heatmapgl\"}],\"heatmap\":[{\"colorbar\":{\"outlinewidth\":0,\"ticks\":\"\"},\"colorscale\":[[0.0,\"#0d0887\"],[0.1111111111111111,\"#46039f\"],[0.2222222222222222,\"#7201a8\"],[0.3333333333333333,\"#9c179e\"],[0.4444444444444444,\"#bd3786\"],[0.5555555555555556,\"#d8576b\"],[0.6666666666666666,\"#ed7953\"],[0.7777777777777778,\"#fb9f3a\"],[0.8888888888888888,\"#fdca26\"],[1.0,\"#f0f921\"]],\"type\":\"heatmap\"}],\"histogram2dcontour\":[{\"colorbar\":{\"outlinewidth\":0,\"ticks\":\"\"},\"colorscale\":[[0.0,\"#0d0887\"],[0.1111111111111111,\"#46039f\"],[0.2222222222222222,\"#7201a8\"],[0.3333333333333333,\"#9c179e\"],[0.4444444444444444,\"#bd3786\"],[0.5555555555555556,\"#d8576b\"],[0.6666666666666666,\"#ed7953\"],[0.7777777777777778,\"#fb9f3a\"],[0.8888888888888888,\"#fdca26\"],[1.0,\"#f0f921\"]],\"type\":\"histogram2dcontour\"}],\"histogram2d\":[{\"colorbar\":{\"outlinewidth\":0,\"ticks\":\"\"},\"colorscale\":[[0.0,\"#0d0887\"],[0.1111111111111111,\"#46039f\"],[0.2222222222222222,\"#7201a8\"],[0.3333333333333333,\"#9c179e\"],[0.4444444444444444,\"#bd3786\"],[0.5555555555555556,\"#d8576b\"],[0.6666666666666666,\"#ed7953\"],[0.7777777777777778,\"#fb9f3a\"],[0.8888888888888888,\"#fdca26\"],[1.0,\"#f0f921\"]],\"type\":\"histogram2d\"}],\"histogram\":[{\"marker\":{\"pattern\":{\"fillmode\":\"overlay\",\"size\":10,\"solidity\":0.2}},\"type\":\"histogram\"}],\"mesh3d\":[{\"colorbar\":{\"outlinewidth\":0,\"ticks\":\"\"},\"type\":\"mesh3d\"}],\"parcoords\":[{\"line\":{\"colorbar\":{\"outlinewidth\":0,\"ticks\":\"\"}},\"type\":\"parcoords\"}],\"pie\":[{\"automargin\":true,\"type\":\"pie\"}],\"scatter3d\":[{\"line\":{\"colorbar\":{\"outlinewidth\":0,\"ticks\":\"\"}},\"marker\":{\"colorbar\":{\"outlinewidth\":0,\"ticks\":\"\"}},\"type\":\"scatter3d\"}],\"scattercarpet\":[{\"marker\":{\"colorbar\":{\"outlinewidth\":0,\"ticks\":\"\"}},\"type\":\"scattercarpet\"}],\"scattergeo\":[{\"marker\":{\"colorbar\":{\"outlinewidth\":0,\"ticks\":\"\"}},\"type\":\"scattergeo\"}],\"scattergl\":[{\"marker\":{\"colorbar\":{\"outlinewidth\":0,\"ticks\":\"\"}},\"type\":\"scattergl\"}],\"scattermapbox\":[{\"marker\":{\"colorbar\":{\"outlinewidth\":0,\"ticks\":\"\"}},\"type\":\"scattermapbox\"}],\"scatterpolargl\":[{\"marker\":{\"colorbar\":{\"outlinewidth\":0,\"ticks\":\"\"}},\"type\":\"scatterpolargl\"}],\"scatterpolar\":[{\"marker\":{\"colorbar\":{\"outlinewidth\":0,\"ticks\":\"\"}},\"type\":\"scatterpolar\"}],\"scatter\":[{\"fillpattern\":{\"fillmode\":\"overlay\",\"size\":10,\"solidity\":0.2},\"type\":\"scatter\"}],\"scatterternary\":[{\"marker\":{\"colorbar\":{\"outlinewidth\":0,\"ticks\":\"\"}},\"type\":\"scatterternary\"}],\"surface\":[{\"colorbar\":{\"outlinewidth\":0,\"ticks\":\"\"},\"colorscale\":[[0.0,\"#0d0887\"],[0.1111111111111111,\"#46039f\"],[0.2222222222222222,\"#7201a8\"],[0.3333333333333333,\"#9c179e\"],[0.4444444444444444,\"#bd3786\"],[0.5555555555555556,\"#d8576b\"],[0.6666666666666666,\"#ed7953\"],[0.7777777777777778,\"#fb9f3a\"],[0.8888888888888888,\"#fdca26\"],[1.0,\"#f0f921\"]],\"type\":\"surface\"}],\"table\":[{\"cells\":{\"fill\":{\"color\":\"#EBF0F8\"},\"line\":{\"color\":\"white\"}},\"header\":{\"fill\":{\"color\":\"#C8D4E3\"},\"line\":{\"color\":\"white\"}},\"type\":\"table\"}]},\"layout\":{\"annotationdefaults\":{\"arrowcolor\":\"#2a3f5f\",\"arrowhead\":0,\"arrowwidth\":1},\"autotypenumbers\":\"strict\",\"coloraxis\":{\"colorbar\":{\"outlinewidth\":0,\"ticks\":\"\"}},\"colorscale\":{\"diverging\":[[0,\"#8e0152\"],[0.1,\"#c51b7d\"],[0.2,\"#de77ae\"],[0.3,\"#f1b6da\"],[0.4,\"#fde0ef\"],[0.5,\"#f7f7f7\"],[0.6,\"#e6f5d0\"],[0.7,\"#b8e186\"],[0.8,\"#7fbc41\"],[0.9,\"#4d9221\"],[1,\"#276419\"]],\"sequential\":[[0.0,\"#0d0887\"],[0.1111111111111111,\"#46039f\"],[0.2222222222222222,\"#7201a8\"],[0.3333333333333333,\"#9c179e\"],[0.4444444444444444,\"#bd3786\"],[0.5555555555555556,\"#d8576b\"],[0.6666666666666666,\"#ed7953\"],[0.7777777777777778,\"#fb9f3a\"],[0.8888888888888888,\"#fdca26\"],[1.0,\"#f0f921\"]],\"sequentialminus\":[[0.0,\"#0d0887\"],[0.1111111111111111,\"#46039f\"],[0.2222222222222222,\"#7201a8\"],[0.3333333333333333,\"#9c179e\"],[0.4444444444444444,\"#bd3786\"],[0.5555555555555556,\"#d8576b\"],[0.6666666666666666,\"#ed7953\"],[0.7777777777777778,\"#fb9f3a\"],[0.8888888888888888,\"#fdca26\"],[1.0,\"#f0f921\"]]},\"colorway\":[\"#636efa\",\"#EF553B\",\"#00cc96\",\"#ab63fa\",\"#FFA15A\",\"#19d3f3\",\"#FF6692\",\"#B6E880\",\"#FF97FF\",\"#FECB52\"],\"font\":{\"color\":\"#2a3f5f\"},\"geo\":{\"bgcolor\":\"white\",\"lakecolor\":\"white\",\"landcolor\":\"#E5ECF6\",\"showlakes\":true,\"showland\":true,\"subunitcolor\":\"white\"},\"hoverlabel\":{\"align\":\"left\"},\"hovermode\":\"closest\",\"mapbox\":{\"style\":\"light\"},\"paper_bgcolor\":\"white\",\"plot_bgcolor\":\"#E5ECF6\",\"polar\":{\"angularaxis\":{\"gridcolor\":\"white\",\"linecolor\":\"white\",\"ticks\":\"\"},\"bgcolor\":\"#E5ECF6\",\"radialaxis\":{\"gridcolor\":\"white\",\"linecolor\":\"white\",\"ticks\":\"\"}},\"scene\":{\"xaxis\":{\"backgroundcolor\":\"#E5ECF6\",\"gridcolor\":\"white\",\"gridwidth\":2,\"linecolor\":\"white\",\"showbackground\":true,\"ticks\":\"\",\"zerolinecolor\":\"white\"},\"yaxis\":{\"backgroundcolor\":\"#E5ECF6\",\"gridcolor\":\"white\",\"gridwidth\":2,\"linecolor\":\"white\",\"showbackground\":true,\"ticks\":\"\",\"zerolinecolor\":\"white\"},\"zaxis\":{\"backgroundcolor\":\"#E5ECF6\",\"gridcolor\":\"white\",\"gridwidth\":2,\"linecolor\":\"white\",\"showbackground\":true,\"ticks\":\"\",\"zerolinecolor\":\"white\"}},\"shapedefaults\":{\"line\":{\"color\":\"#2a3f5f\"}},\"ternary\":{\"aaxis\":{\"gridcolor\":\"white\",\"linecolor\":\"white\",\"ticks\":\"\"},\"baxis\":{\"gridcolor\":\"white\",\"linecolor\":\"white\",\"ticks\":\"\"},\"bgcolor\":\"#E5ECF6\",\"caxis\":{\"gridcolor\":\"white\",\"linecolor\":\"white\",\"ticks\":\"\"}},\"title\":{\"x\":0.05},\"xaxis\":{\"automargin\":true,\"gridcolor\":\"white\",\"linecolor\":\"white\",\"ticks\":\"\",\"title\":{\"standoff\":15},\"zerolinecolor\":\"white\",\"zerolinewidth\":2},\"yaxis\":{\"automargin\":true,\"gridcolor\":\"white\",\"linecolor\":\"white\",\"ticks\":\"\",\"title\":{\"standoff\":15},\"zerolinecolor\":\"white\",\"zerolinewidth\":2}}},\"title\":{\"font\":{\"color\":\"#4D5663\"}},\"xaxis\":{\"gridcolor\":\"#E1E5ED\",\"showgrid\":true,\"tickfont\":{\"color\":\"#4D5663\"},\"title\":{\"font\":{\"color\":\"#4D5663\"},\"text\":\"\"},\"zerolinecolor\":\"#E1E5ED\"},\"yaxis\":{\"gridcolor\":\"#E1E5ED\",\"showgrid\":true,\"tickfont\":{\"color\":\"#4D5663\"},\"title\":{\"font\":{\"color\":\"#4D5663\"},\"text\":\"\"},\"zerolinecolor\":\"#E1E5ED\"}},                        {\"showLink\": true, \"linkText\": \"Export to plot.ly\", \"plotlyServerURL\": \"https://plot.ly\", \"responsive\": true}                    ).then(function(){\n",
       "                            \n",
       "var gd = document.getElementById('16c35a82-492f-4711-85dc-f8b0ec4a9aeb');\n",
       "var x = new MutationObserver(function (mutations, observer) {{\n",
       "        var display = window.getComputedStyle(gd).display;\n",
       "        if (!display || display === 'none') {{\n",
       "            console.log([gd, 'removed!']);\n",
       "            Plotly.purge(gd);\n",
       "            observer.disconnect();\n",
       "        }}\n",
       "}});\n",
       "\n",
       "// Listen for the removal of the full notebook cells\n",
       "var notebookContainer = gd.closest('#notebook-container');\n",
       "if (notebookContainer) {{\n",
       "    x.observe(notebookContainer, {childList: true});\n",
       "}}\n",
       "\n",
       "// Listen for the clearing of the current output cell\n",
       "var outputEl = gd.closest('.output');\n",
       "if (outputEl) {{\n",
       "    x.observe(outputEl, {childList: true});\n",
       "}}\n",
       "\n",
       "                        })                };                });            </script>        </div>"
      ]
     },
     "metadata": {},
     "output_type": "display_data"
    }
   ],
   "source": [
    "df.iplot(kind='hist')\n",
    "#turn on and off to get information of various columns"
   ]
  },
  {
   "cell_type": "code",
   "execution_count": 44,
   "metadata": {},
   "outputs": [
    {
     "name": "stderr",
     "output_type": "stream",
     "text": [
      "C:\\Users\\shahz\\anaconda3\\lib\\site-packages\\cufflinks\\plotlytools.py:849: FutureWarning:\n",
      "\n",
      "The pandas.np module is deprecated and will be removed from pandas in a future version. Import numpy directly instead\n",
      "\n",
      "C:\\Users\\shahz\\anaconda3\\lib\\site-packages\\cufflinks\\plotlytools.py:850: FutureWarning:\n",
      "\n",
      "The pandas.np module is deprecated and will be removed from pandas in a future version. Import numpy directly instead\n",
      "\n"
     ]
    },
    {
     "data": {
      "application/vnd.plotly.v1+json": {
       "config": {
        "linkText": "Export to plot.ly",
        "plotlyServerURL": "https://plot.ly",
        "showLink": true
       },
       "data": [
        {
         "line": {
          "color": "rgba(255, 153, 51, 1.0)",
          "dash": "solid",
          "shape": "linear",
          "width": 1.3
         },
         "mode": "lines",
         "name": "A",
         "text": "",
         "type": "scatter",
         "x": [
          0,
          1,
          2,
          3,
          4,
          5,
          6,
          7,
          8,
          9,
          10,
          11,
          12,
          13,
          14,
          15,
          16,
          17,
          18,
          19,
          20,
          21,
          22,
          23,
          24,
          25,
          26,
          27,
          28,
          29,
          30,
          31,
          32,
          33,
          34,
          35,
          36,
          37,
          38,
          39,
          40,
          41,
          42,
          43,
          44,
          45,
          46,
          47,
          48,
          49,
          50,
          51,
          52,
          53,
          54,
          55,
          56,
          57,
          58,
          59,
          60,
          61,
          62,
          63,
          64,
          65,
          66,
          67,
          68,
          69,
          70,
          71,
          72,
          73,
          74,
          75,
          76,
          77,
          78,
          79,
          80,
          81,
          82,
          83,
          84,
          85,
          86,
          87,
          88,
          89,
          90,
          91,
          92,
          93,
          94,
          95,
          96,
          97,
          98,
          99
         ],
         "y": [
          -1.7551052678663162,
          0.3844705852588308,
          -2.036235857734799,
          -0.4777192690016541,
          1.4543579926789922,
          -0.09237757661484672,
          0.6119764070206649,
          1.2237887733721426,
          -1.7337095285419843,
          -0.09984401561568264,
          -0.4649631618162517,
          0.9998649026069217,
          -0.6943268284110494,
          -0.72841097667062,
          -0.4417144240902041,
          -0.004464788666717921,
          0.07531256094745666,
          0.819040457639244,
          -0.4567053715819427,
          -0.5963208419744218,
          0.20953116501771618,
          -0.6853725302321193,
          -0.4001354564558299,
          0.6480780792891775,
          0.21240416189485206,
          0.14312795229648412,
          1.4393143026131452,
          0.7837815407286436,
          0.7467555023995134,
          0.29599035733768936,
          -0.7218712504422361,
          -1.25193389495634,
          0.03611354174396783,
          -0.03200300201512434,
          -1.1826084205945602,
          -1.4446328395682333,
          -0.04401236980398926,
          1.148871152117295,
          -0.14011474199688925,
          0.06115179255331545,
          0.868403061018585,
          0.5428333970190617,
          2.023958447325256,
          1.298799841292337,
          0.3078105580800464,
          0.6071874163245976,
          0.8972500697072223,
          -0.9315584354567149,
          0.17846500752828248,
          0.4284783757579867,
          -1.2333721181585848,
          -0.5601363807245684,
          0.09472304319338498,
          1.778688134912088,
          -1.8021319258488775,
          -0.7791449714553991,
          -0.5839473586620774,
          -0.7253804597334422,
          -0.9232769368882936,
          -0.6139384413256993,
          -0.06283253701103511,
          -0.9172264457972898,
          1.274365195722724,
          -0.23411960543441399,
          -0.8057448573292509,
          0.7054532319615852,
          -1.1036282271372015,
          0.6513618183801033,
          1.6919479921315315,
          2.0298722949294987,
          -0.7413914397119926,
          1.6472076306959016,
          0.6975377328009644,
          -2.5744066196418682,
          -1.1618031599466374,
          1.191995297707877,
          0.3357604375348084,
          0.528360105058137,
          -2.426809770915547,
          -1.4970050996342303,
          0.5012670828793494,
          -0.4144372147571527,
          -1.5032345584573734,
          -0.5645262794150616,
          0.9074324916191596,
          0.5291147311047883,
          1.27378422165143,
          0.8144032756088596,
          0.22763909553884226,
          0.04666463041197144,
          -0.2909034169358753,
          1.2439472755893324,
          -0.5030014312921158,
          -2.04618571072768,
          -1.9776242737576282,
          -0.7784135744681734,
          -0.43542356262032955,
          0.3511218761609181,
          0.6690302299966587,
          -2.937691978255148
         ]
        },
        {
         "line": {
          "color": "rgba(55, 128, 191, 1.0)",
          "dash": "solid",
          "shape": "linear",
          "width": 1.3
         },
         "mode": "lines",
         "name": "B",
         "text": "",
         "type": "scatter",
         "x": [
          0,
          1,
          2,
          3,
          4,
          5,
          6,
          7,
          8,
          9,
          10,
          11,
          12,
          13,
          14,
          15,
          16,
          17,
          18,
          19,
          20,
          21,
          22,
          23,
          24,
          25,
          26,
          27,
          28,
          29,
          30,
          31,
          32,
          33,
          34,
          35,
          36,
          37,
          38,
          39,
          40,
          41,
          42,
          43,
          44,
          45,
          46,
          47,
          48,
          49,
          50,
          51,
          52,
          53,
          54,
          55,
          56,
          57,
          58,
          59,
          60,
          61,
          62,
          63,
          64,
          65,
          66,
          67,
          68,
          69,
          70,
          71,
          72,
          73,
          74,
          75,
          76,
          77,
          78,
          79,
          80,
          81,
          82,
          83,
          84,
          85,
          86,
          87,
          88,
          89,
          90,
          91,
          92,
          93,
          94,
          95,
          96,
          97,
          98,
          99
         ],
         "y": [
          0.4382592167411095,
          -0.6309961348420734,
          -0.0395311262178848,
          -0.31428373652841174,
          -1.0100162848027445,
          0.3935453506068354,
          -1.1208413794066048,
          -0.48057193451665925,
          0.07553530507313684,
          -1.732193450923254,
          -0.18194479104436243,
          -1.2768988483331727,
          -0.9010984722462253,
          -0.04831591513783132,
          1.017334361674233,
          2.0659548342501,
          -1.3257645889148622,
          1.1439743874680193,
          -0.5955125539431376,
          1.5396128052705145,
          -0.3056876386133438,
          -0.3877195935848514,
          -0.26289468030335533,
          0.8933171597993632,
          0.28295230371184565,
          -2.0381890153955404,
          -0.8598396093738542,
          -1.6518707199339169,
          1.315608649571582,
          -1.1411519377453063,
          -1.1360395440453932,
          -1.7772226648265301,
          0.9650122260771038,
          1.1487983813941074,
          0.6236448087340094,
          0.23376375669016658,
          0.6124046327547832,
          1.438466886570016,
          -1.2648382819818582,
          -0.18510973962669178,
          -0.6786077887679473,
          -0.664905423820725,
          -0.46612759720887575,
          -0.750935532586305,
          0.7553429312716934,
          -0.974797806662005,
          1.0791958284105596,
          -1.4647682070265706,
          -1.131758714727324,
          0.3584005296774685,
          -2.618621262491332,
          0.22598540427059874,
          -0.11981462527459533,
          1.4990841490508868,
          -0.20774363409278152,
          0.6976938911487156,
          -0.6330586023195791,
          1.6187904142539622,
          1.282338045791857,
          0.0802792937980838,
          -0.5108597070798586,
          0.12905133080909542,
          0.3449053470374282,
          0.0766504080888916,
          -1.515901853753896,
          1.553054792584085,
          0.08897000243510644,
          -1.0459050859726782,
          -0.39902139781521845,
          1.2555188182347081,
          -2.0145418672522446,
          -0.27008247237976113,
          0.4903043952555374,
          2.214217040668718,
          -0.36536702022485823,
          -0.9829776507777322,
          -0.1469357916605228,
          0.5679188818392001,
          1.529413014699103,
          -0.3276547721051137,
          -1.0423677573212309,
          0.811616799365819,
          -1.3316013120176349,
          -1.8682578918247865,
          0.9497852481964191,
          -0.48074134536630314,
          -0.4481668902136482,
          -0.4874510603514809,
          0.8886789746157747,
          -0.8885847644458682,
          -0.6885045336406496,
          1.589358536547224,
          -0.6758365158912941,
          -0.40969212660536275,
          0.6746415974540376,
          1.1271460223680927,
          -1.6450552325643122,
          0.12158090294215941,
          1.0007876253334738,
          -1.256378892090455
         ]
        },
        {
         "connectgaps": false,
         "fill": "tozeroy",
         "line": {
          "color": "green",
          "dash": "solid",
          "shape": "linear",
          "width": 0.5
         },
         "mode": "lines",
         "name": "Spread",
         "showlegend": false,
         "type": "scatter",
         "x": [
          0,
          1,
          2,
          3,
          4,
          5,
          6,
          7,
          8,
          9,
          10,
          11,
          12,
          13,
          14,
          15,
          16,
          17,
          18,
          19,
          20,
          21,
          22,
          23,
          24,
          25,
          26,
          27,
          28,
          29,
          30,
          31,
          32,
          33,
          34,
          35,
          36,
          37,
          38,
          39,
          40,
          41,
          42,
          43,
          44,
          45,
          46,
          47,
          48,
          49,
          50,
          51,
          52,
          53,
          54,
          55,
          56,
          57,
          58,
          59,
          60,
          61,
          62,
          63,
          64,
          65,
          66,
          67,
          68,
          69,
          70,
          71,
          72,
          73,
          74,
          75,
          76,
          77,
          78,
          79,
          80,
          81,
          82,
          83,
          84,
          85,
          86,
          87,
          88,
          89,
          90,
          91,
          92,
          93,
          94,
          95,
          96,
          97,
          98,
          99
         ],
         "xaxis": "x2",
         "y": [
          "",
          1.0154667201009042,
          "",
          "",
          2.4643742774817365,
          "",
          1.7328177864272698,
          1.704360707888802,
          "",
          1.6323494353075714,
          "",
          2.2767637509400944,
          0.20677164383517588,
          "",
          "",
          "",
          1.401077149862319,
          "",
          0.13880718236119494,
          "",
          0.51521880363106,
          "",
          "",
          "",
          "",
          2.1813169676920245,
          2.2991539119869993,
          2.4356522606625606,
          "",
          1.4371422950829957,
          0.4141682936031571,
          0.52528876987019,
          "",
          "",
          "",
          "",
          "",
          "",
          1.1247235399849689,
          0.24626153218000724,
          1.5470108497865322,
          1.2077388208397868,
          2.4900860445341317,
          2.049735373878642,
          "",
          1.5819852229866025,
          "",
          0.5332097715698557,
          1.3102237222556066,
          0.0700778460805182,
          1.385249144332747,
          "",
          0.2145376684679803,
          0.27960398586120117,
          "",
          "",
          0.049111243657501746,
          "",
          "",
          "",
          0.44802717006882353,
          "",
          0.9294598486852959,
          "",
          0.710156996424645,
          "",
          "",
          1.6972669043527815,
          2.09096938994675,
          0.7743534766947906,
          1.2731504275402519,
          1.9172901030756626,
          0.20723333754542705,
          "",
          "",
          2.174972948485609,
          0.4826962291953312,
          "",
          "",
          "",
          1.5436348402005802,
          "",
          "",
          1.303731612409725,
          "",
          1.0098560764710915,
          1.721951111865078,
          1.3018543359603405,
          "",
          0.9352493948578396,
          0.39760111670477427,
          "",
          0.1728350845991783,
          "",
          "",
          "",
          1.2096316699439826,
          0.22954097321875871,
          "",
          ""
         ],
         "yaxis": "y2"
        },
        {
         "connectgaps": false,
         "fill": "tozeroy",
         "line": {
          "color": "red",
          "dash": "solid",
          "shape": "linear",
          "width": 0.5
         },
         "mode": "lines",
         "name": "Spread",
         "showlegend": false,
         "type": "scatter",
         "x": [
          0,
          1,
          2,
          3,
          4,
          5,
          6,
          7,
          8,
          9,
          10,
          11,
          12,
          13,
          14,
          15,
          16,
          17,
          18,
          19,
          20,
          21,
          22,
          23,
          24,
          25,
          26,
          27,
          28,
          29,
          30,
          31,
          32,
          33,
          34,
          35,
          36,
          37,
          38,
          39,
          40,
          41,
          42,
          43,
          44,
          45,
          46,
          47,
          48,
          49,
          50,
          51,
          52,
          53,
          54,
          55,
          56,
          57,
          58,
          59,
          60,
          61,
          62,
          63,
          64,
          65,
          66,
          67,
          68,
          69,
          70,
          71,
          72,
          73,
          74,
          75,
          76,
          77,
          78,
          79,
          80,
          81,
          82,
          83,
          84,
          85,
          86,
          87,
          88,
          89,
          90,
          91,
          92,
          93,
          94,
          95,
          96,
          97,
          98,
          99
         ],
         "xaxis": "x2",
         "y": [
          -2.1933644846074256,
          "",
          -1.9967047315169144,
          -0.16343553247324238,
          "",
          -0.48592292722168207,
          "",
          "",
          -1.8092448336151212,
          "",
          -0.2830183707718893,
          "",
          "",
          -0.6800950615327888,
          -1.4590487857644372,
          -2.070419622916818,
          "",
          -0.3249339298287752,
          "",
          -2.1359336472449364,
          "",
          -0.2976529366472679,
          -0.13724077615247454,
          -0.24523908051018573,
          -0.07054814181699359,
          "",
          "",
          "",
          -0.5688531471720686,
          "",
          "",
          "",
          -0.9288986843331359,
          -1.1808013834092317,
          -1.8062532293285696,
          -1.6783965962583998,
          -0.6564170025587724,
          -0.28959573445272113,
          "",
          "",
          "",
          "",
          "",
          "",
          -0.44753237319164696,
          "",
          -0.1819457587033373,
          "",
          "",
          "",
          "",
          -0.7861217849951672,
          "",
          "",
          -1.594388291756096,
          -1.4768388626041147,
          "",
          -2.3441708739874043,
          -2.2056149826801503,
          -0.694217735123783,
          "",
          -1.0462777766063853,
          "",
          -0.3107700135233056,
          "",
          -0.8476015606224998,
          -1.192598229572308,
          "",
          "",
          "",
          "",
          "",
          "",
          -4.788623660310586,
          -0.7964361397217792,
          "",
          "",
          -0.03955877678106312,
          -3.95622278561465,
          -1.1693503275291166,
          "",
          -1.2260540141229717,
          -0.17163324643973854,
          "",
          -0.042352756577259454,
          "",
          "",
          "",
          -0.6610398790769325,
          "",
          "",
          -0.34541126095789165,
          "",
          -1.6364935841223174,
          -2.652265871211666,
          -1.905559596836266,
          "",
          "",
          -0.33175739533681503,
          -1.681313086164693
         ],
         "yaxis": "y2"
        }
       ],
       "layout": {
        "hovermode": "x",
        "legend": {
         "bgcolor": "#F5F6F9",
         "font": {
          "color": "#4D5663"
         }
        },
        "paper_bgcolor": "#F5F6F9",
        "plot_bgcolor": "#F5F6F9",
        "template": {
         "data": {
          "bar": [
           {
            "error_x": {
             "color": "#2a3f5f"
            },
            "error_y": {
             "color": "#2a3f5f"
            },
            "marker": {
             "line": {
              "color": "#E5ECF6",
              "width": 0.5
             },
             "pattern": {
              "fillmode": "overlay",
              "size": 10,
              "solidity": 0.2
             }
            },
            "type": "bar"
           }
          ],
          "barpolar": [
           {
            "marker": {
             "line": {
              "color": "#E5ECF6",
              "width": 0.5
             },
             "pattern": {
              "fillmode": "overlay",
              "size": 10,
              "solidity": 0.2
             }
            },
            "type": "barpolar"
           }
          ],
          "carpet": [
           {
            "aaxis": {
             "endlinecolor": "#2a3f5f",
             "gridcolor": "white",
             "linecolor": "white",
             "minorgridcolor": "white",
             "startlinecolor": "#2a3f5f"
            },
            "baxis": {
             "endlinecolor": "#2a3f5f",
             "gridcolor": "white",
             "linecolor": "white",
             "minorgridcolor": "white",
             "startlinecolor": "#2a3f5f"
            },
            "type": "carpet"
           }
          ],
          "choropleth": [
           {
            "colorbar": {
             "outlinewidth": 0,
             "ticks": ""
            },
            "type": "choropleth"
           }
          ],
          "contour": [
           {
            "colorbar": {
             "outlinewidth": 0,
             "ticks": ""
            },
            "colorscale": [
             [
              0,
              "#0d0887"
             ],
             [
              0.1111111111111111,
              "#46039f"
             ],
             [
              0.2222222222222222,
              "#7201a8"
             ],
             [
              0.3333333333333333,
              "#9c179e"
             ],
             [
              0.4444444444444444,
              "#bd3786"
             ],
             [
              0.5555555555555556,
              "#d8576b"
             ],
             [
              0.6666666666666666,
              "#ed7953"
             ],
             [
              0.7777777777777778,
              "#fb9f3a"
             ],
             [
              0.8888888888888888,
              "#fdca26"
             ],
             [
              1,
              "#f0f921"
             ]
            ],
            "type": "contour"
           }
          ],
          "contourcarpet": [
           {
            "colorbar": {
             "outlinewidth": 0,
             "ticks": ""
            },
            "type": "contourcarpet"
           }
          ],
          "heatmap": [
           {
            "colorbar": {
             "outlinewidth": 0,
             "ticks": ""
            },
            "colorscale": [
             [
              0,
              "#0d0887"
             ],
             [
              0.1111111111111111,
              "#46039f"
             ],
             [
              0.2222222222222222,
              "#7201a8"
             ],
             [
              0.3333333333333333,
              "#9c179e"
             ],
             [
              0.4444444444444444,
              "#bd3786"
             ],
             [
              0.5555555555555556,
              "#d8576b"
             ],
             [
              0.6666666666666666,
              "#ed7953"
             ],
             [
              0.7777777777777778,
              "#fb9f3a"
             ],
             [
              0.8888888888888888,
              "#fdca26"
             ],
             [
              1,
              "#f0f921"
             ]
            ],
            "type": "heatmap"
           }
          ],
          "heatmapgl": [
           {
            "colorbar": {
             "outlinewidth": 0,
             "ticks": ""
            },
            "colorscale": [
             [
              0,
              "#0d0887"
             ],
             [
              0.1111111111111111,
              "#46039f"
             ],
             [
              0.2222222222222222,
              "#7201a8"
             ],
             [
              0.3333333333333333,
              "#9c179e"
             ],
             [
              0.4444444444444444,
              "#bd3786"
             ],
             [
              0.5555555555555556,
              "#d8576b"
             ],
             [
              0.6666666666666666,
              "#ed7953"
             ],
             [
              0.7777777777777778,
              "#fb9f3a"
             ],
             [
              0.8888888888888888,
              "#fdca26"
             ],
             [
              1,
              "#f0f921"
             ]
            ],
            "type": "heatmapgl"
           }
          ],
          "histogram": [
           {
            "marker": {
             "pattern": {
              "fillmode": "overlay",
              "size": 10,
              "solidity": 0.2
             }
            },
            "type": "histogram"
           }
          ],
          "histogram2d": [
           {
            "colorbar": {
             "outlinewidth": 0,
             "ticks": ""
            },
            "colorscale": [
             [
              0,
              "#0d0887"
             ],
             [
              0.1111111111111111,
              "#46039f"
             ],
             [
              0.2222222222222222,
              "#7201a8"
             ],
             [
              0.3333333333333333,
              "#9c179e"
             ],
             [
              0.4444444444444444,
              "#bd3786"
             ],
             [
              0.5555555555555556,
              "#d8576b"
             ],
             [
              0.6666666666666666,
              "#ed7953"
             ],
             [
              0.7777777777777778,
              "#fb9f3a"
             ],
             [
              0.8888888888888888,
              "#fdca26"
             ],
             [
              1,
              "#f0f921"
             ]
            ],
            "type": "histogram2d"
           }
          ],
          "histogram2dcontour": [
           {
            "colorbar": {
             "outlinewidth": 0,
             "ticks": ""
            },
            "colorscale": [
             [
              0,
              "#0d0887"
             ],
             [
              0.1111111111111111,
              "#46039f"
             ],
             [
              0.2222222222222222,
              "#7201a8"
             ],
             [
              0.3333333333333333,
              "#9c179e"
             ],
             [
              0.4444444444444444,
              "#bd3786"
             ],
             [
              0.5555555555555556,
              "#d8576b"
             ],
             [
              0.6666666666666666,
              "#ed7953"
             ],
             [
              0.7777777777777778,
              "#fb9f3a"
             ],
             [
              0.8888888888888888,
              "#fdca26"
             ],
             [
              1,
              "#f0f921"
             ]
            ],
            "type": "histogram2dcontour"
           }
          ],
          "mesh3d": [
           {
            "colorbar": {
             "outlinewidth": 0,
             "ticks": ""
            },
            "type": "mesh3d"
           }
          ],
          "parcoords": [
           {
            "line": {
             "colorbar": {
              "outlinewidth": 0,
              "ticks": ""
             }
            },
            "type": "parcoords"
           }
          ],
          "pie": [
           {
            "automargin": true,
            "type": "pie"
           }
          ],
          "scatter": [
           {
            "fillpattern": {
             "fillmode": "overlay",
             "size": 10,
             "solidity": 0.2
            },
            "type": "scatter"
           }
          ],
          "scatter3d": [
           {
            "line": {
             "colorbar": {
              "outlinewidth": 0,
              "ticks": ""
             }
            },
            "marker": {
             "colorbar": {
              "outlinewidth": 0,
              "ticks": ""
             }
            },
            "type": "scatter3d"
           }
          ],
          "scattercarpet": [
           {
            "marker": {
             "colorbar": {
              "outlinewidth": 0,
              "ticks": ""
             }
            },
            "type": "scattercarpet"
           }
          ],
          "scattergeo": [
           {
            "marker": {
             "colorbar": {
              "outlinewidth": 0,
              "ticks": ""
             }
            },
            "type": "scattergeo"
           }
          ],
          "scattergl": [
           {
            "marker": {
             "colorbar": {
              "outlinewidth": 0,
              "ticks": ""
             }
            },
            "type": "scattergl"
           }
          ],
          "scattermapbox": [
           {
            "marker": {
             "colorbar": {
              "outlinewidth": 0,
              "ticks": ""
             }
            },
            "type": "scattermapbox"
           }
          ],
          "scatterpolar": [
           {
            "marker": {
             "colorbar": {
              "outlinewidth": 0,
              "ticks": ""
             }
            },
            "type": "scatterpolar"
           }
          ],
          "scatterpolargl": [
           {
            "marker": {
             "colorbar": {
              "outlinewidth": 0,
              "ticks": ""
             }
            },
            "type": "scatterpolargl"
           }
          ],
          "scatterternary": [
           {
            "marker": {
             "colorbar": {
              "outlinewidth": 0,
              "ticks": ""
             }
            },
            "type": "scatterternary"
           }
          ],
          "surface": [
           {
            "colorbar": {
             "outlinewidth": 0,
             "ticks": ""
            },
            "colorscale": [
             [
              0,
              "#0d0887"
             ],
             [
              0.1111111111111111,
              "#46039f"
             ],
             [
              0.2222222222222222,
              "#7201a8"
             ],
             [
              0.3333333333333333,
              "#9c179e"
             ],
             [
              0.4444444444444444,
              "#bd3786"
             ],
             [
              0.5555555555555556,
              "#d8576b"
             ],
             [
              0.6666666666666666,
              "#ed7953"
             ],
             [
              0.7777777777777778,
              "#fb9f3a"
             ],
             [
              0.8888888888888888,
              "#fdca26"
             ],
             [
              1,
              "#f0f921"
             ]
            ],
            "type": "surface"
           }
          ],
          "table": [
           {
            "cells": {
             "fill": {
              "color": "#EBF0F8"
             },
             "line": {
              "color": "white"
             }
            },
            "header": {
             "fill": {
              "color": "#C8D4E3"
             },
             "line": {
              "color": "white"
             }
            },
            "type": "table"
           }
          ]
         },
         "layout": {
          "annotationdefaults": {
           "arrowcolor": "#2a3f5f",
           "arrowhead": 0,
           "arrowwidth": 1
          },
          "autotypenumbers": "strict",
          "coloraxis": {
           "colorbar": {
            "outlinewidth": 0,
            "ticks": ""
           }
          },
          "colorscale": {
           "diverging": [
            [
             0,
             "#8e0152"
            ],
            [
             0.1,
             "#c51b7d"
            ],
            [
             0.2,
             "#de77ae"
            ],
            [
             0.3,
             "#f1b6da"
            ],
            [
             0.4,
             "#fde0ef"
            ],
            [
             0.5,
             "#f7f7f7"
            ],
            [
             0.6,
             "#e6f5d0"
            ],
            [
             0.7,
             "#b8e186"
            ],
            [
             0.8,
             "#7fbc41"
            ],
            [
             0.9,
             "#4d9221"
            ],
            [
             1,
             "#276419"
            ]
           ],
           "sequential": [
            [
             0,
             "#0d0887"
            ],
            [
             0.1111111111111111,
             "#46039f"
            ],
            [
             0.2222222222222222,
             "#7201a8"
            ],
            [
             0.3333333333333333,
             "#9c179e"
            ],
            [
             0.4444444444444444,
             "#bd3786"
            ],
            [
             0.5555555555555556,
             "#d8576b"
            ],
            [
             0.6666666666666666,
             "#ed7953"
            ],
            [
             0.7777777777777778,
             "#fb9f3a"
            ],
            [
             0.8888888888888888,
             "#fdca26"
            ],
            [
             1,
             "#f0f921"
            ]
           ],
           "sequentialminus": [
            [
             0,
             "#0d0887"
            ],
            [
             0.1111111111111111,
             "#46039f"
            ],
            [
             0.2222222222222222,
             "#7201a8"
            ],
            [
             0.3333333333333333,
             "#9c179e"
            ],
            [
             0.4444444444444444,
             "#bd3786"
            ],
            [
             0.5555555555555556,
             "#d8576b"
            ],
            [
             0.6666666666666666,
             "#ed7953"
            ],
            [
             0.7777777777777778,
             "#fb9f3a"
            ],
            [
             0.8888888888888888,
             "#fdca26"
            ],
            [
             1,
             "#f0f921"
            ]
           ]
          },
          "colorway": [
           "#636efa",
           "#EF553B",
           "#00cc96",
           "#ab63fa",
           "#FFA15A",
           "#19d3f3",
           "#FF6692",
           "#B6E880",
           "#FF97FF",
           "#FECB52"
          ],
          "font": {
           "color": "#2a3f5f"
          },
          "geo": {
           "bgcolor": "white",
           "lakecolor": "white",
           "landcolor": "#E5ECF6",
           "showlakes": true,
           "showland": true,
           "subunitcolor": "white"
          },
          "hoverlabel": {
           "align": "left"
          },
          "hovermode": "closest",
          "mapbox": {
           "style": "light"
          },
          "paper_bgcolor": "white",
          "plot_bgcolor": "#E5ECF6",
          "polar": {
           "angularaxis": {
            "gridcolor": "white",
            "linecolor": "white",
            "ticks": ""
           },
           "bgcolor": "#E5ECF6",
           "radialaxis": {
            "gridcolor": "white",
            "linecolor": "white",
            "ticks": ""
           }
          },
          "scene": {
           "xaxis": {
            "backgroundcolor": "#E5ECF6",
            "gridcolor": "white",
            "gridwidth": 2,
            "linecolor": "white",
            "showbackground": true,
            "ticks": "",
            "zerolinecolor": "white"
           },
           "yaxis": {
            "backgroundcolor": "#E5ECF6",
            "gridcolor": "white",
            "gridwidth": 2,
            "linecolor": "white",
            "showbackground": true,
            "ticks": "",
            "zerolinecolor": "white"
           },
           "zaxis": {
            "backgroundcolor": "#E5ECF6",
            "gridcolor": "white",
            "gridwidth": 2,
            "linecolor": "white",
            "showbackground": true,
            "ticks": "",
            "zerolinecolor": "white"
           }
          },
          "shapedefaults": {
           "line": {
            "color": "#2a3f5f"
           }
          },
          "ternary": {
           "aaxis": {
            "gridcolor": "white",
            "linecolor": "white",
            "ticks": ""
           },
           "baxis": {
            "gridcolor": "white",
            "linecolor": "white",
            "ticks": ""
           },
           "bgcolor": "#E5ECF6",
           "caxis": {
            "gridcolor": "white",
            "linecolor": "white",
            "ticks": ""
           }
          },
          "title": {
           "x": 0.05
          },
          "xaxis": {
           "automargin": true,
           "gridcolor": "white",
           "linecolor": "white",
           "ticks": "",
           "title": {
            "standoff": 15
           },
           "zerolinecolor": "white",
           "zerolinewidth": 2
          },
          "yaxis": {
           "automargin": true,
           "gridcolor": "white",
           "linecolor": "white",
           "ticks": "",
           "title": {
            "standoff": 15
           },
           "zerolinecolor": "white",
           "zerolinewidth": 2
          }
         }
        },
        "title": {
         "font": {
          "color": "#4D5663"
         }
        },
        "xaxis": {
         "gridcolor": "#E1E5ED",
         "showgrid": true,
         "tickfont": {
          "color": "#4D5663"
         },
         "title": {
          "font": {
           "color": "#4D5663"
          },
          "text": ""
         },
         "zerolinecolor": "#E1E5ED"
        },
        "xaxis2": {
         "anchor": "y2",
         "gridcolor": "#E1E5ED",
         "showgrid": true,
         "showticklabels": false,
         "tickfont": {
          "color": "#4D5663"
         },
         "title": {
          "font": {
           "color": "#4D5663"
          },
          "text": ""
         },
         "zerolinecolor": "#E1E5ED"
        },
        "yaxis": {
         "domain": [
          0.3,
          1
         ],
         "gridcolor": "#E1E5ED",
         "showgrid": true,
         "tickfont": {
          "color": "#4D5663"
         },
         "title": {
          "font": {
           "color": "#4D5663"
          },
          "text": ""
         },
         "zerolinecolor": "#E1E5ED"
        },
        "yaxis2": {
         "domain": [
          0,
          0.25
         ],
         "gridcolor": "#E1E5ED",
         "showgrid": true,
         "tickfont": {
          "color": "#4D5663"
         },
         "title": {
          "font": {
           "color": "#4D5663"
          },
          "text": "Spread"
         },
         "zerolinecolor": "#E1E5ED"
        }
       }
      },
      "text/html": [
       "<div>                            <div id=\"37dd6c64-a9ee-4c02-bdc8-6c6be26ce073\" class=\"plotly-graph-div\" style=\"height:525px; width:100%;\"></div>            <script type=\"text/javascript\">                require([\"plotly\"], function(Plotly) {                    window.PLOTLYENV=window.PLOTLYENV || {};\n",
       "                    window.PLOTLYENV.BASE_URL='https://plot.ly';                                    if (document.getElementById(\"37dd6c64-a9ee-4c02-bdc8-6c6be26ce073\")) {                    Plotly.newPlot(                        \"37dd6c64-a9ee-4c02-bdc8-6c6be26ce073\",                        [{\"line\":{\"color\":\"rgba(255, 153, 51, 1.0)\",\"dash\":\"solid\",\"shape\":\"linear\",\"width\":1.3},\"mode\":\"lines\",\"name\":\"A\",\"text\":\"\",\"x\":[0,1,2,3,4,5,6,7,8,9,10,11,12,13,14,15,16,17,18,19,20,21,22,23,24,25,26,27,28,29,30,31,32,33,34,35,36,37,38,39,40,41,42,43,44,45,46,47,48,49,50,51,52,53,54,55,56,57,58,59,60,61,62,63,64,65,66,67,68,69,70,71,72,73,74,75,76,77,78,79,80,81,82,83,84,85,86,87,88,89,90,91,92,93,94,95,96,97,98,99],\"y\":[-1.7551052678663162,0.3844705852588308,-2.036235857734799,-0.4777192690016541,1.4543579926789922,-0.09237757661484672,0.6119764070206649,1.2237887733721426,-1.7337095285419843,-0.09984401561568264,-0.4649631618162517,0.9998649026069217,-0.6943268284110494,-0.72841097667062,-0.4417144240902041,-0.004464788666717921,0.07531256094745666,0.819040457639244,-0.4567053715819427,-0.5963208419744218,0.20953116501771618,-0.6853725302321193,-0.4001354564558299,0.6480780792891775,0.21240416189485206,0.14312795229648412,1.4393143026131452,0.7837815407286436,0.7467555023995134,0.29599035733768936,-0.7218712504422361,-1.25193389495634,0.03611354174396783,-0.03200300201512434,-1.1826084205945602,-1.4446328395682333,-0.04401236980398926,1.148871152117295,-0.14011474199688925,0.06115179255331545,0.868403061018585,0.5428333970190617,2.023958447325256,1.298799841292337,0.3078105580800464,0.6071874163245976,0.8972500697072223,-0.9315584354567149,0.17846500752828248,0.4284783757579867,-1.2333721181585848,-0.5601363807245684,0.09472304319338498,1.778688134912088,-1.8021319258488775,-0.7791449714553991,-0.5839473586620774,-0.7253804597334422,-0.9232769368882936,-0.6139384413256993,-0.06283253701103511,-0.9172264457972898,1.274365195722724,-0.23411960543441399,-0.8057448573292509,0.7054532319615852,-1.1036282271372015,0.6513618183801033,1.6919479921315315,2.0298722949294987,-0.7413914397119926,1.6472076306959016,0.6975377328009644,-2.5744066196418682,-1.1618031599466374,1.191995297707877,0.3357604375348084,0.528360105058137,-2.426809770915547,-1.4970050996342303,0.5012670828793494,-0.4144372147571527,-1.5032345584573734,-0.5645262794150616,0.9074324916191596,0.5291147311047883,1.27378422165143,0.8144032756088596,0.22763909553884226,0.04666463041197144,-0.2909034169358753,1.2439472755893324,-0.5030014312921158,-2.04618571072768,-1.9776242737576282,-0.7784135744681734,-0.43542356262032955,0.3511218761609181,0.6690302299966587,-2.937691978255148],\"type\":\"scatter\"},{\"line\":{\"color\":\"rgba(55, 128, 191, 1.0)\",\"dash\":\"solid\",\"shape\":\"linear\",\"width\":1.3},\"mode\":\"lines\",\"name\":\"B\",\"text\":\"\",\"x\":[0,1,2,3,4,5,6,7,8,9,10,11,12,13,14,15,16,17,18,19,20,21,22,23,24,25,26,27,28,29,30,31,32,33,34,35,36,37,38,39,40,41,42,43,44,45,46,47,48,49,50,51,52,53,54,55,56,57,58,59,60,61,62,63,64,65,66,67,68,69,70,71,72,73,74,75,76,77,78,79,80,81,82,83,84,85,86,87,88,89,90,91,92,93,94,95,96,97,98,99],\"y\":[0.4382592167411095,-0.6309961348420734,-0.0395311262178848,-0.31428373652841174,-1.0100162848027445,0.3935453506068354,-1.1208413794066048,-0.48057193451665925,0.07553530507313684,-1.732193450923254,-0.18194479104436243,-1.2768988483331727,-0.9010984722462253,-0.04831591513783132,1.017334361674233,2.0659548342501,-1.3257645889148622,1.1439743874680193,-0.5955125539431376,1.5396128052705145,-0.3056876386133438,-0.3877195935848514,-0.26289468030335533,0.8933171597993632,0.28295230371184565,-2.0381890153955404,-0.8598396093738542,-1.6518707199339169,1.315608649571582,-1.1411519377453063,-1.1360395440453932,-1.7772226648265301,0.9650122260771038,1.1487983813941074,0.6236448087340094,0.23376375669016658,0.6124046327547832,1.438466886570016,-1.2648382819818582,-0.18510973962669178,-0.6786077887679473,-0.664905423820725,-0.46612759720887575,-0.750935532586305,0.7553429312716934,-0.974797806662005,1.0791958284105596,-1.4647682070265706,-1.131758714727324,0.3584005296774685,-2.618621262491332,0.22598540427059874,-0.11981462527459533,1.4990841490508868,-0.20774363409278152,0.6976938911487156,-0.6330586023195791,1.6187904142539622,1.282338045791857,0.0802792937980838,-0.5108597070798586,0.12905133080909542,0.3449053470374282,0.0766504080888916,-1.515901853753896,1.553054792584085,0.08897000243510644,-1.0459050859726782,-0.39902139781521845,1.2555188182347081,-2.0145418672522446,-0.27008247237976113,0.4903043952555374,2.214217040668718,-0.36536702022485823,-0.9829776507777322,-0.1469357916605228,0.5679188818392001,1.529413014699103,-0.3276547721051137,-1.0423677573212309,0.811616799365819,-1.3316013120176349,-1.8682578918247865,0.9497852481964191,-0.48074134536630314,-0.4481668902136482,-0.4874510603514809,0.8886789746157747,-0.8885847644458682,-0.6885045336406496,1.589358536547224,-0.6758365158912941,-0.40969212660536275,0.6746415974540376,1.1271460223680927,-1.6450552325643122,0.12158090294215941,1.0007876253334738,-1.256378892090455],\"type\":\"scatter\"},{\"connectgaps\":false,\"fill\":\"tozeroy\",\"line\":{\"color\":\"green\",\"dash\":\"solid\",\"shape\":\"linear\",\"width\":0.5},\"mode\":\"lines\",\"name\":\"Spread\",\"showlegend\":false,\"x\":[0,1,2,3,4,5,6,7,8,9,10,11,12,13,14,15,16,17,18,19,20,21,22,23,24,25,26,27,28,29,30,31,32,33,34,35,36,37,38,39,40,41,42,43,44,45,46,47,48,49,50,51,52,53,54,55,56,57,58,59,60,61,62,63,64,65,66,67,68,69,70,71,72,73,74,75,76,77,78,79,80,81,82,83,84,85,86,87,88,89,90,91,92,93,94,95,96,97,98,99],\"xaxis\":\"x2\",\"y\":[\"\",1.0154667201009042,\"\",\"\",2.4643742774817365,\"\",1.7328177864272698,1.704360707888802,\"\",1.6323494353075714,\"\",2.2767637509400944,0.20677164383517588,\"\",\"\",\"\",1.401077149862319,\"\",0.13880718236119494,\"\",0.51521880363106,\"\",\"\",\"\",\"\",2.1813169676920245,2.2991539119869993,2.4356522606625606,\"\",1.4371422950829957,0.4141682936031571,0.52528876987019,\"\",\"\",\"\",\"\",\"\",\"\",1.1247235399849689,0.24626153218000724,1.5470108497865322,1.2077388208397868,2.4900860445341317,2.049735373878642,\"\",1.5819852229866025,\"\",0.5332097715698557,1.3102237222556066,0.0700778460805182,1.385249144332747,\"\",0.2145376684679803,0.27960398586120117,\"\",\"\",0.049111243657501746,\"\",\"\",\"\",0.44802717006882353,\"\",0.9294598486852959,\"\",0.710156996424645,\"\",\"\",1.6972669043527815,2.09096938994675,0.7743534766947906,1.2731504275402519,1.9172901030756626,0.20723333754542705,\"\",\"\",2.174972948485609,0.4826962291953312,\"\",\"\",\"\",1.5436348402005802,\"\",\"\",1.303731612409725,\"\",1.0098560764710915,1.721951111865078,1.3018543359603405,\"\",0.9352493948578396,0.39760111670477427,\"\",0.1728350845991783,\"\",\"\",\"\",1.2096316699439826,0.22954097321875871,\"\",\"\"],\"yaxis\":\"y2\",\"type\":\"scatter\"},{\"connectgaps\":false,\"fill\":\"tozeroy\",\"line\":{\"color\":\"red\",\"dash\":\"solid\",\"shape\":\"linear\",\"width\":0.5},\"mode\":\"lines\",\"name\":\"Spread\",\"showlegend\":false,\"x\":[0,1,2,3,4,5,6,7,8,9,10,11,12,13,14,15,16,17,18,19,20,21,22,23,24,25,26,27,28,29,30,31,32,33,34,35,36,37,38,39,40,41,42,43,44,45,46,47,48,49,50,51,52,53,54,55,56,57,58,59,60,61,62,63,64,65,66,67,68,69,70,71,72,73,74,75,76,77,78,79,80,81,82,83,84,85,86,87,88,89,90,91,92,93,94,95,96,97,98,99],\"xaxis\":\"x2\",\"y\":[-2.1933644846074256,\"\",-1.9967047315169144,-0.16343553247324238,\"\",-0.48592292722168207,\"\",\"\",-1.8092448336151212,\"\",-0.2830183707718893,\"\",\"\",-0.6800950615327888,-1.4590487857644372,-2.070419622916818,\"\",-0.3249339298287752,\"\",-2.1359336472449364,\"\",-0.2976529366472679,-0.13724077615247454,-0.24523908051018573,-0.07054814181699359,\"\",\"\",\"\",-0.5688531471720686,\"\",\"\",\"\",-0.9288986843331359,-1.1808013834092317,-1.8062532293285696,-1.6783965962583998,-0.6564170025587724,-0.28959573445272113,\"\",\"\",\"\",\"\",\"\",\"\",-0.44753237319164696,\"\",-0.1819457587033373,\"\",\"\",\"\",\"\",-0.7861217849951672,\"\",\"\",-1.594388291756096,-1.4768388626041147,\"\",-2.3441708739874043,-2.2056149826801503,-0.694217735123783,\"\",-1.0462777766063853,\"\",-0.3107700135233056,\"\",-0.8476015606224998,-1.192598229572308,\"\",\"\",\"\",\"\",\"\",\"\",-4.788623660310586,-0.7964361397217792,\"\",\"\",-0.03955877678106312,-3.95622278561465,-1.1693503275291166,\"\",-1.2260540141229717,-0.17163324643973854,\"\",-0.042352756577259454,\"\",\"\",\"\",-0.6610398790769325,\"\",\"\",-0.34541126095789165,\"\",-1.6364935841223174,-2.652265871211666,-1.905559596836266,\"\",\"\",-0.33175739533681503,-1.681313086164693],\"yaxis\":\"y2\",\"type\":\"scatter\"}],                        {\"hovermode\":\"x\",\"legend\":{\"bgcolor\":\"#F5F6F9\",\"font\":{\"color\":\"#4D5663\"}},\"paper_bgcolor\":\"#F5F6F9\",\"plot_bgcolor\":\"#F5F6F9\",\"template\":{\"data\":{\"barpolar\":[{\"marker\":{\"line\":{\"color\":\"#E5ECF6\",\"width\":0.5},\"pattern\":{\"fillmode\":\"overlay\",\"size\":10,\"solidity\":0.2}},\"type\":\"barpolar\"}],\"bar\":[{\"error_x\":{\"color\":\"#2a3f5f\"},\"error_y\":{\"color\":\"#2a3f5f\"},\"marker\":{\"line\":{\"color\":\"#E5ECF6\",\"width\":0.5},\"pattern\":{\"fillmode\":\"overlay\",\"size\":10,\"solidity\":0.2}},\"type\":\"bar\"}],\"carpet\":[{\"aaxis\":{\"endlinecolor\":\"#2a3f5f\",\"gridcolor\":\"white\",\"linecolor\":\"white\",\"minorgridcolor\":\"white\",\"startlinecolor\":\"#2a3f5f\"},\"baxis\":{\"endlinecolor\":\"#2a3f5f\",\"gridcolor\":\"white\",\"linecolor\":\"white\",\"minorgridcolor\":\"white\",\"startlinecolor\":\"#2a3f5f\"},\"type\":\"carpet\"}],\"choropleth\":[{\"colorbar\":{\"outlinewidth\":0,\"ticks\":\"\"},\"type\":\"choropleth\"}],\"contourcarpet\":[{\"colorbar\":{\"outlinewidth\":0,\"ticks\":\"\"},\"type\":\"contourcarpet\"}],\"contour\":[{\"colorbar\":{\"outlinewidth\":0,\"ticks\":\"\"},\"colorscale\":[[0.0,\"#0d0887\"],[0.1111111111111111,\"#46039f\"],[0.2222222222222222,\"#7201a8\"],[0.3333333333333333,\"#9c179e\"],[0.4444444444444444,\"#bd3786\"],[0.5555555555555556,\"#d8576b\"],[0.6666666666666666,\"#ed7953\"],[0.7777777777777778,\"#fb9f3a\"],[0.8888888888888888,\"#fdca26\"],[1.0,\"#f0f921\"]],\"type\":\"contour\"}],\"heatmapgl\":[{\"colorbar\":{\"outlinewidth\":0,\"ticks\":\"\"},\"colorscale\":[[0.0,\"#0d0887\"],[0.1111111111111111,\"#46039f\"],[0.2222222222222222,\"#7201a8\"],[0.3333333333333333,\"#9c179e\"],[0.4444444444444444,\"#bd3786\"],[0.5555555555555556,\"#d8576b\"],[0.6666666666666666,\"#ed7953\"],[0.7777777777777778,\"#fb9f3a\"],[0.8888888888888888,\"#fdca26\"],[1.0,\"#f0f921\"]],\"type\":\"heatmapgl\"}],\"heatmap\":[{\"colorbar\":{\"outlinewidth\":0,\"ticks\":\"\"},\"colorscale\":[[0.0,\"#0d0887\"],[0.1111111111111111,\"#46039f\"],[0.2222222222222222,\"#7201a8\"],[0.3333333333333333,\"#9c179e\"],[0.4444444444444444,\"#bd3786\"],[0.5555555555555556,\"#d8576b\"],[0.6666666666666666,\"#ed7953\"],[0.7777777777777778,\"#fb9f3a\"],[0.8888888888888888,\"#fdca26\"],[1.0,\"#f0f921\"]],\"type\":\"heatmap\"}],\"histogram2dcontour\":[{\"colorbar\":{\"outlinewidth\":0,\"ticks\":\"\"},\"colorscale\":[[0.0,\"#0d0887\"],[0.1111111111111111,\"#46039f\"],[0.2222222222222222,\"#7201a8\"],[0.3333333333333333,\"#9c179e\"],[0.4444444444444444,\"#bd3786\"],[0.5555555555555556,\"#d8576b\"],[0.6666666666666666,\"#ed7953\"],[0.7777777777777778,\"#fb9f3a\"],[0.8888888888888888,\"#fdca26\"],[1.0,\"#f0f921\"]],\"type\":\"histogram2dcontour\"}],\"histogram2d\":[{\"colorbar\":{\"outlinewidth\":0,\"ticks\":\"\"},\"colorscale\":[[0.0,\"#0d0887\"],[0.1111111111111111,\"#46039f\"],[0.2222222222222222,\"#7201a8\"],[0.3333333333333333,\"#9c179e\"],[0.4444444444444444,\"#bd3786\"],[0.5555555555555556,\"#d8576b\"],[0.6666666666666666,\"#ed7953\"],[0.7777777777777778,\"#fb9f3a\"],[0.8888888888888888,\"#fdca26\"],[1.0,\"#f0f921\"]],\"type\":\"histogram2d\"}],\"histogram\":[{\"marker\":{\"pattern\":{\"fillmode\":\"overlay\",\"size\":10,\"solidity\":0.2}},\"type\":\"histogram\"}],\"mesh3d\":[{\"colorbar\":{\"outlinewidth\":0,\"ticks\":\"\"},\"type\":\"mesh3d\"}],\"parcoords\":[{\"line\":{\"colorbar\":{\"outlinewidth\":0,\"ticks\":\"\"}},\"type\":\"parcoords\"}],\"pie\":[{\"automargin\":true,\"type\":\"pie\"}],\"scatter3d\":[{\"line\":{\"colorbar\":{\"outlinewidth\":0,\"ticks\":\"\"}},\"marker\":{\"colorbar\":{\"outlinewidth\":0,\"ticks\":\"\"}},\"type\":\"scatter3d\"}],\"scattercarpet\":[{\"marker\":{\"colorbar\":{\"outlinewidth\":0,\"ticks\":\"\"}},\"type\":\"scattercarpet\"}],\"scattergeo\":[{\"marker\":{\"colorbar\":{\"outlinewidth\":0,\"ticks\":\"\"}},\"type\":\"scattergeo\"}],\"scattergl\":[{\"marker\":{\"colorbar\":{\"outlinewidth\":0,\"ticks\":\"\"}},\"type\":\"scattergl\"}],\"scattermapbox\":[{\"marker\":{\"colorbar\":{\"outlinewidth\":0,\"ticks\":\"\"}},\"type\":\"scattermapbox\"}],\"scatterpolargl\":[{\"marker\":{\"colorbar\":{\"outlinewidth\":0,\"ticks\":\"\"}},\"type\":\"scatterpolargl\"}],\"scatterpolar\":[{\"marker\":{\"colorbar\":{\"outlinewidth\":0,\"ticks\":\"\"}},\"type\":\"scatterpolar\"}],\"scatter\":[{\"fillpattern\":{\"fillmode\":\"overlay\",\"size\":10,\"solidity\":0.2},\"type\":\"scatter\"}],\"scatterternary\":[{\"marker\":{\"colorbar\":{\"outlinewidth\":0,\"ticks\":\"\"}},\"type\":\"scatterternary\"}],\"surface\":[{\"colorbar\":{\"outlinewidth\":0,\"ticks\":\"\"},\"colorscale\":[[0.0,\"#0d0887\"],[0.1111111111111111,\"#46039f\"],[0.2222222222222222,\"#7201a8\"],[0.3333333333333333,\"#9c179e\"],[0.4444444444444444,\"#bd3786\"],[0.5555555555555556,\"#d8576b\"],[0.6666666666666666,\"#ed7953\"],[0.7777777777777778,\"#fb9f3a\"],[0.8888888888888888,\"#fdca26\"],[1.0,\"#f0f921\"]],\"type\":\"surface\"}],\"table\":[{\"cells\":{\"fill\":{\"color\":\"#EBF0F8\"},\"line\":{\"color\":\"white\"}},\"header\":{\"fill\":{\"color\":\"#C8D4E3\"},\"line\":{\"color\":\"white\"}},\"type\":\"table\"}]},\"layout\":{\"annotationdefaults\":{\"arrowcolor\":\"#2a3f5f\",\"arrowhead\":0,\"arrowwidth\":1},\"autotypenumbers\":\"strict\",\"coloraxis\":{\"colorbar\":{\"outlinewidth\":0,\"ticks\":\"\"}},\"colorscale\":{\"diverging\":[[0,\"#8e0152\"],[0.1,\"#c51b7d\"],[0.2,\"#de77ae\"],[0.3,\"#f1b6da\"],[0.4,\"#fde0ef\"],[0.5,\"#f7f7f7\"],[0.6,\"#e6f5d0\"],[0.7,\"#b8e186\"],[0.8,\"#7fbc41\"],[0.9,\"#4d9221\"],[1,\"#276419\"]],\"sequential\":[[0.0,\"#0d0887\"],[0.1111111111111111,\"#46039f\"],[0.2222222222222222,\"#7201a8\"],[0.3333333333333333,\"#9c179e\"],[0.4444444444444444,\"#bd3786\"],[0.5555555555555556,\"#d8576b\"],[0.6666666666666666,\"#ed7953\"],[0.7777777777777778,\"#fb9f3a\"],[0.8888888888888888,\"#fdca26\"],[1.0,\"#f0f921\"]],\"sequentialminus\":[[0.0,\"#0d0887\"],[0.1111111111111111,\"#46039f\"],[0.2222222222222222,\"#7201a8\"],[0.3333333333333333,\"#9c179e\"],[0.4444444444444444,\"#bd3786\"],[0.5555555555555556,\"#d8576b\"],[0.6666666666666666,\"#ed7953\"],[0.7777777777777778,\"#fb9f3a\"],[0.8888888888888888,\"#fdca26\"],[1.0,\"#f0f921\"]]},\"colorway\":[\"#636efa\",\"#EF553B\",\"#00cc96\",\"#ab63fa\",\"#FFA15A\",\"#19d3f3\",\"#FF6692\",\"#B6E880\",\"#FF97FF\",\"#FECB52\"],\"font\":{\"color\":\"#2a3f5f\"},\"geo\":{\"bgcolor\":\"white\",\"lakecolor\":\"white\",\"landcolor\":\"#E5ECF6\",\"showlakes\":true,\"showland\":true,\"subunitcolor\":\"white\"},\"hoverlabel\":{\"align\":\"left\"},\"hovermode\":\"closest\",\"mapbox\":{\"style\":\"light\"},\"paper_bgcolor\":\"white\",\"plot_bgcolor\":\"#E5ECF6\",\"polar\":{\"angularaxis\":{\"gridcolor\":\"white\",\"linecolor\":\"white\",\"ticks\":\"\"},\"bgcolor\":\"#E5ECF6\",\"radialaxis\":{\"gridcolor\":\"white\",\"linecolor\":\"white\",\"ticks\":\"\"}},\"scene\":{\"xaxis\":{\"backgroundcolor\":\"#E5ECF6\",\"gridcolor\":\"white\",\"gridwidth\":2,\"linecolor\":\"white\",\"showbackground\":true,\"ticks\":\"\",\"zerolinecolor\":\"white\"},\"yaxis\":{\"backgroundcolor\":\"#E5ECF6\",\"gridcolor\":\"white\",\"gridwidth\":2,\"linecolor\":\"white\",\"showbackground\":true,\"ticks\":\"\",\"zerolinecolor\":\"white\"},\"zaxis\":{\"backgroundcolor\":\"#E5ECF6\",\"gridcolor\":\"white\",\"gridwidth\":2,\"linecolor\":\"white\",\"showbackground\":true,\"ticks\":\"\",\"zerolinecolor\":\"white\"}},\"shapedefaults\":{\"line\":{\"color\":\"#2a3f5f\"}},\"ternary\":{\"aaxis\":{\"gridcolor\":\"white\",\"linecolor\":\"white\",\"ticks\":\"\"},\"baxis\":{\"gridcolor\":\"white\",\"linecolor\":\"white\",\"ticks\":\"\"},\"bgcolor\":\"#E5ECF6\",\"caxis\":{\"gridcolor\":\"white\",\"linecolor\":\"white\",\"ticks\":\"\"}},\"title\":{\"x\":0.05},\"xaxis\":{\"automargin\":true,\"gridcolor\":\"white\",\"linecolor\":\"white\",\"ticks\":\"\",\"title\":{\"standoff\":15},\"zerolinecolor\":\"white\",\"zerolinewidth\":2},\"yaxis\":{\"automargin\":true,\"gridcolor\":\"white\",\"linecolor\":\"white\",\"ticks\":\"\",\"title\":{\"standoff\":15},\"zerolinecolor\":\"white\",\"zerolinewidth\":2}}},\"title\":{\"font\":{\"color\":\"#4D5663\"}},\"xaxis\":{\"gridcolor\":\"#E1E5ED\",\"showgrid\":true,\"tickfont\":{\"color\":\"#4D5663\"},\"title\":{\"font\":{\"color\":\"#4D5663\"},\"text\":\"\"},\"zerolinecolor\":\"#E1E5ED\"},\"yaxis\":{\"domain\":[0.3,1],\"gridcolor\":\"#E1E5ED\",\"showgrid\":true,\"tickfont\":{\"color\":\"#4D5663\"},\"title\":{\"font\":{\"color\":\"#4D5663\"},\"text\":\"\"},\"zerolinecolor\":\"#E1E5ED\"},\"yaxis2\":{\"domain\":[0,0.25],\"gridcolor\":\"#E1E5ED\",\"showgrid\":true,\"tickfont\":{\"color\":\"#4D5663\"},\"title\":{\"font\":{\"color\":\"#4D5663\"},\"text\":\"Spread\"},\"zerolinecolor\":\"#E1E5ED\"},\"xaxis2\":{\"anchor\":\"y2\",\"gridcolor\":\"#E1E5ED\",\"showgrid\":true,\"showticklabels\":false,\"tickfont\":{\"color\":\"#4D5663\"},\"title\":{\"font\":{\"color\":\"#4D5663\"},\"text\":\"\"},\"zerolinecolor\":\"#E1E5ED\"}},                        {\"showLink\": true, \"linkText\": \"Export to plot.ly\", \"plotlyServerURL\": \"https://plot.ly\", \"responsive\": true}                    ).then(function(){\n",
       "                            \n",
       "var gd = document.getElementById('37dd6c64-a9ee-4c02-bdc8-6c6be26ce073');\n",
       "var x = new MutationObserver(function (mutations, observer) {{\n",
       "        var display = window.getComputedStyle(gd).display;\n",
       "        if (!display || display === 'none') {{\n",
       "            console.log([gd, 'removed!']);\n",
       "            Plotly.purge(gd);\n",
       "            observer.disconnect();\n",
       "        }}\n",
       "}});\n",
       "\n",
       "// Listen for the removal of the full notebook cells\n",
       "var notebookContainer = gd.closest('#notebook-container');\n",
       "if (notebookContainer) {{\n",
       "    x.observe(notebookContainer, {childList: true});\n",
       "}}\n",
       "\n",
       "// Listen for the clearing of the current output cell\n",
       "var outputEl = gd.closest('.output');\n",
       "if (outputEl) {{\n",
       "    x.observe(outputEl, {childList: true});\n",
       "}}\n",
       "\n",
       "                        })                };                });            </script>        </div>"
      ]
     },
     "metadata": {},
     "output_type": "display_data"
    }
   ],
   "source": [
    "df[['A','B']].iplot(kind='spread')"
   ]
  },
  {
   "cell_type": "code",
   "execution_count": 46,
   "metadata": {},
   "outputs": [
    {
     "data": {
      "application/vnd.plotly.v1+json": {
       "config": {
        "linkText": "Export to plot.ly",
        "plotlyServerURL": "https://plot.ly",
        "showLink": true
       },
       "data": [
        {
         "marker": {
          "color": [
           "rgb(255, 153, 51)",
           "rgb(55, 128, 191)",
           "rgb(50, 171, 96)",
           "rgb(128, 0, 128)",
           "rgb(219, 64, 82)",
           "rgb(0, 128, 128)",
           "rgb(255, 255, 51)",
           "rgb(128, 128, 0)",
           "rgb(251, 128, 114)",
           "rgb(128, 177, 211)"
          ],
          "line": {
           "width": 1.3
          },
          "size": [
           89,
           53,
           57,
           66,
           40,
           66,
           46,
           75,
           70,
           87,
           54,
           27,
           72,
           74,
           82,
           52,
           74,
           73,
           83,
           78,
           63,
           49,
           43,
           48,
           43,
           72,
           58,
           12,
           54,
           110,
           89,
           76,
           81,
           64,
           57,
           56,
           84,
           94,
           70,
           31,
           59,
           75,
           65,
           39,
           84,
           57,
           48,
           54,
           98,
           75,
           75,
           51,
           80,
           76,
           66,
           80,
           76,
           65,
           60,
           85,
           64,
           112,
           58,
           62,
           72,
           28,
           106,
           31,
           90,
           55,
           69,
           44,
           38,
           66,
           75,
           57,
           76,
           66,
           65,
           79,
           86,
           47,
           71,
           71,
           80,
           46,
           64,
           71,
           84,
           41,
           100,
           93,
           45,
           43,
           84,
           76,
           94,
           64,
           65,
           61
          ],
          "symbol": "circle"
         },
         "mode": "markers",
         "text": "",
         "type": "scatter",
         "x": [
          -1.7551052678663162,
          0.3844705852588308,
          -2.036235857734799,
          -0.4777192690016541,
          1.4543579926789922,
          -0.09237757661484672,
          0.6119764070206649,
          1.2237887733721426,
          -1.7337095285419843,
          -0.09984401561568264,
          -0.4649631618162517,
          0.9998649026069217,
          -0.6943268284110494,
          -0.72841097667062,
          -0.4417144240902041,
          -0.004464788666717921,
          0.07531256094745666,
          0.819040457639244,
          -0.4567053715819427,
          -0.5963208419744218,
          0.20953116501771618,
          -0.6853725302321193,
          -0.4001354564558299,
          0.6480780792891775,
          0.21240416189485206,
          0.14312795229648412,
          1.4393143026131452,
          0.7837815407286436,
          0.7467555023995134,
          0.29599035733768936,
          -0.7218712504422361,
          -1.25193389495634,
          0.03611354174396783,
          -0.03200300201512434,
          -1.1826084205945602,
          -1.4446328395682333,
          -0.04401236980398926,
          1.148871152117295,
          -0.14011474199688925,
          0.06115179255331545,
          0.868403061018585,
          0.5428333970190617,
          2.023958447325256,
          1.298799841292337,
          0.3078105580800464,
          0.6071874163245976,
          0.8972500697072223,
          -0.9315584354567149,
          0.17846500752828248,
          0.4284783757579867,
          -1.2333721181585848,
          -0.5601363807245684,
          0.09472304319338498,
          1.778688134912088,
          -1.8021319258488775,
          -0.7791449714553991,
          -0.5839473586620774,
          -0.7253804597334422,
          -0.9232769368882936,
          -0.6139384413256993,
          -0.06283253701103511,
          -0.9172264457972898,
          1.274365195722724,
          -0.23411960543441399,
          -0.8057448573292509,
          0.7054532319615852,
          -1.1036282271372015,
          0.6513618183801033,
          1.6919479921315315,
          2.0298722949294987,
          -0.7413914397119926,
          1.6472076306959016,
          0.6975377328009644,
          -2.5744066196418682,
          -1.1618031599466374,
          1.191995297707877,
          0.3357604375348084,
          0.528360105058137,
          -2.426809770915547,
          -1.4970050996342303,
          0.5012670828793494,
          -0.4144372147571527,
          -1.5032345584573734,
          -0.5645262794150616,
          0.9074324916191596,
          0.5291147311047883,
          1.27378422165143,
          0.8144032756088596,
          0.22763909553884226,
          0.04666463041197144,
          -0.2909034169358753,
          1.2439472755893324,
          -0.5030014312921158,
          -2.04618571072768,
          -1.9776242737576282,
          -0.7784135744681734,
          -0.43542356262032955,
          0.3511218761609181,
          0.6690302299966587,
          -2.937691978255148
         ],
         "y": [
          0.4382592167411095,
          -0.6309961348420734,
          -0.0395311262178848,
          -0.31428373652841174,
          -1.0100162848027445,
          0.3935453506068354,
          -1.1208413794066048,
          -0.48057193451665925,
          0.07553530507313684,
          -1.732193450923254,
          -0.18194479104436243,
          -1.2768988483331727,
          -0.9010984722462253,
          -0.04831591513783132,
          1.017334361674233,
          2.0659548342501,
          -1.3257645889148622,
          1.1439743874680193,
          -0.5955125539431376,
          1.5396128052705145,
          -0.3056876386133438,
          -0.3877195935848514,
          -0.26289468030335533,
          0.8933171597993632,
          0.28295230371184565,
          -2.0381890153955404,
          -0.8598396093738542,
          -1.6518707199339169,
          1.315608649571582,
          -1.1411519377453063,
          -1.1360395440453932,
          -1.7772226648265301,
          0.9650122260771038,
          1.1487983813941074,
          0.6236448087340094,
          0.23376375669016658,
          0.6124046327547832,
          1.438466886570016,
          -1.2648382819818582,
          -0.18510973962669178,
          -0.6786077887679473,
          -0.664905423820725,
          -0.46612759720887575,
          -0.750935532586305,
          0.7553429312716934,
          -0.974797806662005,
          1.0791958284105596,
          -1.4647682070265706,
          -1.131758714727324,
          0.3584005296774685,
          -2.618621262491332,
          0.22598540427059874,
          -0.11981462527459533,
          1.4990841490508868,
          -0.20774363409278152,
          0.6976938911487156,
          -0.6330586023195791,
          1.6187904142539622,
          1.282338045791857,
          0.0802792937980838,
          -0.5108597070798586,
          0.12905133080909542,
          0.3449053470374282,
          0.0766504080888916,
          -1.515901853753896,
          1.553054792584085,
          0.08897000243510644,
          -1.0459050859726782,
          -0.39902139781521845,
          1.2555188182347081,
          -2.0145418672522446,
          -0.27008247237976113,
          0.4903043952555374,
          2.214217040668718,
          -0.36536702022485823,
          -0.9829776507777322,
          -0.1469357916605228,
          0.5679188818392001,
          1.529413014699103,
          -0.3276547721051137,
          -1.0423677573212309,
          0.811616799365819,
          -1.3316013120176349,
          -1.8682578918247865,
          0.9497852481964191,
          -0.48074134536630314,
          -0.4481668902136482,
          -0.4874510603514809,
          0.8886789746157747,
          -0.8885847644458682,
          -0.6885045336406496,
          1.589358536547224,
          -0.6758365158912941,
          -0.40969212660536275,
          0.6746415974540376,
          1.1271460223680927,
          -1.6450552325643122,
          0.12158090294215941,
          1.0007876253334738,
          -1.256378892090455
         ]
        }
       ],
       "layout": {
        "legend": {
         "bgcolor": "#F5F6F9",
         "font": {
          "color": "#4D5663"
         }
        },
        "paper_bgcolor": "#F5F6F9",
        "plot_bgcolor": "#F5F6F9",
        "template": {
         "data": {
          "bar": [
           {
            "error_x": {
             "color": "#2a3f5f"
            },
            "error_y": {
             "color": "#2a3f5f"
            },
            "marker": {
             "line": {
              "color": "#E5ECF6",
              "width": 0.5
             },
             "pattern": {
              "fillmode": "overlay",
              "size": 10,
              "solidity": 0.2
             }
            },
            "type": "bar"
           }
          ],
          "barpolar": [
           {
            "marker": {
             "line": {
              "color": "#E5ECF6",
              "width": 0.5
             },
             "pattern": {
              "fillmode": "overlay",
              "size": 10,
              "solidity": 0.2
             }
            },
            "type": "barpolar"
           }
          ],
          "carpet": [
           {
            "aaxis": {
             "endlinecolor": "#2a3f5f",
             "gridcolor": "white",
             "linecolor": "white",
             "minorgridcolor": "white",
             "startlinecolor": "#2a3f5f"
            },
            "baxis": {
             "endlinecolor": "#2a3f5f",
             "gridcolor": "white",
             "linecolor": "white",
             "minorgridcolor": "white",
             "startlinecolor": "#2a3f5f"
            },
            "type": "carpet"
           }
          ],
          "choropleth": [
           {
            "colorbar": {
             "outlinewidth": 0,
             "ticks": ""
            },
            "type": "choropleth"
           }
          ],
          "contour": [
           {
            "colorbar": {
             "outlinewidth": 0,
             "ticks": ""
            },
            "colorscale": [
             [
              0,
              "#0d0887"
             ],
             [
              0.1111111111111111,
              "#46039f"
             ],
             [
              0.2222222222222222,
              "#7201a8"
             ],
             [
              0.3333333333333333,
              "#9c179e"
             ],
             [
              0.4444444444444444,
              "#bd3786"
             ],
             [
              0.5555555555555556,
              "#d8576b"
             ],
             [
              0.6666666666666666,
              "#ed7953"
             ],
             [
              0.7777777777777778,
              "#fb9f3a"
             ],
             [
              0.8888888888888888,
              "#fdca26"
             ],
             [
              1,
              "#f0f921"
             ]
            ],
            "type": "contour"
           }
          ],
          "contourcarpet": [
           {
            "colorbar": {
             "outlinewidth": 0,
             "ticks": ""
            },
            "type": "contourcarpet"
           }
          ],
          "heatmap": [
           {
            "colorbar": {
             "outlinewidth": 0,
             "ticks": ""
            },
            "colorscale": [
             [
              0,
              "#0d0887"
             ],
             [
              0.1111111111111111,
              "#46039f"
             ],
             [
              0.2222222222222222,
              "#7201a8"
             ],
             [
              0.3333333333333333,
              "#9c179e"
             ],
             [
              0.4444444444444444,
              "#bd3786"
             ],
             [
              0.5555555555555556,
              "#d8576b"
             ],
             [
              0.6666666666666666,
              "#ed7953"
             ],
             [
              0.7777777777777778,
              "#fb9f3a"
             ],
             [
              0.8888888888888888,
              "#fdca26"
             ],
             [
              1,
              "#f0f921"
             ]
            ],
            "type": "heatmap"
           }
          ],
          "heatmapgl": [
           {
            "colorbar": {
             "outlinewidth": 0,
             "ticks": ""
            },
            "colorscale": [
             [
              0,
              "#0d0887"
             ],
             [
              0.1111111111111111,
              "#46039f"
             ],
             [
              0.2222222222222222,
              "#7201a8"
             ],
             [
              0.3333333333333333,
              "#9c179e"
             ],
             [
              0.4444444444444444,
              "#bd3786"
             ],
             [
              0.5555555555555556,
              "#d8576b"
             ],
             [
              0.6666666666666666,
              "#ed7953"
             ],
             [
              0.7777777777777778,
              "#fb9f3a"
             ],
             [
              0.8888888888888888,
              "#fdca26"
             ],
             [
              1,
              "#f0f921"
             ]
            ],
            "type": "heatmapgl"
           }
          ],
          "histogram": [
           {
            "marker": {
             "pattern": {
              "fillmode": "overlay",
              "size": 10,
              "solidity": 0.2
             }
            },
            "type": "histogram"
           }
          ],
          "histogram2d": [
           {
            "colorbar": {
             "outlinewidth": 0,
             "ticks": ""
            },
            "colorscale": [
             [
              0,
              "#0d0887"
             ],
             [
              0.1111111111111111,
              "#46039f"
             ],
             [
              0.2222222222222222,
              "#7201a8"
             ],
             [
              0.3333333333333333,
              "#9c179e"
             ],
             [
              0.4444444444444444,
              "#bd3786"
             ],
             [
              0.5555555555555556,
              "#d8576b"
             ],
             [
              0.6666666666666666,
              "#ed7953"
             ],
             [
              0.7777777777777778,
              "#fb9f3a"
             ],
             [
              0.8888888888888888,
              "#fdca26"
             ],
             [
              1,
              "#f0f921"
             ]
            ],
            "type": "histogram2d"
           }
          ],
          "histogram2dcontour": [
           {
            "colorbar": {
             "outlinewidth": 0,
             "ticks": ""
            },
            "colorscale": [
             [
              0,
              "#0d0887"
             ],
             [
              0.1111111111111111,
              "#46039f"
             ],
             [
              0.2222222222222222,
              "#7201a8"
             ],
             [
              0.3333333333333333,
              "#9c179e"
             ],
             [
              0.4444444444444444,
              "#bd3786"
             ],
             [
              0.5555555555555556,
              "#d8576b"
             ],
             [
              0.6666666666666666,
              "#ed7953"
             ],
             [
              0.7777777777777778,
              "#fb9f3a"
             ],
             [
              0.8888888888888888,
              "#fdca26"
             ],
             [
              1,
              "#f0f921"
             ]
            ],
            "type": "histogram2dcontour"
           }
          ],
          "mesh3d": [
           {
            "colorbar": {
             "outlinewidth": 0,
             "ticks": ""
            },
            "type": "mesh3d"
           }
          ],
          "parcoords": [
           {
            "line": {
             "colorbar": {
              "outlinewidth": 0,
              "ticks": ""
             }
            },
            "type": "parcoords"
           }
          ],
          "pie": [
           {
            "automargin": true,
            "type": "pie"
           }
          ],
          "scatter": [
           {
            "fillpattern": {
             "fillmode": "overlay",
             "size": 10,
             "solidity": 0.2
            },
            "type": "scatter"
           }
          ],
          "scatter3d": [
           {
            "line": {
             "colorbar": {
              "outlinewidth": 0,
              "ticks": ""
             }
            },
            "marker": {
             "colorbar": {
              "outlinewidth": 0,
              "ticks": ""
             }
            },
            "type": "scatter3d"
           }
          ],
          "scattercarpet": [
           {
            "marker": {
             "colorbar": {
              "outlinewidth": 0,
              "ticks": ""
             }
            },
            "type": "scattercarpet"
           }
          ],
          "scattergeo": [
           {
            "marker": {
             "colorbar": {
              "outlinewidth": 0,
              "ticks": ""
             }
            },
            "type": "scattergeo"
           }
          ],
          "scattergl": [
           {
            "marker": {
             "colorbar": {
              "outlinewidth": 0,
              "ticks": ""
             }
            },
            "type": "scattergl"
           }
          ],
          "scattermapbox": [
           {
            "marker": {
             "colorbar": {
              "outlinewidth": 0,
              "ticks": ""
             }
            },
            "type": "scattermapbox"
           }
          ],
          "scatterpolar": [
           {
            "marker": {
             "colorbar": {
              "outlinewidth": 0,
              "ticks": ""
             }
            },
            "type": "scatterpolar"
           }
          ],
          "scatterpolargl": [
           {
            "marker": {
             "colorbar": {
              "outlinewidth": 0,
              "ticks": ""
             }
            },
            "type": "scatterpolargl"
           }
          ],
          "scatterternary": [
           {
            "marker": {
             "colorbar": {
              "outlinewidth": 0,
              "ticks": ""
             }
            },
            "type": "scatterternary"
           }
          ],
          "surface": [
           {
            "colorbar": {
             "outlinewidth": 0,
             "ticks": ""
            },
            "colorscale": [
             [
              0,
              "#0d0887"
             ],
             [
              0.1111111111111111,
              "#46039f"
             ],
             [
              0.2222222222222222,
              "#7201a8"
             ],
             [
              0.3333333333333333,
              "#9c179e"
             ],
             [
              0.4444444444444444,
              "#bd3786"
             ],
             [
              0.5555555555555556,
              "#d8576b"
             ],
             [
              0.6666666666666666,
              "#ed7953"
             ],
             [
              0.7777777777777778,
              "#fb9f3a"
             ],
             [
              0.8888888888888888,
              "#fdca26"
             ],
             [
              1,
              "#f0f921"
             ]
            ],
            "type": "surface"
           }
          ],
          "table": [
           {
            "cells": {
             "fill": {
              "color": "#EBF0F8"
             },
             "line": {
              "color": "white"
             }
            },
            "header": {
             "fill": {
              "color": "#C8D4E3"
             },
             "line": {
              "color": "white"
             }
            },
            "type": "table"
           }
          ]
         },
         "layout": {
          "annotationdefaults": {
           "arrowcolor": "#2a3f5f",
           "arrowhead": 0,
           "arrowwidth": 1
          },
          "autotypenumbers": "strict",
          "coloraxis": {
           "colorbar": {
            "outlinewidth": 0,
            "ticks": ""
           }
          },
          "colorscale": {
           "diverging": [
            [
             0,
             "#8e0152"
            ],
            [
             0.1,
             "#c51b7d"
            ],
            [
             0.2,
             "#de77ae"
            ],
            [
             0.3,
             "#f1b6da"
            ],
            [
             0.4,
             "#fde0ef"
            ],
            [
             0.5,
             "#f7f7f7"
            ],
            [
             0.6,
             "#e6f5d0"
            ],
            [
             0.7,
             "#b8e186"
            ],
            [
             0.8,
             "#7fbc41"
            ],
            [
             0.9,
             "#4d9221"
            ],
            [
             1,
             "#276419"
            ]
           ],
           "sequential": [
            [
             0,
             "#0d0887"
            ],
            [
             0.1111111111111111,
             "#46039f"
            ],
            [
             0.2222222222222222,
             "#7201a8"
            ],
            [
             0.3333333333333333,
             "#9c179e"
            ],
            [
             0.4444444444444444,
             "#bd3786"
            ],
            [
             0.5555555555555556,
             "#d8576b"
            ],
            [
             0.6666666666666666,
             "#ed7953"
            ],
            [
             0.7777777777777778,
             "#fb9f3a"
            ],
            [
             0.8888888888888888,
             "#fdca26"
            ],
            [
             1,
             "#f0f921"
            ]
           ],
           "sequentialminus": [
            [
             0,
             "#0d0887"
            ],
            [
             0.1111111111111111,
             "#46039f"
            ],
            [
             0.2222222222222222,
             "#7201a8"
            ],
            [
             0.3333333333333333,
             "#9c179e"
            ],
            [
             0.4444444444444444,
             "#bd3786"
            ],
            [
             0.5555555555555556,
             "#d8576b"
            ],
            [
             0.6666666666666666,
             "#ed7953"
            ],
            [
             0.7777777777777778,
             "#fb9f3a"
            ],
            [
             0.8888888888888888,
             "#fdca26"
            ],
            [
             1,
             "#f0f921"
            ]
           ]
          },
          "colorway": [
           "#636efa",
           "#EF553B",
           "#00cc96",
           "#ab63fa",
           "#FFA15A",
           "#19d3f3",
           "#FF6692",
           "#B6E880",
           "#FF97FF",
           "#FECB52"
          ],
          "font": {
           "color": "#2a3f5f"
          },
          "geo": {
           "bgcolor": "white",
           "lakecolor": "white",
           "landcolor": "#E5ECF6",
           "showlakes": true,
           "showland": true,
           "subunitcolor": "white"
          },
          "hoverlabel": {
           "align": "left"
          },
          "hovermode": "closest",
          "mapbox": {
           "style": "light"
          },
          "paper_bgcolor": "white",
          "plot_bgcolor": "#E5ECF6",
          "polar": {
           "angularaxis": {
            "gridcolor": "white",
            "linecolor": "white",
            "ticks": ""
           },
           "bgcolor": "#E5ECF6",
           "radialaxis": {
            "gridcolor": "white",
            "linecolor": "white",
            "ticks": ""
           }
          },
          "scene": {
           "xaxis": {
            "backgroundcolor": "#E5ECF6",
            "gridcolor": "white",
            "gridwidth": 2,
            "linecolor": "white",
            "showbackground": true,
            "ticks": "",
            "zerolinecolor": "white"
           },
           "yaxis": {
            "backgroundcolor": "#E5ECF6",
            "gridcolor": "white",
            "gridwidth": 2,
            "linecolor": "white",
            "showbackground": true,
            "ticks": "",
            "zerolinecolor": "white"
           },
           "zaxis": {
            "backgroundcolor": "#E5ECF6",
            "gridcolor": "white",
            "gridwidth": 2,
            "linecolor": "white",
            "showbackground": true,
            "ticks": "",
            "zerolinecolor": "white"
           }
          },
          "shapedefaults": {
           "line": {
            "color": "#2a3f5f"
           }
          },
          "ternary": {
           "aaxis": {
            "gridcolor": "white",
            "linecolor": "white",
            "ticks": ""
           },
           "baxis": {
            "gridcolor": "white",
            "linecolor": "white",
            "ticks": ""
           },
           "bgcolor": "#E5ECF6",
           "caxis": {
            "gridcolor": "white",
            "linecolor": "white",
            "ticks": ""
           }
          },
          "title": {
           "x": 0.05
          },
          "xaxis": {
           "automargin": true,
           "gridcolor": "white",
           "linecolor": "white",
           "ticks": "",
           "title": {
            "standoff": 15
           },
           "zerolinecolor": "white",
           "zerolinewidth": 2
          },
          "yaxis": {
           "automargin": true,
           "gridcolor": "white",
           "linecolor": "white",
           "ticks": "",
           "title": {
            "standoff": 15
           },
           "zerolinecolor": "white",
           "zerolinewidth": 2
          }
         }
        },
        "title": {
         "font": {
          "color": "#4D5663"
         }
        },
        "xaxis": {
         "gridcolor": "#E1E5ED",
         "showgrid": true,
         "tickfont": {
          "color": "#4D5663"
         },
         "title": {
          "font": {
           "color": "#4D5663"
          },
          "text": ""
         },
         "zerolinecolor": "#E1E5ED"
        },
        "yaxis": {
         "gridcolor": "#E1E5ED",
         "showgrid": true,
         "tickfont": {
          "color": "#4D5663"
         },
         "title": {
          "font": {
           "color": "#4D5663"
          },
          "text": ""
         },
         "zerolinecolor": "#E1E5ED"
        }
       }
      },
      "text/html": [
       "<div>                            <div id=\"dcc3e393-4c73-4085-a9cf-45f74a0c7482\" class=\"plotly-graph-div\" style=\"height:525px; width:100%;\"></div>            <script type=\"text/javascript\">                require([\"plotly\"], function(Plotly) {                    window.PLOTLYENV=window.PLOTLYENV || {};\n",
       "                    window.PLOTLYENV.BASE_URL='https://plot.ly';                                    if (document.getElementById(\"dcc3e393-4c73-4085-a9cf-45f74a0c7482\")) {                    Plotly.newPlot(                        \"dcc3e393-4c73-4085-a9cf-45f74a0c7482\",                        [{\"marker\":{\"color\":[\"rgb(255, 153, 51)\",\"rgb(55, 128, 191)\",\"rgb(50, 171, 96)\",\"rgb(128, 0, 128)\",\"rgb(219, 64, 82)\",\"rgb(0, 128, 128)\",\"rgb(255, 255, 51)\",\"rgb(128, 128, 0)\",\"rgb(251, 128, 114)\",\"rgb(128, 177, 211)\"],\"line\":{\"width\":1.3},\"size\":[89,53,57,66,40,66,46,75,70,87,54,27,72,74,82,52,74,73,83,78,63,49,43,48,43,72,58,12,54,110,89,76,81,64,57,56,84,94,70,31,59,75,65,39,84,57,48,54,98,75,75,51,80,76,66,80,76,65,60,85,64,112,58,62,72,28,106,31,90,55,69,44,38,66,75,57,76,66,65,79,86,47,71,71,80,46,64,71,84,41,100,93,45,43,84,76,94,64,65,61],\"symbol\":\"circle\"},\"mode\":\"markers\",\"text\":\"\",\"x\":[-1.7551052678663162,0.3844705852588308,-2.036235857734799,-0.4777192690016541,1.4543579926789922,-0.09237757661484672,0.6119764070206649,1.2237887733721426,-1.7337095285419843,-0.09984401561568264,-0.4649631618162517,0.9998649026069217,-0.6943268284110494,-0.72841097667062,-0.4417144240902041,-0.004464788666717921,0.07531256094745666,0.819040457639244,-0.4567053715819427,-0.5963208419744218,0.20953116501771618,-0.6853725302321193,-0.4001354564558299,0.6480780792891775,0.21240416189485206,0.14312795229648412,1.4393143026131452,0.7837815407286436,0.7467555023995134,0.29599035733768936,-0.7218712504422361,-1.25193389495634,0.03611354174396783,-0.03200300201512434,-1.1826084205945602,-1.4446328395682333,-0.04401236980398926,1.148871152117295,-0.14011474199688925,0.06115179255331545,0.868403061018585,0.5428333970190617,2.023958447325256,1.298799841292337,0.3078105580800464,0.6071874163245976,0.8972500697072223,-0.9315584354567149,0.17846500752828248,0.4284783757579867,-1.2333721181585848,-0.5601363807245684,0.09472304319338498,1.778688134912088,-1.8021319258488775,-0.7791449714553991,-0.5839473586620774,-0.7253804597334422,-0.9232769368882936,-0.6139384413256993,-0.06283253701103511,-0.9172264457972898,1.274365195722724,-0.23411960543441399,-0.8057448573292509,0.7054532319615852,-1.1036282271372015,0.6513618183801033,1.6919479921315315,2.0298722949294987,-0.7413914397119926,1.6472076306959016,0.6975377328009644,-2.5744066196418682,-1.1618031599466374,1.191995297707877,0.3357604375348084,0.528360105058137,-2.426809770915547,-1.4970050996342303,0.5012670828793494,-0.4144372147571527,-1.5032345584573734,-0.5645262794150616,0.9074324916191596,0.5291147311047883,1.27378422165143,0.8144032756088596,0.22763909553884226,0.04666463041197144,-0.2909034169358753,1.2439472755893324,-0.5030014312921158,-2.04618571072768,-1.9776242737576282,-0.7784135744681734,-0.43542356262032955,0.3511218761609181,0.6690302299966587,-2.937691978255148],\"y\":[0.4382592167411095,-0.6309961348420734,-0.0395311262178848,-0.31428373652841174,-1.0100162848027445,0.3935453506068354,-1.1208413794066048,-0.48057193451665925,0.07553530507313684,-1.732193450923254,-0.18194479104436243,-1.2768988483331727,-0.9010984722462253,-0.04831591513783132,1.017334361674233,2.0659548342501,-1.3257645889148622,1.1439743874680193,-0.5955125539431376,1.5396128052705145,-0.3056876386133438,-0.3877195935848514,-0.26289468030335533,0.8933171597993632,0.28295230371184565,-2.0381890153955404,-0.8598396093738542,-1.6518707199339169,1.315608649571582,-1.1411519377453063,-1.1360395440453932,-1.7772226648265301,0.9650122260771038,1.1487983813941074,0.6236448087340094,0.23376375669016658,0.6124046327547832,1.438466886570016,-1.2648382819818582,-0.18510973962669178,-0.6786077887679473,-0.664905423820725,-0.46612759720887575,-0.750935532586305,0.7553429312716934,-0.974797806662005,1.0791958284105596,-1.4647682070265706,-1.131758714727324,0.3584005296774685,-2.618621262491332,0.22598540427059874,-0.11981462527459533,1.4990841490508868,-0.20774363409278152,0.6976938911487156,-0.6330586023195791,1.6187904142539622,1.282338045791857,0.0802792937980838,-0.5108597070798586,0.12905133080909542,0.3449053470374282,0.0766504080888916,-1.515901853753896,1.553054792584085,0.08897000243510644,-1.0459050859726782,-0.39902139781521845,1.2555188182347081,-2.0145418672522446,-0.27008247237976113,0.4903043952555374,2.214217040668718,-0.36536702022485823,-0.9829776507777322,-0.1469357916605228,0.5679188818392001,1.529413014699103,-0.3276547721051137,-1.0423677573212309,0.811616799365819,-1.3316013120176349,-1.8682578918247865,0.9497852481964191,-0.48074134536630314,-0.4481668902136482,-0.4874510603514809,0.8886789746157747,-0.8885847644458682,-0.6885045336406496,1.589358536547224,-0.6758365158912941,-0.40969212660536275,0.6746415974540376,1.1271460223680927,-1.6450552325643122,0.12158090294215941,1.0007876253334738,-1.256378892090455],\"type\":\"scatter\"}],                        {\"legend\":{\"bgcolor\":\"#F5F6F9\",\"font\":{\"color\":\"#4D5663\"}},\"paper_bgcolor\":\"#F5F6F9\",\"plot_bgcolor\":\"#F5F6F9\",\"template\":{\"data\":{\"barpolar\":[{\"marker\":{\"line\":{\"color\":\"#E5ECF6\",\"width\":0.5},\"pattern\":{\"fillmode\":\"overlay\",\"size\":10,\"solidity\":0.2}},\"type\":\"barpolar\"}],\"bar\":[{\"error_x\":{\"color\":\"#2a3f5f\"},\"error_y\":{\"color\":\"#2a3f5f\"},\"marker\":{\"line\":{\"color\":\"#E5ECF6\",\"width\":0.5},\"pattern\":{\"fillmode\":\"overlay\",\"size\":10,\"solidity\":0.2}},\"type\":\"bar\"}],\"carpet\":[{\"aaxis\":{\"endlinecolor\":\"#2a3f5f\",\"gridcolor\":\"white\",\"linecolor\":\"white\",\"minorgridcolor\":\"white\",\"startlinecolor\":\"#2a3f5f\"},\"baxis\":{\"endlinecolor\":\"#2a3f5f\",\"gridcolor\":\"white\",\"linecolor\":\"white\",\"minorgridcolor\":\"white\",\"startlinecolor\":\"#2a3f5f\"},\"type\":\"carpet\"}],\"choropleth\":[{\"colorbar\":{\"outlinewidth\":0,\"ticks\":\"\"},\"type\":\"choropleth\"}],\"contourcarpet\":[{\"colorbar\":{\"outlinewidth\":0,\"ticks\":\"\"},\"type\":\"contourcarpet\"}],\"contour\":[{\"colorbar\":{\"outlinewidth\":0,\"ticks\":\"\"},\"colorscale\":[[0.0,\"#0d0887\"],[0.1111111111111111,\"#46039f\"],[0.2222222222222222,\"#7201a8\"],[0.3333333333333333,\"#9c179e\"],[0.4444444444444444,\"#bd3786\"],[0.5555555555555556,\"#d8576b\"],[0.6666666666666666,\"#ed7953\"],[0.7777777777777778,\"#fb9f3a\"],[0.8888888888888888,\"#fdca26\"],[1.0,\"#f0f921\"]],\"type\":\"contour\"}],\"heatmapgl\":[{\"colorbar\":{\"outlinewidth\":0,\"ticks\":\"\"},\"colorscale\":[[0.0,\"#0d0887\"],[0.1111111111111111,\"#46039f\"],[0.2222222222222222,\"#7201a8\"],[0.3333333333333333,\"#9c179e\"],[0.4444444444444444,\"#bd3786\"],[0.5555555555555556,\"#d8576b\"],[0.6666666666666666,\"#ed7953\"],[0.7777777777777778,\"#fb9f3a\"],[0.8888888888888888,\"#fdca26\"],[1.0,\"#f0f921\"]],\"type\":\"heatmapgl\"}],\"heatmap\":[{\"colorbar\":{\"outlinewidth\":0,\"ticks\":\"\"},\"colorscale\":[[0.0,\"#0d0887\"],[0.1111111111111111,\"#46039f\"],[0.2222222222222222,\"#7201a8\"],[0.3333333333333333,\"#9c179e\"],[0.4444444444444444,\"#bd3786\"],[0.5555555555555556,\"#d8576b\"],[0.6666666666666666,\"#ed7953\"],[0.7777777777777778,\"#fb9f3a\"],[0.8888888888888888,\"#fdca26\"],[1.0,\"#f0f921\"]],\"type\":\"heatmap\"}],\"histogram2dcontour\":[{\"colorbar\":{\"outlinewidth\":0,\"ticks\":\"\"},\"colorscale\":[[0.0,\"#0d0887\"],[0.1111111111111111,\"#46039f\"],[0.2222222222222222,\"#7201a8\"],[0.3333333333333333,\"#9c179e\"],[0.4444444444444444,\"#bd3786\"],[0.5555555555555556,\"#d8576b\"],[0.6666666666666666,\"#ed7953\"],[0.7777777777777778,\"#fb9f3a\"],[0.8888888888888888,\"#fdca26\"],[1.0,\"#f0f921\"]],\"type\":\"histogram2dcontour\"}],\"histogram2d\":[{\"colorbar\":{\"outlinewidth\":0,\"ticks\":\"\"},\"colorscale\":[[0.0,\"#0d0887\"],[0.1111111111111111,\"#46039f\"],[0.2222222222222222,\"#7201a8\"],[0.3333333333333333,\"#9c179e\"],[0.4444444444444444,\"#bd3786\"],[0.5555555555555556,\"#d8576b\"],[0.6666666666666666,\"#ed7953\"],[0.7777777777777778,\"#fb9f3a\"],[0.8888888888888888,\"#fdca26\"],[1.0,\"#f0f921\"]],\"type\":\"histogram2d\"}],\"histogram\":[{\"marker\":{\"pattern\":{\"fillmode\":\"overlay\",\"size\":10,\"solidity\":0.2}},\"type\":\"histogram\"}],\"mesh3d\":[{\"colorbar\":{\"outlinewidth\":0,\"ticks\":\"\"},\"type\":\"mesh3d\"}],\"parcoords\":[{\"line\":{\"colorbar\":{\"outlinewidth\":0,\"ticks\":\"\"}},\"type\":\"parcoords\"}],\"pie\":[{\"automargin\":true,\"type\":\"pie\"}],\"scatter3d\":[{\"line\":{\"colorbar\":{\"outlinewidth\":0,\"ticks\":\"\"}},\"marker\":{\"colorbar\":{\"outlinewidth\":0,\"ticks\":\"\"}},\"type\":\"scatter3d\"}],\"scattercarpet\":[{\"marker\":{\"colorbar\":{\"outlinewidth\":0,\"ticks\":\"\"}},\"type\":\"scattercarpet\"}],\"scattergeo\":[{\"marker\":{\"colorbar\":{\"outlinewidth\":0,\"ticks\":\"\"}},\"type\":\"scattergeo\"}],\"scattergl\":[{\"marker\":{\"colorbar\":{\"outlinewidth\":0,\"ticks\":\"\"}},\"type\":\"scattergl\"}],\"scattermapbox\":[{\"marker\":{\"colorbar\":{\"outlinewidth\":0,\"ticks\":\"\"}},\"type\":\"scattermapbox\"}],\"scatterpolargl\":[{\"marker\":{\"colorbar\":{\"outlinewidth\":0,\"ticks\":\"\"}},\"type\":\"scatterpolargl\"}],\"scatterpolar\":[{\"marker\":{\"colorbar\":{\"outlinewidth\":0,\"ticks\":\"\"}},\"type\":\"scatterpolar\"}],\"scatter\":[{\"fillpattern\":{\"fillmode\":\"overlay\",\"size\":10,\"solidity\":0.2},\"type\":\"scatter\"}],\"scatterternary\":[{\"marker\":{\"colorbar\":{\"outlinewidth\":0,\"ticks\":\"\"}},\"type\":\"scatterternary\"}],\"surface\":[{\"colorbar\":{\"outlinewidth\":0,\"ticks\":\"\"},\"colorscale\":[[0.0,\"#0d0887\"],[0.1111111111111111,\"#46039f\"],[0.2222222222222222,\"#7201a8\"],[0.3333333333333333,\"#9c179e\"],[0.4444444444444444,\"#bd3786\"],[0.5555555555555556,\"#d8576b\"],[0.6666666666666666,\"#ed7953\"],[0.7777777777777778,\"#fb9f3a\"],[0.8888888888888888,\"#fdca26\"],[1.0,\"#f0f921\"]],\"type\":\"surface\"}],\"table\":[{\"cells\":{\"fill\":{\"color\":\"#EBF0F8\"},\"line\":{\"color\":\"white\"}},\"header\":{\"fill\":{\"color\":\"#C8D4E3\"},\"line\":{\"color\":\"white\"}},\"type\":\"table\"}]},\"layout\":{\"annotationdefaults\":{\"arrowcolor\":\"#2a3f5f\",\"arrowhead\":0,\"arrowwidth\":1},\"autotypenumbers\":\"strict\",\"coloraxis\":{\"colorbar\":{\"outlinewidth\":0,\"ticks\":\"\"}},\"colorscale\":{\"diverging\":[[0,\"#8e0152\"],[0.1,\"#c51b7d\"],[0.2,\"#de77ae\"],[0.3,\"#f1b6da\"],[0.4,\"#fde0ef\"],[0.5,\"#f7f7f7\"],[0.6,\"#e6f5d0\"],[0.7,\"#b8e186\"],[0.8,\"#7fbc41\"],[0.9,\"#4d9221\"],[1,\"#276419\"]],\"sequential\":[[0.0,\"#0d0887\"],[0.1111111111111111,\"#46039f\"],[0.2222222222222222,\"#7201a8\"],[0.3333333333333333,\"#9c179e\"],[0.4444444444444444,\"#bd3786\"],[0.5555555555555556,\"#d8576b\"],[0.6666666666666666,\"#ed7953\"],[0.7777777777777778,\"#fb9f3a\"],[0.8888888888888888,\"#fdca26\"],[1.0,\"#f0f921\"]],\"sequentialminus\":[[0.0,\"#0d0887\"],[0.1111111111111111,\"#46039f\"],[0.2222222222222222,\"#7201a8\"],[0.3333333333333333,\"#9c179e\"],[0.4444444444444444,\"#bd3786\"],[0.5555555555555556,\"#d8576b\"],[0.6666666666666666,\"#ed7953\"],[0.7777777777777778,\"#fb9f3a\"],[0.8888888888888888,\"#fdca26\"],[1.0,\"#f0f921\"]]},\"colorway\":[\"#636efa\",\"#EF553B\",\"#00cc96\",\"#ab63fa\",\"#FFA15A\",\"#19d3f3\",\"#FF6692\",\"#B6E880\",\"#FF97FF\",\"#FECB52\"],\"font\":{\"color\":\"#2a3f5f\"},\"geo\":{\"bgcolor\":\"white\",\"lakecolor\":\"white\",\"landcolor\":\"#E5ECF6\",\"showlakes\":true,\"showland\":true,\"subunitcolor\":\"white\"},\"hoverlabel\":{\"align\":\"left\"},\"hovermode\":\"closest\",\"mapbox\":{\"style\":\"light\"},\"paper_bgcolor\":\"white\",\"plot_bgcolor\":\"#E5ECF6\",\"polar\":{\"angularaxis\":{\"gridcolor\":\"white\",\"linecolor\":\"white\",\"ticks\":\"\"},\"bgcolor\":\"#E5ECF6\",\"radialaxis\":{\"gridcolor\":\"white\",\"linecolor\":\"white\",\"ticks\":\"\"}},\"scene\":{\"xaxis\":{\"backgroundcolor\":\"#E5ECF6\",\"gridcolor\":\"white\",\"gridwidth\":2,\"linecolor\":\"white\",\"showbackground\":true,\"ticks\":\"\",\"zerolinecolor\":\"white\"},\"yaxis\":{\"backgroundcolor\":\"#E5ECF6\",\"gridcolor\":\"white\",\"gridwidth\":2,\"linecolor\":\"white\",\"showbackground\":true,\"ticks\":\"\",\"zerolinecolor\":\"white\"},\"zaxis\":{\"backgroundcolor\":\"#E5ECF6\",\"gridcolor\":\"white\",\"gridwidth\":2,\"linecolor\":\"white\",\"showbackground\":true,\"ticks\":\"\",\"zerolinecolor\":\"white\"}},\"shapedefaults\":{\"line\":{\"color\":\"#2a3f5f\"}},\"ternary\":{\"aaxis\":{\"gridcolor\":\"white\",\"linecolor\":\"white\",\"ticks\":\"\"},\"baxis\":{\"gridcolor\":\"white\",\"linecolor\":\"white\",\"ticks\":\"\"},\"bgcolor\":\"#E5ECF6\",\"caxis\":{\"gridcolor\":\"white\",\"linecolor\":\"white\",\"ticks\":\"\"}},\"title\":{\"x\":0.05},\"xaxis\":{\"automargin\":true,\"gridcolor\":\"white\",\"linecolor\":\"white\",\"ticks\":\"\",\"title\":{\"standoff\":15},\"zerolinecolor\":\"white\",\"zerolinewidth\":2},\"yaxis\":{\"automargin\":true,\"gridcolor\":\"white\",\"linecolor\":\"white\",\"ticks\":\"\",\"title\":{\"standoff\":15},\"zerolinecolor\":\"white\",\"zerolinewidth\":2}}},\"title\":{\"font\":{\"color\":\"#4D5663\"}},\"xaxis\":{\"gridcolor\":\"#E1E5ED\",\"showgrid\":true,\"tickfont\":{\"color\":\"#4D5663\"},\"title\":{\"font\":{\"color\":\"#4D5663\"},\"text\":\"\"},\"zerolinecolor\":\"#E1E5ED\"},\"yaxis\":{\"gridcolor\":\"#E1E5ED\",\"showgrid\":true,\"tickfont\":{\"color\":\"#4D5663\"},\"title\":{\"font\":{\"color\":\"#4D5663\"},\"text\":\"\"},\"zerolinecolor\":\"#E1E5ED\"}},                        {\"showLink\": true, \"linkText\": \"Export to plot.ly\", \"plotlyServerURL\": \"https://plot.ly\", \"responsive\": true}                    ).then(function(){\n",
       "                            \n",
       "var gd = document.getElementById('dcc3e393-4c73-4085-a9cf-45f74a0c7482');\n",
       "var x = new MutationObserver(function (mutations, observer) {{\n",
       "        var display = window.getComputedStyle(gd).display;\n",
       "        if (!display || display === 'none') {{\n",
       "            console.log([gd, 'removed!']);\n",
       "            Plotly.purge(gd);\n",
       "            observer.disconnect();\n",
       "        }}\n",
       "}});\n",
       "\n",
       "// Listen for the removal of the full notebook cells\n",
       "var notebookContainer = gd.closest('#notebook-container');\n",
       "if (notebookContainer) {{\n",
       "    x.observe(notebookContainer, {childList: true});\n",
       "}}\n",
       "\n",
       "// Listen for the clearing of the current output cell\n",
       "var outputEl = gd.closest('.output');\n",
       "if (outputEl) {{\n",
       "    x.observe(outputEl, {childList: true});\n",
       "}}\n",
       "\n",
       "                        })                };                });            </script>        </div>"
      ]
     },
     "metadata": {},
     "output_type": "display_data"
    }
   ],
   "source": [
    "df.iplot(kind='bubble', x='A',y='B', size='C')\n",
    "#size of the bubles based on another column value"
   ]
  },
  {
   "cell_type": "code",
   "execution_count": 48,
   "metadata": {},
   "outputs": [
    {
     "data": {
      "application/vnd.plotly.v1+json": {
       "config": {
        "linkText": "Export to plot.ly",
        "plotlyServerURL": "https://plot.ly",
        "showLink": true
       },
       "data": [
        {
         "histfunc": "count",
         "histnorm": "",
         "marker": {
          "color": "rgba(255, 153, 51, 1.0)",
          "line": {
           "color": "#4D5663",
           "width": 1.3
          }
         },
         "name": "A",
         "nbinsx": 10,
         "opacity": 0.8,
         "orientation": "v",
         "type": "histogram",
         "x": [
          -1.7551052678663162,
          0.3844705852588308,
          -2.036235857734799,
          -0.4777192690016541,
          1.4543579926789922,
          -0.09237757661484672,
          0.6119764070206649,
          1.2237887733721426,
          -1.7337095285419843,
          -0.09984401561568264,
          -0.4649631618162517,
          0.9998649026069217,
          -0.6943268284110494,
          -0.72841097667062,
          -0.4417144240902041,
          -0.004464788666717921,
          0.07531256094745666,
          0.819040457639244,
          -0.4567053715819427,
          -0.5963208419744218,
          0.20953116501771618,
          -0.6853725302321193,
          -0.4001354564558299,
          0.6480780792891775,
          0.21240416189485206,
          0.14312795229648412,
          1.4393143026131452,
          0.7837815407286436,
          0.7467555023995134,
          0.29599035733768936,
          -0.7218712504422361,
          -1.25193389495634,
          0.03611354174396783,
          -0.03200300201512434,
          -1.1826084205945602,
          -1.4446328395682333,
          -0.04401236980398926,
          1.148871152117295,
          -0.14011474199688925,
          0.06115179255331545,
          0.868403061018585,
          0.5428333970190617,
          2.023958447325256,
          1.298799841292337,
          0.3078105580800464,
          0.6071874163245976,
          0.8972500697072223,
          -0.9315584354567149,
          0.17846500752828248,
          0.4284783757579867,
          -1.2333721181585848,
          -0.5601363807245684,
          0.09472304319338498,
          1.778688134912088,
          -1.8021319258488775,
          -0.7791449714553991,
          -0.5839473586620774,
          -0.7253804597334422,
          -0.9232769368882936,
          -0.6139384413256993,
          -0.06283253701103511,
          -0.9172264457972898,
          1.274365195722724,
          -0.23411960543441399,
          -0.8057448573292509,
          0.7054532319615852,
          -1.1036282271372015,
          0.6513618183801033,
          1.6919479921315315,
          2.0298722949294987,
          -0.7413914397119926,
          1.6472076306959016,
          0.6975377328009644,
          -2.5744066196418682,
          -1.1618031599466374,
          1.191995297707877,
          0.3357604375348084,
          0.528360105058137,
          -2.426809770915547,
          -1.4970050996342303,
          0.5012670828793494,
          -0.4144372147571527,
          -1.5032345584573734,
          -0.5645262794150616,
          0.9074324916191596,
          0.5291147311047883,
          1.27378422165143,
          0.8144032756088596,
          0.22763909553884226,
          0.04666463041197144,
          -0.2909034169358753,
          1.2439472755893324,
          -0.5030014312921158,
          -2.04618571072768,
          -1.9776242737576282,
          -0.7784135744681734,
          -0.43542356262032955,
          0.3511218761609181,
          0.6690302299966587,
          -2.937691978255148
         ],
         "xaxis": "x",
         "yaxis": "y"
        },
        {
         "line": {
          "color": "rgba(128, 128, 128, 1.0)",
          "dash": "solid",
          "shape": "linear",
          "width": 1.3
         },
         "marker": {
          "size": 2,
          "symbol": "circle"
         },
         "mode": "markers",
         "name": "A",
         "text": "",
         "type": "scatter",
         "x": [
          0.4382592167411095,
          -0.6309961348420734,
          -0.0395311262178848,
          -0.31428373652841174,
          -1.0100162848027445,
          0.3935453506068354,
          -1.1208413794066048,
          -0.48057193451665925,
          0.07553530507313684,
          -1.732193450923254,
          -0.18194479104436243,
          -1.2768988483331727,
          -0.9010984722462253,
          -0.04831591513783132,
          1.017334361674233,
          2.0659548342501,
          -1.3257645889148622,
          1.1439743874680193,
          -0.5955125539431376,
          1.5396128052705145,
          -0.3056876386133438,
          -0.3877195935848514,
          -0.26289468030335533,
          0.8933171597993632,
          0.28295230371184565,
          -2.0381890153955404,
          -0.8598396093738542,
          -1.6518707199339169,
          1.315608649571582,
          -1.1411519377453063,
          -1.1360395440453932,
          -1.7772226648265301,
          0.9650122260771038,
          1.1487983813941074,
          0.6236448087340094,
          0.23376375669016658,
          0.6124046327547832,
          1.438466886570016,
          -1.2648382819818582,
          -0.18510973962669178,
          -0.6786077887679473,
          -0.664905423820725,
          -0.46612759720887575,
          -0.750935532586305,
          0.7553429312716934,
          -0.974797806662005,
          1.0791958284105596,
          -1.4647682070265706,
          -1.131758714727324,
          0.3584005296774685,
          -2.618621262491332,
          0.22598540427059874,
          -0.11981462527459533,
          1.4990841490508868,
          -0.20774363409278152,
          0.6976938911487156,
          -0.6330586023195791,
          1.6187904142539622,
          1.282338045791857,
          0.0802792937980838,
          -0.5108597070798586,
          0.12905133080909542,
          0.3449053470374282,
          0.0766504080888916,
          -1.515901853753896,
          1.553054792584085,
          0.08897000243510644,
          -1.0459050859726782,
          -0.39902139781521845,
          1.2555188182347081,
          -2.0145418672522446,
          -0.27008247237976113,
          0.4903043952555374,
          2.214217040668718,
          -0.36536702022485823,
          -0.9829776507777322,
          -0.1469357916605228,
          0.5679188818392001,
          1.529413014699103,
          -0.3276547721051137,
          -1.0423677573212309,
          0.811616799365819,
          -1.3316013120176349,
          -1.8682578918247865,
          0.9497852481964191,
          -0.48074134536630314,
          -0.4481668902136482,
          -0.4874510603514809,
          0.8886789746157747,
          -0.8885847644458682,
          -0.6885045336406496,
          1.589358536547224,
          -0.6758365158912941,
          -0.40969212660536275,
          0.6746415974540376,
          1.1271460223680927,
          -1.6450552325643122,
          0.12158090294215941,
          1.0007876253334738,
          -1.256378892090455
         ],
         "xaxis": "x2",
         "y": [
          -1.7551052678663162,
          0.3844705852588308,
          -2.036235857734799,
          -0.4777192690016541,
          1.4543579926789922,
          -0.09237757661484672,
          0.6119764070206649,
          1.2237887733721426,
          -1.7337095285419843,
          -0.09984401561568264,
          -0.4649631618162517,
          0.9998649026069217,
          -0.6943268284110494,
          -0.72841097667062,
          -0.4417144240902041,
          -0.004464788666717921,
          0.07531256094745666,
          0.819040457639244,
          -0.4567053715819427,
          -0.5963208419744218,
          0.20953116501771618,
          -0.6853725302321193,
          -0.4001354564558299,
          0.6480780792891775,
          0.21240416189485206,
          0.14312795229648412,
          1.4393143026131452,
          0.7837815407286436,
          0.7467555023995134,
          0.29599035733768936,
          -0.7218712504422361,
          -1.25193389495634,
          0.03611354174396783,
          -0.03200300201512434,
          -1.1826084205945602,
          -1.4446328395682333,
          -0.04401236980398926,
          1.148871152117295,
          -0.14011474199688925,
          0.06115179255331545,
          0.868403061018585,
          0.5428333970190617,
          2.023958447325256,
          1.298799841292337,
          0.3078105580800464,
          0.6071874163245976,
          0.8972500697072223,
          -0.9315584354567149,
          0.17846500752828248,
          0.4284783757579867,
          -1.2333721181585848,
          -0.5601363807245684,
          0.09472304319338498,
          1.778688134912088,
          -1.8021319258488775,
          -0.7791449714553991,
          -0.5839473586620774,
          -0.7253804597334422,
          -0.9232769368882936,
          -0.6139384413256993,
          -0.06283253701103511,
          -0.9172264457972898,
          1.274365195722724,
          -0.23411960543441399,
          -0.8057448573292509,
          0.7054532319615852,
          -1.1036282271372015,
          0.6513618183801033,
          1.6919479921315315,
          2.0298722949294987,
          -0.7413914397119926,
          1.6472076306959016,
          0.6975377328009644,
          -2.5744066196418682,
          -1.1618031599466374,
          1.191995297707877,
          0.3357604375348084,
          0.528360105058137,
          -2.426809770915547,
          -1.4970050996342303,
          0.5012670828793494,
          -0.4144372147571527,
          -1.5032345584573734,
          -0.5645262794150616,
          0.9074324916191596,
          0.5291147311047883,
          1.27378422165143,
          0.8144032756088596,
          0.22763909553884226,
          0.04666463041197144,
          -0.2909034169358753,
          1.2439472755893324,
          -0.5030014312921158,
          -2.04618571072768,
          -1.9776242737576282,
          -0.7784135744681734,
          -0.43542356262032955,
          0.3511218761609181,
          0.6690302299966587,
          -2.937691978255148
         ],
         "yaxis": "y2"
        },
        {
         "line": {
          "color": "rgba(128, 128, 128, 1.0)",
          "dash": "solid",
          "shape": "linear",
          "width": 1.3
         },
         "marker": {
          "size": 2,
          "symbol": "circle"
         },
         "mode": "markers",
         "name": "A",
         "text": "",
         "type": "scatter",
         "x": [
          1.2041286763052448,
          -0.7341612192305633,
          -0.5458056090180362,
          -0.060176807033348434,
          -1.461210307868879,
          -0.042962820390264604,
          -1.1112680953319287,
          0.4425994344947499,
          0.1581364727067789,
          1.0523143699302913,
          -0.6852756634925544,
          -2.138283291452284,
          0.26267208157579036,
          0.37372183885347143,
          0.8213211099006584,
          -0.8154119669655834,
          0.38096982250192774,
          0.3370927626585573,
          0.8661579662151041,
          0.5922180910315239,
          -0.246750931009974,
          -0.9512094621196407,
          -1.279912153943022,
          -1.0318148862660201,
          -1.2832182702457628,
          0.24335563499257745,
          -0.49710382848007084,
          -2.9933342420800924,
          -0.6978903685053779,
          2.3069038297787072,
          1.1972196152142145,
          0.5005035356788747,
          0.7297790581122335,
          -0.15941717349860096,
          -0.5181303473438783,
          -0.5934618471232722,
          0.8995817172937732,
          1.4236306634076306,
          0.13458851966672683,
          -1.9244973003383656,
          -0.4396687465651273,
          0.43148518125632296,
          -0.1045871680622103,
          -1.5154907586013207,
          0.9195989783041805,
          -0.5680229856548504,
          -1.0279969155715944,
          -0.7050486050975706,
          1.657409308353311,
          0.43853218340055466,
          0.4453702568775285,
          -0.8589282128077184,
          0.6917317701189633,
          0.4874349454596271,
          -0.05415017783183345,
          0.6786386411680831,
          0.49941202879755286,
          -0.09355296913250151,
          -0.39456615110421206,
          0.945327187041317,
          -0.1592104734693847,
          2.3917432164498007,
          -0.506147738239636,
          -0.26501055918580796,
          0.256761716941572,
          -2.0970130189996263,
          2.080817157003123,
          -1.969713916536074,
          1.2186284182395668,
          -0.6754697490087247,
          0.0864288898960222,
          -1.2623278342411035,
          -1.5782667637365249,
          -0.03995829079015229,
          0.4184420663801775,
          -0.5544865869156967,
          0.4917122214543861,
          -0.06530864944150375,
          -0.11841439565633523,
          0.6511421435271256,
          1.027365203598178,
          -1.0793832565983752,
          0.19273703232535136,
          0.21278608830470566,
          0.6698430690156365,
          -1.1447128329756069,
          -0.1406796689064955,
          0.23141660493699273,
          0.9064832898559017,
          -1.4194927711734235,
          1.7863130491938028,
          1.4143890894685258,
          -1.1686375404626603,
          -1.2767884937582192,
          0.908973163702017,
          0.4903546831594897,
          1.458215782292664,
          -0.1739490839601721,
          -0.08603191853491715,
          -0.30139862355672215
         ],
         "xaxis": "x3",
         "y": [
          -1.7551052678663162,
          0.3844705852588308,
          -2.036235857734799,
          -0.4777192690016541,
          1.4543579926789922,
          -0.09237757661484672,
          0.6119764070206649,
          1.2237887733721426,
          -1.7337095285419843,
          -0.09984401561568264,
          -0.4649631618162517,
          0.9998649026069217,
          -0.6943268284110494,
          -0.72841097667062,
          -0.4417144240902041,
          -0.004464788666717921,
          0.07531256094745666,
          0.819040457639244,
          -0.4567053715819427,
          -0.5963208419744218,
          0.20953116501771618,
          -0.6853725302321193,
          -0.4001354564558299,
          0.6480780792891775,
          0.21240416189485206,
          0.14312795229648412,
          1.4393143026131452,
          0.7837815407286436,
          0.7467555023995134,
          0.29599035733768936,
          -0.7218712504422361,
          -1.25193389495634,
          0.03611354174396783,
          -0.03200300201512434,
          -1.1826084205945602,
          -1.4446328395682333,
          -0.04401236980398926,
          1.148871152117295,
          -0.14011474199688925,
          0.06115179255331545,
          0.868403061018585,
          0.5428333970190617,
          2.023958447325256,
          1.298799841292337,
          0.3078105580800464,
          0.6071874163245976,
          0.8972500697072223,
          -0.9315584354567149,
          0.17846500752828248,
          0.4284783757579867,
          -1.2333721181585848,
          -0.5601363807245684,
          0.09472304319338498,
          1.778688134912088,
          -1.8021319258488775,
          -0.7791449714553991,
          -0.5839473586620774,
          -0.7253804597334422,
          -0.9232769368882936,
          -0.6139384413256993,
          -0.06283253701103511,
          -0.9172264457972898,
          1.274365195722724,
          -0.23411960543441399,
          -0.8057448573292509,
          0.7054532319615852,
          -1.1036282271372015,
          0.6513618183801033,
          1.6919479921315315,
          2.0298722949294987,
          -0.7413914397119926,
          1.6472076306959016,
          0.6975377328009644,
          -2.5744066196418682,
          -1.1618031599466374,
          1.191995297707877,
          0.3357604375348084,
          0.528360105058137,
          -2.426809770915547,
          -1.4970050996342303,
          0.5012670828793494,
          -0.4144372147571527,
          -1.5032345584573734,
          -0.5645262794150616,
          0.9074324916191596,
          0.5291147311047883,
          1.27378422165143,
          0.8144032756088596,
          0.22763909553884226,
          0.04666463041197144,
          -0.2909034169358753,
          1.2439472755893324,
          -0.5030014312921158,
          -2.04618571072768,
          -1.9776242737576282,
          -0.7784135744681734,
          -0.43542356262032955,
          0.3511218761609181,
          0.6690302299966587,
          -2.937691978255148
         ],
         "yaxis": "y3"
        },
        {
         "line": {
          "color": "rgba(128, 128, 128, 1.0)",
          "dash": "solid",
          "shape": "linear",
          "width": 1.3
         },
         "marker": {
          "size": 2,
          "symbol": "circle"
         },
         "mode": "markers",
         "name": "A",
         "text": "",
         "type": "scatter",
         "x": [
          0.5335617547626704,
          1.11511778820712,
          -0.08010239879881892,
          -2.259130632450229,
          0.1306904956755313,
          -0.10868636704330263,
          -1.2119879393566173,
          0.058401962784051895,
          -1.28475547880816,
          -0.23874716438584068,
          -0.05486944254343988,
          -0.7903758731068092,
          0.5511763376605952,
          0.6598876147808562,
          -1.393544253357598,
          -0.22141033511022082,
          1.3723354165859456,
          -2.295330139910439,
          0.7048578956406352,
          -1.3456434351515638,
          1.1330308424283735,
          -1.6303682417443779,
          1.1458167157730648,
          0.3412691509585753,
          -1.4814410312878,
          0.7056244817874007,
          -0.35631268737456484,
          -1.4973624280243167,
          -2.384006313434215,
          -0.4603706240551062,
          -0.3396935582570401,
          -1.7531152695661887,
          1.3317539945057488,
          0.03028900886027697,
          0.003446055668178733,
          0.6235875867000816,
          2.2119702214189525,
          0.09084069260464103,
          0.2455822204067303,
          -0.6571322155562199,
          -0.16271374185554327,
          -0.643073675919325,
          -1.9137010323432584,
          -0.7764981602357823,
          -0.44312146885367115,
          -1.7356585778027214,
          0.24444323790835046,
          0.7104679959661663,
          -1.3390136550043847,
          0.16366534129867924,
          -0.6047531524042749,
          1.2553527366235804,
          -0.6701759062038355,
          0.9363081857722896,
          0.8211474912961345,
          -1.8240721473503028,
          0.45230942549634595,
          2.1574505417899834,
          -0.062096453693924164,
          2.369880887091539,
          -1.0804781096479488,
          -1.3240023935686234,
          0.1891364017721843,
          1.4454723116515689,
          0.2670018973992693,
          0.3843716971280922,
          -0.9649721651660574,
          -1.0909805836656126,
          0.27081041390492183,
          1.153388859206965,
          0.38281022895155126,
          -0.8713849540757779,
          2.0528631419834227,
          1.5097740524964776,
          -0.5438358420554982,
          -0.07034753062399098,
          -0.8942657348846185,
          0.9487048514799492,
          1.3008219239253918,
          -0.5290864305394178,
          -1.7064792654511123,
          -0.19315259821983888,
          0.16849549170129602,
          0.3616001588411008,
          0.026682942900016677,
          1.2430267142940021,
          1.8288506123013686,
          -0.6461015794148398,
          -0.03903876462222602,
          -0.7345934981355124,
          -1.267407423342911,
          0.020312121797485937,
          -0.6162696698678704,
          -0.8700178732099789,
          0.48554238667112404,
          0.26801570273470005,
          0.103588232775617,
          0.12065839577974721,
          1.3510822698238307,
          0.3829175412191313
         ],
         "xaxis": "x4",
         "y": [
          -1.7551052678663162,
          0.3844705852588308,
          -2.036235857734799,
          -0.4777192690016541,
          1.4543579926789922,
          -0.09237757661484672,
          0.6119764070206649,
          1.2237887733721426,
          -1.7337095285419843,
          -0.09984401561568264,
          -0.4649631618162517,
          0.9998649026069217,
          -0.6943268284110494,
          -0.72841097667062,
          -0.4417144240902041,
          -0.004464788666717921,
          0.07531256094745666,
          0.819040457639244,
          -0.4567053715819427,
          -0.5963208419744218,
          0.20953116501771618,
          -0.6853725302321193,
          -0.4001354564558299,
          0.6480780792891775,
          0.21240416189485206,
          0.14312795229648412,
          1.4393143026131452,
          0.7837815407286436,
          0.7467555023995134,
          0.29599035733768936,
          -0.7218712504422361,
          -1.25193389495634,
          0.03611354174396783,
          -0.03200300201512434,
          -1.1826084205945602,
          -1.4446328395682333,
          -0.04401236980398926,
          1.148871152117295,
          -0.14011474199688925,
          0.06115179255331545,
          0.868403061018585,
          0.5428333970190617,
          2.023958447325256,
          1.298799841292337,
          0.3078105580800464,
          0.6071874163245976,
          0.8972500697072223,
          -0.9315584354567149,
          0.17846500752828248,
          0.4284783757579867,
          -1.2333721181585848,
          -0.5601363807245684,
          0.09472304319338498,
          1.778688134912088,
          -1.8021319258488775,
          -0.7791449714553991,
          -0.5839473586620774,
          -0.7253804597334422,
          -0.9232769368882936,
          -0.6139384413256993,
          -0.06283253701103511,
          -0.9172264457972898,
          1.274365195722724,
          -0.23411960543441399,
          -0.8057448573292509,
          0.7054532319615852,
          -1.1036282271372015,
          0.6513618183801033,
          1.6919479921315315,
          2.0298722949294987,
          -0.7413914397119926,
          1.6472076306959016,
          0.6975377328009644,
          -2.5744066196418682,
          -1.1618031599466374,
          1.191995297707877,
          0.3357604375348084,
          0.528360105058137,
          -2.426809770915547,
          -1.4970050996342303,
          0.5012670828793494,
          -0.4144372147571527,
          -1.5032345584573734,
          -0.5645262794150616,
          0.9074324916191596,
          0.5291147311047883,
          1.27378422165143,
          0.8144032756088596,
          0.22763909553884226,
          0.04666463041197144,
          -0.2909034169358753,
          1.2439472755893324,
          -0.5030014312921158,
          -2.04618571072768,
          -1.9776242737576282,
          -0.7784135744681734,
          -0.43542356262032955,
          0.3511218761609181,
          0.6690302299966587,
          -2.937691978255148
         ],
         "yaxis": "y4"
        },
        {
         "line": {
          "color": "rgba(128, 128, 128, 1.0)",
          "dash": "solid",
          "shape": "linear",
          "width": 1.3
         },
         "marker": {
          "size": 2,
          "symbol": "circle"
         },
         "mode": "markers",
         "name": "B",
         "text": "",
         "type": "scatter",
         "x": [
          -1.7551052678663162,
          0.3844705852588308,
          -2.036235857734799,
          -0.4777192690016541,
          1.4543579926789922,
          -0.09237757661484672,
          0.6119764070206649,
          1.2237887733721426,
          -1.7337095285419843,
          -0.09984401561568264,
          -0.4649631618162517,
          0.9998649026069217,
          -0.6943268284110494,
          -0.72841097667062,
          -0.4417144240902041,
          -0.004464788666717921,
          0.07531256094745666,
          0.819040457639244,
          -0.4567053715819427,
          -0.5963208419744218,
          0.20953116501771618,
          -0.6853725302321193,
          -0.4001354564558299,
          0.6480780792891775,
          0.21240416189485206,
          0.14312795229648412,
          1.4393143026131452,
          0.7837815407286436,
          0.7467555023995134,
          0.29599035733768936,
          -0.7218712504422361,
          -1.25193389495634,
          0.03611354174396783,
          -0.03200300201512434,
          -1.1826084205945602,
          -1.4446328395682333,
          -0.04401236980398926,
          1.148871152117295,
          -0.14011474199688925,
          0.06115179255331545,
          0.868403061018585,
          0.5428333970190617,
          2.023958447325256,
          1.298799841292337,
          0.3078105580800464,
          0.6071874163245976,
          0.8972500697072223,
          -0.9315584354567149,
          0.17846500752828248,
          0.4284783757579867,
          -1.2333721181585848,
          -0.5601363807245684,
          0.09472304319338498,
          1.778688134912088,
          -1.8021319258488775,
          -0.7791449714553991,
          -0.5839473586620774,
          -0.7253804597334422,
          -0.9232769368882936,
          -0.6139384413256993,
          -0.06283253701103511,
          -0.9172264457972898,
          1.274365195722724,
          -0.23411960543441399,
          -0.8057448573292509,
          0.7054532319615852,
          -1.1036282271372015,
          0.6513618183801033,
          1.6919479921315315,
          2.0298722949294987,
          -0.7413914397119926,
          1.6472076306959016,
          0.6975377328009644,
          -2.5744066196418682,
          -1.1618031599466374,
          1.191995297707877,
          0.3357604375348084,
          0.528360105058137,
          -2.426809770915547,
          -1.4970050996342303,
          0.5012670828793494,
          -0.4144372147571527,
          -1.5032345584573734,
          -0.5645262794150616,
          0.9074324916191596,
          0.5291147311047883,
          1.27378422165143,
          0.8144032756088596,
          0.22763909553884226,
          0.04666463041197144,
          -0.2909034169358753,
          1.2439472755893324,
          -0.5030014312921158,
          -2.04618571072768,
          -1.9776242737576282,
          -0.7784135744681734,
          -0.43542356262032955,
          0.3511218761609181,
          0.6690302299966587,
          -2.937691978255148
         ],
         "xaxis": "x5",
         "y": [
          0.4382592167411095,
          -0.6309961348420734,
          -0.0395311262178848,
          -0.31428373652841174,
          -1.0100162848027445,
          0.3935453506068354,
          -1.1208413794066048,
          -0.48057193451665925,
          0.07553530507313684,
          -1.732193450923254,
          -0.18194479104436243,
          -1.2768988483331727,
          -0.9010984722462253,
          -0.04831591513783132,
          1.017334361674233,
          2.0659548342501,
          -1.3257645889148622,
          1.1439743874680193,
          -0.5955125539431376,
          1.5396128052705145,
          -0.3056876386133438,
          -0.3877195935848514,
          -0.26289468030335533,
          0.8933171597993632,
          0.28295230371184565,
          -2.0381890153955404,
          -0.8598396093738542,
          -1.6518707199339169,
          1.315608649571582,
          -1.1411519377453063,
          -1.1360395440453932,
          -1.7772226648265301,
          0.9650122260771038,
          1.1487983813941074,
          0.6236448087340094,
          0.23376375669016658,
          0.6124046327547832,
          1.438466886570016,
          -1.2648382819818582,
          -0.18510973962669178,
          -0.6786077887679473,
          -0.664905423820725,
          -0.46612759720887575,
          -0.750935532586305,
          0.7553429312716934,
          -0.974797806662005,
          1.0791958284105596,
          -1.4647682070265706,
          -1.131758714727324,
          0.3584005296774685,
          -2.618621262491332,
          0.22598540427059874,
          -0.11981462527459533,
          1.4990841490508868,
          -0.20774363409278152,
          0.6976938911487156,
          -0.6330586023195791,
          1.6187904142539622,
          1.282338045791857,
          0.0802792937980838,
          -0.5108597070798586,
          0.12905133080909542,
          0.3449053470374282,
          0.0766504080888916,
          -1.515901853753896,
          1.553054792584085,
          0.08897000243510644,
          -1.0459050859726782,
          -0.39902139781521845,
          1.2555188182347081,
          -2.0145418672522446,
          -0.27008247237976113,
          0.4903043952555374,
          2.214217040668718,
          -0.36536702022485823,
          -0.9829776507777322,
          -0.1469357916605228,
          0.5679188818392001,
          1.529413014699103,
          -0.3276547721051137,
          -1.0423677573212309,
          0.811616799365819,
          -1.3316013120176349,
          -1.8682578918247865,
          0.9497852481964191,
          -0.48074134536630314,
          -0.4481668902136482,
          -0.4874510603514809,
          0.8886789746157747,
          -0.8885847644458682,
          -0.6885045336406496,
          1.589358536547224,
          -0.6758365158912941,
          -0.40969212660536275,
          0.6746415974540376,
          1.1271460223680927,
          -1.6450552325643122,
          0.12158090294215941,
          1.0007876253334738,
          -1.256378892090455
         ],
         "yaxis": "y5"
        },
        {
         "histfunc": "count",
         "histnorm": "",
         "marker": {
          "color": "rgba(55, 128, 191, 1.0)",
          "line": {
           "color": "#4D5663",
           "width": 1.3
          }
         },
         "name": "B",
         "nbinsx": 10,
         "opacity": 0.8,
         "orientation": "v",
         "type": "histogram",
         "x": [
          0.4382592167411095,
          -0.6309961348420734,
          -0.0395311262178848,
          -0.31428373652841174,
          -1.0100162848027445,
          0.3935453506068354,
          -1.1208413794066048,
          -0.48057193451665925,
          0.07553530507313684,
          -1.732193450923254,
          -0.18194479104436243,
          -1.2768988483331727,
          -0.9010984722462253,
          -0.04831591513783132,
          1.017334361674233,
          2.0659548342501,
          -1.3257645889148622,
          1.1439743874680193,
          -0.5955125539431376,
          1.5396128052705145,
          -0.3056876386133438,
          -0.3877195935848514,
          -0.26289468030335533,
          0.8933171597993632,
          0.28295230371184565,
          -2.0381890153955404,
          -0.8598396093738542,
          -1.6518707199339169,
          1.315608649571582,
          -1.1411519377453063,
          -1.1360395440453932,
          -1.7772226648265301,
          0.9650122260771038,
          1.1487983813941074,
          0.6236448087340094,
          0.23376375669016658,
          0.6124046327547832,
          1.438466886570016,
          -1.2648382819818582,
          -0.18510973962669178,
          -0.6786077887679473,
          -0.664905423820725,
          -0.46612759720887575,
          -0.750935532586305,
          0.7553429312716934,
          -0.974797806662005,
          1.0791958284105596,
          -1.4647682070265706,
          -1.131758714727324,
          0.3584005296774685,
          -2.618621262491332,
          0.22598540427059874,
          -0.11981462527459533,
          1.4990841490508868,
          -0.20774363409278152,
          0.6976938911487156,
          -0.6330586023195791,
          1.6187904142539622,
          1.282338045791857,
          0.0802792937980838,
          -0.5108597070798586,
          0.12905133080909542,
          0.3449053470374282,
          0.0766504080888916,
          -1.515901853753896,
          1.553054792584085,
          0.08897000243510644,
          -1.0459050859726782,
          -0.39902139781521845,
          1.2555188182347081,
          -2.0145418672522446,
          -0.27008247237976113,
          0.4903043952555374,
          2.214217040668718,
          -0.36536702022485823,
          -0.9829776507777322,
          -0.1469357916605228,
          0.5679188818392001,
          1.529413014699103,
          -0.3276547721051137,
          -1.0423677573212309,
          0.811616799365819,
          -1.3316013120176349,
          -1.8682578918247865,
          0.9497852481964191,
          -0.48074134536630314,
          -0.4481668902136482,
          -0.4874510603514809,
          0.8886789746157747,
          -0.8885847644458682,
          -0.6885045336406496,
          1.589358536547224,
          -0.6758365158912941,
          -0.40969212660536275,
          0.6746415974540376,
          1.1271460223680927,
          -1.6450552325643122,
          0.12158090294215941,
          1.0007876253334738,
          -1.256378892090455
         ],
         "xaxis": "x6",
         "yaxis": "y6"
        },
        {
         "line": {
          "color": "rgba(128, 128, 128, 1.0)",
          "dash": "solid",
          "shape": "linear",
          "width": 1.3
         },
         "marker": {
          "size": 2,
          "symbol": "circle"
         },
         "mode": "markers",
         "name": "B",
         "text": "",
         "type": "scatter",
         "x": [
          1.2041286763052448,
          -0.7341612192305633,
          -0.5458056090180362,
          -0.060176807033348434,
          -1.461210307868879,
          -0.042962820390264604,
          -1.1112680953319287,
          0.4425994344947499,
          0.1581364727067789,
          1.0523143699302913,
          -0.6852756634925544,
          -2.138283291452284,
          0.26267208157579036,
          0.37372183885347143,
          0.8213211099006584,
          -0.8154119669655834,
          0.38096982250192774,
          0.3370927626585573,
          0.8661579662151041,
          0.5922180910315239,
          -0.246750931009974,
          -0.9512094621196407,
          -1.279912153943022,
          -1.0318148862660201,
          -1.2832182702457628,
          0.24335563499257745,
          -0.49710382848007084,
          -2.9933342420800924,
          -0.6978903685053779,
          2.3069038297787072,
          1.1972196152142145,
          0.5005035356788747,
          0.7297790581122335,
          -0.15941717349860096,
          -0.5181303473438783,
          -0.5934618471232722,
          0.8995817172937732,
          1.4236306634076306,
          0.13458851966672683,
          -1.9244973003383656,
          -0.4396687465651273,
          0.43148518125632296,
          -0.1045871680622103,
          -1.5154907586013207,
          0.9195989783041805,
          -0.5680229856548504,
          -1.0279969155715944,
          -0.7050486050975706,
          1.657409308353311,
          0.43853218340055466,
          0.4453702568775285,
          -0.8589282128077184,
          0.6917317701189633,
          0.4874349454596271,
          -0.05415017783183345,
          0.6786386411680831,
          0.49941202879755286,
          -0.09355296913250151,
          -0.39456615110421206,
          0.945327187041317,
          -0.1592104734693847,
          2.3917432164498007,
          -0.506147738239636,
          -0.26501055918580796,
          0.256761716941572,
          -2.0970130189996263,
          2.080817157003123,
          -1.969713916536074,
          1.2186284182395668,
          -0.6754697490087247,
          0.0864288898960222,
          -1.2623278342411035,
          -1.5782667637365249,
          -0.03995829079015229,
          0.4184420663801775,
          -0.5544865869156967,
          0.4917122214543861,
          -0.06530864944150375,
          -0.11841439565633523,
          0.6511421435271256,
          1.027365203598178,
          -1.0793832565983752,
          0.19273703232535136,
          0.21278608830470566,
          0.6698430690156365,
          -1.1447128329756069,
          -0.1406796689064955,
          0.23141660493699273,
          0.9064832898559017,
          -1.4194927711734235,
          1.7863130491938028,
          1.4143890894685258,
          -1.1686375404626603,
          -1.2767884937582192,
          0.908973163702017,
          0.4903546831594897,
          1.458215782292664,
          -0.1739490839601721,
          -0.08603191853491715,
          -0.30139862355672215
         ],
         "xaxis": "x7",
         "y": [
          0.4382592167411095,
          -0.6309961348420734,
          -0.0395311262178848,
          -0.31428373652841174,
          -1.0100162848027445,
          0.3935453506068354,
          -1.1208413794066048,
          -0.48057193451665925,
          0.07553530507313684,
          -1.732193450923254,
          -0.18194479104436243,
          -1.2768988483331727,
          -0.9010984722462253,
          -0.04831591513783132,
          1.017334361674233,
          2.0659548342501,
          -1.3257645889148622,
          1.1439743874680193,
          -0.5955125539431376,
          1.5396128052705145,
          -0.3056876386133438,
          -0.3877195935848514,
          -0.26289468030335533,
          0.8933171597993632,
          0.28295230371184565,
          -2.0381890153955404,
          -0.8598396093738542,
          -1.6518707199339169,
          1.315608649571582,
          -1.1411519377453063,
          -1.1360395440453932,
          -1.7772226648265301,
          0.9650122260771038,
          1.1487983813941074,
          0.6236448087340094,
          0.23376375669016658,
          0.6124046327547832,
          1.438466886570016,
          -1.2648382819818582,
          -0.18510973962669178,
          -0.6786077887679473,
          -0.664905423820725,
          -0.46612759720887575,
          -0.750935532586305,
          0.7553429312716934,
          -0.974797806662005,
          1.0791958284105596,
          -1.4647682070265706,
          -1.131758714727324,
          0.3584005296774685,
          -2.618621262491332,
          0.22598540427059874,
          -0.11981462527459533,
          1.4990841490508868,
          -0.20774363409278152,
          0.6976938911487156,
          -0.6330586023195791,
          1.6187904142539622,
          1.282338045791857,
          0.0802792937980838,
          -0.5108597070798586,
          0.12905133080909542,
          0.3449053470374282,
          0.0766504080888916,
          -1.515901853753896,
          1.553054792584085,
          0.08897000243510644,
          -1.0459050859726782,
          -0.39902139781521845,
          1.2555188182347081,
          -2.0145418672522446,
          -0.27008247237976113,
          0.4903043952555374,
          2.214217040668718,
          -0.36536702022485823,
          -0.9829776507777322,
          -0.1469357916605228,
          0.5679188818392001,
          1.529413014699103,
          -0.3276547721051137,
          -1.0423677573212309,
          0.811616799365819,
          -1.3316013120176349,
          -1.8682578918247865,
          0.9497852481964191,
          -0.48074134536630314,
          -0.4481668902136482,
          -0.4874510603514809,
          0.8886789746157747,
          -0.8885847644458682,
          -0.6885045336406496,
          1.589358536547224,
          -0.6758365158912941,
          -0.40969212660536275,
          0.6746415974540376,
          1.1271460223680927,
          -1.6450552325643122,
          0.12158090294215941,
          1.0007876253334738,
          -1.256378892090455
         ],
         "yaxis": "y7"
        },
        {
         "line": {
          "color": "rgba(128, 128, 128, 1.0)",
          "dash": "solid",
          "shape": "linear",
          "width": 1.3
         },
         "marker": {
          "size": 2,
          "symbol": "circle"
         },
         "mode": "markers",
         "name": "B",
         "text": "",
         "type": "scatter",
         "x": [
          0.5335617547626704,
          1.11511778820712,
          -0.08010239879881892,
          -2.259130632450229,
          0.1306904956755313,
          -0.10868636704330263,
          -1.2119879393566173,
          0.058401962784051895,
          -1.28475547880816,
          -0.23874716438584068,
          -0.05486944254343988,
          -0.7903758731068092,
          0.5511763376605952,
          0.6598876147808562,
          -1.393544253357598,
          -0.22141033511022082,
          1.3723354165859456,
          -2.295330139910439,
          0.7048578956406352,
          -1.3456434351515638,
          1.1330308424283735,
          -1.6303682417443779,
          1.1458167157730648,
          0.3412691509585753,
          -1.4814410312878,
          0.7056244817874007,
          -0.35631268737456484,
          -1.4973624280243167,
          -2.384006313434215,
          -0.4603706240551062,
          -0.3396935582570401,
          -1.7531152695661887,
          1.3317539945057488,
          0.03028900886027697,
          0.003446055668178733,
          0.6235875867000816,
          2.2119702214189525,
          0.09084069260464103,
          0.2455822204067303,
          -0.6571322155562199,
          -0.16271374185554327,
          -0.643073675919325,
          -1.9137010323432584,
          -0.7764981602357823,
          -0.44312146885367115,
          -1.7356585778027214,
          0.24444323790835046,
          0.7104679959661663,
          -1.3390136550043847,
          0.16366534129867924,
          -0.6047531524042749,
          1.2553527366235804,
          -0.6701759062038355,
          0.9363081857722896,
          0.8211474912961345,
          -1.8240721473503028,
          0.45230942549634595,
          2.1574505417899834,
          -0.062096453693924164,
          2.369880887091539,
          -1.0804781096479488,
          -1.3240023935686234,
          0.1891364017721843,
          1.4454723116515689,
          0.2670018973992693,
          0.3843716971280922,
          -0.9649721651660574,
          -1.0909805836656126,
          0.27081041390492183,
          1.153388859206965,
          0.38281022895155126,
          -0.8713849540757779,
          2.0528631419834227,
          1.5097740524964776,
          -0.5438358420554982,
          -0.07034753062399098,
          -0.8942657348846185,
          0.9487048514799492,
          1.3008219239253918,
          -0.5290864305394178,
          -1.7064792654511123,
          -0.19315259821983888,
          0.16849549170129602,
          0.3616001588411008,
          0.026682942900016677,
          1.2430267142940021,
          1.8288506123013686,
          -0.6461015794148398,
          -0.03903876462222602,
          -0.7345934981355124,
          -1.267407423342911,
          0.020312121797485937,
          -0.6162696698678704,
          -0.8700178732099789,
          0.48554238667112404,
          0.26801570273470005,
          0.103588232775617,
          0.12065839577974721,
          1.3510822698238307,
          0.3829175412191313
         ],
         "xaxis": "x8",
         "y": [
          0.4382592167411095,
          -0.6309961348420734,
          -0.0395311262178848,
          -0.31428373652841174,
          -1.0100162848027445,
          0.3935453506068354,
          -1.1208413794066048,
          -0.48057193451665925,
          0.07553530507313684,
          -1.732193450923254,
          -0.18194479104436243,
          -1.2768988483331727,
          -0.9010984722462253,
          -0.04831591513783132,
          1.017334361674233,
          2.0659548342501,
          -1.3257645889148622,
          1.1439743874680193,
          -0.5955125539431376,
          1.5396128052705145,
          -0.3056876386133438,
          -0.3877195935848514,
          -0.26289468030335533,
          0.8933171597993632,
          0.28295230371184565,
          -2.0381890153955404,
          -0.8598396093738542,
          -1.6518707199339169,
          1.315608649571582,
          -1.1411519377453063,
          -1.1360395440453932,
          -1.7772226648265301,
          0.9650122260771038,
          1.1487983813941074,
          0.6236448087340094,
          0.23376375669016658,
          0.6124046327547832,
          1.438466886570016,
          -1.2648382819818582,
          -0.18510973962669178,
          -0.6786077887679473,
          -0.664905423820725,
          -0.46612759720887575,
          -0.750935532586305,
          0.7553429312716934,
          -0.974797806662005,
          1.0791958284105596,
          -1.4647682070265706,
          -1.131758714727324,
          0.3584005296774685,
          -2.618621262491332,
          0.22598540427059874,
          -0.11981462527459533,
          1.4990841490508868,
          -0.20774363409278152,
          0.6976938911487156,
          -0.6330586023195791,
          1.6187904142539622,
          1.282338045791857,
          0.0802792937980838,
          -0.5108597070798586,
          0.12905133080909542,
          0.3449053470374282,
          0.0766504080888916,
          -1.515901853753896,
          1.553054792584085,
          0.08897000243510644,
          -1.0459050859726782,
          -0.39902139781521845,
          1.2555188182347081,
          -2.0145418672522446,
          -0.27008247237976113,
          0.4903043952555374,
          2.214217040668718,
          -0.36536702022485823,
          -0.9829776507777322,
          -0.1469357916605228,
          0.5679188818392001,
          1.529413014699103,
          -0.3276547721051137,
          -1.0423677573212309,
          0.811616799365819,
          -1.3316013120176349,
          -1.8682578918247865,
          0.9497852481964191,
          -0.48074134536630314,
          -0.4481668902136482,
          -0.4874510603514809,
          0.8886789746157747,
          -0.8885847644458682,
          -0.6885045336406496,
          1.589358536547224,
          -0.6758365158912941,
          -0.40969212660536275,
          0.6746415974540376,
          1.1271460223680927,
          -1.6450552325643122,
          0.12158090294215941,
          1.0007876253334738,
          -1.256378892090455
         ],
         "yaxis": "y8"
        },
        {
         "line": {
          "color": "rgba(128, 128, 128, 1.0)",
          "dash": "solid",
          "shape": "linear",
          "width": 1.3
         },
         "marker": {
          "size": 2,
          "symbol": "circle"
         },
         "mode": "markers",
         "name": "C",
         "text": "",
         "type": "scatter",
         "x": [
          -1.7551052678663162,
          0.3844705852588308,
          -2.036235857734799,
          -0.4777192690016541,
          1.4543579926789922,
          -0.09237757661484672,
          0.6119764070206649,
          1.2237887733721426,
          -1.7337095285419843,
          -0.09984401561568264,
          -0.4649631618162517,
          0.9998649026069217,
          -0.6943268284110494,
          -0.72841097667062,
          -0.4417144240902041,
          -0.004464788666717921,
          0.07531256094745666,
          0.819040457639244,
          -0.4567053715819427,
          -0.5963208419744218,
          0.20953116501771618,
          -0.6853725302321193,
          -0.4001354564558299,
          0.6480780792891775,
          0.21240416189485206,
          0.14312795229648412,
          1.4393143026131452,
          0.7837815407286436,
          0.7467555023995134,
          0.29599035733768936,
          -0.7218712504422361,
          -1.25193389495634,
          0.03611354174396783,
          -0.03200300201512434,
          -1.1826084205945602,
          -1.4446328395682333,
          -0.04401236980398926,
          1.148871152117295,
          -0.14011474199688925,
          0.06115179255331545,
          0.868403061018585,
          0.5428333970190617,
          2.023958447325256,
          1.298799841292337,
          0.3078105580800464,
          0.6071874163245976,
          0.8972500697072223,
          -0.9315584354567149,
          0.17846500752828248,
          0.4284783757579867,
          -1.2333721181585848,
          -0.5601363807245684,
          0.09472304319338498,
          1.778688134912088,
          -1.8021319258488775,
          -0.7791449714553991,
          -0.5839473586620774,
          -0.7253804597334422,
          -0.9232769368882936,
          -0.6139384413256993,
          -0.06283253701103511,
          -0.9172264457972898,
          1.274365195722724,
          -0.23411960543441399,
          -0.8057448573292509,
          0.7054532319615852,
          -1.1036282271372015,
          0.6513618183801033,
          1.6919479921315315,
          2.0298722949294987,
          -0.7413914397119926,
          1.6472076306959016,
          0.6975377328009644,
          -2.5744066196418682,
          -1.1618031599466374,
          1.191995297707877,
          0.3357604375348084,
          0.528360105058137,
          -2.426809770915547,
          -1.4970050996342303,
          0.5012670828793494,
          -0.4144372147571527,
          -1.5032345584573734,
          -0.5645262794150616,
          0.9074324916191596,
          0.5291147311047883,
          1.27378422165143,
          0.8144032756088596,
          0.22763909553884226,
          0.04666463041197144,
          -0.2909034169358753,
          1.2439472755893324,
          -0.5030014312921158,
          -2.04618571072768,
          -1.9776242737576282,
          -0.7784135744681734,
          -0.43542356262032955,
          0.3511218761609181,
          0.6690302299966587,
          -2.937691978255148
         ],
         "xaxis": "x9",
         "y": [
          1.2041286763052448,
          -0.7341612192305633,
          -0.5458056090180362,
          -0.060176807033348434,
          -1.461210307868879,
          -0.042962820390264604,
          -1.1112680953319287,
          0.4425994344947499,
          0.1581364727067789,
          1.0523143699302913,
          -0.6852756634925544,
          -2.138283291452284,
          0.26267208157579036,
          0.37372183885347143,
          0.8213211099006584,
          -0.8154119669655834,
          0.38096982250192774,
          0.3370927626585573,
          0.8661579662151041,
          0.5922180910315239,
          -0.246750931009974,
          -0.9512094621196407,
          -1.279912153943022,
          -1.0318148862660201,
          -1.2832182702457628,
          0.24335563499257745,
          -0.49710382848007084,
          -2.9933342420800924,
          -0.6978903685053779,
          2.3069038297787072,
          1.1972196152142145,
          0.5005035356788747,
          0.7297790581122335,
          -0.15941717349860096,
          -0.5181303473438783,
          -0.5934618471232722,
          0.8995817172937732,
          1.4236306634076306,
          0.13458851966672683,
          -1.9244973003383656,
          -0.4396687465651273,
          0.43148518125632296,
          -0.1045871680622103,
          -1.5154907586013207,
          0.9195989783041805,
          -0.5680229856548504,
          -1.0279969155715944,
          -0.7050486050975706,
          1.657409308353311,
          0.43853218340055466,
          0.4453702568775285,
          -0.8589282128077184,
          0.6917317701189633,
          0.4874349454596271,
          -0.05415017783183345,
          0.6786386411680831,
          0.49941202879755286,
          -0.09355296913250151,
          -0.39456615110421206,
          0.945327187041317,
          -0.1592104734693847,
          2.3917432164498007,
          -0.506147738239636,
          -0.26501055918580796,
          0.256761716941572,
          -2.0970130189996263,
          2.080817157003123,
          -1.969713916536074,
          1.2186284182395668,
          -0.6754697490087247,
          0.0864288898960222,
          -1.2623278342411035,
          -1.5782667637365249,
          -0.03995829079015229,
          0.4184420663801775,
          -0.5544865869156967,
          0.4917122214543861,
          -0.06530864944150375,
          -0.11841439565633523,
          0.6511421435271256,
          1.027365203598178,
          -1.0793832565983752,
          0.19273703232535136,
          0.21278608830470566,
          0.6698430690156365,
          -1.1447128329756069,
          -0.1406796689064955,
          0.23141660493699273,
          0.9064832898559017,
          -1.4194927711734235,
          1.7863130491938028,
          1.4143890894685258,
          -1.1686375404626603,
          -1.2767884937582192,
          0.908973163702017,
          0.4903546831594897,
          1.458215782292664,
          -0.1739490839601721,
          -0.08603191853491715,
          -0.30139862355672215
         ],
         "yaxis": "y9"
        },
        {
         "line": {
          "color": "rgba(128, 128, 128, 1.0)",
          "dash": "solid",
          "shape": "linear",
          "width": 1.3
         },
         "marker": {
          "size": 2,
          "symbol": "circle"
         },
         "mode": "markers",
         "name": "C",
         "text": "",
         "type": "scatter",
         "x": [
          0.4382592167411095,
          -0.6309961348420734,
          -0.0395311262178848,
          -0.31428373652841174,
          -1.0100162848027445,
          0.3935453506068354,
          -1.1208413794066048,
          -0.48057193451665925,
          0.07553530507313684,
          -1.732193450923254,
          -0.18194479104436243,
          -1.2768988483331727,
          -0.9010984722462253,
          -0.04831591513783132,
          1.017334361674233,
          2.0659548342501,
          -1.3257645889148622,
          1.1439743874680193,
          -0.5955125539431376,
          1.5396128052705145,
          -0.3056876386133438,
          -0.3877195935848514,
          -0.26289468030335533,
          0.8933171597993632,
          0.28295230371184565,
          -2.0381890153955404,
          -0.8598396093738542,
          -1.6518707199339169,
          1.315608649571582,
          -1.1411519377453063,
          -1.1360395440453932,
          -1.7772226648265301,
          0.9650122260771038,
          1.1487983813941074,
          0.6236448087340094,
          0.23376375669016658,
          0.6124046327547832,
          1.438466886570016,
          -1.2648382819818582,
          -0.18510973962669178,
          -0.6786077887679473,
          -0.664905423820725,
          -0.46612759720887575,
          -0.750935532586305,
          0.7553429312716934,
          -0.974797806662005,
          1.0791958284105596,
          -1.4647682070265706,
          -1.131758714727324,
          0.3584005296774685,
          -2.618621262491332,
          0.22598540427059874,
          -0.11981462527459533,
          1.4990841490508868,
          -0.20774363409278152,
          0.6976938911487156,
          -0.6330586023195791,
          1.6187904142539622,
          1.282338045791857,
          0.0802792937980838,
          -0.5108597070798586,
          0.12905133080909542,
          0.3449053470374282,
          0.0766504080888916,
          -1.515901853753896,
          1.553054792584085,
          0.08897000243510644,
          -1.0459050859726782,
          -0.39902139781521845,
          1.2555188182347081,
          -2.0145418672522446,
          -0.27008247237976113,
          0.4903043952555374,
          2.214217040668718,
          -0.36536702022485823,
          -0.9829776507777322,
          -0.1469357916605228,
          0.5679188818392001,
          1.529413014699103,
          -0.3276547721051137,
          -1.0423677573212309,
          0.811616799365819,
          -1.3316013120176349,
          -1.8682578918247865,
          0.9497852481964191,
          -0.48074134536630314,
          -0.4481668902136482,
          -0.4874510603514809,
          0.8886789746157747,
          -0.8885847644458682,
          -0.6885045336406496,
          1.589358536547224,
          -0.6758365158912941,
          -0.40969212660536275,
          0.6746415974540376,
          1.1271460223680927,
          -1.6450552325643122,
          0.12158090294215941,
          1.0007876253334738,
          -1.256378892090455
         ],
         "xaxis": "x10",
         "y": [
          1.2041286763052448,
          -0.7341612192305633,
          -0.5458056090180362,
          -0.060176807033348434,
          -1.461210307868879,
          -0.042962820390264604,
          -1.1112680953319287,
          0.4425994344947499,
          0.1581364727067789,
          1.0523143699302913,
          -0.6852756634925544,
          -2.138283291452284,
          0.26267208157579036,
          0.37372183885347143,
          0.8213211099006584,
          -0.8154119669655834,
          0.38096982250192774,
          0.3370927626585573,
          0.8661579662151041,
          0.5922180910315239,
          -0.246750931009974,
          -0.9512094621196407,
          -1.279912153943022,
          -1.0318148862660201,
          -1.2832182702457628,
          0.24335563499257745,
          -0.49710382848007084,
          -2.9933342420800924,
          -0.6978903685053779,
          2.3069038297787072,
          1.1972196152142145,
          0.5005035356788747,
          0.7297790581122335,
          -0.15941717349860096,
          -0.5181303473438783,
          -0.5934618471232722,
          0.8995817172937732,
          1.4236306634076306,
          0.13458851966672683,
          -1.9244973003383656,
          -0.4396687465651273,
          0.43148518125632296,
          -0.1045871680622103,
          -1.5154907586013207,
          0.9195989783041805,
          -0.5680229856548504,
          -1.0279969155715944,
          -0.7050486050975706,
          1.657409308353311,
          0.43853218340055466,
          0.4453702568775285,
          -0.8589282128077184,
          0.6917317701189633,
          0.4874349454596271,
          -0.05415017783183345,
          0.6786386411680831,
          0.49941202879755286,
          -0.09355296913250151,
          -0.39456615110421206,
          0.945327187041317,
          -0.1592104734693847,
          2.3917432164498007,
          -0.506147738239636,
          -0.26501055918580796,
          0.256761716941572,
          -2.0970130189996263,
          2.080817157003123,
          -1.969713916536074,
          1.2186284182395668,
          -0.6754697490087247,
          0.0864288898960222,
          -1.2623278342411035,
          -1.5782667637365249,
          -0.03995829079015229,
          0.4184420663801775,
          -0.5544865869156967,
          0.4917122214543861,
          -0.06530864944150375,
          -0.11841439565633523,
          0.6511421435271256,
          1.027365203598178,
          -1.0793832565983752,
          0.19273703232535136,
          0.21278608830470566,
          0.6698430690156365,
          -1.1447128329756069,
          -0.1406796689064955,
          0.23141660493699273,
          0.9064832898559017,
          -1.4194927711734235,
          1.7863130491938028,
          1.4143890894685258,
          -1.1686375404626603,
          -1.2767884937582192,
          0.908973163702017,
          0.4903546831594897,
          1.458215782292664,
          -0.1739490839601721,
          -0.08603191853491715,
          -0.30139862355672215
         ],
         "yaxis": "y10"
        },
        {
         "histfunc": "count",
         "histnorm": "",
         "marker": {
          "color": "rgba(50, 171, 96, 1.0)",
          "line": {
           "color": "#4D5663",
           "width": 1.3
          }
         },
         "name": "C",
         "nbinsx": 10,
         "opacity": 0.8,
         "orientation": "v",
         "type": "histogram",
         "x": [
          1.2041286763052448,
          -0.7341612192305633,
          -0.5458056090180362,
          -0.060176807033348434,
          -1.461210307868879,
          -0.042962820390264604,
          -1.1112680953319287,
          0.4425994344947499,
          0.1581364727067789,
          1.0523143699302913,
          -0.6852756634925544,
          -2.138283291452284,
          0.26267208157579036,
          0.37372183885347143,
          0.8213211099006584,
          -0.8154119669655834,
          0.38096982250192774,
          0.3370927626585573,
          0.8661579662151041,
          0.5922180910315239,
          -0.246750931009974,
          -0.9512094621196407,
          -1.279912153943022,
          -1.0318148862660201,
          -1.2832182702457628,
          0.24335563499257745,
          -0.49710382848007084,
          -2.9933342420800924,
          -0.6978903685053779,
          2.3069038297787072,
          1.1972196152142145,
          0.5005035356788747,
          0.7297790581122335,
          -0.15941717349860096,
          -0.5181303473438783,
          -0.5934618471232722,
          0.8995817172937732,
          1.4236306634076306,
          0.13458851966672683,
          -1.9244973003383656,
          -0.4396687465651273,
          0.43148518125632296,
          -0.1045871680622103,
          -1.5154907586013207,
          0.9195989783041805,
          -0.5680229856548504,
          -1.0279969155715944,
          -0.7050486050975706,
          1.657409308353311,
          0.43853218340055466,
          0.4453702568775285,
          -0.8589282128077184,
          0.6917317701189633,
          0.4874349454596271,
          -0.05415017783183345,
          0.6786386411680831,
          0.49941202879755286,
          -0.09355296913250151,
          -0.39456615110421206,
          0.945327187041317,
          -0.1592104734693847,
          2.3917432164498007,
          -0.506147738239636,
          -0.26501055918580796,
          0.256761716941572,
          -2.0970130189996263,
          2.080817157003123,
          -1.969713916536074,
          1.2186284182395668,
          -0.6754697490087247,
          0.0864288898960222,
          -1.2623278342411035,
          -1.5782667637365249,
          -0.03995829079015229,
          0.4184420663801775,
          -0.5544865869156967,
          0.4917122214543861,
          -0.06530864944150375,
          -0.11841439565633523,
          0.6511421435271256,
          1.027365203598178,
          -1.0793832565983752,
          0.19273703232535136,
          0.21278608830470566,
          0.6698430690156365,
          -1.1447128329756069,
          -0.1406796689064955,
          0.23141660493699273,
          0.9064832898559017,
          -1.4194927711734235,
          1.7863130491938028,
          1.4143890894685258,
          -1.1686375404626603,
          -1.2767884937582192,
          0.908973163702017,
          0.4903546831594897,
          1.458215782292664,
          -0.1739490839601721,
          -0.08603191853491715,
          -0.30139862355672215
         ],
         "xaxis": "x11",
         "yaxis": "y11"
        },
        {
         "line": {
          "color": "rgba(128, 128, 128, 1.0)",
          "dash": "solid",
          "shape": "linear",
          "width": 1.3
         },
         "marker": {
          "size": 2,
          "symbol": "circle"
         },
         "mode": "markers",
         "name": "C",
         "text": "",
         "type": "scatter",
         "x": [
          0.5335617547626704,
          1.11511778820712,
          -0.08010239879881892,
          -2.259130632450229,
          0.1306904956755313,
          -0.10868636704330263,
          -1.2119879393566173,
          0.058401962784051895,
          -1.28475547880816,
          -0.23874716438584068,
          -0.05486944254343988,
          -0.7903758731068092,
          0.5511763376605952,
          0.6598876147808562,
          -1.393544253357598,
          -0.22141033511022082,
          1.3723354165859456,
          -2.295330139910439,
          0.7048578956406352,
          -1.3456434351515638,
          1.1330308424283735,
          -1.6303682417443779,
          1.1458167157730648,
          0.3412691509585753,
          -1.4814410312878,
          0.7056244817874007,
          -0.35631268737456484,
          -1.4973624280243167,
          -2.384006313434215,
          -0.4603706240551062,
          -0.3396935582570401,
          -1.7531152695661887,
          1.3317539945057488,
          0.03028900886027697,
          0.003446055668178733,
          0.6235875867000816,
          2.2119702214189525,
          0.09084069260464103,
          0.2455822204067303,
          -0.6571322155562199,
          -0.16271374185554327,
          -0.643073675919325,
          -1.9137010323432584,
          -0.7764981602357823,
          -0.44312146885367115,
          -1.7356585778027214,
          0.24444323790835046,
          0.7104679959661663,
          -1.3390136550043847,
          0.16366534129867924,
          -0.6047531524042749,
          1.2553527366235804,
          -0.6701759062038355,
          0.9363081857722896,
          0.8211474912961345,
          -1.8240721473503028,
          0.45230942549634595,
          2.1574505417899834,
          -0.062096453693924164,
          2.369880887091539,
          -1.0804781096479488,
          -1.3240023935686234,
          0.1891364017721843,
          1.4454723116515689,
          0.2670018973992693,
          0.3843716971280922,
          -0.9649721651660574,
          -1.0909805836656126,
          0.27081041390492183,
          1.153388859206965,
          0.38281022895155126,
          -0.8713849540757779,
          2.0528631419834227,
          1.5097740524964776,
          -0.5438358420554982,
          -0.07034753062399098,
          -0.8942657348846185,
          0.9487048514799492,
          1.3008219239253918,
          -0.5290864305394178,
          -1.7064792654511123,
          -0.19315259821983888,
          0.16849549170129602,
          0.3616001588411008,
          0.026682942900016677,
          1.2430267142940021,
          1.8288506123013686,
          -0.6461015794148398,
          -0.03903876462222602,
          -0.7345934981355124,
          -1.267407423342911,
          0.020312121797485937,
          -0.6162696698678704,
          -0.8700178732099789,
          0.48554238667112404,
          0.26801570273470005,
          0.103588232775617,
          0.12065839577974721,
          1.3510822698238307,
          0.3829175412191313
         ],
         "xaxis": "x12",
         "y": [
          1.2041286763052448,
          -0.7341612192305633,
          -0.5458056090180362,
          -0.060176807033348434,
          -1.461210307868879,
          -0.042962820390264604,
          -1.1112680953319287,
          0.4425994344947499,
          0.1581364727067789,
          1.0523143699302913,
          -0.6852756634925544,
          -2.138283291452284,
          0.26267208157579036,
          0.37372183885347143,
          0.8213211099006584,
          -0.8154119669655834,
          0.38096982250192774,
          0.3370927626585573,
          0.8661579662151041,
          0.5922180910315239,
          -0.246750931009974,
          -0.9512094621196407,
          -1.279912153943022,
          -1.0318148862660201,
          -1.2832182702457628,
          0.24335563499257745,
          -0.49710382848007084,
          -2.9933342420800924,
          -0.6978903685053779,
          2.3069038297787072,
          1.1972196152142145,
          0.5005035356788747,
          0.7297790581122335,
          -0.15941717349860096,
          -0.5181303473438783,
          -0.5934618471232722,
          0.8995817172937732,
          1.4236306634076306,
          0.13458851966672683,
          -1.9244973003383656,
          -0.4396687465651273,
          0.43148518125632296,
          -0.1045871680622103,
          -1.5154907586013207,
          0.9195989783041805,
          -0.5680229856548504,
          -1.0279969155715944,
          -0.7050486050975706,
          1.657409308353311,
          0.43853218340055466,
          0.4453702568775285,
          -0.8589282128077184,
          0.6917317701189633,
          0.4874349454596271,
          -0.05415017783183345,
          0.6786386411680831,
          0.49941202879755286,
          -0.09355296913250151,
          -0.39456615110421206,
          0.945327187041317,
          -0.1592104734693847,
          2.3917432164498007,
          -0.506147738239636,
          -0.26501055918580796,
          0.256761716941572,
          -2.0970130189996263,
          2.080817157003123,
          -1.969713916536074,
          1.2186284182395668,
          -0.6754697490087247,
          0.0864288898960222,
          -1.2623278342411035,
          -1.5782667637365249,
          -0.03995829079015229,
          0.4184420663801775,
          -0.5544865869156967,
          0.4917122214543861,
          -0.06530864944150375,
          -0.11841439565633523,
          0.6511421435271256,
          1.027365203598178,
          -1.0793832565983752,
          0.19273703232535136,
          0.21278608830470566,
          0.6698430690156365,
          -1.1447128329756069,
          -0.1406796689064955,
          0.23141660493699273,
          0.9064832898559017,
          -1.4194927711734235,
          1.7863130491938028,
          1.4143890894685258,
          -1.1686375404626603,
          -1.2767884937582192,
          0.908973163702017,
          0.4903546831594897,
          1.458215782292664,
          -0.1739490839601721,
          -0.08603191853491715,
          -0.30139862355672215
         ],
         "yaxis": "y12"
        },
        {
         "line": {
          "color": "rgba(128, 128, 128, 1.0)",
          "dash": "solid",
          "shape": "linear",
          "width": 1.3
         },
         "marker": {
          "size": 2,
          "symbol": "circle"
         },
         "mode": "markers",
         "name": "D",
         "text": "",
         "type": "scatter",
         "x": [
          -1.7551052678663162,
          0.3844705852588308,
          -2.036235857734799,
          -0.4777192690016541,
          1.4543579926789922,
          -0.09237757661484672,
          0.6119764070206649,
          1.2237887733721426,
          -1.7337095285419843,
          -0.09984401561568264,
          -0.4649631618162517,
          0.9998649026069217,
          -0.6943268284110494,
          -0.72841097667062,
          -0.4417144240902041,
          -0.004464788666717921,
          0.07531256094745666,
          0.819040457639244,
          -0.4567053715819427,
          -0.5963208419744218,
          0.20953116501771618,
          -0.6853725302321193,
          -0.4001354564558299,
          0.6480780792891775,
          0.21240416189485206,
          0.14312795229648412,
          1.4393143026131452,
          0.7837815407286436,
          0.7467555023995134,
          0.29599035733768936,
          -0.7218712504422361,
          -1.25193389495634,
          0.03611354174396783,
          -0.03200300201512434,
          -1.1826084205945602,
          -1.4446328395682333,
          -0.04401236980398926,
          1.148871152117295,
          -0.14011474199688925,
          0.06115179255331545,
          0.868403061018585,
          0.5428333970190617,
          2.023958447325256,
          1.298799841292337,
          0.3078105580800464,
          0.6071874163245976,
          0.8972500697072223,
          -0.9315584354567149,
          0.17846500752828248,
          0.4284783757579867,
          -1.2333721181585848,
          -0.5601363807245684,
          0.09472304319338498,
          1.778688134912088,
          -1.8021319258488775,
          -0.7791449714553991,
          -0.5839473586620774,
          -0.7253804597334422,
          -0.9232769368882936,
          -0.6139384413256993,
          -0.06283253701103511,
          -0.9172264457972898,
          1.274365195722724,
          -0.23411960543441399,
          -0.8057448573292509,
          0.7054532319615852,
          -1.1036282271372015,
          0.6513618183801033,
          1.6919479921315315,
          2.0298722949294987,
          -0.7413914397119926,
          1.6472076306959016,
          0.6975377328009644,
          -2.5744066196418682,
          -1.1618031599466374,
          1.191995297707877,
          0.3357604375348084,
          0.528360105058137,
          -2.426809770915547,
          -1.4970050996342303,
          0.5012670828793494,
          -0.4144372147571527,
          -1.5032345584573734,
          -0.5645262794150616,
          0.9074324916191596,
          0.5291147311047883,
          1.27378422165143,
          0.8144032756088596,
          0.22763909553884226,
          0.04666463041197144,
          -0.2909034169358753,
          1.2439472755893324,
          -0.5030014312921158,
          -2.04618571072768,
          -1.9776242737576282,
          -0.7784135744681734,
          -0.43542356262032955,
          0.3511218761609181,
          0.6690302299966587,
          -2.937691978255148
         ],
         "xaxis": "x13",
         "y": [
          0.5335617547626704,
          1.11511778820712,
          -0.08010239879881892,
          -2.259130632450229,
          0.1306904956755313,
          -0.10868636704330263,
          -1.2119879393566173,
          0.058401962784051895,
          -1.28475547880816,
          -0.23874716438584068,
          -0.05486944254343988,
          -0.7903758731068092,
          0.5511763376605952,
          0.6598876147808562,
          -1.393544253357598,
          -0.22141033511022082,
          1.3723354165859456,
          -2.295330139910439,
          0.7048578956406352,
          -1.3456434351515638,
          1.1330308424283735,
          -1.6303682417443779,
          1.1458167157730648,
          0.3412691509585753,
          -1.4814410312878,
          0.7056244817874007,
          -0.35631268737456484,
          -1.4973624280243167,
          -2.384006313434215,
          -0.4603706240551062,
          -0.3396935582570401,
          -1.7531152695661887,
          1.3317539945057488,
          0.03028900886027697,
          0.003446055668178733,
          0.6235875867000816,
          2.2119702214189525,
          0.09084069260464103,
          0.2455822204067303,
          -0.6571322155562199,
          -0.16271374185554327,
          -0.643073675919325,
          -1.9137010323432584,
          -0.7764981602357823,
          -0.44312146885367115,
          -1.7356585778027214,
          0.24444323790835046,
          0.7104679959661663,
          -1.3390136550043847,
          0.16366534129867924,
          -0.6047531524042749,
          1.2553527366235804,
          -0.6701759062038355,
          0.9363081857722896,
          0.8211474912961345,
          -1.8240721473503028,
          0.45230942549634595,
          2.1574505417899834,
          -0.062096453693924164,
          2.369880887091539,
          -1.0804781096479488,
          -1.3240023935686234,
          0.1891364017721843,
          1.4454723116515689,
          0.2670018973992693,
          0.3843716971280922,
          -0.9649721651660574,
          -1.0909805836656126,
          0.27081041390492183,
          1.153388859206965,
          0.38281022895155126,
          -0.8713849540757779,
          2.0528631419834227,
          1.5097740524964776,
          -0.5438358420554982,
          -0.07034753062399098,
          -0.8942657348846185,
          0.9487048514799492,
          1.3008219239253918,
          -0.5290864305394178,
          -1.7064792654511123,
          -0.19315259821983888,
          0.16849549170129602,
          0.3616001588411008,
          0.026682942900016677,
          1.2430267142940021,
          1.8288506123013686,
          -0.6461015794148398,
          -0.03903876462222602,
          -0.7345934981355124,
          -1.267407423342911,
          0.020312121797485937,
          -0.6162696698678704,
          -0.8700178732099789,
          0.48554238667112404,
          0.26801570273470005,
          0.103588232775617,
          0.12065839577974721,
          1.3510822698238307,
          0.3829175412191313
         ],
         "yaxis": "y13"
        },
        {
         "line": {
          "color": "rgba(128, 128, 128, 1.0)",
          "dash": "solid",
          "shape": "linear",
          "width": 1.3
         },
         "marker": {
          "size": 2,
          "symbol": "circle"
         },
         "mode": "markers",
         "name": "D",
         "text": "",
         "type": "scatter",
         "x": [
          0.4382592167411095,
          -0.6309961348420734,
          -0.0395311262178848,
          -0.31428373652841174,
          -1.0100162848027445,
          0.3935453506068354,
          -1.1208413794066048,
          -0.48057193451665925,
          0.07553530507313684,
          -1.732193450923254,
          -0.18194479104436243,
          -1.2768988483331727,
          -0.9010984722462253,
          -0.04831591513783132,
          1.017334361674233,
          2.0659548342501,
          -1.3257645889148622,
          1.1439743874680193,
          -0.5955125539431376,
          1.5396128052705145,
          -0.3056876386133438,
          -0.3877195935848514,
          -0.26289468030335533,
          0.8933171597993632,
          0.28295230371184565,
          -2.0381890153955404,
          -0.8598396093738542,
          -1.6518707199339169,
          1.315608649571582,
          -1.1411519377453063,
          -1.1360395440453932,
          -1.7772226648265301,
          0.9650122260771038,
          1.1487983813941074,
          0.6236448087340094,
          0.23376375669016658,
          0.6124046327547832,
          1.438466886570016,
          -1.2648382819818582,
          -0.18510973962669178,
          -0.6786077887679473,
          -0.664905423820725,
          -0.46612759720887575,
          -0.750935532586305,
          0.7553429312716934,
          -0.974797806662005,
          1.0791958284105596,
          -1.4647682070265706,
          -1.131758714727324,
          0.3584005296774685,
          -2.618621262491332,
          0.22598540427059874,
          -0.11981462527459533,
          1.4990841490508868,
          -0.20774363409278152,
          0.6976938911487156,
          -0.6330586023195791,
          1.6187904142539622,
          1.282338045791857,
          0.0802792937980838,
          -0.5108597070798586,
          0.12905133080909542,
          0.3449053470374282,
          0.0766504080888916,
          -1.515901853753896,
          1.553054792584085,
          0.08897000243510644,
          -1.0459050859726782,
          -0.39902139781521845,
          1.2555188182347081,
          -2.0145418672522446,
          -0.27008247237976113,
          0.4903043952555374,
          2.214217040668718,
          -0.36536702022485823,
          -0.9829776507777322,
          -0.1469357916605228,
          0.5679188818392001,
          1.529413014699103,
          -0.3276547721051137,
          -1.0423677573212309,
          0.811616799365819,
          -1.3316013120176349,
          -1.8682578918247865,
          0.9497852481964191,
          -0.48074134536630314,
          -0.4481668902136482,
          -0.4874510603514809,
          0.8886789746157747,
          -0.8885847644458682,
          -0.6885045336406496,
          1.589358536547224,
          -0.6758365158912941,
          -0.40969212660536275,
          0.6746415974540376,
          1.1271460223680927,
          -1.6450552325643122,
          0.12158090294215941,
          1.0007876253334738,
          -1.256378892090455
         ],
         "xaxis": "x14",
         "y": [
          0.5335617547626704,
          1.11511778820712,
          -0.08010239879881892,
          -2.259130632450229,
          0.1306904956755313,
          -0.10868636704330263,
          -1.2119879393566173,
          0.058401962784051895,
          -1.28475547880816,
          -0.23874716438584068,
          -0.05486944254343988,
          -0.7903758731068092,
          0.5511763376605952,
          0.6598876147808562,
          -1.393544253357598,
          -0.22141033511022082,
          1.3723354165859456,
          -2.295330139910439,
          0.7048578956406352,
          -1.3456434351515638,
          1.1330308424283735,
          -1.6303682417443779,
          1.1458167157730648,
          0.3412691509585753,
          -1.4814410312878,
          0.7056244817874007,
          -0.35631268737456484,
          -1.4973624280243167,
          -2.384006313434215,
          -0.4603706240551062,
          -0.3396935582570401,
          -1.7531152695661887,
          1.3317539945057488,
          0.03028900886027697,
          0.003446055668178733,
          0.6235875867000816,
          2.2119702214189525,
          0.09084069260464103,
          0.2455822204067303,
          -0.6571322155562199,
          -0.16271374185554327,
          -0.643073675919325,
          -1.9137010323432584,
          -0.7764981602357823,
          -0.44312146885367115,
          -1.7356585778027214,
          0.24444323790835046,
          0.7104679959661663,
          -1.3390136550043847,
          0.16366534129867924,
          -0.6047531524042749,
          1.2553527366235804,
          -0.6701759062038355,
          0.9363081857722896,
          0.8211474912961345,
          -1.8240721473503028,
          0.45230942549634595,
          2.1574505417899834,
          -0.062096453693924164,
          2.369880887091539,
          -1.0804781096479488,
          -1.3240023935686234,
          0.1891364017721843,
          1.4454723116515689,
          0.2670018973992693,
          0.3843716971280922,
          -0.9649721651660574,
          -1.0909805836656126,
          0.27081041390492183,
          1.153388859206965,
          0.38281022895155126,
          -0.8713849540757779,
          2.0528631419834227,
          1.5097740524964776,
          -0.5438358420554982,
          -0.07034753062399098,
          -0.8942657348846185,
          0.9487048514799492,
          1.3008219239253918,
          -0.5290864305394178,
          -1.7064792654511123,
          -0.19315259821983888,
          0.16849549170129602,
          0.3616001588411008,
          0.026682942900016677,
          1.2430267142940021,
          1.8288506123013686,
          -0.6461015794148398,
          -0.03903876462222602,
          -0.7345934981355124,
          -1.267407423342911,
          0.020312121797485937,
          -0.6162696698678704,
          -0.8700178732099789,
          0.48554238667112404,
          0.26801570273470005,
          0.103588232775617,
          0.12065839577974721,
          1.3510822698238307,
          0.3829175412191313
         ],
         "yaxis": "y14"
        },
        {
         "line": {
          "color": "rgba(128, 128, 128, 1.0)",
          "dash": "solid",
          "shape": "linear",
          "width": 1.3
         },
         "marker": {
          "size": 2,
          "symbol": "circle"
         },
         "mode": "markers",
         "name": "D",
         "text": "",
         "type": "scatter",
         "x": [
          1.2041286763052448,
          -0.7341612192305633,
          -0.5458056090180362,
          -0.060176807033348434,
          -1.461210307868879,
          -0.042962820390264604,
          -1.1112680953319287,
          0.4425994344947499,
          0.1581364727067789,
          1.0523143699302913,
          -0.6852756634925544,
          -2.138283291452284,
          0.26267208157579036,
          0.37372183885347143,
          0.8213211099006584,
          -0.8154119669655834,
          0.38096982250192774,
          0.3370927626585573,
          0.8661579662151041,
          0.5922180910315239,
          -0.246750931009974,
          -0.9512094621196407,
          -1.279912153943022,
          -1.0318148862660201,
          -1.2832182702457628,
          0.24335563499257745,
          -0.49710382848007084,
          -2.9933342420800924,
          -0.6978903685053779,
          2.3069038297787072,
          1.1972196152142145,
          0.5005035356788747,
          0.7297790581122335,
          -0.15941717349860096,
          -0.5181303473438783,
          -0.5934618471232722,
          0.8995817172937732,
          1.4236306634076306,
          0.13458851966672683,
          -1.9244973003383656,
          -0.4396687465651273,
          0.43148518125632296,
          -0.1045871680622103,
          -1.5154907586013207,
          0.9195989783041805,
          -0.5680229856548504,
          -1.0279969155715944,
          -0.7050486050975706,
          1.657409308353311,
          0.43853218340055466,
          0.4453702568775285,
          -0.8589282128077184,
          0.6917317701189633,
          0.4874349454596271,
          -0.05415017783183345,
          0.6786386411680831,
          0.49941202879755286,
          -0.09355296913250151,
          -0.39456615110421206,
          0.945327187041317,
          -0.1592104734693847,
          2.3917432164498007,
          -0.506147738239636,
          -0.26501055918580796,
          0.256761716941572,
          -2.0970130189996263,
          2.080817157003123,
          -1.969713916536074,
          1.2186284182395668,
          -0.6754697490087247,
          0.0864288898960222,
          -1.2623278342411035,
          -1.5782667637365249,
          -0.03995829079015229,
          0.4184420663801775,
          -0.5544865869156967,
          0.4917122214543861,
          -0.06530864944150375,
          -0.11841439565633523,
          0.6511421435271256,
          1.027365203598178,
          -1.0793832565983752,
          0.19273703232535136,
          0.21278608830470566,
          0.6698430690156365,
          -1.1447128329756069,
          -0.1406796689064955,
          0.23141660493699273,
          0.9064832898559017,
          -1.4194927711734235,
          1.7863130491938028,
          1.4143890894685258,
          -1.1686375404626603,
          -1.2767884937582192,
          0.908973163702017,
          0.4903546831594897,
          1.458215782292664,
          -0.1739490839601721,
          -0.08603191853491715,
          -0.30139862355672215
         ],
         "xaxis": "x15",
         "y": [
          0.5335617547626704,
          1.11511778820712,
          -0.08010239879881892,
          -2.259130632450229,
          0.1306904956755313,
          -0.10868636704330263,
          -1.2119879393566173,
          0.058401962784051895,
          -1.28475547880816,
          -0.23874716438584068,
          -0.05486944254343988,
          -0.7903758731068092,
          0.5511763376605952,
          0.6598876147808562,
          -1.393544253357598,
          -0.22141033511022082,
          1.3723354165859456,
          -2.295330139910439,
          0.7048578956406352,
          -1.3456434351515638,
          1.1330308424283735,
          -1.6303682417443779,
          1.1458167157730648,
          0.3412691509585753,
          -1.4814410312878,
          0.7056244817874007,
          -0.35631268737456484,
          -1.4973624280243167,
          -2.384006313434215,
          -0.4603706240551062,
          -0.3396935582570401,
          -1.7531152695661887,
          1.3317539945057488,
          0.03028900886027697,
          0.003446055668178733,
          0.6235875867000816,
          2.2119702214189525,
          0.09084069260464103,
          0.2455822204067303,
          -0.6571322155562199,
          -0.16271374185554327,
          -0.643073675919325,
          -1.9137010323432584,
          -0.7764981602357823,
          -0.44312146885367115,
          -1.7356585778027214,
          0.24444323790835046,
          0.7104679959661663,
          -1.3390136550043847,
          0.16366534129867924,
          -0.6047531524042749,
          1.2553527366235804,
          -0.6701759062038355,
          0.9363081857722896,
          0.8211474912961345,
          -1.8240721473503028,
          0.45230942549634595,
          2.1574505417899834,
          -0.062096453693924164,
          2.369880887091539,
          -1.0804781096479488,
          -1.3240023935686234,
          0.1891364017721843,
          1.4454723116515689,
          0.2670018973992693,
          0.3843716971280922,
          -0.9649721651660574,
          -1.0909805836656126,
          0.27081041390492183,
          1.153388859206965,
          0.38281022895155126,
          -0.8713849540757779,
          2.0528631419834227,
          1.5097740524964776,
          -0.5438358420554982,
          -0.07034753062399098,
          -0.8942657348846185,
          0.9487048514799492,
          1.3008219239253918,
          -0.5290864305394178,
          -1.7064792654511123,
          -0.19315259821983888,
          0.16849549170129602,
          0.3616001588411008,
          0.026682942900016677,
          1.2430267142940021,
          1.8288506123013686,
          -0.6461015794148398,
          -0.03903876462222602,
          -0.7345934981355124,
          -1.267407423342911,
          0.020312121797485937,
          -0.6162696698678704,
          -0.8700178732099789,
          0.48554238667112404,
          0.26801570273470005,
          0.103588232775617,
          0.12065839577974721,
          1.3510822698238307,
          0.3829175412191313
         ],
         "yaxis": "y15"
        },
        {
         "histfunc": "count",
         "histnorm": "",
         "marker": {
          "color": "rgba(128, 0, 128, 1.0)",
          "line": {
           "color": "#4D5663",
           "width": 1.3
          }
         },
         "name": "D",
         "nbinsx": 10,
         "opacity": 0.8,
         "orientation": "v",
         "type": "histogram",
         "x": [
          0.5335617547626704,
          1.11511778820712,
          -0.08010239879881892,
          -2.259130632450229,
          0.1306904956755313,
          -0.10868636704330263,
          -1.2119879393566173,
          0.058401962784051895,
          -1.28475547880816,
          -0.23874716438584068,
          -0.05486944254343988,
          -0.7903758731068092,
          0.5511763376605952,
          0.6598876147808562,
          -1.393544253357598,
          -0.22141033511022082,
          1.3723354165859456,
          -2.295330139910439,
          0.7048578956406352,
          -1.3456434351515638,
          1.1330308424283735,
          -1.6303682417443779,
          1.1458167157730648,
          0.3412691509585753,
          -1.4814410312878,
          0.7056244817874007,
          -0.35631268737456484,
          -1.4973624280243167,
          -2.384006313434215,
          -0.4603706240551062,
          -0.3396935582570401,
          -1.7531152695661887,
          1.3317539945057488,
          0.03028900886027697,
          0.003446055668178733,
          0.6235875867000816,
          2.2119702214189525,
          0.09084069260464103,
          0.2455822204067303,
          -0.6571322155562199,
          -0.16271374185554327,
          -0.643073675919325,
          -1.9137010323432584,
          -0.7764981602357823,
          -0.44312146885367115,
          -1.7356585778027214,
          0.24444323790835046,
          0.7104679959661663,
          -1.3390136550043847,
          0.16366534129867924,
          -0.6047531524042749,
          1.2553527366235804,
          -0.6701759062038355,
          0.9363081857722896,
          0.8211474912961345,
          -1.8240721473503028,
          0.45230942549634595,
          2.1574505417899834,
          -0.062096453693924164,
          2.369880887091539,
          -1.0804781096479488,
          -1.3240023935686234,
          0.1891364017721843,
          1.4454723116515689,
          0.2670018973992693,
          0.3843716971280922,
          -0.9649721651660574,
          -1.0909805836656126,
          0.27081041390492183,
          1.153388859206965,
          0.38281022895155126,
          -0.8713849540757779,
          2.0528631419834227,
          1.5097740524964776,
          -0.5438358420554982,
          -0.07034753062399098,
          -0.8942657348846185,
          0.9487048514799492,
          1.3008219239253918,
          -0.5290864305394178,
          -1.7064792654511123,
          -0.19315259821983888,
          0.16849549170129602,
          0.3616001588411008,
          0.026682942900016677,
          1.2430267142940021,
          1.8288506123013686,
          -0.6461015794148398,
          -0.03903876462222602,
          -0.7345934981355124,
          -1.267407423342911,
          0.020312121797485937,
          -0.6162696698678704,
          -0.8700178732099789,
          0.48554238667112404,
          0.26801570273470005,
          0.103588232775617,
          0.12065839577974721,
          1.3510822698238307,
          0.3829175412191313
         ],
         "xaxis": "x16",
         "yaxis": "y16"
        }
       ],
       "layout": {
        "bargap": 0.02,
        "legend": {
         "bgcolor": "#F5F6F9",
         "font": {
          "color": "#4D5663"
         }
        },
        "paper_bgcolor": "#F5F6F9",
        "plot_bgcolor": "#F5F6F9",
        "showlegend": false,
        "template": {
         "data": {
          "bar": [
           {
            "error_x": {
             "color": "#2a3f5f"
            },
            "error_y": {
             "color": "#2a3f5f"
            },
            "marker": {
             "line": {
              "color": "#E5ECF6",
              "width": 0.5
             },
             "pattern": {
              "fillmode": "overlay",
              "size": 10,
              "solidity": 0.2
             }
            },
            "type": "bar"
           }
          ],
          "barpolar": [
           {
            "marker": {
             "line": {
              "color": "#E5ECF6",
              "width": 0.5
             },
             "pattern": {
              "fillmode": "overlay",
              "size": 10,
              "solidity": 0.2
             }
            },
            "type": "barpolar"
           }
          ],
          "carpet": [
           {
            "aaxis": {
             "endlinecolor": "#2a3f5f",
             "gridcolor": "white",
             "linecolor": "white",
             "minorgridcolor": "white",
             "startlinecolor": "#2a3f5f"
            },
            "baxis": {
             "endlinecolor": "#2a3f5f",
             "gridcolor": "white",
             "linecolor": "white",
             "minorgridcolor": "white",
             "startlinecolor": "#2a3f5f"
            },
            "type": "carpet"
           }
          ],
          "choropleth": [
           {
            "colorbar": {
             "outlinewidth": 0,
             "ticks": ""
            },
            "type": "choropleth"
           }
          ],
          "contour": [
           {
            "colorbar": {
             "outlinewidth": 0,
             "ticks": ""
            },
            "colorscale": [
             [
              0,
              "#0d0887"
             ],
             [
              0.1111111111111111,
              "#46039f"
             ],
             [
              0.2222222222222222,
              "#7201a8"
             ],
             [
              0.3333333333333333,
              "#9c179e"
             ],
             [
              0.4444444444444444,
              "#bd3786"
             ],
             [
              0.5555555555555556,
              "#d8576b"
             ],
             [
              0.6666666666666666,
              "#ed7953"
             ],
             [
              0.7777777777777778,
              "#fb9f3a"
             ],
             [
              0.8888888888888888,
              "#fdca26"
             ],
             [
              1,
              "#f0f921"
             ]
            ],
            "type": "contour"
           }
          ],
          "contourcarpet": [
           {
            "colorbar": {
             "outlinewidth": 0,
             "ticks": ""
            },
            "type": "contourcarpet"
           }
          ],
          "heatmap": [
           {
            "colorbar": {
             "outlinewidth": 0,
             "ticks": ""
            },
            "colorscale": [
             [
              0,
              "#0d0887"
             ],
             [
              0.1111111111111111,
              "#46039f"
             ],
             [
              0.2222222222222222,
              "#7201a8"
             ],
             [
              0.3333333333333333,
              "#9c179e"
             ],
             [
              0.4444444444444444,
              "#bd3786"
             ],
             [
              0.5555555555555556,
              "#d8576b"
             ],
             [
              0.6666666666666666,
              "#ed7953"
             ],
             [
              0.7777777777777778,
              "#fb9f3a"
             ],
             [
              0.8888888888888888,
              "#fdca26"
             ],
             [
              1,
              "#f0f921"
             ]
            ],
            "type": "heatmap"
           }
          ],
          "heatmapgl": [
           {
            "colorbar": {
             "outlinewidth": 0,
             "ticks": ""
            },
            "colorscale": [
             [
              0,
              "#0d0887"
             ],
             [
              0.1111111111111111,
              "#46039f"
             ],
             [
              0.2222222222222222,
              "#7201a8"
             ],
             [
              0.3333333333333333,
              "#9c179e"
             ],
             [
              0.4444444444444444,
              "#bd3786"
             ],
             [
              0.5555555555555556,
              "#d8576b"
             ],
             [
              0.6666666666666666,
              "#ed7953"
             ],
             [
              0.7777777777777778,
              "#fb9f3a"
             ],
             [
              0.8888888888888888,
              "#fdca26"
             ],
             [
              1,
              "#f0f921"
             ]
            ],
            "type": "heatmapgl"
           }
          ],
          "histogram": [
           {
            "marker": {
             "pattern": {
              "fillmode": "overlay",
              "size": 10,
              "solidity": 0.2
             }
            },
            "type": "histogram"
           }
          ],
          "histogram2d": [
           {
            "colorbar": {
             "outlinewidth": 0,
             "ticks": ""
            },
            "colorscale": [
             [
              0,
              "#0d0887"
             ],
             [
              0.1111111111111111,
              "#46039f"
             ],
             [
              0.2222222222222222,
              "#7201a8"
             ],
             [
              0.3333333333333333,
              "#9c179e"
             ],
             [
              0.4444444444444444,
              "#bd3786"
             ],
             [
              0.5555555555555556,
              "#d8576b"
             ],
             [
              0.6666666666666666,
              "#ed7953"
             ],
             [
              0.7777777777777778,
              "#fb9f3a"
             ],
             [
              0.8888888888888888,
              "#fdca26"
             ],
             [
              1,
              "#f0f921"
             ]
            ],
            "type": "histogram2d"
           }
          ],
          "histogram2dcontour": [
           {
            "colorbar": {
             "outlinewidth": 0,
             "ticks": ""
            },
            "colorscale": [
             [
              0,
              "#0d0887"
             ],
             [
              0.1111111111111111,
              "#46039f"
             ],
             [
              0.2222222222222222,
              "#7201a8"
             ],
             [
              0.3333333333333333,
              "#9c179e"
             ],
             [
              0.4444444444444444,
              "#bd3786"
             ],
             [
              0.5555555555555556,
              "#d8576b"
             ],
             [
              0.6666666666666666,
              "#ed7953"
             ],
             [
              0.7777777777777778,
              "#fb9f3a"
             ],
             [
              0.8888888888888888,
              "#fdca26"
             ],
             [
              1,
              "#f0f921"
             ]
            ],
            "type": "histogram2dcontour"
           }
          ],
          "mesh3d": [
           {
            "colorbar": {
             "outlinewidth": 0,
             "ticks": ""
            },
            "type": "mesh3d"
           }
          ],
          "parcoords": [
           {
            "line": {
             "colorbar": {
              "outlinewidth": 0,
              "ticks": ""
             }
            },
            "type": "parcoords"
           }
          ],
          "pie": [
           {
            "automargin": true,
            "type": "pie"
           }
          ],
          "scatter": [
           {
            "fillpattern": {
             "fillmode": "overlay",
             "size": 10,
             "solidity": 0.2
            },
            "type": "scatter"
           }
          ],
          "scatter3d": [
           {
            "line": {
             "colorbar": {
              "outlinewidth": 0,
              "ticks": ""
             }
            },
            "marker": {
             "colorbar": {
              "outlinewidth": 0,
              "ticks": ""
             }
            },
            "type": "scatter3d"
           }
          ],
          "scattercarpet": [
           {
            "marker": {
             "colorbar": {
              "outlinewidth": 0,
              "ticks": ""
             }
            },
            "type": "scattercarpet"
           }
          ],
          "scattergeo": [
           {
            "marker": {
             "colorbar": {
              "outlinewidth": 0,
              "ticks": ""
             }
            },
            "type": "scattergeo"
           }
          ],
          "scattergl": [
           {
            "marker": {
             "colorbar": {
              "outlinewidth": 0,
              "ticks": ""
             }
            },
            "type": "scattergl"
           }
          ],
          "scattermapbox": [
           {
            "marker": {
             "colorbar": {
              "outlinewidth": 0,
              "ticks": ""
             }
            },
            "type": "scattermapbox"
           }
          ],
          "scatterpolar": [
           {
            "marker": {
             "colorbar": {
              "outlinewidth": 0,
              "ticks": ""
             }
            },
            "type": "scatterpolar"
           }
          ],
          "scatterpolargl": [
           {
            "marker": {
             "colorbar": {
              "outlinewidth": 0,
              "ticks": ""
             }
            },
            "type": "scatterpolargl"
           }
          ],
          "scatterternary": [
           {
            "marker": {
             "colorbar": {
              "outlinewidth": 0,
              "ticks": ""
             }
            },
            "type": "scatterternary"
           }
          ],
          "surface": [
           {
            "colorbar": {
             "outlinewidth": 0,
             "ticks": ""
            },
            "colorscale": [
             [
              0,
              "#0d0887"
             ],
             [
              0.1111111111111111,
              "#46039f"
             ],
             [
              0.2222222222222222,
              "#7201a8"
             ],
             [
              0.3333333333333333,
              "#9c179e"
             ],
             [
              0.4444444444444444,
              "#bd3786"
             ],
             [
              0.5555555555555556,
              "#d8576b"
             ],
             [
              0.6666666666666666,
              "#ed7953"
             ],
             [
              0.7777777777777778,
              "#fb9f3a"
             ],
             [
              0.8888888888888888,
              "#fdca26"
             ],
             [
              1,
              "#f0f921"
             ]
            ],
            "type": "surface"
           }
          ],
          "table": [
           {
            "cells": {
             "fill": {
              "color": "#EBF0F8"
             },
             "line": {
              "color": "white"
             }
            },
            "header": {
             "fill": {
              "color": "#C8D4E3"
             },
             "line": {
              "color": "white"
             }
            },
            "type": "table"
           }
          ]
         },
         "layout": {
          "annotationdefaults": {
           "arrowcolor": "#2a3f5f",
           "arrowhead": 0,
           "arrowwidth": 1
          },
          "autotypenumbers": "strict",
          "coloraxis": {
           "colorbar": {
            "outlinewidth": 0,
            "ticks": ""
           }
          },
          "colorscale": {
           "diverging": [
            [
             0,
             "#8e0152"
            ],
            [
             0.1,
             "#c51b7d"
            ],
            [
             0.2,
             "#de77ae"
            ],
            [
             0.3,
             "#f1b6da"
            ],
            [
             0.4,
             "#fde0ef"
            ],
            [
             0.5,
             "#f7f7f7"
            ],
            [
             0.6,
             "#e6f5d0"
            ],
            [
             0.7,
             "#b8e186"
            ],
            [
             0.8,
             "#7fbc41"
            ],
            [
             0.9,
             "#4d9221"
            ],
            [
             1,
             "#276419"
            ]
           ],
           "sequential": [
            [
             0,
             "#0d0887"
            ],
            [
             0.1111111111111111,
             "#46039f"
            ],
            [
             0.2222222222222222,
             "#7201a8"
            ],
            [
             0.3333333333333333,
             "#9c179e"
            ],
            [
             0.4444444444444444,
             "#bd3786"
            ],
            [
             0.5555555555555556,
             "#d8576b"
            ],
            [
             0.6666666666666666,
             "#ed7953"
            ],
            [
             0.7777777777777778,
             "#fb9f3a"
            ],
            [
             0.8888888888888888,
             "#fdca26"
            ],
            [
             1,
             "#f0f921"
            ]
           ],
           "sequentialminus": [
            [
             0,
             "#0d0887"
            ],
            [
             0.1111111111111111,
             "#46039f"
            ],
            [
             0.2222222222222222,
             "#7201a8"
            ],
            [
             0.3333333333333333,
             "#9c179e"
            ],
            [
             0.4444444444444444,
             "#bd3786"
            ],
            [
             0.5555555555555556,
             "#d8576b"
            ],
            [
             0.6666666666666666,
             "#ed7953"
            ],
            [
             0.7777777777777778,
             "#fb9f3a"
            ],
            [
             0.8888888888888888,
             "#fdca26"
            ],
            [
             1,
             "#f0f921"
            ]
           ]
          },
          "colorway": [
           "#636efa",
           "#EF553B",
           "#00cc96",
           "#ab63fa",
           "#FFA15A",
           "#19d3f3",
           "#FF6692",
           "#B6E880",
           "#FF97FF",
           "#FECB52"
          ],
          "font": {
           "color": "#2a3f5f"
          },
          "geo": {
           "bgcolor": "white",
           "lakecolor": "white",
           "landcolor": "#E5ECF6",
           "showlakes": true,
           "showland": true,
           "subunitcolor": "white"
          },
          "hoverlabel": {
           "align": "left"
          },
          "hovermode": "closest",
          "mapbox": {
           "style": "light"
          },
          "paper_bgcolor": "white",
          "plot_bgcolor": "#E5ECF6",
          "polar": {
           "angularaxis": {
            "gridcolor": "white",
            "linecolor": "white",
            "ticks": ""
           },
           "bgcolor": "#E5ECF6",
           "radialaxis": {
            "gridcolor": "white",
            "linecolor": "white",
            "ticks": ""
           }
          },
          "scene": {
           "xaxis": {
            "backgroundcolor": "#E5ECF6",
            "gridcolor": "white",
            "gridwidth": 2,
            "linecolor": "white",
            "showbackground": true,
            "ticks": "",
            "zerolinecolor": "white"
           },
           "yaxis": {
            "backgroundcolor": "#E5ECF6",
            "gridcolor": "white",
            "gridwidth": 2,
            "linecolor": "white",
            "showbackground": true,
            "ticks": "",
            "zerolinecolor": "white"
           },
           "zaxis": {
            "backgroundcolor": "#E5ECF6",
            "gridcolor": "white",
            "gridwidth": 2,
            "linecolor": "white",
            "showbackground": true,
            "ticks": "",
            "zerolinecolor": "white"
           }
          },
          "shapedefaults": {
           "line": {
            "color": "#2a3f5f"
           }
          },
          "ternary": {
           "aaxis": {
            "gridcolor": "white",
            "linecolor": "white",
            "ticks": ""
           },
           "baxis": {
            "gridcolor": "white",
            "linecolor": "white",
            "ticks": ""
           },
           "bgcolor": "#E5ECF6",
           "caxis": {
            "gridcolor": "white",
            "linecolor": "white",
            "ticks": ""
           }
          },
          "title": {
           "x": 0.05
          },
          "xaxis": {
           "automargin": true,
           "gridcolor": "white",
           "linecolor": "white",
           "ticks": "",
           "title": {
            "standoff": 15
           },
           "zerolinecolor": "white",
           "zerolinewidth": 2
          },
          "yaxis": {
           "automargin": true,
           "gridcolor": "white",
           "linecolor": "white",
           "ticks": "",
           "title": {
            "standoff": 15
           },
           "zerolinecolor": "white",
           "zerolinewidth": 2
          }
         }
        },
        "title": {
         "font": {
          "color": "#4D5663"
         }
        },
        "xaxis": {
         "anchor": "y",
         "domain": [
          0,
          0.2125
         ],
         "gridcolor": "#E1E5ED",
         "showgrid": false,
         "tickfont": {
          "color": "#4D5663"
         },
         "title": {
          "font": {
           "color": "#4D5663"
          },
          "text": ""
         },
         "zerolinecolor": "#E1E5ED"
        },
        "xaxis10": {
         "anchor": "y10",
         "domain": [
          0.2625,
          0.475
         ],
         "gridcolor": "#E1E5ED",
         "showgrid": false,
         "tickfont": {
          "color": "#4D5663"
         },
         "title": {
          "font": {
           "color": "#4D5663"
          },
          "text": ""
         },
         "zerolinecolor": "#E1E5ED"
        },
        "xaxis11": {
         "anchor": "y11",
         "domain": [
          0.525,
          0.7375
         ],
         "gridcolor": "#E1E5ED",
         "showgrid": false,
         "tickfont": {
          "color": "#4D5663"
         },
         "title": {
          "font": {
           "color": "#4D5663"
          },
          "text": ""
         },
         "zerolinecolor": "#E1E5ED"
        },
        "xaxis12": {
         "anchor": "y12",
         "domain": [
          0.7875,
          1
         ],
         "gridcolor": "#E1E5ED",
         "showgrid": false,
         "tickfont": {
          "color": "#4D5663"
         },
         "title": {
          "font": {
           "color": "#4D5663"
          },
          "text": ""
         },
         "zerolinecolor": "#E1E5ED"
        },
        "xaxis13": {
         "anchor": "y13",
         "domain": [
          0,
          0.2125
         ],
         "gridcolor": "#E1E5ED",
         "showgrid": false,
         "tickfont": {
          "color": "#4D5663"
         },
         "title": {
          "font": {
           "color": "#4D5663"
          },
          "text": ""
         },
         "zerolinecolor": "#E1E5ED"
        },
        "xaxis14": {
         "anchor": "y14",
         "domain": [
          0.2625,
          0.475
         ],
         "gridcolor": "#E1E5ED",
         "showgrid": false,
         "tickfont": {
          "color": "#4D5663"
         },
         "title": {
          "font": {
           "color": "#4D5663"
          },
          "text": ""
         },
         "zerolinecolor": "#E1E5ED"
        },
        "xaxis15": {
         "anchor": "y15",
         "domain": [
          0.525,
          0.7375
         ],
         "gridcolor": "#E1E5ED",
         "showgrid": false,
         "tickfont": {
          "color": "#4D5663"
         },
         "title": {
          "font": {
           "color": "#4D5663"
          },
          "text": ""
         },
         "zerolinecolor": "#E1E5ED"
        },
        "xaxis16": {
         "anchor": "y16",
         "domain": [
          0.7875,
          1
         ],
         "gridcolor": "#E1E5ED",
         "showgrid": false,
         "tickfont": {
          "color": "#4D5663"
         },
         "title": {
          "font": {
           "color": "#4D5663"
          },
          "text": ""
         },
         "zerolinecolor": "#E1E5ED"
        },
        "xaxis2": {
         "anchor": "y2",
         "domain": [
          0.2625,
          0.475
         ],
         "gridcolor": "#E1E5ED",
         "showgrid": false,
         "tickfont": {
          "color": "#4D5663"
         },
         "title": {
          "font": {
           "color": "#4D5663"
          },
          "text": ""
         },
         "zerolinecolor": "#E1E5ED"
        },
        "xaxis3": {
         "anchor": "y3",
         "domain": [
          0.525,
          0.7375
         ],
         "gridcolor": "#E1E5ED",
         "showgrid": false,
         "tickfont": {
          "color": "#4D5663"
         },
         "title": {
          "font": {
           "color": "#4D5663"
          },
          "text": ""
         },
         "zerolinecolor": "#E1E5ED"
        },
        "xaxis4": {
         "anchor": "y4",
         "domain": [
          0.7875,
          1
         ],
         "gridcolor": "#E1E5ED",
         "showgrid": false,
         "tickfont": {
          "color": "#4D5663"
         },
         "title": {
          "font": {
           "color": "#4D5663"
          },
          "text": ""
         },
         "zerolinecolor": "#E1E5ED"
        },
        "xaxis5": {
         "anchor": "y5",
         "domain": [
          0,
          0.2125
         ],
         "gridcolor": "#E1E5ED",
         "showgrid": false,
         "tickfont": {
          "color": "#4D5663"
         },
         "title": {
          "font": {
           "color": "#4D5663"
          },
          "text": ""
         },
         "zerolinecolor": "#E1E5ED"
        },
        "xaxis6": {
         "anchor": "y6",
         "domain": [
          0.2625,
          0.475
         ],
         "gridcolor": "#E1E5ED",
         "showgrid": false,
         "tickfont": {
          "color": "#4D5663"
         },
         "title": {
          "font": {
           "color": "#4D5663"
          },
          "text": ""
         },
         "zerolinecolor": "#E1E5ED"
        },
        "xaxis7": {
         "anchor": "y7",
         "domain": [
          0.525,
          0.7375
         ],
         "gridcolor": "#E1E5ED",
         "showgrid": false,
         "tickfont": {
          "color": "#4D5663"
         },
         "title": {
          "font": {
           "color": "#4D5663"
          },
          "text": ""
         },
         "zerolinecolor": "#E1E5ED"
        },
        "xaxis8": {
         "anchor": "y8",
         "domain": [
          0.7875,
          1
         ],
         "gridcolor": "#E1E5ED",
         "showgrid": false,
         "tickfont": {
          "color": "#4D5663"
         },
         "title": {
          "font": {
           "color": "#4D5663"
          },
          "text": ""
         },
         "zerolinecolor": "#E1E5ED"
        },
        "xaxis9": {
         "anchor": "y9",
         "domain": [
          0,
          0.2125
         ],
         "gridcolor": "#E1E5ED",
         "showgrid": false,
         "tickfont": {
          "color": "#4D5663"
         },
         "title": {
          "font": {
           "color": "#4D5663"
          },
          "text": ""
         },
         "zerolinecolor": "#E1E5ED"
        },
        "yaxis": {
         "anchor": "x",
         "domain": [
          0.8025,
          1
         ],
         "gridcolor": "#E1E5ED",
         "showgrid": false,
         "tickfont": {
          "color": "#4D5663"
         },
         "title": {
          "font": {
           "color": "#4D5663"
          },
          "text": ""
         },
         "zerolinecolor": "#E1E5ED"
        },
        "yaxis10": {
         "anchor": "x10",
         "domain": [
          0.2675,
          0.465
         ],
         "gridcolor": "#E1E5ED",
         "showgrid": false,
         "tickfont": {
          "color": "#4D5663"
         },
         "title": {
          "font": {
           "color": "#4D5663"
          },
          "text": ""
         },
         "zerolinecolor": "#E1E5ED"
        },
        "yaxis11": {
         "anchor": "x11",
         "domain": [
          0.2675,
          0.465
         ],
         "gridcolor": "#E1E5ED",
         "showgrid": false,
         "tickfont": {
          "color": "#4D5663"
         },
         "title": {
          "font": {
           "color": "#4D5663"
          },
          "text": ""
         },
         "zerolinecolor": "#E1E5ED"
        },
        "yaxis12": {
         "anchor": "x12",
         "domain": [
          0.2675,
          0.465
         ],
         "gridcolor": "#E1E5ED",
         "showgrid": false,
         "tickfont": {
          "color": "#4D5663"
         },
         "title": {
          "font": {
           "color": "#4D5663"
          },
          "text": ""
         },
         "zerolinecolor": "#E1E5ED"
        },
        "yaxis13": {
         "anchor": "x13",
         "domain": [
          0,
          0.1975
         ],
         "gridcolor": "#E1E5ED",
         "showgrid": false,
         "tickfont": {
          "color": "#4D5663"
         },
         "title": {
          "font": {
           "color": "#4D5663"
          },
          "text": ""
         },
         "zerolinecolor": "#E1E5ED"
        },
        "yaxis14": {
         "anchor": "x14",
         "domain": [
          0,
          0.1975
         ],
         "gridcolor": "#E1E5ED",
         "showgrid": false,
         "tickfont": {
          "color": "#4D5663"
         },
         "title": {
          "font": {
           "color": "#4D5663"
          },
          "text": ""
         },
         "zerolinecolor": "#E1E5ED"
        },
        "yaxis15": {
         "anchor": "x15",
         "domain": [
          0,
          0.1975
         ],
         "gridcolor": "#E1E5ED",
         "showgrid": false,
         "tickfont": {
          "color": "#4D5663"
         },
         "title": {
          "font": {
           "color": "#4D5663"
          },
          "text": ""
         },
         "zerolinecolor": "#E1E5ED"
        },
        "yaxis16": {
         "anchor": "x16",
         "domain": [
          0,
          0.1975
         ],
         "gridcolor": "#E1E5ED",
         "showgrid": false,
         "tickfont": {
          "color": "#4D5663"
         },
         "title": {
          "font": {
           "color": "#4D5663"
          },
          "text": ""
         },
         "zerolinecolor": "#E1E5ED"
        },
        "yaxis2": {
         "anchor": "x2",
         "domain": [
          0.8025,
          1
         ],
         "gridcolor": "#E1E5ED",
         "showgrid": false,
         "tickfont": {
          "color": "#4D5663"
         },
         "title": {
          "font": {
           "color": "#4D5663"
          },
          "text": ""
         },
         "zerolinecolor": "#E1E5ED"
        },
        "yaxis3": {
         "anchor": "x3",
         "domain": [
          0.8025,
          1
         ],
         "gridcolor": "#E1E5ED",
         "showgrid": false,
         "tickfont": {
          "color": "#4D5663"
         },
         "title": {
          "font": {
           "color": "#4D5663"
          },
          "text": ""
         },
         "zerolinecolor": "#E1E5ED"
        },
        "yaxis4": {
         "anchor": "x4",
         "domain": [
          0.8025,
          1
         ],
         "gridcolor": "#E1E5ED",
         "showgrid": false,
         "tickfont": {
          "color": "#4D5663"
         },
         "title": {
          "font": {
           "color": "#4D5663"
          },
          "text": ""
         },
         "zerolinecolor": "#E1E5ED"
        },
        "yaxis5": {
         "anchor": "x5",
         "domain": [
          0.535,
          0.7325
         ],
         "gridcolor": "#E1E5ED",
         "showgrid": false,
         "tickfont": {
          "color": "#4D5663"
         },
         "title": {
          "font": {
           "color": "#4D5663"
          },
          "text": ""
         },
         "zerolinecolor": "#E1E5ED"
        },
        "yaxis6": {
         "anchor": "x6",
         "domain": [
          0.535,
          0.7325
         ],
         "gridcolor": "#E1E5ED",
         "showgrid": false,
         "tickfont": {
          "color": "#4D5663"
         },
         "title": {
          "font": {
           "color": "#4D5663"
          },
          "text": ""
         },
         "zerolinecolor": "#E1E5ED"
        },
        "yaxis7": {
         "anchor": "x7",
         "domain": [
          0.535,
          0.7325
         ],
         "gridcolor": "#E1E5ED",
         "showgrid": false,
         "tickfont": {
          "color": "#4D5663"
         },
         "title": {
          "font": {
           "color": "#4D5663"
          },
          "text": ""
         },
         "zerolinecolor": "#E1E5ED"
        },
        "yaxis8": {
         "anchor": "x8",
         "domain": [
          0.535,
          0.7325
         ],
         "gridcolor": "#E1E5ED",
         "showgrid": false,
         "tickfont": {
          "color": "#4D5663"
         },
         "title": {
          "font": {
           "color": "#4D5663"
          },
          "text": ""
         },
         "zerolinecolor": "#E1E5ED"
        },
        "yaxis9": {
         "anchor": "x9",
         "domain": [
          0.2675,
          0.465
         ],
         "gridcolor": "#E1E5ED",
         "showgrid": false,
         "tickfont": {
          "color": "#4D5663"
         },
         "title": {
          "font": {
           "color": "#4D5663"
          },
          "text": ""
         },
         "zerolinecolor": "#E1E5ED"
        }
       }
      },
      "text/html": [
       "<div>                            <div id=\"b3f018ed-5eed-4d99-b6db-50bb33ac86b5\" class=\"plotly-graph-div\" style=\"height:525px; width:100%;\"></div>            <script type=\"text/javascript\">                require([\"plotly\"], function(Plotly) {                    window.PLOTLYENV=window.PLOTLYENV || {};\n",
       "                    window.PLOTLYENV.BASE_URL='https://plot.ly';                                    if (document.getElementById(\"b3f018ed-5eed-4d99-b6db-50bb33ac86b5\")) {                    Plotly.newPlot(                        \"b3f018ed-5eed-4d99-b6db-50bb33ac86b5\",                        [{\"histfunc\":\"count\",\"histnorm\":\"\",\"marker\":{\"color\":\"rgba(255, 153, 51, 1.0)\",\"line\":{\"color\":\"#4D5663\",\"width\":1.3}},\"name\":\"A\",\"nbinsx\":10,\"opacity\":0.8,\"orientation\":\"v\",\"x\":[-1.7551052678663162,0.3844705852588308,-2.036235857734799,-0.4777192690016541,1.4543579926789922,-0.09237757661484672,0.6119764070206649,1.2237887733721426,-1.7337095285419843,-0.09984401561568264,-0.4649631618162517,0.9998649026069217,-0.6943268284110494,-0.72841097667062,-0.4417144240902041,-0.004464788666717921,0.07531256094745666,0.819040457639244,-0.4567053715819427,-0.5963208419744218,0.20953116501771618,-0.6853725302321193,-0.4001354564558299,0.6480780792891775,0.21240416189485206,0.14312795229648412,1.4393143026131452,0.7837815407286436,0.7467555023995134,0.29599035733768936,-0.7218712504422361,-1.25193389495634,0.03611354174396783,-0.03200300201512434,-1.1826084205945602,-1.4446328395682333,-0.04401236980398926,1.148871152117295,-0.14011474199688925,0.06115179255331545,0.868403061018585,0.5428333970190617,2.023958447325256,1.298799841292337,0.3078105580800464,0.6071874163245976,0.8972500697072223,-0.9315584354567149,0.17846500752828248,0.4284783757579867,-1.2333721181585848,-0.5601363807245684,0.09472304319338498,1.778688134912088,-1.8021319258488775,-0.7791449714553991,-0.5839473586620774,-0.7253804597334422,-0.9232769368882936,-0.6139384413256993,-0.06283253701103511,-0.9172264457972898,1.274365195722724,-0.23411960543441399,-0.8057448573292509,0.7054532319615852,-1.1036282271372015,0.6513618183801033,1.6919479921315315,2.0298722949294987,-0.7413914397119926,1.6472076306959016,0.6975377328009644,-2.5744066196418682,-1.1618031599466374,1.191995297707877,0.3357604375348084,0.528360105058137,-2.426809770915547,-1.4970050996342303,0.5012670828793494,-0.4144372147571527,-1.5032345584573734,-0.5645262794150616,0.9074324916191596,0.5291147311047883,1.27378422165143,0.8144032756088596,0.22763909553884226,0.04666463041197144,-0.2909034169358753,1.2439472755893324,-0.5030014312921158,-2.04618571072768,-1.9776242737576282,-0.7784135744681734,-0.43542356262032955,0.3511218761609181,0.6690302299966587,-2.937691978255148],\"xaxis\":\"x\",\"yaxis\":\"y\",\"type\":\"histogram\"},{\"line\":{\"color\":\"rgba(128, 128, 128, 1.0)\",\"dash\":\"solid\",\"shape\":\"linear\",\"width\":1.3},\"marker\":{\"size\":2,\"symbol\":\"circle\"},\"mode\":\"markers\",\"name\":\"A\",\"text\":\"\",\"x\":[0.4382592167411095,-0.6309961348420734,-0.0395311262178848,-0.31428373652841174,-1.0100162848027445,0.3935453506068354,-1.1208413794066048,-0.48057193451665925,0.07553530507313684,-1.732193450923254,-0.18194479104436243,-1.2768988483331727,-0.9010984722462253,-0.04831591513783132,1.017334361674233,2.0659548342501,-1.3257645889148622,1.1439743874680193,-0.5955125539431376,1.5396128052705145,-0.3056876386133438,-0.3877195935848514,-0.26289468030335533,0.8933171597993632,0.28295230371184565,-2.0381890153955404,-0.8598396093738542,-1.6518707199339169,1.315608649571582,-1.1411519377453063,-1.1360395440453932,-1.7772226648265301,0.9650122260771038,1.1487983813941074,0.6236448087340094,0.23376375669016658,0.6124046327547832,1.438466886570016,-1.2648382819818582,-0.18510973962669178,-0.6786077887679473,-0.664905423820725,-0.46612759720887575,-0.750935532586305,0.7553429312716934,-0.974797806662005,1.0791958284105596,-1.4647682070265706,-1.131758714727324,0.3584005296774685,-2.618621262491332,0.22598540427059874,-0.11981462527459533,1.4990841490508868,-0.20774363409278152,0.6976938911487156,-0.6330586023195791,1.6187904142539622,1.282338045791857,0.0802792937980838,-0.5108597070798586,0.12905133080909542,0.3449053470374282,0.0766504080888916,-1.515901853753896,1.553054792584085,0.08897000243510644,-1.0459050859726782,-0.39902139781521845,1.2555188182347081,-2.0145418672522446,-0.27008247237976113,0.4903043952555374,2.214217040668718,-0.36536702022485823,-0.9829776507777322,-0.1469357916605228,0.5679188818392001,1.529413014699103,-0.3276547721051137,-1.0423677573212309,0.811616799365819,-1.3316013120176349,-1.8682578918247865,0.9497852481964191,-0.48074134536630314,-0.4481668902136482,-0.4874510603514809,0.8886789746157747,-0.8885847644458682,-0.6885045336406496,1.589358536547224,-0.6758365158912941,-0.40969212660536275,0.6746415974540376,1.1271460223680927,-1.6450552325643122,0.12158090294215941,1.0007876253334738,-1.256378892090455],\"xaxis\":\"x2\",\"y\":[-1.7551052678663162,0.3844705852588308,-2.036235857734799,-0.4777192690016541,1.4543579926789922,-0.09237757661484672,0.6119764070206649,1.2237887733721426,-1.7337095285419843,-0.09984401561568264,-0.4649631618162517,0.9998649026069217,-0.6943268284110494,-0.72841097667062,-0.4417144240902041,-0.004464788666717921,0.07531256094745666,0.819040457639244,-0.4567053715819427,-0.5963208419744218,0.20953116501771618,-0.6853725302321193,-0.4001354564558299,0.6480780792891775,0.21240416189485206,0.14312795229648412,1.4393143026131452,0.7837815407286436,0.7467555023995134,0.29599035733768936,-0.7218712504422361,-1.25193389495634,0.03611354174396783,-0.03200300201512434,-1.1826084205945602,-1.4446328395682333,-0.04401236980398926,1.148871152117295,-0.14011474199688925,0.06115179255331545,0.868403061018585,0.5428333970190617,2.023958447325256,1.298799841292337,0.3078105580800464,0.6071874163245976,0.8972500697072223,-0.9315584354567149,0.17846500752828248,0.4284783757579867,-1.2333721181585848,-0.5601363807245684,0.09472304319338498,1.778688134912088,-1.8021319258488775,-0.7791449714553991,-0.5839473586620774,-0.7253804597334422,-0.9232769368882936,-0.6139384413256993,-0.06283253701103511,-0.9172264457972898,1.274365195722724,-0.23411960543441399,-0.8057448573292509,0.7054532319615852,-1.1036282271372015,0.6513618183801033,1.6919479921315315,2.0298722949294987,-0.7413914397119926,1.6472076306959016,0.6975377328009644,-2.5744066196418682,-1.1618031599466374,1.191995297707877,0.3357604375348084,0.528360105058137,-2.426809770915547,-1.4970050996342303,0.5012670828793494,-0.4144372147571527,-1.5032345584573734,-0.5645262794150616,0.9074324916191596,0.5291147311047883,1.27378422165143,0.8144032756088596,0.22763909553884226,0.04666463041197144,-0.2909034169358753,1.2439472755893324,-0.5030014312921158,-2.04618571072768,-1.9776242737576282,-0.7784135744681734,-0.43542356262032955,0.3511218761609181,0.6690302299966587,-2.937691978255148],\"yaxis\":\"y2\",\"type\":\"scatter\"},{\"line\":{\"color\":\"rgba(128, 128, 128, 1.0)\",\"dash\":\"solid\",\"shape\":\"linear\",\"width\":1.3},\"marker\":{\"size\":2,\"symbol\":\"circle\"},\"mode\":\"markers\",\"name\":\"A\",\"text\":\"\",\"x\":[1.2041286763052448,-0.7341612192305633,-0.5458056090180362,-0.060176807033348434,-1.461210307868879,-0.042962820390264604,-1.1112680953319287,0.4425994344947499,0.1581364727067789,1.0523143699302913,-0.6852756634925544,-2.138283291452284,0.26267208157579036,0.37372183885347143,0.8213211099006584,-0.8154119669655834,0.38096982250192774,0.3370927626585573,0.8661579662151041,0.5922180910315239,-0.246750931009974,-0.9512094621196407,-1.279912153943022,-1.0318148862660201,-1.2832182702457628,0.24335563499257745,-0.49710382848007084,-2.9933342420800924,-0.6978903685053779,2.3069038297787072,1.1972196152142145,0.5005035356788747,0.7297790581122335,-0.15941717349860096,-0.5181303473438783,-0.5934618471232722,0.8995817172937732,1.4236306634076306,0.13458851966672683,-1.9244973003383656,-0.4396687465651273,0.43148518125632296,-0.1045871680622103,-1.5154907586013207,0.9195989783041805,-0.5680229856548504,-1.0279969155715944,-0.7050486050975706,1.657409308353311,0.43853218340055466,0.4453702568775285,-0.8589282128077184,0.6917317701189633,0.4874349454596271,-0.05415017783183345,0.6786386411680831,0.49941202879755286,-0.09355296913250151,-0.39456615110421206,0.945327187041317,-0.1592104734693847,2.3917432164498007,-0.506147738239636,-0.26501055918580796,0.256761716941572,-2.0970130189996263,2.080817157003123,-1.969713916536074,1.2186284182395668,-0.6754697490087247,0.0864288898960222,-1.2623278342411035,-1.5782667637365249,-0.03995829079015229,0.4184420663801775,-0.5544865869156967,0.4917122214543861,-0.06530864944150375,-0.11841439565633523,0.6511421435271256,1.027365203598178,-1.0793832565983752,0.19273703232535136,0.21278608830470566,0.6698430690156365,-1.1447128329756069,-0.1406796689064955,0.23141660493699273,0.9064832898559017,-1.4194927711734235,1.7863130491938028,1.4143890894685258,-1.1686375404626603,-1.2767884937582192,0.908973163702017,0.4903546831594897,1.458215782292664,-0.1739490839601721,-0.08603191853491715,-0.30139862355672215],\"xaxis\":\"x3\",\"y\":[-1.7551052678663162,0.3844705852588308,-2.036235857734799,-0.4777192690016541,1.4543579926789922,-0.09237757661484672,0.6119764070206649,1.2237887733721426,-1.7337095285419843,-0.09984401561568264,-0.4649631618162517,0.9998649026069217,-0.6943268284110494,-0.72841097667062,-0.4417144240902041,-0.004464788666717921,0.07531256094745666,0.819040457639244,-0.4567053715819427,-0.5963208419744218,0.20953116501771618,-0.6853725302321193,-0.4001354564558299,0.6480780792891775,0.21240416189485206,0.14312795229648412,1.4393143026131452,0.7837815407286436,0.7467555023995134,0.29599035733768936,-0.7218712504422361,-1.25193389495634,0.03611354174396783,-0.03200300201512434,-1.1826084205945602,-1.4446328395682333,-0.04401236980398926,1.148871152117295,-0.14011474199688925,0.06115179255331545,0.868403061018585,0.5428333970190617,2.023958447325256,1.298799841292337,0.3078105580800464,0.6071874163245976,0.8972500697072223,-0.9315584354567149,0.17846500752828248,0.4284783757579867,-1.2333721181585848,-0.5601363807245684,0.09472304319338498,1.778688134912088,-1.8021319258488775,-0.7791449714553991,-0.5839473586620774,-0.7253804597334422,-0.9232769368882936,-0.6139384413256993,-0.06283253701103511,-0.9172264457972898,1.274365195722724,-0.23411960543441399,-0.8057448573292509,0.7054532319615852,-1.1036282271372015,0.6513618183801033,1.6919479921315315,2.0298722949294987,-0.7413914397119926,1.6472076306959016,0.6975377328009644,-2.5744066196418682,-1.1618031599466374,1.191995297707877,0.3357604375348084,0.528360105058137,-2.426809770915547,-1.4970050996342303,0.5012670828793494,-0.4144372147571527,-1.5032345584573734,-0.5645262794150616,0.9074324916191596,0.5291147311047883,1.27378422165143,0.8144032756088596,0.22763909553884226,0.04666463041197144,-0.2909034169358753,1.2439472755893324,-0.5030014312921158,-2.04618571072768,-1.9776242737576282,-0.7784135744681734,-0.43542356262032955,0.3511218761609181,0.6690302299966587,-2.937691978255148],\"yaxis\":\"y3\",\"type\":\"scatter\"},{\"line\":{\"color\":\"rgba(128, 128, 128, 1.0)\",\"dash\":\"solid\",\"shape\":\"linear\",\"width\":1.3},\"marker\":{\"size\":2,\"symbol\":\"circle\"},\"mode\":\"markers\",\"name\":\"A\",\"text\":\"\",\"x\":[0.5335617547626704,1.11511778820712,-0.08010239879881892,-2.259130632450229,0.1306904956755313,-0.10868636704330263,-1.2119879393566173,0.058401962784051895,-1.28475547880816,-0.23874716438584068,-0.05486944254343988,-0.7903758731068092,0.5511763376605952,0.6598876147808562,-1.393544253357598,-0.22141033511022082,1.3723354165859456,-2.295330139910439,0.7048578956406352,-1.3456434351515638,1.1330308424283735,-1.6303682417443779,1.1458167157730648,0.3412691509585753,-1.4814410312878,0.7056244817874007,-0.35631268737456484,-1.4973624280243167,-2.384006313434215,-0.4603706240551062,-0.3396935582570401,-1.7531152695661887,1.3317539945057488,0.03028900886027697,0.003446055668178733,0.6235875867000816,2.2119702214189525,0.09084069260464103,0.2455822204067303,-0.6571322155562199,-0.16271374185554327,-0.643073675919325,-1.9137010323432584,-0.7764981602357823,-0.44312146885367115,-1.7356585778027214,0.24444323790835046,0.7104679959661663,-1.3390136550043847,0.16366534129867924,-0.6047531524042749,1.2553527366235804,-0.6701759062038355,0.9363081857722896,0.8211474912961345,-1.8240721473503028,0.45230942549634595,2.1574505417899834,-0.062096453693924164,2.369880887091539,-1.0804781096479488,-1.3240023935686234,0.1891364017721843,1.4454723116515689,0.2670018973992693,0.3843716971280922,-0.9649721651660574,-1.0909805836656126,0.27081041390492183,1.153388859206965,0.38281022895155126,-0.8713849540757779,2.0528631419834227,1.5097740524964776,-0.5438358420554982,-0.07034753062399098,-0.8942657348846185,0.9487048514799492,1.3008219239253918,-0.5290864305394178,-1.7064792654511123,-0.19315259821983888,0.16849549170129602,0.3616001588411008,0.026682942900016677,1.2430267142940021,1.8288506123013686,-0.6461015794148398,-0.03903876462222602,-0.7345934981355124,-1.267407423342911,0.020312121797485937,-0.6162696698678704,-0.8700178732099789,0.48554238667112404,0.26801570273470005,0.103588232775617,0.12065839577974721,1.3510822698238307,0.3829175412191313],\"xaxis\":\"x4\",\"y\":[-1.7551052678663162,0.3844705852588308,-2.036235857734799,-0.4777192690016541,1.4543579926789922,-0.09237757661484672,0.6119764070206649,1.2237887733721426,-1.7337095285419843,-0.09984401561568264,-0.4649631618162517,0.9998649026069217,-0.6943268284110494,-0.72841097667062,-0.4417144240902041,-0.004464788666717921,0.07531256094745666,0.819040457639244,-0.4567053715819427,-0.5963208419744218,0.20953116501771618,-0.6853725302321193,-0.4001354564558299,0.6480780792891775,0.21240416189485206,0.14312795229648412,1.4393143026131452,0.7837815407286436,0.7467555023995134,0.29599035733768936,-0.7218712504422361,-1.25193389495634,0.03611354174396783,-0.03200300201512434,-1.1826084205945602,-1.4446328395682333,-0.04401236980398926,1.148871152117295,-0.14011474199688925,0.06115179255331545,0.868403061018585,0.5428333970190617,2.023958447325256,1.298799841292337,0.3078105580800464,0.6071874163245976,0.8972500697072223,-0.9315584354567149,0.17846500752828248,0.4284783757579867,-1.2333721181585848,-0.5601363807245684,0.09472304319338498,1.778688134912088,-1.8021319258488775,-0.7791449714553991,-0.5839473586620774,-0.7253804597334422,-0.9232769368882936,-0.6139384413256993,-0.06283253701103511,-0.9172264457972898,1.274365195722724,-0.23411960543441399,-0.8057448573292509,0.7054532319615852,-1.1036282271372015,0.6513618183801033,1.6919479921315315,2.0298722949294987,-0.7413914397119926,1.6472076306959016,0.6975377328009644,-2.5744066196418682,-1.1618031599466374,1.191995297707877,0.3357604375348084,0.528360105058137,-2.426809770915547,-1.4970050996342303,0.5012670828793494,-0.4144372147571527,-1.5032345584573734,-0.5645262794150616,0.9074324916191596,0.5291147311047883,1.27378422165143,0.8144032756088596,0.22763909553884226,0.04666463041197144,-0.2909034169358753,1.2439472755893324,-0.5030014312921158,-2.04618571072768,-1.9776242737576282,-0.7784135744681734,-0.43542356262032955,0.3511218761609181,0.6690302299966587,-2.937691978255148],\"yaxis\":\"y4\",\"type\":\"scatter\"},{\"line\":{\"color\":\"rgba(128, 128, 128, 1.0)\",\"dash\":\"solid\",\"shape\":\"linear\",\"width\":1.3},\"marker\":{\"size\":2,\"symbol\":\"circle\"},\"mode\":\"markers\",\"name\":\"B\",\"text\":\"\",\"x\":[-1.7551052678663162,0.3844705852588308,-2.036235857734799,-0.4777192690016541,1.4543579926789922,-0.09237757661484672,0.6119764070206649,1.2237887733721426,-1.7337095285419843,-0.09984401561568264,-0.4649631618162517,0.9998649026069217,-0.6943268284110494,-0.72841097667062,-0.4417144240902041,-0.004464788666717921,0.07531256094745666,0.819040457639244,-0.4567053715819427,-0.5963208419744218,0.20953116501771618,-0.6853725302321193,-0.4001354564558299,0.6480780792891775,0.21240416189485206,0.14312795229648412,1.4393143026131452,0.7837815407286436,0.7467555023995134,0.29599035733768936,-0.7218712504422361,-1.25193389495634,0.03611354174396783,-0.03200300201512434,-1.1826084205945602,-1.4446328395682333,-0.04401236980398926,1.148871152117295,-0.14011474199688925,0.06115179255331545,0.868403061018585,0.5428333970190617,2.023958447325256,1.298799841292337,0.3078105580800464,0.6071874163245976,0.8972500697072223,-0.9315584354567149,0.17846500752828248,0.4284783757579867,-1.2333721181585848,-0.5601363807245684,0.09472304319338498,1.778688134912088,-1.8021319258488775,-0.7791449714553991,-0.5839473586620774,-0.7253804597334422,-0.9232769368882936,-0.6139384413256993,-0.06283253701103511,-0.9172264457972898,1.274365195722724,-0.23411960543441399,-0.8057448573292509,0.7054532319615852,-1.1036282271372015,0.6513618183801033,1.6919479921315315,2.0298722949294987,-0.7413914397119926,1.6472076306959016,0.6975377328009644,-2.5744066196418682,-1.1618031599466374,1.191995297707877,0.3357604375348084,0.528360105058137,-2.426809770915547,-1.4970050996342303,0.5012670828793494,-0.4144372147571527,-1.5032345584573734,-0.5645262794150616,0.9074324916191596,0.5291147311047883,1.27378422165143,0.8144032756088596,0.22763909553884226,0.04666463041197144,-0.2909034169358753,1.2439472755893324,-0.5030014312921158,-2.04618571072768,-1.9776242737576282,-0.7784135744681734,-0.43542356262032955,0.3511218761609181,0.6690302299966587,-2.937691978255148],\"xaxis\":\"x5\",\"y\":[0.4382592167411095,-0.6309961348420734,-0.0395311262178848,-0.31428373652841174,-1.0100162848027445,0.3935453506068354,-1.1208413794066048,-0.48057193451665925,0.07553530507313684,-1.732193450923254,-0.18194479104436243,-1.2768988483331727,-0.9010984722462253,-0.04831591513783132,1.017334361674233,2.0659548342501,-1.3257645889148622,1.1439743874680193,-0.5955125539431376,1.5396128052705145,-0.3056876386133438,-0.3877195935848514,-0.26289468030335533,0.8933171597993632,0.28295230371184565,-2.0381890153955404,-0.8598396093738542,-1.6518707199339169,1.315608649571582,-1.1411519377453063,-1.1360395440453932,-1.7772226648265301,0.9650122260771038,1.1487983813941074,0.6236448087340094,0.23376375669016658,0.6124046327547832,1.438466886570016,-1.2648382819818582,-0.18510973962669178,-0.6786077887679473,-0.664905423820725,-0.46612759720887575,-0.750935532586305,0.7553429312716934,-0.974797806662005,1.0791958284105596,-1.4647682070265706,-1.131758714727324,0.3584005296774685,-2.618621262491332,0.22598540427059874,-0.11981462527459533,1.4990841490508868,-0.20774363409278152,0.6976938911487156,-0.6330586023195791,1.6187904142539622,1.282338045791857,0.0802792937980838,-0.5108597070798586,0.12905133080909542,0.3449053470374282,0.0766504080888916,-1.515901853753896,1.553054792584085,0.08897000243510644,-1.0459050859726782,-0.39902139781521845,1.2555188182347081,-2.0145418672522446,-0.27008247237976113,0.4903043952555374,2.214217040668718,-0.36536702022485823,-0.9829776507777322,-0.1469357916605228,0.5679188818392001,1.529413014699103,-0.3276547721051137,-1.0423677573212309,0.811616799365819,-1.3316013120176349,-1.8682578918247865,0.9497852481964191,-0.48074134536630314,-0.4481668902136482,-0.4874510603514809,0.8886789746157747,-0.8885847644458682,-0.6885045336406496,1.589358536547224,-0.6758365158912941,-0.40969212660536275,0.6746415974540376,1.1271460223680927,-1.6450552325643122,0.12158090294215941,1.0007876253334738,-1.256378892090455],\"yaxis\":\"y5\",\"type\":\"scatter\"},{\"histfunc\":\"count\",\"histnorm\":\"\",\"marker\":{\"color\":\"rgba(55, 128, 191, 1.0)\",\"line\":{\"color\":\"#4D5663\",\"width\":1.3}},\"name\":\"B\",\"nbinsx\":10,\"opacity\":0.8,\"orientation\":\"v\",\"x\":[0.4382592167411095,-0.6309961348420734,-0.0395311262178848,-0.31428373652841174,-1.0100162848027445,0.3935453506068354,-1.1208413794066048,-0.48057193451665925,0.07553530507313684,-1.732193450923254,-0.18194479104436243,-1.2768988483331727,-0.9010984722462253,-0.04831591513783132,1.017334361674233,2.0659548342501,-1.3257645889148622,1.1439743874680193,-0.5955125539431376,1.5396128052705145,-0.3056876386133438,-0.3877195935848514,-0.26289468030335533,0.8933171597993632,0.28295230371184565,-2.0381890153955404,-0.8598396093738542,-1.6518707199339169,1.315608649571582,-1.1411519377453063,-1.1360395440453932,-1.7772226648265301,0.9650122260771038,1.1487983813941074,0.6236448087340094,0.23376375669016658,0.6124046327547832,1.438466886570016,-1.2648382819818582,-0.18510973962669178,-0.6786077887679473,-0.664905423820725,-0.46612759720887575,-0.750935532586305,0.7553429312716934,-0.974797806662005,1.0791958284105596,-1.4647682070265706,-1.131758714727324,0.3584005296774685,-2.618621262491332,0.22598540427059874,-0.11981462527459533,1.4990841490508868,-0.20774363409278152,0.6976938911487156,-0.6330586023195791,1.6187904142539622,1.282338045791857,0.0802792937980838,-0.5108597070798586,0.12905133080909542,0.3449053470374282,0.0766504080888916,-1.515901853753896,1.553054792584085,0.08897000243510644,-1.0459050859726782,-0.39902139781521845,1.2555188182347081,-2.0145418672522446,-0.27008247237976113,0.4903043952555374,2.214217040668718,-0.36536702022485823,-0.9829776507777322,-0.1469357916605228,0.5679188818392001,1.529413014699103,-0.3276547721051137,-1.0423677573212309,0.811616799365819,-1.3316013120176349,-1.8682578918247865,0.9497852481964191,-0.48074134536630314,-0.4481668902136482,-0.4874510603514809,0.8886789746157747,-0.8885847644458682,-0.6885045336406496,1.589358536547224,-0.6758365158912941,-0.40969212660536275,0.6746415974540376,1.1271460223680927,-1.6450552325643122,0.12158090294215941,1.0007876253334738,-1.256378892090455],\"xaxis\":\"x6\",\"yaxis\":\"y6\",\"type\":\"histogram\"},{\"line\":{\"color\":\"rgba(128, 128, 128, 1.0)\",\"dash\":\"solid\",\"shape\":\"linear\",\"width\":1.3},\"marker\":{\"size\":2,\"symbol\":\"circle\"},\"mode\":\"markers\",\"name\":\"B\",\"text\":\"\",\"x\":[1.2041286763052448,-0.7341612192305633,-0.5458056090180362,-0.060176807033348434,-1.461210307868879,-0.042962820390264604,-1.1112680953319287,0.4425994344947499,0.1581364727067789,1.0523143699302913,-0.6852756634925544,-2.138283291452284,0.26267208157579036,0.37372183885347143,0.8213211099006584,-0.8154119669655834,0.38096982250192774,0.3370927626585573,0.8661579662151041,0.5922180910315239,-0.246750931009974,-0.9512094621196407,-1.279912153943022,-1.0318148862660201,-1.2832182702457628,0.24335563499257745,-0.49710382848007084,-2.9933342420800924,-0.6978903685053779,2.3069038297787072,1.1972196152142145,0.5005035356788747,0.7297790581122335,-0.15941717349860096,-0.5181303473438783,-0.5934618471232722,0.8995817172937732,1.4236306634076306,0.13458851966672683,-1.9244973003383656,-0.4396687465651273,0.43148518125632296,-0.1045871680622103,-1.5154907586013207,0.9195989783041805,-0.5680229856548504,-1.0279969155715944,-0.7050486050975706,1.657409308353311,0.43853218340055466,0.4453702568775285,-0.8589282128077184,0.6917317701189633,0.4874349454596271,-0.05415017783183345,0.6786386411680831,0.49941202879755286,-0.09355296913250151,-0.39456615110421206,0.945327187041317,-0.1592104734693847,2.3917432164498007,-0.506147738239636,-0.26501055918580796,0.256761716941572,-2.0970130189996263,2.080817157003123,-1.969713916536074,1.2186284182395668,-0.6754697490087247,0.0864288898960222,-1.2623278342411035,-1.5782667637365249,-0.03995829079015229,0.4184420663801775,-0.5544865869156967,0.4917122214543861,-0.06530864944150375,-0.11841439565633523,0.6511421435271256,1.027365203598178,-1.0793832565983752,0.19273703232535136,0.21278608830470566,0.6698430690156365,-1.1447128329756069,-0.1406796689064955,0.23141660493699273,0.9064832898559017,-1.4194927711734235,1.7863130491938028,1.4143890894685258,-1.1686375404626603,-1.2767884937582192,0.908973163702017,0.4903546831594897,1.458215782292664,-0.1739490839601721,-0.08603191853491715,-0.30139862355672215],\"xaxis\":\"x7\",\"y\":[0.4382592167411095,-0.6309961348420734,-0.0395311262178848,-0.31428373652841174,-1.0100162848027445,0.3935453506068354,-1.1208413794066048,-0.48057193451665925,0.07553530507313684,-1.732193450923254,-0.18194479104436243,-1.2768988483331727,-0.9010984722462253,-0.04831591513783132,1.017334361674233,2.0659548342501,-1.3257645889148622,1.1439743874680193,-0.5955125539431376,1.5396128052705145,-0.3056876386133438,-0.3877195935848514,-0.26289468030335533,0.8933171597993632,0.28295230371184565,-2.0381890153955404,-0.8598396093738542,-1.6518707199339169,1.315608649571582,-1.1411519377453063,-1.1360395440453932,-1.7772226648265301,0.9650122260771038,1.1487983813941074,0.6236448087340094,0.23376375669016658,0.6124046327547832,1.438466886570016,-1.2648382819818582,-0.18510973962669178,-0.6786077887679473,-0.664905423820725,-0.46612759720887575,-0.750935532586305,0.7553429312716934,-0.974797806662005,1.0791958284105596,-1.4647682070265706,-1.131758714727324,0.3584005296774685,-2.618621262491332,0.22598540427059874,-0.11981462527459533,1.4990841490508868,-0.20774363409278152,0.6976938911487156,-0.6330586023195791,1.6187904142539622,1.282338045791857,0.0802792937980838,-0.5108597070798586,0.12905133080909542,0.3449053470374282,0.0766504080888916,-1.515901853753896,1.553054792584085,0.08897000243510644,-1.0459050859726782,-0.39902139781521845,1.2555188182347081,-2.0145418672522446,-0.27008247237976113,0.4903043952555374,2.214217040668718,-0.36536702022485823,-0.9829776507777322,-0.1469357916605228,0.5679188818392001,1.529413014699103,-0.3276547721051137,-1.0423677573212309,0.811616799365819,-1.3316013120176349,-1.8682578918247865,0.9497852481964191,-0.48074134536630314,-0.4481668902136482,-0.4874510603514809,0.8886789746157747,-0.8885847644458682,-0.6885045336406496,1.589358536547224,-0.6758365158912941,-0.40969212660536275,0.6746415974540376,1.1271460223680927,-1.6450552325643122,0.12158090294215941,1.0007876253334738,-1.256378892090455],\"yaxis\":\"y7\",\"type\":\"scatter\"},{\"line\":{\"color\":\"rgba(128, 128, 128, 1.0)\",\"dash\":\"solid\",\"shape\":\"linear\",\"width\":1.3},\"marker\":{\"size\":2,\"symbol\":\"circle\"},\"mode\":\"markers\",\"name\":\"B\",\"text\":\"\",\"x\":[0.5335617547626704,1.11511778820712,-0.08010239879881892,-2.259130632450229,0.1306904956755313,-0.10868636704330263,-1.2119879393566173,0.058401962784051895,-1.28475547880816,-0.23874716438584068,-0.05486944254343988,-0.7903758731068092,0.5511763376605952,0.6598876147808562,-1.393544253357598,-0.22141033511022082,1.3723354165859456,-2.295330139910439,0.7048578956406352,-1.3456434351515638,1.1330308424283735,-1.6303682417443779,1.1458167157730648,0.3412691509585753,-1.4814410312878,0.7056244817874007,-0.35631268737456484,-1.4973624280243167,-2.384006313434215,-0.4603706240551062,-0.3396935582570401,-1.7531152695661887,1.3317539945057488,0.03028900886027697,0.003446055668178733,0.6235875867000816,2.2119702214189525,0.09084069260464103,0.2455822204067303,-0.6571322155562199,-0.16271374185554327,-0.643073675919325,-1.9137010323432584,-0.7764981602357823,-0.44312146885367115,-1.7356585778027214,0.24444323790835046,0.7104679959661663,-1.3390136550043847,0.16366534129867924,-0.6047531524042749,1.2553527366235804,-0.6701759062038355,0.9363081857722896,0.8211474912961345,-1.8240721473503028,0.45230942549634595,2.1574505417899834,-0.062096453693924164,2.369880887091539,-1.0804781096479488,-1.3240023935686234,0.1891364017721843,1.4454723116515689,0.2670018973992693,0.3843716971280922,-0.9649721651660574,-1.0909805836656126,0.27081041390492183,1.153388859206965,0.38281022895155126,-0.8713849540757779,2.0528631419834227,1.5097740524964776,-0.5438358420554982,-0.07034753062399098,-0.8942657348846185,0.9487048514799492,1.3008219239253918,-0.5290864305394178,-1.7064792654511123,-0.19315259821983888,0.16849549170129602,0.3616001588411008,0.026682942900016677,1.2430267142940021,1.8288506123013686,-0.6461015794148398,-0.03903876462222602,-0.7345934981355124,-1.267407423342911,0.020312121797485937,-0.6162696698678704,-0.8700178732099789,0.48554238667112404,0.26801570273470005,0.103588232775617,0.12065839577974721,1.3510822698238307,0.3829175412191313],\"xaxis\":\"x8\",\"y\":[0.4382592167411095,-0.6309961348420734,-0.0395311262178848,-0.31428373652841174,-1.0100162848027445,0.3935453506068354,-1.1208413794066048,-0.48057193451665925,0.07553530507313684,-1.732193450923254,-0.18194479104436243,-1.2768988483331727,-0.9010984722462253,-0.04831591513783132,1.017334361674233,2.0659548342501,-1.3257645889148622,1.1439743874680193,-0.5955125539431376,1.5396128052705145,-0.3056876386133438,-0.3877195935848514,-0.26289468030335533,0.8933171597993632,0.28295230371184565,-2.0381890153955404,-0.8598396093738542,-1.6518707199339169,1.315608649571582,-1.1411519377453063,-1.1360395440453932,-1.7772226648265301,0.9650122260771038,1.1487983813941074,0.6236448087340094,0.23376375669016658,0.6124046327547832,1.438466886570016,-1.2648382819818582,-0.18510973962669178,-0.6786077887679473,-0.664905423820725,-0.46612759720887575,-0.750935532586305,0.7553429312716934,-0.974797806662005,1.0791958284105596,-1.4647682070265706,-1.131758714727324,0.3584005296774685,-2.618621262491332,0.22598540427059874,-0.11981462527459533,1.4990841490508868,-0.20774363409278152,0.6976938911487156,-0.6330586023195791,1.6187904142539622,1.282338045791857,0.0802792937980838,-0.5108597070798586,0.12905133080909542,0.3449053470374282,0.0766504080888916,-1.515901853753896,1.553054792584085,0.08897000243510644,-1.0459050859726782,-0.39902139781521845,1.2555188182347081,-2.0145418672522446,-0.27008247237976113,0.4903043952555374,2.214217040668718,-0.36536702022485823,-0.9829776507777322,-0.1469357916605228,0.5679188818392001,1.529413014699103,-0.3276547721051137,-1.0423677573212309,0.811616799365819,-1.3316013120176349,-1.8682578918247865,0.9497852481964191,-0.48074134536630314,-0.4481668902136482,-0.4874510603514809,0.8886789746157747,-0.8885847644458682,-0.6885045336406496,1.589358536547224,-0.6758365158912941,-0.40969212660536275,0.6746415974540376,1.1271460223680927,-1.6450552325643122,0.12158090294215941,1.0007876253334738,-1.256378892090455],\"yaxis\":\"y8\",\"type\":\"scatter\"},{\"line\":{\"color\":\"rgba(128, 128, 128, 1.0)\",\"dash\":\"solid\",\"shape\":\"linear\",\"width\":1.3},\"marker\":{\"size\":2,\"symbol\":\"circle\"},\"mode\":\"markers\",\"name\":\"C\",\"text\":\"\",\"x\":[-1.7551052678663162,0.3844705852588308,-2.036235857734799,-0.4777192690016541,1.4543579926789922,-0.09237757661484672,0.6119764070206649,1.2237887733721426,-1.7337095285419843,-0.09984401561568264,-0.4649631618162517,0.9998649026069217,-0.6943268284110494,-0.72841097667062,-0.4417144240902041,-0.004464788666717921,0.07531256094745666,0.819040457639244,-0.4567053715819427,-0.5963208419744218,0.20953116501771618,-0.6853725302321193,-0.4001354564558299,0.6480780792891775,0.21240416189485206,0.14312795229648412,1.4393143026131452,0.7837815407286436,0.7467555023995134,0.29599035733768936,-0.7218712504422361,-1.25193389495634,0.03611354174396783,-0.03200300201512434,-1.1826084205945602,-1.4446328395682333,-0.04401236980398926,1.148871152117295,-0.14011474199688925,0.06115179255331545,0.868403061018585,0.5428333970190617,2.023958447325256,1.298799841292337,0.3078105580800464,0.6071874163245976,0.8972500697072223,-0.9315584354567149,0.17846500752828248,0.4284783757579867,-1.2333721181585848,-0.5601363807245684,0.09472304319338498,1.778688134912088,-1.8021319258488775,-0.7791449714553991,-0.5839473586620774,-0.7253804597334422,-0.9232769368882936,-0.6139384413256993,-0.06283253701103511,-0.9172264457972898,1.274365195722724,-0.23411960543441399,-0.8057448573292509,0.7054532319615852,-1.1036282271372015,0.6513618183801033,1.6919479921315315,2.0298722949294987,-0.7413914397119926,1.6472076306959016,0.6975377328009644,-2.5744066196418682,-1.1618031599466374,1.191995297707877,0.3357604375348084,0.528360105058137,-2.426809770915547,-1.4970050996342303,0.5012670828793494,-0.4144372147571527,-1.5032345584573734,-0.5645262794150616,0.9074324916191596,0.5291147311047883,1.27378422165143,0.8144032756088596,0.22763909553884226,0.04666463041197144,-0.2909034169358753,1.2439472755893324,-0.5030014312921158,-2.04618571072768,-1.9776242737576282,-0.7784135744681734,-0.43542356262032955,0.3511218761609181,0.6690302299966587,-2.937691978255148],\"xaxis\":\"x9\",\"y\":[1.2041286763052448,-0.7341612192305633,-0.5458056090180362,-0.060176807033348434,-1.461210307868879,-0.042962820390264604,-1.1112680953319287,0.4425994344947499,0.1581364727067789,1.0523143699302913,-0.6852756634925544,-2.138283291452284,0.26267208157579036,0.37372183885347143,0.8213211099006584,-0.8154119669655834,0.38096982250192774,0.3370927626585573,0.8661579662151041,0.5922180910315239,-0.246750931009974,-0.9512094621196407,-1.279912153943022,-1.0318148862660201,-1.2832182702457628,0.24335563499257745,-0.49710382848007084,-2.9933342420800924,-0.6978903685053779,2.3069038297787072,1.1972196152142145,0.5005035356788747,0.7297790581122335,-0.15941717349860096,-0.5181303473438783,-0.5934618471232722,0.8995817172937732,1.4236306634076306,0.13458851966672683,-1.9244973003383656,-0.4396687465651273,0.43148518125632296,-0.1045871680622103,-1.5154907586013207,0.9195989783041805,-0.5680229856548504,-1.0279969155715944,-0.7050486050975706,1.657409308353311,0.43853218340055466,0.4453702568775285,-0.8589282128077184,0.6917317701189633,0.4874349454596271,-0.05415017783183345,0.6786386411680831,0.49941202879755286,-0.09355296913250151,-0.39456615110421206,0.945327187041317,-0.1592104734693847,2.3917432164498007,-0.506147738239636,-0.26501055918580796,0.256761716941572,-2.0970130189996263,2.080817157003123,-1.969713916536074,1.2186284182395668,-0.6754697490087247,0.0864288898960222,-1.2623278342411035,-1.5782667637365249,-0.03995829079015229,0.4184420663801775,-0.5544865869156967,0.4917122214543861,-0.06530864944150375,-0.11841439565633523,0.6511421435271256,1.027365203598178,-1.0793832565983752,0.19273703232535136,0.21278608830470566,0.6698430690156365,-1.1447128329756069,-0.1406796689064955,0.23141660493699273,0.9064832898559017,-1.4194927711734235,1.7863130491938028,1.4143890894685258,-1.1686375404626603,-1.2767884937582192,0.908973163702017,0.4903546831594897,1.458215782292664,-0.1739490839601721,-0.08603191853491715,-0.30139862355672215],\"yaxis\":\"y9\",\"type\":\"scatter\"},{\"line\":{\"color\":\"rgba(128, 128, 128, 1.0)\",\"dash\":\"solid\",\"shape\":\"linear\",\"width\":1.3},\"marker\":{\"size\":2,\"symbol\":\"circle\"},\"mode\":\"markers\",\"name\":\"C\",\"text\":\"\",\"x\":[0.4382592167411095,-0.6309961348420734,-0.0395311262178848,-0.31428373652841174,-1.0100162848027445,0.3935453506068354,-1.1208413794066048,-0.48057193451665925,0.07553530507313684,-1.732193450923254,-0.18194479104436243,-1.2768988483331727,-0.9010984722462253,-0.04831591513783132,1.017334361674233,2.0659548342501,-1.3257645889148622,1.1439743874680193,-0.5955125539431376,1.5396128052705145,-0.3056876386133438,-0.3877195935848514,-0.26289468030335533,0.8933171597993632,0.28295230371184565,-2.0381890153955404,-0.8598396093738542,-1.6518707199339169,1.315608649571582,-1.1411519377453063,-1.1360395440453932,-1.7772226648265301,0.9650122260771038,1.1487983813941074,0.6236448087340094,0.23376375669016658,0.6124046327547832,1.438466886570016,-1.2648382819818582,-0.18510973962669178,-0.6786077887679473,-0.664905423820725,-0.46612759720887575,-0.750935532586305,0.7553429312716934,-0.974797806662005,1.0791958284105596,-1.4647682070265706,-1.131758714727324,0.3584005296774685,-2.618621262491332,0.22598540427059874,-0.11981462527459533,1.4990841490508868,-0.20774363409278152,0.6976938911487156,-0.6330586023195791,1.6187904142539622,1.282338045791857,0.0802792937980838,-0.5108597070798586,0.12905133080909542,0.3449053470374282,0.0766504080888916,-1.515901853753896,1.553054792584085,0.08897000243510644,-1.0459050859726782,-0.39902139781521845,1.2555188182347081,-2.0145418672522446,-0.27008247237976113,0.4903043952555374,2.214217040668718,-0.36536702022485823,-0.9829776507777322,-0.1469357916605228,0.5679188818392001,1.529413014699103,-0.3276547721051137,-1.0423677573212309,0.811616799365819,-1.3316013120176349,-1.8682578918247865,0.9497852481964191,-0.48074134536630314,-0.4481668902136482,-0.4874510603514809,0.8886789746157747,-0.8885847644458682,-0.6885045336406496,1.589358536547224,-0.6758365158912941,-0.40969212660536275,0.6746415974540376,1.1271460223680927,-1.6450552325643122,0.12158090294215941,1.0007876253334738,-1.256378892090455],\"xaxis\":\"x10\",\"y\":[1.2041286763052448,-0.7341612192305633,-0.5458056090180362,-0.060176807033348434,-1.461210307868879,-0.042962820390264604,-1.1112680953319287,0.4425994344947499,0.1581364727067789,1.0523143699302913,-0.6852756634925544,-2.138283291452284,0.26267208157579036,0.37372183885347143,0.8213211099006584,-0.8154119669655834,0.38096982250192774,0.3370927626585573,0.8661579662151041,0.5922180910315239,-0.246750931009974,-0.9512094621196407,-1.279912153943022,-1.0318148862660201,-1.2832182702457628,0.24335563499257745,-0.49710382848007084,-2.9933342420800924,-0.6978903685053779,2.3069038297787072,1.1972196152142145,0.5005035356788747,0.7297790581122335,-0.15941717349860096,-0.5181303473438783,-0.5934618471232722,0.8995817172937732,1.4236306634076306,0.13458851966672683,-1.9244973003383656,-0.4396687465651273,0.43148518125632296,-0.1045871680622103,-1.5154907586013207,0.9195989783041805,-0.5680229856548504,-1.0279969155715944,-0.7050486050975706,1.657409308353311,0.43853218340055466,0.4453702568775285,-0.8589282128077184,0.6917317701189633,0.4874349454596271,-0.05415017783183345,0.6786386411680831,0.49941202879755286,-0.09355296913250151,-0.39456615110421206,0.945327187041317,-0.1592104734693847,2.3917432164498007,-0.506147738239636,-0.26501055918580796,0.256761716941572,-2.0970130189996263,2.080817157003123,-1.969713916536074,1.2186284182395668,-0.6754697490087247,0.0864288898960222,-1.2623278342411035,-1.5782667637365249,-0.03995829079015229,0.4184420663801775,-0.5544865869156967,0.4917122214543861,-0.06530864944150375,-0.11841439565633523,0.6511421435271256,1.027365203598178,-1.0793832565983752,0.19273703232535136,0.21278608830470566,0.6698430690156365,-1.1447128329756069,-0.1406796689064955,0.23141660493699273,0.9064832898559017,-1.4194927711734235,1.7863130491938028,1.4143890894685258,-1.1686375404626603,-1.2767884937582192,0.908973163702017,0.4903546831594897,1.458215782292664,-0.1739490839601721,-0.08603191853491715,-0.30139862355672215],\"yaxis\":\"y10\",\"type\":\"scatter\"},{\"histfunc\":\"count\",\"histnorm\":\"\",\"marker\":{\"color\":\"rgba(50, 171, 96, 1.0)\",\"line\":{\"color\":\"#4D5663\",\"width\":1.3}},\"name\":\"C\",\"nbinsx\":10,\"opacity\":0.8,\"orientation\":\"v\",\"x\":[1.2041286763052448,-0.7341612192305633,-0.5458056090180362,-0.060176807033348434,-1.461210307868879,-0.042962820390264604,-1.1112680953319287,0.4425994344947499,0.1581364727067789,1.0523143699302913,-0.6852756634925544,-2.138283291452284,0.26267208157579036,0.37372183885347143,0.8213211099006584,-0.8154119669655834,0.38096982250192774,0.3370927626585573,0.8661579662151041,0.5922180910315239,-0.246750931009974,-0.9512094621196407,-1.279912153943022,-1.0318148862660201,-1.2832182702457628,0.24335563499257745,-0.49710382848007084,-2.9933342420800924,-0.6978903685053779,2.3069038297787072,1.1972196152142145,0.5005035356788747,0.7297790581122335,-0.15941717349860096,-0.5181303473438783,-0.5934618471232722,0.8995817172937732,1.4236306634076306,0.13458851966672683,-1.9244973003383656,-0.4396687465651273,0.43148518125632296,-0.1045871680622103,-1.5154907586013207,0.9195989783041805,-0.5680229856548504,-1.0279969155715944,-0.7050486050975706,1.657409308353311,0.43853218340055466,0.4453702568775285,-0.8589282128077184,0.6917317701189633,0.4874349454596271,-0.05415017783183345,0.6786386411680831,0.49941202879755286,-0.09355296913250151,-0.39456615110421206,0.945327187041317,-0.1592104734693847,2.3917432164498007,-0.506147738239636,-0.26501055918580796,0.256761716941572,-2.0970130189996263,2.080817157003123,-1.969713916536074,1.2186284182395668,-0.6754697490087247,0.0864288898960222,-1.2623278342411035,-1.5782667637365249,-0.03995829079015229,0.4184420663801775,-0.5544865869156967,0.4917122214543861,-0.06530864944150375,-0.11841439565633523,0.6511421435271256,1.027365203598178,-1.0793832565983752,0.19273703232535136,0.21278608830470566,0.6698430690156365,-1.1447128329756069,-0.1406796689064955,0.23141660493699273,0.9064832898559017,-1.4194927711734235,1.7863130491938028,1.4143890894685258,-1.1686375404626603,-1.2767884937582192,0.908973163702017,0.4903546831594897,1.458215782292664,-0.1739490839601721,-0.08603191853491715,-0.30139862355672215],\"xaxis\":\"x11\",\"yaxis\":\"y11\",\"type\":\"histogram\"},{\"line\":{\"color\":\"rgba(128, 128, 128, 1.0)\",\"dash\":\"solid\",\"shape\":\"linear\",\"width\":1.3},\"marker\":{\"size\":2,\"symbol\":\"circle\"},\"mode\":\"markers\",\"name\":\"C\",\"text\":\"\",\"x\":[0.5335617547626704,1.11511778820712,-0.08010239879881892,-2.259130632450229,0.1306904956755313,-0.10868636704330263,-1.2119879393566173,0.058401962784051895,-1.28475547880816,-0.23874716438584068,-0.05486944254343988,-0.7903758731068092,0.5511763376605952,0.6598876147808562,-1.393544253357598,-0.22141033511022082,1.3723354165859456,-2.295330139910439,0.7048578956406352,-1.3456434351515638,1.1330308424283735,-1.6303682417443779,1.1458167157730648,0.3412691509585753,-1.4814410312878,0.7056244817874007,-0.35631268737456484,-1.4973624280243167,-2.384006313434215,-0.4603706240551062,-0.3396935582570401,-1.7531152695661887,1.3317539945057488,0.03028900886027697,0.003446055668178733,0.6235875867000816,2.2119702214189525,0.09084069260464103,0.2455822204067303,-0.6571322155562199,-0.16271374185554327,-0.643073675919325,-1.9137010323432584,-0.7764981602357823,-0.44312146885367115,-1.7356585778027214,0.24444323790835046,0.7104679959661663,-1.3390136550043847,0.16366534129867924,-0.6047531524042749,1.2553527366235804,-0.6701759062038355,0.9363081857722896,0.8211474912961345,-1.8240721473503028,0.45230942549634595,2.1574505417899834,-0.062096453693924164,2.369880887091539,-1.0804781096479488,-1.3240023935686234,0.1891364017721843,1.4454723116515689,0.2670018973992693,0.3843716971280922,-0.9649721651660574,-1.0909805836656126,0.27081041390492183,1.153388859206965,0.38281022895155126,-0.8713849540757779,2.0528631419834227,1.5097740524964776,-0.5438358420554982,-0.07034753062399098,-0.8942657348846185,0.9487048514799492,1.3008219239253918,-0.5290864305394178,-1.7064792654511123,-0.19315259821983888,0.16849549170129602,0.3616001588411008,0.026682942900016677,1.2430267142940021,1.8288506123013686,-0.6461015794148398,-0.03903876462222602,-0.7345934981355124,-1.267407423342911,0.020312121797485937,-0.6162696698678704,-0.8700178732099789,0.48554238667112404,0.26801570273470005,0.103588232775617,0.12065839577974721,1.3510822698238307,0.3829175412191313],\"xaxis\":\"x12\",\"y\":[1.2041286763052448,-0.7341612192305633,-0.5458056090180362,-0.060176807033348434,-1.461210307868879,-0.042962820390264604,-1.1112680953319287,0.4425994344947499,0.1581364727067789,1.0523143699302913,-0.6852756634925544,-2.138283291452284,0.26267208157579036,0.37372183885347143,0.8213211099006584,-0.8154119669655834,0.38096982250192774,0.3370927626585573,0.8661579662151041,0.5922180910315239,-0.246750931009974,-0.9512094621196407,-1.279912153943022,-1.0318148862660201,-1.2832182702457628,0.24335563499257745,-0.49710382848007084,-2.9933342420800924,-0.6978903685053779,2.3069038297787072,1.1972196152142145,0.5005035356788747,0.7297790581122335,-0.15941717349860096,-0.5181303473438783,-0.5934618471232722,0.8995817172937732,1.4236306634076306,0.13458851966672683,-1.9244973003383656,-0.4396687465651273,0.43148518125632296,-0.1045871680622103,-1.5154907586013207,0.9195989783041805,-0.5680229856548504,-1.0279969155715944,-0.7050486050975706,1.657409308353311,0.43853218340055466,0.4453702568775285,-0.8589282128077184,0.6917317701189633,0.4874349454596271,-0.05415017783183345,0.6786386411680831,0.49941202879755286,-0.09355296913250151,-0.39456615110421206,0.945327187041317,-0.1592104734693847,2.3917432164498007,-0.506147738239636,-0.26501055918580796,0.256761716941572,-2.0970130189996263,2.080817157003123,-1.969713916536074,1.2186284182395668,-0.6754697490087247,0.0864288898960222,-1.2623278342411035,-1.5782667637365249,-0.03995829079015229,0.4184420663801775,-0.5544865869156967,0.4917122214543861,-0.06530864944150375,-0.11841439565633523,0.6511421435271256,1.027365203598178,-1.0793832565983752,0.19273703232535136,0.21278608830470566,0.6698430690156365,-1.1447128329756069,-0.1406796689064955,0.23141660493699273,0.9064832898559017,-1.4194927711734235,1.7863130491938028,1.4143890894685258,-1.1686375404626603,-1.2767884937582192,0.908973163702017,0.4903546831594897,1.458215782292664,-0.1739490839601721,-0.08603191853491715,-0.30139862355672215],\"yaxis\":\"y12\",\"type\":\"scatter\"},{\"line\":{\"color\":\"rgba(128, 128, 128, 1.0)\",\"dash\":\"solid\",\"shape\":\"linear\",\"width\":1.3},\"marker\":{\"size\":2,\"symbol\":\"circle\"},\"mode\":\"markers\",\"name\":\"D\",\"text\":\"\",\"x\":[-1.7551052678663162,0.3844705852588308,-2.036235857734799,-0.4777192690016541,1.4543579926789922,-0.09237757661484672,0.6119764070206649,1.2237887733721426,-1.7337095285419843,-0.09984401561568264,-0.4649631618162517,0.9998649026069217,-0.6943268284110494,-0.72841097667062,-0.4417144240902041,-0.004464788666717921,0.07531256094745666,0.819040457639244,-0.4567053715819427,-0.5963208419744218,0.20953116501771618,-0.6853725302321193,-0.4001354564558299,0.6480780792891775,0.21240416189485206,0.14312795229648412,1.4393143026131452,0.7837815407286436,0.7467555023995134,0.29599035733768936,-0.7218712504422361,-1.25193389495634,0.03611354174396783,-0.03200300201512434,-1.1826084205945602,-1.4446328395682333,-0.04401236980398926,1.148871152117295,-0.14011474199688925,0.06115179255331545,0.868403061018585,0.5428333970190617,2.023958447325256,1.298799841292337,0.3078105580800464,0.6071874163245976,0.8972500697072223,-0.9315584354567149,0.17846500752828248,0.4284783757579867,-1.2333721181585848,-0.5601363807245684,0.09472304319338498,1.778688134912088,-1.8021319258488775,-0.7791449714553991,-0.5839473586620774,-0.7253804597334422,-0.9232769368882936,-0.6139384413256993,-0.06283253701103511,-0.9172264457972898,1.274365195722724,-0.23411960543441399,-0.8057448573292509,0.7054532319615852,-1.1036282271372015,0.6513618183801033,1.6919479921315315,2.0298722949294987,-0.7413914397119926,1.6472076306959016,0.6975377328009644,-2.5744066196418682,-1.1618031599466374,1.191995297707877,0.3357604375348084,0.528360105058137,-2.426809770915547,-1.4970050996342303,0.5012670828793494,-0.4144372147571527,-1.5032345584573734,-0.5645262794150616,0.9074324916191596,0.5291147311047883,1.27378422165143,0.8144032756088596,0.22763909553884226,0.04666463041197144,-0.2909034169358753,1.2439472755893324,-0.5030014312921158,-2.04618571072768,-1.9776242737576282,-0.7784135744681734,-0.43542356262032955,0.3511218761609181,0.6690302299966587,-2.937691978255148],\"xaxis\":\"x13\",\"y\":[0.5335617547626704,1.11511778820712,-0.08010239879881892,-2.259130632450229,0.1306904956755313,-0.10868636704330263,-1.2119879393566173,0.058401962784051895,-1.28475547880816,-0.23874716438584068,-0.05486944254343988,-0.7903758731068092,0.5511763376605952,0.6598876147808562,-1.393544253357598,-0.22141033511022082,1.3723354165859456,-2.295330139910439,0.7048578956406352,-1.3456434351515638,1.1330308424283735,-1.6303682417443779,1.1458167157730648,0.3412691509585753,-1.4814410312878,0.7056244817874007,-0.35631268737456484,-1.4973624280243167,-2.384006313434215,-0.4603706240551062,-0.3396935582570401,-1.7531152695661887,1.3317539945057488,0.03028900886027697,0.003446055668178733,0.6235875867000816,2.2119702214189525,0.09084069260464103,0.2455822204067303,-0.6571322155562199,-0.16271374185554327,-0.643073675919325,-1.9137010323432584,-0.7764981602357823,-0.44312146885367115,-1.7356585778027214,0.24444323790835046,0.7104679959661663,-1.3390136550043847,0.16366534129867924,-0.6047531524042749,1.2553527366235804,-0.6701759062038355,0.9363081857722896,0.8211474912961345,-1.8240721473503028,0.45230942549634595,2.1574505417899834,-0.062096453693924164,2.369880887091539,-1.0804781096479488,-1.3240023935686234,0.1891364017721843,1.4454723116515689,0.2670018973992693,0.3843716971280922,-0.9649721651660574,-1.0909805836656126,0.27081041390492183,1.153388859206965,0.38281022895155126,-0.8713849540757779,2.0528631419834227,1.5097740524964776,-0.5438358420554982,-0.07034753062399098,-0.8942657348846185,0.9487048514799492,1.3008219239253918,-0.5290864305394178,-1.7064792654511123,-0.19315259821983888,0.16849549170129602,0.3616001588411008,0.026682942900016677,1.2430267142940021,1.8288506123013686,-0.6461015794148398,-0.03903876462222602,-0.7345934981355124,-1.267407423342911,0.020312121797485937,-0.6162696698678704,-0.8700178732099789,0.48554238667112404,0.26801570273470005,0.103588232775617,0.12065839577974721,1.3510822698238307,0.3829175412191313],\"yaxis\":\"y13\",\"type\":\"scatter\"},{\"line\":{\"color\":\"rgba(128, 128, 128, 1.0)\",\"dash\":\"solid\",\"shape\":\"linear\",\"width\":1.3},\"marker\":{\"size\":2,\"symbol\":\"circle\"},\"mode\":\"markers\",\"name\":\"D\",\"text\":\"\",\"x\":[0.4382592167411095,-0.6309961348420734,-0.0395311262178848,-0.31428373652841174,-1.0100162848027445,0.3935453506068354,-1.1208413794066048,-0.48057193451665925,0.07553530507313684,-1.732193450923254,-0.18194479104436243,-1.2768988483331727,-0.9010984722462253,-0.04831591513783132,1.017334361674233,2.0659548342501,-1.3257645889148622,1.1439743874680193,-0.5955125539431376,1.5396128052705145,-0.3056876386133438,-0.3877195935848514,-0.26289468030335533,0.8933171597993632,0.28295230371184565,-2.0381890153955404,-0.8598396093738542,-1.6518707199339169,1.315608649571582,-1.1411519377453063,-1.1360395440453932,-1.7772226648265301,0.9650122260771038,1.1487983813941074,0.6236448087340094,0.23376375669016658,0.6124046327547832,1.438466886570016,-1.2648382819818582,-0.18510973962669178,-0.6786077887679473,-0.664905423820725,-0.46612759720887575,-0.750935532586305,0.7553429312716934,-0.974797806662005,1.0791958284105596,-1.4647682070265706,-1.131758714727324,0.3584005296774685,-2.618621262491332,0.22598540427059874,-0.11981462527459533,1.4990841490508868,-0.20774363409278152,0.6976938911487156,-0.6330586023195791,1.6187904142539622,1.282338045791857,0.0802792937980838,-0.5108597070798586,0.12905133080909542,0.3449053470374282,0.0766504080888916,-1.515901853753896,1.553054792584085,0.08897000243510644,-1.0459050859726782,-0.39902139781521845,1.2555188182347081,-2.0145418672522446,-0.27008247237976113,0.4903043952555374,2.214217040668718,-0.36536702022485823,-0.9829776507777322,-0.1469357916605228,0.5679188818392001,1.529413014699103,-0.3276547721051137,-1.0423677573212309,0.811616799365819,-1.3316013120176349,-1.8682578918247865,0.9497852481964191,-0.48074134536630314,-0.4481668902136482,-0.4874510603514809,0.8886789746157747,-0.8885847644458682,-0.6885045336406496,1.589358536547224,-0.6758365158912941,-0.40969212660536275,0.6746415974540376,1.1271460223680927,-1.6450552325643122,0.12158090294215941,1.0007876253334738,-1.256378892090455],\"xaxis\":\"x14\",\"y\":[0.5335617547626704,1.11511778820712,-0.08010239879881892,-2.259130632450229,0.1306904956755313,-0.10868636704330263,-1.2119879393566173,0.058401962784051895,-1.28475547880816,-0.23874716438584068,-0.05486944254343988,-0.7903758731068092,0.5511763376605952,0.6598876147808562,-1.393544253357598,-0.22141033511022082,1.3723354165859456,-2.295330139910439,0.7048578956406352,-1.3456434351515638,1.1330308424283735,-1.6303682417443779,1.1458167157730648,0.3412691509585753,-1.4814410312878,0.7056244817874007,-0.35631268737456484,-1.4973624280243167,-2.384006313434215,-0.4603706240551062,-0.3396935582570401,-1.7531152695661887,1.3317539945057488,0.03028900886027697,0.003446055668178733,0.6235875867000816,2.2119702214189525,0.09084069260464103,0.2455822204067303,-0.6571322155562199,-0.16271374185554327,-0.643073675919325,-1.9137010323432584,-0.7764981602357823,-0.44312146885367115,-1.7356585778027214,0.24444323790835046,0.7104679959661663,-1.3390136550043847,0.16366534129867924,-0.6047531524042749,1.2553527366235804,-0.6701759062038355,0.9363081857722896,0.8211474912961345,-1.8240721473503028,0.45230942549634595,2.1574505417899834,-0.062096453693924164,2.369880887091539,-1.0804781096479488,-1.3240023935686234,0.1891364017721843,1.4454723116515689,0.2670018973992693,0.3843716971280922,-0.9649721651660574,-1.0909805836656126,0.27081041390492183,1.153388859206965,0.38281022895155126,-0.8713849540757779,2.0528631419834227,1.5097740524964776,-0.5438358420554982,-0.07034753062399098,-0.8942657348846185,0.9487048514799492,1.3008219239253918,-0.5290864305394178,-1.7064792654511123,-0.19315259821983888,0.16849549170129602,0.3616001588411008,0.026682942900016677,1.2430267142940021,1.8288506123013686,-0.6461015794148398,-0.03903876462222602,-0.7345934981355124,-1.267407423342911,0.020312121797485937,-0.6162696698678704,-0.8700178732099789,0.48554238667112404,0.26801570273470005,0.103588232775617,0.12065839577974721,1.3510822698238307,0.3829175412191313],\"yaxis\":\"y14\",\"type\":\"scatter\"},{\"line\":{\"color\":\"rgba(128, 128, 128, 1.0)\",\"dash\":\"solid\",\"shape\":\"linear\",\"width\":1.3},\"marker\":{\"size\":2,\"symbol\":\"circle\"},\"mode\":\"markers\",\"name\":\"D\",\"text\":\"\",\"x\":[1.2041286763052448,-0.7341612192305633,-0.5458056090180362,-0.060176807033348434,-1.461210307868879,-0.042962820390264604,-1.1112680953319287,0.4425994344947499,0.1581364727067789,1.0523143699302913,-0.6852756634925544,-2.138283291452284,0.26267208157579036,0.37372183885347143,0.8213211099006584,-0.8154119669655834,0.38096982250192774,0.3370927626585573,0.8661579662151041,0.5922180910315239,-0.246750931009974,-0.9512094621196407,-1.279912153943022,-1.0318148862660201,-1.2832182702457628,0.24335563499257745,-0.49710382848007084,-2.9933342420800924,-0.6978903685053779,2.3069038297787072,1.1972196152142145,0.5005035356788747,0.7297790581122335,-0.15941717349860096,-0.5181303473438783,-0.5934618471232722,0.8995817172937732,1.4236306634076306,0.13458851966672683,-1.9244973003383656,-0.4396687465651273,0.43148518125632296,-0.1045871680622103,-1.5154907586013207,0.9195989783041805,-0.5680229856548504,-1.0279969155715944,-0.7050486050975706,1.657409308353311,0.43853218340055466,0.4453702568775285,-0.8589282128077184,0.6917317701189633,0.4874349454596271,-0.05415017783183345,0.6786386411680831,0.49941202879755286,-0.09355296913250151,-0.39456615110421206,0.945327187041317,-0.1592104734693847,2.3917432164498007,-0.506147738239636,-0.26501055918580796,0.256761716941572,-2.0970130189996263,2.080817157003123,-1.969713916536074,1.2186284182395668,-0.6754697490087247,0.0864288898960222,-1.2623278342411035,-1.5782667637365249,-0.03995829079015229,0.4184420663801775,-0.5544865869156967,0.4917122214543861,-0.06530864944150375,-0.11841439565633523,0.6511421435271256,1.027365203598178,-1.0793832565983752,0.19273703232535136,0.21278608830470566,0.6698430690156365,-1.1447128329756069,-0.1406796689064955,0.23141660493699273,0.9064832898559017,-1.4194927711734235,1.7863130491938028,1.4143890894685258,-1.1686375404626603,-1.2767884937582192,0.908973163702017,0.4903546831594897,1.458215782292664,-0.1739490839601721,-0.08603191853491715,-0.30139862355672215],\"xaxis\":\"x15\",\"y\":[0.5335617547626704,1.11511778820712,-0.08010239879881892,-2.259130632450229,0.1306904956755313,-0.10868636704330263,-1.2119879393566173,0.058401962784051895,-1.28475547880816,-0.23874716438584068,-0.05486944254343988,-0.7903758731068092,0.5511763376605952,0.6598876147808562,-1.393544253357598,-0.22141033511022082,1.3723354165859456,-2.295330139910439,0.7048578956406352,-1.3456434351515638,1.1330308424283735,-1.6303682417443779,1.1458167157730648,0.3412691509585753,-1.4814410312878,0.7056244817874007,-0.35631268737456484,-1.4973624280243167,-2.384006313434215,-0.4603706240551062,-0.3396935582570401,-1.7531152695661887,1.3317539945057488,0.03028900886027697,0.003446055668178733,0.6235875867000816,2.2119702214189525,0.09084069260464103,0.2455822204067303,-0.6571322155562199,-0.16271374185554327,-0.643073675919325,-1.9137010323432584,-0.7764981602357823,-0.44312146885367115,-1.7356585778027214,0.24444323790835046,0.7104679959661663,-1.3390136550043847,0.16366534129867924,-0.6047531524042749,1.2553527366235804,-0.6701759062038355,0.9363081857722896,0.8211474912961345,-1.8240721473503028,0.45230942549634595,2.1574505417899834,-0.062096453693924164,2.369880887091539,-1.0804781096479488,-1.3240023935686234,0.1891364017721843,1.4454723116515689,0.2670018973992693,0.3843716971280922,-0.9649721651660574,-1.0909805836656126,0.27081041390492183,1.153388859206965,0.38281022895155126,-0.8713849540757779,2.0528631419834227,1.5097740524964776,-0.5438358420554982,-0.07034753062399098,-0.8942657348846185,0.9487048514799492,1.3008219239253918,-0.5290864305394178,-1.7064792654511123,-0.19315259821983888,0.16849549170129602,0.3616001588411008,0.026682942900016677,1.2430267142940021,1.8288506123013686,-0.6461015794148398,-0.03903876462222602,-0.7345934981355124,-1.267407423342911,0.020312121797485937,-0.6162696698678704,-0.8700178732099789,0.48554238667112404,0.26801570273470005,0.103588232775617,0.12065839577974721,1.3510822698238307,0.3829175412191313],\"yaxis\":\"y15\",\"type\":\"scatter\"},{\"histfunc\":\"count\",\"histnorm\":\"\",\"marker\":{\"color\":\"rgba(128, 0, 128, 1.0)\",\"line\":{\"color\":\"#4D5663\",\"width\":1.3}},\"name\":\"D\",\"nbinsx\":10,\"opacity\":0.8,\"orientation\":\"v\",\"x\":[0.5335617547626704,1.11511778820712,-0.08010239879881892,-2.259130632450229,0.1306904956755313,-0.10868636704330263,-1.2119879393566173,0.058401962784051895,-1.28475547880816,-0.23874716438584068,-0.05486944254343988,-0.7903758731068092,0.5511763376605952,0.6598876147808562,-1.393544253357598,-0.22141033511022082,1.3723354165859456,-2.295330139910439,0.7048578956406352,-1.3456434351515638,1.1330308424283735,-1.6303682417443779,1.1458167157730648,0.3412691509585753,-1.4814410312878,0.7056244817874007,-0.35631268737456484,-1.4973624280243167,-2.384006313434215,-0.4603706240551062,-0.3396935582570401,-1.7531152695661887,1.3317539945057488,0.03028900886027697,0.003446055668178733,0.6235875867000816,2.2119702214189525,0.09084069260464103,0.2455822204067303,-0.6571322155562199,-0.16271374185554327,-0.643073675919325,-1.9137010323432584,-0.7764981602357823,-0.44312146885367115,-1.7356585778027214,0.24444323790835046,0.7104679959661663,-1.3390136550043847,0.16366534129867924,-0.6047531524042749,1.2553527366235804,-0.6701759062038355,0.9363081857722896,0.8211474912961345,-1.8240721473503028,0.45230942549634595,2.1574505417899834,-0.062096453693924164,2.369880887091539,-1.0804781096479488,-1.3240023935686234,0.1891364017721843,1.4454723116515689,0.2670018973992693,0.3843716971280922,-0.9649721651660574,-1.0909805836656126,0.27081041390492183,1.153388859206965,0.38281022895155126,-0.8713849540757779,2.0528631419834227,1.5097740524964776,-0.5438358420554982,-0.07034753062399098,-0.8942657348846185,0.9487048514799492,1.3008219239253918,-0.5290864305394178,-1.7064792654511123,-0.19315259821983888,0.16849549170129602,0.3616001588411008,0.026682942900016677,1.2430267142940021,1.8288506123013686,-0.6461015794148398,-0.03903876462222602,-0.7345934981355124,-1.267407423342911,0.020312121797485937,-0.6162696698678704,-0.8700178732099789,0.48554238667112404,0.26801570273470005,0.103588232775617,0.12065839577974721,1.3510822698238307,0.3829175412191313],\"xaxis\":\"x16\",\"yaxis\":\"y16\",\"type\":\"histogram\"}],                        {\"bargap\":0.02,\"legend\":{\"bgcolor\":\"#F5F6F9\",\"font\":{\"color\":\"#4D5663\"}},\"paper_bgcolor\":\"#F5F6F9\",\"plot_bgcolor\":\"#F5F6F9\",\"showlegend\":false,\"template\":{\"data\":{\"barpolar\":[{\"marker\":{\"line\":{\"color\":\"#E5ECF6\",\"width\":0.5},\"pattern\":{\"fillmode\":\"overlay\",\"size\":10,\"solidity\":0.2}},\"type\":\"barpolar\"}],\"bar\":[{\"error_x\":{\"color\":\"#2a3f5f\"},\"error_y\":{\"color\":\"#2a3f5f\"},\"marker\":{\"line\":{\"color\":\"#E5ECF6\",\"width\":0.5},\"pattern\":{\"fillmode\":\"overlay\",\"size\":10,\"solidity\":0.2}},\"type\":\"bar\"}],\"carpet\":[{\"aaxis\":{\"endlinecolor\":\"#2a3f5f\",\"gridcolor\":\"white\",\"linecolor\":\"white\",\"minorgridcolor\":\"white\",\"startlinecolor\":\"#2a3f5f\"},\"baxis\":{\"endlinecolor\":\"#2a3f5f\",\"gridcolor\":\"white\",\"linecolor\":\"white\",\"minorgridcolor\":\"white\",\"startlinecolor\":\"#2a3f5f\"},\"type\":\"carpet\"}],\"choropleth\":[{\"colorbar\":{\"outlinewidth\":0,\"ticks\":\"\"},\"type\":\"choropleth\"}],\"contourcarpet\":[{\"colorbar\":{\"outlinewidth\":0,\"ticks\":\"\"},\"type\":\"contourcarpet\"}],\"contour\":[{\"colorbar\":{\"outlinewidth\":0,\"ticks\":\"\"},\"colorscale\":[[0.0,\"#0d0887\"],[0.1111111111111111,\"#46039f\"],[0.2222222222222222,\"#7201a8\"],[0.3333333333333333,\"#9c179e\"],[0.4444444444444444,\"#bd3786\"],[0.5555555555555556,\"#d8576b\"],[0.6666666666666666,\"#ed7953\"],[0.7777777777777778,\"#fb9f3a\"],[0.8888888888888888,\"#fdca26\"],[1.0,\"#f0f921\"]],\"type\":\"contour\"}],\"heatmapgl\":[{\"colorbar\":{\"outlinewidth\":0,\"ticks\":\"\"},\"colorscale\":[[0.0,\"#0d0887\"],[0.1111111111111111,\"#46039f\"],[0.2222222222222222,\"#7201a8\"],[0.3333333333333333,\"#9c179e\"],[0.4444444444444444,\"#bd3786\"],[0.5555555555555556,\"#d8576b\"],[0.6666666666666666,\"#ed7953\"],[0.7777777777777778,\"#fb9f3a\"],[0.8888888888888888,\"#fdca26\"],[1.0,\"#f0f921\"]],\"type\":\"heatmapgl\"}],\"heatmap\":[{\"colorbar\":{\"outlinewidth\":0,\"ticks\":\"\"},\"colorscale\":[[0.0,\"#0d0887\"],[0.1111111111111111,\"#46039f\"],[0.2222222222222222,\"#7201a8\"],[0.3333333333333333,\"#9c179e\"],[0.4444444444444444,\"#bd3786\"],[0.5555555555555556,\"#d8576b\"],[0.6666666666666666,\"#ed7953\"],[0.7777777777777778,\"#fb9f3a\"],[0.8888888888888888,\"#fdca26\"],[1.0,\"#f0f921\"]],\"type\":\"heatmap\"}],\"histogram2dcontour\":[{\"colorbar\":{\"outlinewidth\":0,\"ticks\":\"\"},\"colorscale\":[[0.0,\"#0d0887\"],[0.1111111111111111,\"#46039f\"],[0.2222222222222222,\"#7201a8\"],[0.3333333333333333,\"#9c179e\"],[0.4444444444444444,\"#bd3786\"],[0.5555555555555556,\"#d8576b\"],[0.6666666666666666,\"#ed7953\"],[0.7777777777777778,\"#fb9f3a\"],[0.8888888888888888,\"#fdca26\"],[1.0,\"#f0f921\"]],\"type\":\"histogram2dcontour\"}],\"histogram2d\":[{\"colorbar\":{\"outlinewidth\":0,\"ticks\":\"\"},\"colorscale\":[[0.0,\"#0d0887\"],[0.1111111111111111,\"#46039f\"],[0.2222222222222222,\"#7201a8\"],[0.3333333333333333,\"#9c179e\"],[0.4444444444444444,\"#bd3786\"],[0.5555555555555556,\"#d8576b\"],[0.6666666666666666,\"#ed7953\"],[0.7777777777777778,\"#fb9f3a\"],[0.8888888888888888,\"#fdca26\"],[1.0,\"#f0f921\"]],\"type\":\"histogram2d\"}],\"histogram\":[{\"marker\":{\"pattern\":{\"fillmode\":\"overlay\",\"size\":10,\"solidity\":0.2}},\"type\":\"histogram\"}],\"mesh3d\":[{\"colorbar\":{\"outlinewidth\":0,\"ticks\":\"\"},\"type\":\"mesh3d\"}],\"parcoords\":[{\"line\":{\"colorbar\":{\"outlinewidth\":0,\"ticks\":\"\"}},\"type\":\"parcoords\"}],\"pie\":[{\"automargin\":true,\"type\":\"pie\"}],\"scatter3d\":[{\"line\":{\"colorbar\":{\"outlinewidth\":0,\"ticks\":\"\"}},\"marker\":{\"colorbar\":{\"outlinewidth\":0,\"ticks\":\"\"}},\"type\":\"scatter3d\"}],\"scattercarpet\":[{\"marker\":{\"colorbar\":{\"outlinewidth\":0,\"ticks\":\"\"}},\"type\":\"scattercarpet\"}],\"scattergeo\":[{\"marker\":{\"colorbar\":{\"outlinewidth\":0,\"ticks\":\"\"}},\"type\":\"scattergeo\"}],\"scattergl\":[{\"marker\":{\"colorbar\":{\"outlinewidth\":0,\"ticks\":\"\"}},\"type\":\"scattergl\"}],\"scattermapbox\":[{\"marker\":{\"colorbar\":{\"outlinewidth\":0,\"ticks\":\"\"}},\"type\":\"scattermapbox\"}],\"scatterpolargl\":[{\"marker\":{\"colorbar\":{\"outlinewidth\":0,\"ticks\":\"\"}},\"type\":\"scatterpolargl\"}],\"scatterpolar\":[{\"marker\":{\"colorbar\":{\"outlinewidth\":0,\"ticks\":\"\"}},\"type\":\"scatterpolar\"}],\"scatter\":[{\"fillpattern\":{\"fillmode\":\"overlay\",\"size\":10,\"solidity\":0.2},\"type\":\"scatter\"}],\"scatterternary\":[{\"marker\":{\"colorbar\":{\"outlinewidth\":0,\"ticks\":\"\"}},\"type\":\"scatterternary\"}],\"surface\":[{\"colorbar\":{\"outlinewidth\":0,\"ticks\":\"\"},\"colorscale\":[[0.0,\"#0d0887\"],[0.1111111111111111,\"#46039f\"],[0.2222222222222222,\"#7201a8\"],[0.3333333333333333,\"#9c179e\"],[0.4444444444444444,\"#bd3786\"],[0.5555555555555556,\"#d8576b\"],[0.6666666666666666,\"#ed7953\"],[0.7777777777777778,\"#fb9f3a\"],[0.8888888888888888,\"#fdca26\"],[1.0,\"#f0f921\"]],\"type\":\"surface\"}],\"table\":[{\"cells\":{\"fill\":{\"color\":\"#EBF0F8\"},\"line\":{\"color\":\"white\"}},\"header\":{\"fill\":{\"color\":\"#C8D4E3\"},\"line\":{\"color\":\"white\"}},\"type\":\"table\"}]},\"layout\":{\"annotationdefaults\":{\"arrowcolor\":\"#2a3f5f\",\"arrowhead\":0,\"arrowwidth\":1},\"autotypenumbers\":\"strict\",\"coloraxis\":{\"colorbar\":{\"outlinewidth\":0,\"ticks\":\"\"}},\"colorscale\":{\"diverging\":[[0,\"#8e0152\"],[0.1,\"#c51b7d\"],[0.2,\"#de77ae\"],[0.3,\"#f1b6da\"],[0.4,\"#fde0ef\"],[0.5,\"#f7f7f7\"],[0.6,\"#e6f5d0\"],[0.7,\"#b8e186\"],[0.8,\"#7fbc41\"],[0.9,\"#4d9221\"],[1,\"#276419\"]],\"sequential\":[[0.0,\"#0d0887\"],[0.1111111111111111,\"#46039f\"],[0.2222222222222222,\"#7201a8\"],[0.3333333333333333,\"#9c179e\"],[0.4444444444444444,\"#bd3786\"],[0.5555555555555556,\"#d8576b\"],[0.6666666666666666,\"#ed7953\"],[0.7777777777777778,\"#fb9f3a\"],[0.8888888888888888,\"#fdca26\"],[1.0,\"#f0f921\"]],\"sequentialminus\":[[0.0,\"#0d0887\"],[0.1111111111111111,\"#46039f\"],[0.2222222222222222,\"#7201a8\"],[0.3333333333333333,\"#9c179e\"],[0.4444444444444444,\"#bd3786\"],[0.5555555555555556,\"#d8576b\"],[0.6666666666666666,\"#ed7953\"],[0.7777777777777778,\"#fb9f3a\"],[0.8888888888888888,\"#fdca26\"],[1.0,\"#f0f921\"]]},\"colorway\":[\"#636efa\",\"#EF553B\",\"#00cc96\",\"#ab63fa\",\"#FFA15A\",\"#19d3f3\",\"#FF6692\",\"#B6E880\",\"#FF97FF\",\"#FECB52\"],\"font\":{\"color\":\"#2a3f5f\"},\"geo\":{\"bgcolor\":\"white\",\"lakecolor\":\"white\",\"landcolor\":\"#E5ECF6\",\"showlakes\":true,\"showland\":true,\"subunitcolor\":\"white\"},\"hoverlabel\":{\"align\":\"left\"},\"hovermode\":\"closest\",\"mapbox\":{\"style\":\"light\"},\"paper_bgcolor\":\"white\",\"plot_bgcolor\":\"#E5ECF6\",\"polar\":{\"angularaxis\":{\"gridcolor\":\"white\",\"linecolor\":\"white\",\"ticks\":\"\"},\"bgcolor\":\"#E5ECF6\",\"radialaxis\":{\"gridcolor\":\"white\",\"linecolor\":\"white\",\"ticks\":\"\"}},\"scene\":{\"xaxis\":{\"backgroundcolor\":\"#E5ECF6\",\"gridcolor\":\"white\",\"gridwidth\":2,\"linecolor\":\"white\",\"showbackground\":true,\"ticks\":\"\",\"zerolinecolor\":\"white\"},\"yaxis\":{\"backgroundcolor\":\"#E5ECF6\",\"gridcolor\":\"white\",\"gridwidth\":2,\"linecolor\":\"white\",\"showbackground\":true,\"ticks\":\"\",\"zerolinecolor\":\"white\"},\"zaxis\":{\"backgroundcolor\":\"#E5ECF6\",\"gridcolor\":\"white\",\"gridwidth\":2,\"linecolor\":\"white\",\"showbackground\":true,\"ticks\":\"\",\"zerolinecolor\":\"white\"}},\"shapedefaults\":{\"line\":{\"color\":\"#2a3f5f\"}},\"ternary\":{\"aaxis\":{\"gridcolor\":\"white\",\"linecolor\":\"white\",\"ticks\":\"\"},\"baxis\":{\"gridcolor\":\"white\",\"linecolor\":\"white\",\"ticks\":\"\"},\"bgcolor\":\"#E5ECF6\",\"caxis\":{\"gridcolor\":\"white\",\"linecolor\":\"white\",\"ticks\":\"\"}},\"title\":{\"x\":0.05},\"xaxis\":{\"automargin\":true,\"gridcolor\":\"white\",\"linecolor\":\"white\",\"ticks\":\"\",\"title\":{\"standoff\":15},\"zerolinecolor\":\"white\",\"zerolinewidth\":2},\"yaxis\":{\"automargin\":true,\"gridcolor\":\"white\",\"linecolor\":\"white\",\"ticks\":\"\",\"title\":{\"standoff\":15},\"zerolinecolor\":\"white\",\"zerolinewidth\":2}}},\"title\":{\"font\":{\"color\":\"#4D5663\"}},\"xaxis\":{\"anchor\":\"y\",\"domain\":[0.0,0.2125],\"gridcolor\":\"#E1E5ED\",\"showgrid\":false,\"tickfont\":{\"color\":\"#4D5663\"},\"title\":{\"font\":{\"color\":\"#4D5663\"},\"text\":\"\"},\"zerolinecolor\":\"#E1E5ED\"},\"yaxis\":{\"anchor\":\"x\",\"domain\":[0.8025,1.0],\"gridcolor\":\"#E1E5ED\",\"showgrid\":false,\"tickfont\":{\"color\":\"#4D5663\"},\"title\":{\"font\":{\"color\":\"#4D5663\"},\"text\":\"\"},\"zerolinecolor\":\"#E1E5ED\"},\"xaxis2\":{\"anchor\":\"y2\",\"domain\":[0.2625,0.475],\"gridcolor\":\"#E1E5ED\",\"showgrid\":false,\"tickfont\":{\"color\":\"#4D5663\"},\"title\":{\"font\":{\"color\":\"#4D5663\"},\"text\":\"\"},\"zerolinecolor\":\"#E1E5ED\"},\"yaxis2\":{\"anchor\":\"x2\",\"domain\":[0.8025,1.0],\"gridcolor\":\"#E1E5ED\",\"showgrid\":false,\"tickfont\":{\"color\":\"#4D5663\"},\"title\":{\"font\":{\"color\":\"#4D5663\"},\"text\":\"\"},\"zerolinecolor\":\"#E1E5ED\"},\"xaxis3\":{\"anchor\":\"y3\",\"domain\":[0.525,0.7375],\"gridcolor\":\"#E1E5ED\",\"showgrid\":false,\"tickfont\":{\"color\":\"#4D5663\"},\"title\":{\"font\":{\"color\":\"#4D5663\"},\"text\":\"\"},\"zerolinecolor\":\"#E1E5ED\"},\"yaxis3\":{\"anchor\":\"x3\",\"domain\":[0.8025,1.0],\"gridcolor\":\"#E1E5ED\",\"showgrid\":false,\"tickfont\":{\"color\":\"#4D5663\"},\"title\":{\"font\":{\"color\":\"#4D5663\"},\"text\":\"\"},\"zerolinecolor\":\"#E1E5ED\"},\"xaxis4\":{\"anchor\":\"y4\",\"domain\":[0.7875,1.0],\"gridcolor\":\"#E1E5ED\",\"showgrid\":false,\"tickfont\":{\"color\":\"#4D5663\"},\"title\":{\"font\":{\"color\":\"#4D5663\"},\"text\":\"\"},\"zerolinecolor\":\"#E1E5ED\"},\"yaxis4\":{\"anchor\":\"x4\",\"domain\":[0.8025,1.0],\"gridcolor\":\"#E1E5ED\",\"showgrid\":false,\"tickfont\":{\"color\":\"#4D5663\"},\"title\":{\"font\":{\"color\":\"#4D5663\"},\"text\":\"\"},\"zerolinecolor\":\"#E1E5ED\"},\"xaxis5\":{\"anchor\":\"y5\",\"domain\":[0.0,0.2125],\"gridcolor\":\"#E1E5ED\",\"showgrid\":false,\"tickfont\":{\"color\":\"#4D5663\"},\"title\":{\"font\":{\"color\":\"#4D5663\"},\"text\":\"\"},\"zerolinecolor\":\"#E1E5ED\"},\"yaxis5\":{\"anchor\":\"x5\",\"domain\":[0.535,0.7325],\"gridcolor\":\"#E1E5ED\",\"showgrid\":false,\"tickfont\":{\"color\":\"#4D5663\"},\"title\":{\"font\":{\"color\":\"#4D5663\"},\"text\":\"\"},\"zerolinecolor\":\"#E1E5ED\"},\"xaxis6\":{\"anchor\":\"y6\",\"domain\":[0.2625,0.475],\"gridcolor\":\"#E1E5ED\",\"showgrid\":false,\"tickfont\":{\"color\":\"#4D5663\"},\"title\":{\"font\":{\"color\":\"#4D5663\"},\"text\":\"\"},\"zerolinecolor\":\"#E1E5ED\"},\"yaxis6\":{\"anchor\":\"x6\",\"domain\":[0.535,0.7325],\"gridcolor\":\"#E1E5ED\",\"showgrid\":false,\"tickfont\":{\"color\":\"#4D5663\"},\"title\":{\"font\":{\"color\":\"#4D5663\"},\"text\":\"\"},\"zerolinecolor\":\"#E1E5ED\"},\"xaxis7\":{\"anchor\":\"y7\",\"domain\":[0.525,0.7375],\"gridcolor\":\"#E1E5ED\",\"showgrid\":false,\"tickfont\":{\"color\":\"#4D5663\"},\"title\":{\"font\":{\"color\":\"#4D5663\"},\"text\":\"\"},\"zerolinecolor\":\"#E1E5ED\"},\"yaxis7\":{\"anchor\":\"x7\",\"domain\":[0.535,0.7325],\"gridcolor\":\"#E1E5ED\",\"showgrid\":false,\"tickfont\":{\"color\":\"#4D5663\"},\"title\":{\"font\":{\"color\":\"#4D5663\"},\"text\":\"\"},\"zerolinecolor\":\"#E1E5ED\"},\"xaxis8\":{\"anchor\":\"y8\",\"domain\":[0.7875,1.0],\"gridcolor\":\"#E1E5ED\",\"showgrid\":false,\"tickfont\":{\"color\":\"#4D5663\"},\"title\":{\"font\":{\"color\":\"#4D5663\"},\"text\":\"\"},\"zerolinecolor\":\"#E1E5ED\"},\"yaxis8\":{\"anchor\":\"x8\",\"domain\":[0.535,0.7325],\"gridcolor\":\"#E1E5ED\",\"showgrid\":false,\"tickfont\":{\"color\":\"#4D5663\"},\"title\":{\"font\":{\"color\":\"#4D5663\"},\"text\":\"\"},\"zerolinecolor\":\"#E1E5ED\"},\"xaxis9\":{\"anchor\":\"y9\",\"domain\":[0.0,0.2125],\"gridcolor\":\"#E1E5ED\",\"showgrid\":false,\"tickfont\":{\"color\":\"#4D5663\"},\"title\":{\"font\":{\"color\":\"#4D5663\"},\"text\":\"\"},\"zerolinecolor\":\"#E1E5ED\"},\"yaxis9\":{\"anchor\":\"x9\",\"domain\":[0.2675,0.465],\"gridcolor\":\"#E1E5ED\",\"showgrid\":false,\"tickfont\":{\"color\":\"#4D5663\"},\"title\":{\"font\":{\"color\":\"#4D5663\"},\"text\":\"\"},\"zerolinecolor\":\"#E1E5ED\"},\"xaxis10\":{\"anchor\":\"y10\",\"domain\":[0.2625,0.475],\"gridcolor\":\"#E1E5ED\",\"showgrid\":false,\"tickfont\":{\"color\":\"#4D5663\"},\"title\":{\"font\":{\"color\":\"#4D5663\"},\"text\":\"\"},\"zerolinecolor\":\"#E1E5ED\"},\"yaxis10\":{\"anchor\":\"x10\",\"domain\":[0.2675,0.465],\"gridcolor\":\"#E1E5ED\",\"showgrid\":false,\"tickfont\":{\"color\":\"#4D5663\"},\"title\":{\"font\":{\"color\":\"#4D5663\"},\"text\":\"\"},\"zerolinecolor\":\"#E1E5ED\"},\"xaxis11\":{\"anchor\":\"y11\",\"domain\":[0.525,0.7375],\"gridcolor\":\"#E1E5ED\",\"showgrid\":false,\"tickfont\":{\"color\":\"#4D5663\"},\"title\":{\"font\":{\"color\":\"#4D5663\"},\"text\":\"\"},\"zerolinecolor\":\"#E1E5ED\"},\"yaxis11\":{\"anchor\":\"x11\",\"domain\":[0.2675,0.465],\"gridcolor\":\"#E1E5ED\",\"showgrid\":false,\"tickfont\":{\"color\":\"#4D5663\"},\"title\":{\"font\":{\"color\":\"#4D5663\"},\"text\":\"\"},\"zerolinecolor\":\"#E1E5ED\"},\"xaxis12\":{\"anchor\":\"y12\",\"domain\":[0.7875,1.0],\"gridcolor\":\"#E1E5ED\",\"showgrid\":false,\"tickfont\":{\"color\":\"#4D5663\"},\"title\":{\"font\":{\"color\":\"#4D5663\"},\"text\":\"\"},\"zerolinecolor\":\"#E1E5ED\"},\"yaxis12\":{\"anchor\":\"x12\",\"domain\":[0.2675,0.465],\"gridcolor\":\"#E1E5ED\",\"showgrid\":false,\"tickfont\":{\"color\":\"#4D5663\"},\"title\":{\"font\":{\"color\":\"#4D5663\"},\"text\":\"\"},\"zerolinecolor\":\"#E1E5ED\"},\"xaxis13\":{\"anchor\":\"y13\",\"domain\":[0.0,0.2125],\"gridcolor\":\"#E1E5ED\",\"showgrid\":false,\"tickfont\":{\"color\":\"#4D5663\"},\"title\":{\"font\":{\"color\":\"#4D5663\"},\"text\":\"\"},\"zerolinecolor\":\"#E1E5ED\"},\"yaxis13\":{\"anchor\":\"x13\",\"domain\":[0.0,0.1975],\"gridcolor\":\"#E1E5ED\",\"showgrid\":false,\"tickfont\":{\"color\":\"#4D5663\"},\"title\":{\"font\":{\"color\":\"#4D5663\"},\"text\":\"\"},\"zerolinecolor\":\"#E1E5ED\"},\"xaxis14\":{\"anchor\":\"y14\",\"domain\":[0.2625,0.475],\"gridcolor\":\"#E1E5ED\",\"showgrid\":false,\"tickfont\":{\"color\":\"#4D5663\"},\"title\":{\"font\":{\"color\":\"#4D5663\"},\"text\":\"\"},\"zerolinecolor\":\"#E1E5ED\"},\"yaxis14\":{\"anchor\":\"x14\",\"domain\":[0.0,0.1975],\"gridcolor\":\"#E1E5ED\",\"showgrid\":false,\"tickfont\":{\"color\":\"#4D5663\"},\"title\":{\"font\":{\"color\":\"#4D5663\"},\"text\":\"\"},\"zerolinecolor\":\"#E1E5ED\"},\"xaxis15\":{\"anchor\":\"y15\",\"domain\":[0.525,0.7375],\"gridcolor\":\"#E1E5ED\",\"showgrid\":false,\"tickfont\":{\"color\":\"#4D5663\"},\"title\":{\"font\":{\"color\":\"#4D5663\"},\"text\":\"\"},\"zerolinecolor\":\"#E1E5ED\"},\"yaxis15\":{\"anchor\":\"x15\",\"domain\":[0.0,0.1975],\"gridcolor\":\"#E1E5ED\",\"showgrid\":false,\"tickfont\":{\"color\":\"#4D5663\"},\"title\":{\"font\":{\"color\":\"#4D5663\"},\"text\":\"\"},\"zerolinecolor\":\"#E1E5ED\"},\"xaxis16\":{\"anchor\":\"y16\",\"domain\":[0.7875,1.0],\"gridcolor\":\"#E1E5ED\",\"showgrid\":false,\"tickfont\":{\"color\":\"#4D5663\"},\"title\":{\"font\":{\"color\":\"#4D5663\"},\"text\":\"\"},\"zerolinecolor\":\"#E1E5ED\"},\"yaxis16\":{\"anchor\":\"x16\",\"domain\":[0.0,0.1975],\"gridcolor\":\"#E1E5ED\",\"showgrid\":false,\"tickfont\":{\"color\":\"#4D5663\"},\"title\":{\"font\":{\"color\":\"#4D5663\"},\"text\":\"\"},\"zerolinecolor\":\"#E1E5ED\"}},                        {\"showLink\": true, \"linkText\": \"Export to plot.ly\", \"plotlyServerURL\": \"https://plot.ly\", \"responsive\": true}                    ).then(function(){\n",
       "                            \n",
       "var gd = document.getElementById('b3f018ed-5eed-4d99-b6db-50bb33ac86b5');\n",
       "var x = new MutationObserver(function (mutations, observer) {{\n",
       "        var display = window.getComputedStyle(gd).display;\n",
       "        if (!display || display === 'none') {{\n",
       "            console.log([gd, 'removed!']);\n",
       "            Plotly.purge(gd);\n",
       "            observer.disconnect();\n",
       "        }}\n",
       "}});\n",
       "\n",
       "// Listen for the removal of the full notebook cells\n",
       "var notebookContainer = gd.closest('#notebook-container');\n",
       "if (notebookContainer) {{\n",
       "    x.observe(notebookContainer, {childList: true});\n",
       "}}\n",
       "\n",
       "// Listen for the clearing of the current output cell\n",
       "var outputEl = gd.closest('.output');\n",
       "if (outputEl) {{\n",
       "    x.observe(outputEl, {childList: true});\n",
       "}}\n",
       "\n",
       "                        })                };                });            </script>        </div>"
      ]
     },
     "metadata": {},
     "output_type": "display_data"
    }
   ],
   "source": [
    "#scatter matrix plot are very similar to seaborn pair plot\n",
    "#all your columns are numerical to work\n",
    "df.scatter_matrix()"
   ]
  },
  {
   "cell_type": "code",
   "execution_count": null,
   "metadata": {},
   "outputs": [],
   "source": []
  }
 ],
 "metadata": {
  "kernelspec": {
   "display_name": "Python 3",
   "language": "python",
   "name": "python3"
  },
  "language_info": {
   "codemirror_mode": {
    "name": "ipython",
    "version": 3
   },
   "file_extension": ".py",
   "mimetype": "text/x-python",
   "name": "python",
   "nbconvert_exporter": "python",
   "pygments_lexer": "ipython3",
   "version": "3.7.6"
  }
 },
 "nbformat": 4,
 "nbformat_minor": 4
}
